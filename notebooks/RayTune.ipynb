{
 "cells": [
  {
   "cell_type": "code",
   "execution_count": 1,
   "metadata": {},
   "outputs": [
    {
     "name": "stdout",
     "output_type": "stream",
     "text": [
      "Collecting ray[tune]\n",
      "  Downloading ray-2.5.1-cp310-cp310-manylinux2014_x86_64.whl (56.2 MB)\n",
      "\u001b[2K     \u001b[90m━━━━━━━━━━━━━━━━━━━━━━━━━━━━━━━━━━━━━━━━\u001b[0m \u001b[32m56.2/56.2 MB\u001b[0m \u001b[31m1.5 MB/s\u001b[0m eta \u001b[36m0:00:00\u001b[0m00:01\u001b[0m00:01\u001b[0m\n",
      "\u001b[?25hRequirement already satisfied: attrs in /home/jakob/miniconda3/envs/CConv/lib/python3.10/site-packages (from ray[tune]) (23.1.0)\n",
      "Requirement already satisfied: click>=7.0 in /home/jakob/miniconda3/envs/CConv/lib/python3.10/site-packages (from ray[tune]) (8.1.3)\n",
      "Collecting filelock (from ray[tune])\n",
      "  Downloading filelock-3.12.2-py3-none-any.whl (10 kB)\n",
      "Requirement already satisfied: jsonschema in /home/jakob/miniconda3/envs/CConv/lib/python3.10/site-packages (from ray[tune]) (4.17.3)\n",
      "Requirement already satisfied: msgpack<2.0.0,>=1.0.0 in /home/jakob/miniconda3/envs/CConv/lib/python3.10/site-packages (from ray[tune]) (1.0.5)\n",
      "Requirement already satisfied: packaging in /home/jakob/miniconda3/envs/CConv/lib/python3.10/site-packages (from ray[tune]) (23.0)\n",
      "Requirement already satisfied: protobuf!=3.19.5,>=3.15.3 in /home/jakob/miniconda3/envs/CConv/lib/python3.10/site-packages (from ray[tune]) (4.23.2)\n",
      "Requirement already satisfied: pyyaml in /home/jakob/miniconda3/envs/CConv/lib/python3.10/site-packages (from ray[tune]) (6.0)\n",
      "Requirement already satisfied: aiosignal in /home/jakob/miniconda3/envs/CConv/lib/python3.10/site-packages (from ray[tune]) (1.3.1)\n",
      "Requirement already satisfied: frozenlist in /home/jakob/miniconda3/envs/CConv/lib/python3.10/site-packages (from ray[tune]) (1.3.3)\n",
      "Requirement already satisfied: requests in /home/jakob/miniconda3/envs/CConv/lib/python3.10/site-packages (from ray[tune]) (2.31.0)\n",
      "Collecting grpcio<=1.51.3,>=1.42.0 (from ray[tune])\n",
      "  Downloading grpcio-1.51.3-cp310-cp310-manylinux_2_17_x86_64.manylinux2014_x86_64.whl (4.8 MB)\n",
      "\u001b[2K     \u001b[90m━━━━━━━━━━━━━━━━━━━━━━━━━━━━━━━━━━━━━━━━\u001b[0m \u001b[32m4.8/4.8 MB\u001b[0m \u001b[31m3.1 MB/s\u001b[0m eta \u001b[36m0:00:00\u001b[0m00:01\u001b[0m00:01\u001b[0m\n",
      "\u001b[?25hRequirement already satisfied: numpy>=1.19.3 in /home/jakob/miniconda3/envs/CConv/lib/python3.10/site-packages (from ray[tune]) (1.23.5)\n",
      "Requirement already satisfied: pandas in /home/jakob/miniconda3/envs/CConv/lib/python3.10/site-packages (from ray[tune]) (2.0.2)\n",
      "Collecting tensorboardX>=1.9 (from ray[tune])\n",
      "  Downloading tensorboardX-2.6.1-py2.py3-none-any.whl (101 kB)\n",
      "\u001b[2K     \u001b[90m━━━━━━━━━━━━━━━━━━━━━━━━━━━━━━━━━━━━━━━\u001b[0m \u001b[32m101.6/101.6 kB\u001b[0m \u001b[31m1.2 MB/s\u001b[0m eta \u001b[36m0:00:00\u001b[0ma \u001b[36m0:00:01\u001b[0m\n",
      "\u001b[?25hCollecting pyarrow>=6.0.1 (from ray[tune])\n",
      "  Downloading pyarrow-12.0.1-cp310-cp310-manylinux_2_17_x86_64.manylinux2014_x86_64.whl (38.9 MB)\n",
      "\u001b[2K     \u001b[90m━━━━━━━━━━━━━━━━━━━━━━━━━━━━━━━━━━━━━━━━\u001b[0m \u001b[32m38.9/38.9 MB\u001b[0m \u001b[31m2.4 MB/s\u001b[0m eta \u001b[36m0:00:00\u001b[0m00:01\u001b[0m00:01\u001b[0m\n",
      "\u001b[?25hRequirement already satisfied: pyrsistent!=0.17.0,!=0.17.1,!=0.17.2,>=0.14.0 in /home/jakob/miniconda3/envs/CConv/lib/python3.10/site-packages (from jsonschema->ray[tune]) (0.19.3)\n",
      "Requirement already satisfied: python-dateutil>=2.8.2 in /home/jakob/miniconda3/envs/CConv/lib/python3.10/site-packages (from pandas->ray[tune]) (2.8.2)\n",
      "Requirement already satisfied: pytz>=2020.1 in /home/jakob/miniconda3/envs/CConv/lib/python3.10/site-packages (from pandas->ray[tune]) (2023.3)\n",
      "Requirement already satisfied: tzdata>=2022.1 in /home/jakob/miniconda3/envs/CConv/lib/python3.10/site-packages (from pandas->ray[tune]) (2023.3)\n",
      "Requirement already satisfied: charset-normalizer<4,>=2 in /home/jakob/miniconda3/envs/CConv/lib/python3.10/site-packages (from requests->ray[tune]) (3.1.0)\n",
      "Requirement already satisfied: idna<4,>=2.5 in /home/jakob/miniconda3/envs/CConv/lib/python3.10/site-packages (from requests->ray[tune]) (3.4)\n",
      "Requirement already satisfied: urllib3<3,>=1.21.1 in /home/jakob/miniconda3/envs/CConv/lib/python3.10/site-packages (from requests->ray[tune]) (1.26.16)\n",
      "Requirement already satisfied: certifi>=2017.4.17 in /home/jakob/miniconda3/envs/CConv/lib/python3.10/site-packages (from requests->ray[tune]) (2023.5.7)\n",
      "Requirement already satisfied: six>=1.5 in /home/jakob/miniconda3/envs/CConv/lib/python3.10/site-packages (from python-dateutil>=2.8.2->pandas->ray[tune]) (1.16.0)\n",
      "Installing collected packages: tensorboardX, pyarrow, grpcio, filelock, ray\n",
      "  Attempting uninstall: grpcio\n",
      "    Found existing installation: grpcio 1.54.2\n",
      "    Uninstalling grpcio-1.54.2:\n",
      "      Successfully uninstalled grpcio-1.54.2\n",
      "Successfully installed filelock-3.12.2 grpcio-1.51.3 pyarrow-12.0.1 ray-2.5.1 tensorboardX-2.6.1\n",
      "Note: you may need to restart the kernel to use updated packages.\n"
     ]
    }
   ],
   "source": [
    "%pip install \"ray[tune]\""
   ]
  },
  {
   "cell_type": "code",
   "execution_count": 2,
   "metadata": {},
   "outputs": [
    {
     "name": "stderr",
     "output_type": "stream",
     "text": [
      "2023-06-30 19:04:00,160\tINFO worker.py:1636 -- Started a local Ray instance.\n",
      "2023-06-30 19:04:04,432\tINFO tune.py:226 -- Initializing Ray automatically. For cluster usage or custom Ray initialization, call `ray.init(...)` before `Tuner(...)`.\n"
     ]
    },
    {
     "data": {
      "text/html": [
       "<div class=\"tuneStatus\">\n",
       "  <div style=\"display: flex;flex-direction: row\">\n",
       "    <div style=\"display: flex;flex-direction: column;\">\n",
       "      <h3>Tune Status</h3>\n",
       "      <table>\n",
       "<tbody>\n",
       "<tr><td>Current time:</td><td>2023-06-30 19:04:46</td></tr>\n",
       "<tr><td>Running for: </td><td>00:00:28.63        </td></tr>\n",
       "<tr><td>Memory:      </td><td>3.5/6.1 GiB        </td></tr>\n",
       "</tbody>\n",
       "</table>\n",
       "    </div>\n",
       "    <div class=\"vDivider\"></div>\n",
       "    <div class=\"systemInfo\">\n",
       "      <h3>System Info</h3>\n",
       "      Using FIFO scheduling algorithm.<br>Logical resource usage: 2.0/4 CPUs, 0/0 GPUs\n",
       "    </div>\n",
       "    \n",
       "  </div>\n",
       "  <div class=\"hDivider\"></div>\n",
       "  <div class=\"trialStatus\">\n",
       "    <h3>Trial Status</h3>\n",
       "    <table>\n",
       "<thead>\n",
       "<tr><th>Trial name           </th><th>status    </th><th>loc              </th><th style=\"text-align: right;\">    a</th><th style=\"text-align: right;\">  b</th><th style=\"text-align: right;\">  iter</th><th style=\"text-align: right;\">  total time (s)</th><th style=\"text-align: right;\">  score</th></tr>\n",
       "</thead>\n",
       "<tbody>\n",
       "<tr><td>objective_1e5c6_00000</td><td>TERMINATED</td><td>172.27.82.99:5006</td><td style=\"text-align: right;\">0.001</td><td style=\"text-align: right;\">  1</td><td style=\"text-align: right;\">     1</td><td style=\"text-align: right;\">      0.00688434</td><td style=\"text-align: right;\"> 1     </td></tr>\n",
       "<tr><td>objective_1e5c6_00001</td><td>TERMINATED</td><td>172.27.82.99:5005</td><td style=\"text-align: right;\">0.01 </td><td style=\"text-align: right;\">  2</td><td style=\"text-align: right;\">     1</td><td style=\"text-align: right;\">      0.025553  </td><td style=\"text-align: right;\"> 2.0001</td></tr>\n",
       "<tr><td>objective_1e5c6_00002</td><td>TERMINATED</td><td>172.27.82.99:5008</td><td style=\"text-align: right;\">0.1  </td><td style=\"text-align: right;\">  1</td><td style=\"text-align: right;\">     1</td><td style=\"text-align: right;\">      0.0314031 </td><td style=\"text-align: right;\"> 1.01  </td></tr>\n",
       "<tr><td>objective_1e5c6_00003</td><td>TERMINATED</td><td>172.27.82.99:5010</td><td style=\"text-align: right;\">1    </td><td style=\"text-align: right;\">  1</td><td style=\"text-align: right;\">     1</td><td style=\"text-align: right;\">      0.012907  </td><td style=\"text-align: right;\"> 2     </td></tr>\n",
       "</tbody>\n",
       "</table>\n",
       "  </div>\n",
       "</div>\n",
       "<style>\n",
       ".tuneStatus {\n",
       "  color: var(--jp-ui-font-color1);\n",
       "}\n",
       ".tuneStatus .systemInfo {\n",
       "  display: flex;\n",
       "  flex-direction: column;\n",
       "}\n",
       ".tuneStatus td {\n",
       "  white-space: nowrap;\n",
       "}\n",
       ".tuneStatus .trialStatus {\n",
       "  display: flex;\n",
       "  flex-direction: column;\n",
       "}\n",
       ".tuneStatus h3 {\n",
       "  font-weight: bold;\n",
       "}\n",
       ".tuneStatus .hDivider {\n",
       "  border-bottom-width: var(--jp-border-width);\n",
       "  border-bottom-color: var(--jp-border-color0);\n",
       "  border-bottom-style: solid;\n",
       "}\n",
       ".tuneStatus .vDivider {\n",
       "  border-left-width: var(--jp-border-width);\n",
       "  border-left-color: var(--jp-border-color0);\n",
       "  border-left-style: solid;\n",
       "  margin: 0.5em 1em 0.5em 1em;\n",
       "}\n",
       "</style>\n"
      ],
      "text/plain": [
       "<IPython.core.display.HTML object>"
      ]
     },
     "metadata": {},
     "output_type": "display_data"
    },
    {
     "data": {
      "text/html": [
       "<div class=\"trialProgress\">\n",
       "  <h3>Trial Progress</h3>\n",
       "  <table>\n",
       "<thead>\n",
       "<tr><th>Trial name           </th><th>date               </th><th>done  </th><th>hostname       </th><th style=\"text-align: right;\">  iterations_since_restore</th><th>node_ip     </th><th style=\"text-align: right;\">  pid</th><th style=\"text-align: right;\">  score</th><th style=\"text-align: right;\">  time_since_restore</th><th style=\"text-align: right;\">  time_this_iter_s</th><th style=\"text-align: right;\">  time_total_s</th><th style=\"text-align: right;\">  timestamp</th><th style=\"text-align: right;\">  training_iteration</th><th>trial_id   </th></tr>\n",
       "</thead>\n",
       "<tbody>\n",
       "<tr><td>objective_1e5c6_00002</td><td>2023-06-30_19-04-45</td><td>False </td><td>DESKTOP-UVK0SLT</td><td style=\"text-align: right;\">                         1</td><td>172.27.82.99</td><td style=\"text-align: right;\"> 5008</td><td style=\"text-align: right;\">   1.01</td><td style=\"text-align: right;\">           0.0314031</td><td style=\"text-align: right;\">         0.0314031</td><td style=\"text-align: right;\">     0.0314031</td><td style=\"text-align: right;\"> 1688144685</td><td style=\"text-align: right;\">                   1</td><td>1e5c6_00002</td></tr>\n",
       "</tbody>\n",
       "</table>\n",
       "</div>\n",
       "<style>\n",
       ".trialProgress {\n",
       "  display: flex;\n",
       "  flex-direction: column;\n",
       "  color: var(--jp-ui-font-color1);\n",
       "}\n",
       ".trialProgress h3 {\n",
       "  font-weight: bold;\n",
       "}\n",
       ".trialProgress td {\n",
       "  white-space: nowrap;\n",
       "}\n",
       "</style>\n"
      ],
      "text/plain": [
       "<IPython.core.display.HTML object>"
      ]
     },
     "metadata": {},
     "output_type": "display_data"
    },
    {
     "name": "stderr",
     "output_type": "stream",
     "text": [
      "2023-06-30 19:04:46,436\tINFO tune.py:1111 -- Total run time: 41.65 seconds (28.62 seconds for the tuning loop).\n"
     ]
    },
    {
     "name": "stdout",
     "output_type": "stream",
     "text": [
      "{'a': 0.001, 'b': 1}\n"
     ]
    }
   ],
   "source": [
    "from ray import tune\n",
    "\n",
    "def objective(config):  # ①\n",
    "    score = config[\"a\"] ** 2 + config[\"b\"]\n",
    "    return {\"score\": score}\n",
    "\n",
    "\n",
    "search_space = {  # ②\n",
    "    \"a\": tune.grid_search([0.001, 0.01, 0.1, 1.0]),\n",
    "    \"b\": tune.choice([1, 2, 3]),\n",
    "}\n",
    "\n",
    "tuner = tune.Tuner(objective, param_space=search_space)  # ③\n",
    "\n",
    "results = tuner.fit()\n",
    "print(results.get_best_result(metric=\"score\", mode=\"min\").config)"
   ]
  },
  {
   "cell_type": "code",
   "execution_count": 1,
   "metadata": {},
   "outputs": [
    {
     "name": "stdout",
     "output_type": "stream",
     "text": [
      "/home/jakob/Bachelorarbeit/GNNDensityGradients\n"
     ]
    }
   ],
   "source": [
    "%cd .."
   ]
  },
  {
   "cell_type": "code",
   "execution_count": 2,
   "metadata": {},
   "outputs": [],
   "source": [
    "from pytorch_lightning.tuner import Tuner\n",
    "from utils.visualization import fig_to_tensor\n",
    "from glob import glob\n",
    "import os.path\n",
    "import pickle\n",
    "import zstandard as zstd\n",
    "import msgpack\n",
    "import msgpack_numpy\n",
    "msgpack_numpy.patch()"
   ]
  },
  {
   "cell_type": "code",
   "execution_count": 3,
   "metadata": {},
   "outputs": [],
   "source": [
    "def transform_msgpack_file(filepath, transform):\n",
    "    \"\"\"\n",
    "    Given a .zst file, applies the given transform to all stored simulation states and writes the result back to the file.\n",
    "    \"\"\"\n",
    "    # TODO: Implement this to allow storing of preprocessed data\n",
    "    # See https://github.com/isl-org/DeepLagrangianFluids/blob/d651c6fdf2aca3fac9abe3693b20981b191b4769/datasets/create_physics_records.py#L100\n",
    "\n",
    "    decompressor = zstd.ZstdDecompressor()\n",
    "    with open(filepath, 'rb') as f:\n",
    "        content = msgpack.unpackb(decompressor.decompress(f.read()), raw=False)\n",
    "\n",
    "    for i in range(1, len(content)):\n",
    "        content[i]['box'] = content[0]['box']\n",
    "        content[i]['box_normals'] = content[0]['box_normals']\n",
    "\n",
    "    content = [transform(sample) for sample in content]\n",
    "\n",
    "    for i in range(1, len(content)):\n",
    "        content[i]['box'] = None\n",
    "        content[i]['box_normals'] = None\n",
    "\n",
    "    compressor = zstd.ZstdCompressor(level=22)\n",
    "    with open(filepath, 'wb') as f:\n",
    "        f.write(compressor.compress(msgpack.packb(content, use_bin_type=True)))\n",
    "\n",
    "    return"
   ]
  },
  {
   "cell_type": "code",
   "execution_count": 3,
   "metadata": {},
   "outputs": [
    {
     "data": {
      "text/plain": [
       "False"
      ]
     },
     "execution_count": 3,
     "metadata": {},
     "output_type": "execute_result"
    }
   ],
   "source": [
    "from utils.transforms import *\n",
    "import torch\n",
    "from utils.sph import *\n",
    "import os\n",
    "path = 'datasets/data/dpi_dam_break/train/test.zst'\n",
    "os.path.isfile(path)"
   ]
  },
  {
   "cell_type": "code",
   "execution_count": null,
   "metadata": {},
   "outputs": [],
   "source": []
  },
  {
   "cell_type": "code",
   "execution_count": 5,
   "metadata": {},
   "outputs": [],
   "source": [
    "transformations = [\n",
    "    ToSample(device='cpu'),\n",
    "    AddDensity(include_box=False),\n",
    "    AddTemporalDensityGradient(include_box=False),\n",
    "    NormalizeDensityData(),\n",
    "    ToNumpy()\n",
    "]"
   ]
  },
  {
   "cell_type": "code",
   "execution_count": 9,
   "metadata": {},
   "outputs": [],
   "source": [
    "from torchvision.transforms import Compose\n",
    "transform = Compose(transformations)\n",
    "\n",
    "transform_msgpack_file(path, transform)"
   ]
  },
  {
   "cell_type": "code",
   "execution_count": 5,
   "metadata": {},
   "outputs": [],
   "source": [
    "path = 'datasets/data/ours_default_data/train/sim_0001_00.msgpack.zst'"
   ]
  },
  {
   "cell_type": "code",
   "execution_count": 6,
   "metadata": {},
   "outputs": [
    {
     "data": {
      "text/plain": [
       "{'frame_id': 1,\n",
       " 'scene_id': 'sim_0001',\n",
       " 'pos': array([[ 0.16996753,  0.4720435 , -0.33467695],\n",
       "        [ 0.1380482 ,  0.43700972, -0.3187462 ],\n",
       "        [ 0.23911871,  0.48420787, -0.32630178],\n",
       "        ...,\n",
       "        [-0.8697656 ,  1.4208095 ,  0.30921957],\n",
       "        [-0.7810967 ,  1.6185013 ,  0.38375667],\n",
       "        [-0.80513614,  1.5754926 ,  0.39226282]], dtype=float32),\n",
       " 'vel': array([[ 0.67898417,  0.15011092,  1.7421563 ],\n",
       "        [ 0.67898417,  0.15011092,  1.7421563 ],\n",
       "        [ 0.67898417,  0.15011092,  1.7421563 ],\n",
       "        ...,\n",
       "        [-0.74630326,  0.18018915,  0.76929045],\n",
       "        [-0.74630326,  0.18018915,  0.76929045],\n",
       "        [-0.74630326,  0.18018915,  0.76929045]], dtype=float32),\n",
       " 'm': array([0.125, 0.125, 0.125, ..., 0.125, 0.125, 0.125], dtype=float32),\n",
       " 'viscosity': array([0.01, 0.01, 0.01, ..., 0.01, 0.01, 0.01], dtype=float32)}"
      ]
     },
     "execution_count": 6,
     "metadata": {},
     "output_type": "execute_result"
    }
   ],
   "source": [
    "filepath = path\n",
    "\n",
    "decompressor = zstd.ZstdDecompressor()\n",
    "with open(filepath, 'rb') as f:\n",
    "    content = msgpack.unpackb(decompressor.decompress(f.read()), raw=False)\n",
    "\n",
    "content[1]"
   ]
  },
  {
   "cell_type": "code",
   "execution_count": 14,
   "metadata": {},
   "outputs": [
    {
     "data": {
      "text/plain": [
       "array([[0.1308997],\n",
       "       [0.1308997],\n",
       "       [0.1308997],\n",
       "       ...,\n",
       "       [0.1308997],\n",
       "       [0.1308997],\n",
       "       [0.1308997]], dtype=float32)"
      ]
     },
     "execution_count": 14,
     "metadata": {},
     "output_type": "execute_result"
    }
   ],
   "source": [
    "content[0]['m']"
   ]
  },
  {
   "cell_type": "code",
   "execution_count": 19,
   "metadata": {},
   "outputs": [
    {
     "name": "stderr",
     "output_type": "stream",
     "text": [
      "100%|██████████| 3/3 [00:01<00:00,  1.96it/s]\n"
     ]
    }
   ],
   "source": [
    "from tqdm import tqdm\n",
    "from time import sleep\n",
    "for x in tqdm([\"a\", \"b\", \"c\"]):\n",
    "    sleep(0.5)"
   ]
  },
  {
   "cell_type": "code",
   "execution_count": 15,
   "metadata": {},
   "outputs": [
    {
     "name": "stderr",
     "output_type": "stream",
     "text": [
      "  0%|          | 0/1000 [00:00<?, ?it/s]"
     ]
    },
    {
     "name": "stdout",
     "output_type": "stream",
     "text": [
      "WARNING: All masses are zero. Setting masses to 2 * 0.06544984694978737. (This message is only shown once.)\n"
     ]
    },
    {
     "name": "stderr",
     "output_type": "stream",
     "text": [
      "100%|██████████| 1000/1000 [07:40<00:00,  2.17it/s]\n"
     ]
    }
   ],
   "source": [
    "from importlib import reload\n",
    "import utils.train_helper\n",
    "from utils.train_helper import *\n",
    "reload(utils.train_helper); from utils.train_helper import *\n",
    "prepocess_dataset_files('datasets/data/dam_break_preprocessed/train', type='temp_grad', include_box=False, device = 'cuda')"
   ]
  },
  {
   "cell_type": "code",
   "execution_count": 27,
   "metadata": {},
   "outputs": [
    {
     "data": {
      "text/plain": [
       "dict_keys(['pos', 'vel', 'm', 'viscosity', 'box', 'box_normals', 'density', 'temporal_density_gradient'])"
      ]
     },
     "execution_count": 27,
     "metadata": {},
     "output_type": "execute_result"
    }
   ],
   "source": [
    "filepath = 'datasets/data/dam_break_preprocessed/train/1000_01.msgpack.zst'\n",
    "\n",
    "decompressor = zstd.ZstdDecompressor()\n",
    "with open(filepath, 'rb') as f:\n",
    "    content = msgpack.unpackb(decompressor.decompress(f.read()), raw=False)\n",
    "\n",
    "content[1].keys()"
   ]
  },
  {
   "cell_type": "code",
   "execution_count": 2,
   "metadata": {},
   "outputs": [
    {
     "name": "stdout",
     "output_type": "stream",
     "text": [
      "/home/jakob/Bachelorarbeit/GNNDensityGradients\n"
     ]
    }
   ],
   "source": [
    "%cd .."
   ]
  },
  {
   "cell_type": "code",
   "execution_count": 2,
   "metadata": {},
   "outputs": [],
   "source": [
    "from importlib import reload\n",
    "import utils.train_helper\n",
    "from utils.train_helper import *\n",
    "reload(utils.train_helper); from utils.train_helper import *\n",
    "\n",
    "from datasets.density_data_module import DensityDataModule\n",
    "dm = DensityDataModule(data_dir='datasets/data/dam_break_preprocessed/train', batch_size=2, data_split=(1, 0, 0), num_workers=0, shuffle=False, cache=True, device='cpu')\n"
   ]
  },
  {
   "cell_type": "code",
   "execution_count": 3,
   "metadata": {},
   "outputs": [
    {
     "name": "stdout",
     "output_type": "stream",
     "text": [
      "Setting up data module for stage  fit\n",
      "Dataset is already preprepared. Not applying transform_once. (This means density & grads aren't recalculated.)\n",
      "Loading dataset into memory...\n"
     ]
    },
    {
     "name": "stderr",
     "output_type": "stream",
     "text": [
      "100%|██████████| 1000/1000 [00:09<00:00, 108.90it/s]"
     ]
    },
    {
     "name": "stdout",
     "output_type": "stream",
     "text": [
      "Done loading dataset into memory\n"
     ]
    },
    {
     "name": "stderr",
     "output_type": "stream",
     "text": [
      "\n",
      "/home/jakob/anaconda3/envs/o3d_test2/lib/python3.10/site-packages/torch/utils/data/dataset.py:342: UserWarning: Length of split at index 1 is 0. This might result in an empty dataset.\n",
      "  warnings.warn(f\"Length of split at index {i} is 0. \"\n",
      "/home/jakob/anaconda3/envs/o3d_test2/lib/python3.10/site-packages/torch/utils/data/dataset.py:342: UserWarning: Length of split at index 2 is 0. This might result in an empty dataset.\n",
      "  warnings.warn(f\"Length of split at index {i} is 0. \"\n"
     ]
    },
    {
     "data": {
      "text/plain": [
       "{'pos': tensor([[0.3768, 0.0108, 0.1589],\n",
       "         [0.3721, 0.0109, 0.2014],\n",
       "         [0.3586, 0.0096, 0.2570],\n",
       "         ...,\n",
       "         [0.9094, 1.0453, 0.6019],\n",
       "         [0.9092, 1.0431, 0.6432],\n",
       "         [0.9074, 1.0420, 0.6874]]),\n",
       " 'vel': tensor([[-0.2274,  0.0024, -0.2001],\n",
       "         [-0.2471,  0.0045, -0.1504],\n",
       "         [-0.5388,  0.0049, -0.0678],\n",
       "         ...,\n",
       "         [-0.1252, -1.2596, -0.0718],\n",
       "         [-0.1048, -1.3163, -0.1564],\n",
       "         [-0.1259, -1.3333, -0.1548]]),\n",
       " 'm': tensor([[0.1309],\n",
       "         [0.1309],\n",
       "         [0.1309],\n",
       "         ...,\n",
       "         [0.1309],\n",
       "         [0.1309],\n",
       "         [0.1309]]),\n",
       " 'viscosity': tensor([[0.],\n",
       "         [0.],\n",
       "         [0.],\n",
       "         ...,\n",
       "         [0.],\n",
       "         [0.],\n",
       "         [0.]]),\n",
       " 'box': tensor([[1.4545, 1.5326, 0.7048],\n",
       "         [1.4545, 1.3750, 0.5074],\n",
       "         [1.4545, 1.4482, 0.0686],\n",
       "         ...,\n",
       "         [0.7983, 0.9205, 0.0000],\n",
       "         [1.0837, 0.5266, 0.0000],\n",
       "         [0.0523, 1.2732, 0.7273]]),\n",
       " 'box_normals': tensor([[ 1.0000e+00,  5.3644e-07,  1.3411e-06],\n",
       "         [ 1.0000e+00,  5.3644e-07,  1.3411e-06],\n",
       "         [ 1.0000e+00,  0.0000e+00,  0.0000e+00],\n",
       "         ...,\n",
       "         [ 0.0000e+00,  0.0000e+00, -1.0000e+00],\n",
       "         [ 0.0000e+00,  0.0000e+00, -1.0000e+00],\n",
       "         [-0.0000e+00,  0.0000e+00,  1.0000e+00]]),\n",
       " 'density': tensor([[ 0.7651],\n",
       "         [ 1.1913],\n",
       "         [ 1.0437],\n",
       "         ...,\n",
       "         [-1.2844],\n",
       "         [-0.8832],\n",
       "         [-1.5664]]),\n",
       " 'temporal_density_gradient': tensor([[ 0.0159],\n",
       "         [ 0.0168],\n",
       "         [-0.3117],\n",
       "         ...,\n",
       "         [-0.0150],\n",
       "         [ 0.0551],\n",
       "         [ 0.1263]])}"
      ]
     },
     "execution_count": 3,
     "metadata": {},
     "output_type": "execute_result"
    }
   ],
   "source": [
    "dm.setup('fit')\n",
    "next(iter(dm.train_dataloader()))[0]"
   ]
  },
  {
   "cell_type": "code",
   "execution_count": 4,
   "metadata": {},
   "outputs": [
    {
     "data": {
      "text/plain": [
       "dict_keys(['pos', 'vel', 'm', 'viscosity', 'box', 'box_normals', 'density', 'temporal_density_gradient'])"
      ]
     },
     "execution_count": 4,
     "metadata": {},
     "output_type": "execute_result"
    }
   ],
   "source": [
    "next(iter(dm.train_dataloader()))[0].keys()"
   ]
  },
  {
   "cell_type": "code",
   "execution_count": 6,
   "metadata": {},
   "outputs": [
    {
     "data": {
      "text/plain": [
       "dict_keys(['pos', 'vel', 'm', 'viscosity', 'box', 'box_normals', 'density', 'temporal_density_gradient'])"
      ]
     },
     "execution_count": 6,
     "metadata": {},
     "output_type": "execute_result"
    }
   ],
   "source": [
    "next(iter(dm.train_dataloader()))[0].keys()"
   ]
  },
  {
   "attachments": {},
   "cell_type": "markdown",
   "metadata": {},
   "source": [
    "Test if cconv correctly processes params"
   ]
  },
  {
   "cell_type": "code",
   "execution_count": 1,
   "metadata": {},
   "outputs": [],
   "source": [
    "hparams = {\n",
    "    # Search space ---------------------------------------------\n",
    "\n",
    "    # General\n",
    "    \"learning_rate\" : 1e-3, # Default is 1e-3\n",
    "    \"batch_size\"    : 2,\n",
    "\n",
    "    # CConv architecture\n",
    "    \"kernel_size\"              : 4,\n",
    "    \"num_hidden_layers\"        : 2,\n",
    "    \"input_layer_out_channels\" : 64, # Default is 32\n",
    "    \"hidden_units\"             : 64, # Default is 64\n",
    "\n",
    "    # CConv operation parameters\n",
    "    \"intermediate_activation_fn\"        : \"relu\",\n",
    "    \"interpolation\"                     : \"linear\",\n",
    "    \"align_corners\"                     : True,\n",
    "    \"normalize\"                         : False,\n",
    "    \"window_function\"                   : \"poly6\",\n",
    "    \"coordinate_mapping\"                : \"ball_to_cube_volume_preserving\",\n",
    "    \"filter_extent\"                     : 0.025 * 6 * 1.5,\n",
    "    \"radius_search_ignore_query_points\" : False,\n",
    "\n",
    "    # Static parameters -----------------------------------------\n",
    "    \"out_units\" : 1, # 1 for temporal density gradient, 3 for spatial density gradient\n",
    "\n",
    "    # Dataset\n",
    "    'dataset_dir' : 'datasets/data/dpi_dam_break/train',\n",
    "    'data_split'  : (0.7, 0.15, 0.15),\n",
    "    'shuffle'     : True,\n",
    "    'cache'       : False,                               # Preprocess and preload dataset into memory\n",
    "    'device'      : 'cuda'\n",
    "}"
   ]
  },
  {
   "cell_type": "code",
   "execution_count": 3,
   "metadata": {},
   "outputs": [
    {
     "name": "stdout",
     "output_type": "stream",
     "text": [
      "Jupyter environment detected. Enabling Open3D WebVisualizer.\n",
      "[Open3D INFO] WebRTC GUI backend enabled.\n",
      "[Open3D INFO] WebRTCWindowSystem: HTTP handshake server disabled.\n"
     ]
    }
   ],
   "source": [
    "from models.cconv import CConvModel\n",
    "model = CConvModel(hparams)\n"
   ]
  },
  {
   "cell_type": "code",
   "execution_count": 5,
   "metadata": {},
   "outputs": [
    {
     "data": {
      "text/plain": [
       "(1102658, 1102658)"
      ]
     },
     "execution_count": 5,
     "metadata": {},
     "output_type": "execute_result"
    }
   ],
   "source": [
    "sum(p.numel() for p in model.parameters()), sum(p.numel() for p in model.parameters() if p.requires_grad)"
   ]
  },
  {
   "cell_type": "code",
   "execution_count": null,
   "metadata": {},
   "outputs": [],
   "source": []
  },
  {
   "cell_type": "code",
   "execution_count": 26,
   "metadata": {},
   "outputs": [
    {
     "data": {
      "text/plain": [
       "dict_keys(['pos', 'vel', 'm', 'viscosity', 'box', 'box_normals'])"
      ]
     },
     "execution_count": 26,
     "metadata": {},
     "output_type": "execute_result"
    }
   ],
   "source": [
    "batch[0].keys()"
   ]
  },
  {
   "cell_type": "code",
   "execution_count": 9,
   "metadata": {},
   "outputs": [
    {
     "data": {
      "text/plain": [
       "tensor([[-0.0318],\n",
       "        [-0.0444],\n",
       "        [-0.0265],\n",
       "        ...,\n",
       "        [-0.1553],\n",
       "        [-0.1679],\n",
       "        [-0.1254]], grad_fn=<MulBackward0>)"
      ]
     },
     "execution_count": 9,
     "metadata": {},
     "output_type": "execute_result"
    }
   ],
   "source": [
    "batch = next(iter(dm.train_dataloader()))\n",
    "model(batch[0])\n"
   ]
  },
  {
   "cell_type": "code",
   "execution_count": null,
   "metadata": {},
   "outputs": [],
   "source": [
    "model(batch)"
   ]
  },
  {
   "cell_type": "code",
   "execution_count": 1,
   "metadata": {},
   "outputs": [],
   "source": [
    "import torch\n",
    "torch.cuda.empty_cache()"
   ]
  },
  {
   "cell_type": "code",
   "execution_count": 2,
   "metadata": {},
   "outputs": [
    {
     "data": {
      "text/plain": [
       "0.165"
      ]
     },
     "execution_count": 2,
     "metadata": {},
     "output_type": "execute_result"
    }
   ],
   "source": [
    "3.3 * 0.05"
   ]
  },
  {
   "cell_type": "code",
   "execution_count": 7,
   "metadata": {},
   "outputs": [
    {
     "data": {
      "text/plain": [
       "'leaky_relu'"
      ]
     },
     "execution_count": 7,
     "metadata": {},
     "output_type": "execute_result"
    }
   ],
   "source": [
    "\"leaky_relu\".lower()"
   ]
  },
  {
   "cell_type": "code",
   "execution_count": 11,
   "metadata": {},
   "outputs": [
    {
     "data": {
      "text/plain": [
       "4.730000000000012e-05"
      ]
     },
     "execution_count": 11,
     "metadata": {},
     "output_type": "execute_result"
    }
   ],
   "source": [
    "0.0028473 - 2.8e-3"
   ]
  },
  {
   "cell_type": "code",
   "execution_count": 14,
   "metadata": {},
   "outputs": [],
   "source": [
    "import torch\n",
    "import open3d.ml.torch as ml3d\n",
    "\n",
    "inp_positions = torch.randn([20,3])\n",
    "inp_features = torch.randn([20,8])\n",
    "out_positions = torch.randn([20,3])\n",
    "\n",
    "conv = ml3d.layers.ContinuousConv(in_channels=8, filters=16, kernel_size=[3,3,3], use_dense_layer_for_center = True)\n",
    "out_features = conv(inp_features, inp_positions, out_positions, extents=2.0)"
   ]
  },
  {
   "cell_type": "code",
   "execution_count": 6,
   "metadata": {},
   "outputs": [],
   "source": [
    "from ray.tune.logger import TBXLoggerCallback"
   ]
  },
  {
   "cell_type": "code",
   "execution_count": 11,
   "metadata": {},
   "outputs": [],
   "source": [
    "class MyLoggerCallback(TBXLoggerCallback):\n",
    "    def on_trial_start(self, trial_runner):\n",
    "        super().on_trial_start(trial_runner)\n",
    "        print('Trial started')\n",
    "\n",
    "MyLoggerCallback().setup('test', 'test', 'test')"
   ]
  }
 ],
 "metadata": {
  "kernelspec": {
   "display_name": "CConv",
   "language": "python",
   "name": "python3"
  },
  "language_info": {
   "codemirror_mode": {
    "name": "ipython",
    "version": 3
   },
   "file_extension": ".py",
   "mimetype": "text/x-python",
   "name": "python",
   "nbconvert_exporter": "python",
   "pygments_lexer": "ipython3",
   "version": "3.10.11"
  },
  "orig_nbformat": 4
 },
 "nbformat": 4,
 "nbformat_minor": 2
}
