{
 "cells": [
  {
   "cell_type": "code",
   "execution_count": 2,
   "metadata": {},
   "outputs": [],
   "source": [
    "import plotly.graph_objects as go\n",
    "import plotly.express as px\n",
    "import pandas as pd"
   ]
  },
  {
   "cell_type": "code",
   "execution_count": 6,
   "metadata": {},
   "outputs": [
    {
     "data": {
      "text/plain": [
       "True"
      ]
     },
     "execution_count": 6,
     "metadata": {},
     "output_type": "execute_result"
    }
   ],
   "source": [
    "'ab' in 'abc'"
   ]
  },
  {
   "cell_type": "code",
   "execution_count": 4,
   "metadata": {},
   "outputs": [],
   "source": [
    "labels = {\n",
    "    'learning_rate': 'Learning rate',\n",
    "    'batch_size': 'Batch size',\n",
    "    'kernel_size': 'Kernel size',\n",
    "    'num_hidden_layers': 'Hidden layers',\n",
    "    'input_layer_out_channels': 'Input layer out channels',\n",
    "    'hidden_units': 'Hidden units',\n",
    "    'intermediate_activation_fn': 'Activation function',\n",
    "    'interpolation': 'Interpolation',\n",
    "    'align_corners': 'Align corners',\n",
    "    'normalize': 'Normalize',\n",
    "    'window_function': 'Window function',\n",
    "    'coordinate_mapping': 'Coordinate mapping',\n",
    "    'filter_extent': 'Filter extent',\n",
    "    'radius_search_ignore_query_points': 'Ignore query points',\n",
    "    'use_dense_layer_for_centers': 'Dense layer',\n",
    "    'out_units': 'Output units',\n",
    "    'val_loss': 'Validation loss',\n",
    "    'stopped_early': 'Stopped early',\n",
    "    'epoch': 'Epoch',\n",
    "}\n"
   ]
  },
  {
   "cell_type": "code",
   "execution_count": 5,
   "metadata": {},
   "outputs": [
    {
     "data": {
      "text/html": [
       "<div>\n",
       "<style scoped>\n",
       "    .dataframe tbody tr th:only-of-type {\n",
       "        vertical-align: middle;\n",
       "    }\n",
       "\n",
       "    .dataframe tbody tr th {\n",
       "        vertical-align: top;\n",
       "    }\n",
       "\n",
       "    .dataframe thead th {\n",
       "        text-align: right;\n",
       "    }\n",
       "</style>\n",
       "<table border=\"1\" class=\"dataframe\">\n",
       "  <thead>\n",
       "    <tr style=\"text-align: right;\">\n",
       "      <th></th>\n",
       "      <th>learning_rate</th>\n",
       "      <th>kernel_size</th>\n",
       "      <th>num_hidden_layers</th>\n",
       "      <th>input_layer_out_channels</th>\n",
       "      <th>hidden_units</th>\n",
       "      <th>intermediate_activation_fn</th>\n",
       "      <th>interpolation</th>\n",
       "      <th>align_corners</th>\n",
       "      <th>normalize</th>\n",
       "      <th>window_function</th>\n",
       "      <th>...</th>\n",
       "      <th>val_loss_epoch</th>\n",
       "      <th>train_loss_epoch</th>\n",
       "      <th>epoch</th>\n",
       "      <th>step</th>\n",
       "      <th>time_this_iter_s</th>\n",
       "      <th>should_checkpoint</th>\n",
       "      <th>done</th>\n",
       "      <th>time_since_restore</th>\n",
       "      <th>iterations_since_restore</th>\n",
       "      <th>stopped_early</th>\n",
       "    </tr>\n",
       "  </thead>\n",
       "  <tbody>\n",
       "    <tr>\n",
       "      <th>0</th>\n",
       "      <td>0.002847</td>\n",
       "      <td>8.0</td>\n",
       "      <td>3.0</td>\n",
       "      <td>32.0</td>\n",
       "      <td>64.0</td>\n",
       "      <td>GeLU</td>\n",
       "      <td>linear</td>\n",
       "      <td>True</td>\n",
       "      <td>True</td>\n",
       "      <td>None</td>\n",
       "      <td>...</td>\n",
       "      <td>0.151971</td>\n",
       "      <td>0.152857</td>\n",
       "      <td>9.0</td>\n",
       "      <td>3300.0</td>\n",
       "      <td>180.056076</td>\n",
       "      <td>1.0</td>\n",
       "      <td>1.0</td>\n",
       "      <td>1948.989624</td>\n",
       "      <td>10.0</td>\n",
       "      <td>False</td>\n",
       "    </tr>\n",
       "    <tr>\n",
       "      <th>1</th>\n",
       "      <td>0.001080</td>\n",
       "      <td>4.0</td>\n",
       "      <td>2.0</td>\n",
       "      <td>64.0</td>\n",
       "      <td>64.0</td>\n",
       "      <td>GeLU</td>\n",
       "      <td>linear_border</td>\n",
       "      <td>True</td>\n",
       "      <td>True</td>\n",
       "      <td>poly6</td>\n",
       "      <td>...</td>\n",
       "      <td>0.210419</td>\n",
       "      <td>0.224328</td>\n",
       "      <td>14.0</td>\n",
       "      <td>4950.0</td>\n",
       "      <td>325.637268</td>\n",
       "      <td>1.0</td>\n",
       "      <td>1.0</td>\n",
       "      <td>2109.996582</td>\n",
       "      <td>15.0</td>\n",
       "      <td>False</td>\n",
       "    </tr>\n",
       "    <tr>\n",
       "      <th>2</th>\n",
       "      <td>0.002219</td>\n",
       "      <td>3.0</td>\n",
       "      <td>1.0</td>\n",
       "      <td>16.0</td>\n",
       "      <td>64.0</td>\n",
       "      <td>leaky_relu</td>\n",
       "      <td>linear</td>\n",
       "      <td>True</td>\n",
       "      <td>False</td>\n",
       "      <td>gaussian</td>\n",
       "      <td>...</td>\n",
       "      <td>0.230758</td>\n",
       "      <td>0.240826</td>\n",
       "      <td>14.0</td>\n",
       "      <td>4950.0</td>\n",
       "      <td>252.860504</td>\n",
       "      <td>1.0</td>\n",
       "      <td>1.0</td>\n",
       "      <td>2707.793945</td>\n",
       "      <td>15.0</td>\n",
       "      <td>False</td>\n",
       "    </tr>\n",
       "    <tr>\n",
       "      <th>3</th>\n",
       "      <td>0.004911</td>\n",
       "      <td>3.0</td>\n",
       "      <td>2.0</td>\n",
       "      <td>64.0</td>\n",
       "      <td>48.0</td>\n",
       "      <td>tanh</td>\n",
       "      <td>linear</td>\n",
       "      <td>False</td>\n",
       "      <td>False</td>\n",
       "      <td>gaussian</td>\n",
       "      <td>...</td>\n",
       "      <td>0.252591</td>\n",
       "      <td>0.271895</td>\n",
       "      <td>14.0</td>\n",
       "      <td>4950.0</td>\n",
       "      <td>307.618744</td>\n",
       "      <td>1.0</td>\n",
       "      <td>1.0</td>\n",
       "      <td>4635.397461</td>\n",
       "      <td>15.0</td>\n",
       "      <td>False</td>\n",
       "    </tr>\n",
       "    <tr>\n",
       "      <th>4</th>\n",
       "      <td>0.000551</td>\n",
       "      <td>3.0</td>\n",
       "      <td>4.0</td>\n",
       "      <td>32.0</td>\n",
       "      <td>256.0</td>\n",
       "      <td>GeLU</td>\n",
       "      <td>linear</td>\n",
       "      <td>False</td>\n",
       "      <td>True</td>\n",
       "      <td>poly6</td>\n",
       "      <td>...</td>\n",
       "      <td>0.267873</td>\n",
       "      <td>0.277849</td>\n",
       "      <td>9.0</td>\n",
       "      <td>3300.0</td>\n",
       "      <td>146.321823</td>\n",
       "      <td>1.0</td>\n",
       "      <td>1.0</td>\n",
       "      <td>950.918030</td>\n",
       "      <td>10.0</td>\n",
       "      <td>False</td>\n",
       "    </tr>\n",
       "    <tr>\n",
       "      <th>5</th>\n",
       "      <td>0.000260</td>\n",
       "      <td>4.0</td>\n",
       "      <td>4.0</td>\n",
       "      <td>8.0</td>\n",
       "      <td>32.0</td>\n",
       "      <td>tanh</td>\n",
       "      <td>linear</td>\n",
       "      <td>False</td>\n",
       "      <td>False</td>\n",
       "      <td>gaussian</td>\n",
       "      <td>...</td>\n",
       "      <td>0.290415</td>\n",
       "      <td>0.305171</td>\n",
       "      <td>14.0</td>\n",
       "      <td>4950.0</td>\n",
       "      <td>380.037689</td>\n",
       "      <td>1.0</td>\n",
       "      <td>1.0</td>\n",
       "      <td>5635.374512</td>\n",
       "      <td>15.0</td>\n",
       "      <td>False</td>\n",
       "    </tr>\n",
       "    <tr>\n",
       "      <th>6</th>\n",
       "      <td>0.002687</td>\n",
       "      <td>3.0</td>\n",
       "      <td>4.0</td>\n",
       "      <td>8.0</td>\n",
       "      <td>64.0</td>\n",
       "      <td>relu</td>\n",
       "      <td>linear</td>\n",
       "      <td>False</td>\n",
       "      <td>True</td>\n",
       "      <td>None</td>\n",
       "      <td>...</td>\n",
       "      <td>0.384754</td>\n",
       "      <td>0.384243</td>\n",
       "      <td>9.0</td>\n",
       "      <td>3300.0</td>\n",
       "      <td>81.887207</td>\n",
       "      <td>1.0</td>\n",
       "      <td>1.0</td>\n",
       "      <td>884.668701</td>\n",
       "      <td>10.0</td>\n",
       "      <td>False</td>\n",
       "    </tr>\n",
       "    <tr>\n",
       "      <th>7</th>\n",
       "      <td>0.007852</td>\n",
       "      <td>3.0</td>\n",
       "      <td>3.0</td>\n",
       "      <td>4.0</td>\n",
       "      <td>64.0</td>\n",
       "      <td>GeLU</td>\n",
       "      <td>linear</td>\n",
       "      <td>True</td>\n",
       "      <td>True</td>\n",
       "      <td>None</td>\n",
       "      <td>...</td>\n",
       "      <td>0.451696</td>\n",
       "      <td>0.455606</td>\n",
       "      <td>3.0</td>\n",
       "      <td>1320.0</td>\n",
       "      <td>139.240982</td>\n",
       "      <td>1.0</td>\n",
       "      <td>1.0</td>\n",
       "      <td>587.169006</td>\n",
       "      <td>4.0</td>\n",
       "      <td>True</td>\n",
       "    </tr>\n",
       "    <tr>\n",
       "      <th>8</th>\n",
       "      <td>0.000369</td>\n",
       "      <td>16.0</td>\n",
       "      <td>1.0</td>\n",
       "      <td>32.0</td>\n",
       "      <td>48.0</td>\n",
       "      <td>GeLU</td>\n",
       "      <td>linear</td>\n",
       "      <td>True</td>\n",
       "      <td>False</td>\n",
       "      <td>poly6</td>\n",
       "      <td>...</td>\n",
       "      <td>0.595721</td>\n",
       "      <td>0.665299</td>\n",
       "      <td>1.0</td>\n",
       "      <td>660.0</td>\n",
       "      <td>7644.119141</td>\n",
       "      <td>1.0</td>\n",
       "      <td>1.0</td>\n",
       "      <td>15453.688477</td>\n",
       "      <td>2.0</td>\n",
       "      <td>True</td>\n",
       "    </tr>\n",
       "    <tr>\n",
       "      <th>9</th>\n",
       "      <td>0.001700</td>\n",
       "      <td>4.0</td>\n",
       "      <td>0.0</td>\n",
       "      <td>64.0</td>\n",
       "      <td>128.0</td>\n",
       "      <td>relu</td>\n",
       "      <td>linear</td>\n",
       "      <td>True</td>\n",
       "      <td>True</td>\n",
       "      <td>None</td>\n",
       "      <td>...</td>\n",
       "      <td>0.661287</td>\n",
       "      <td>0.673368</td>\n",
       "      <td>14.0</td>\n",
       "      <td>4950.0</td>\n",
       "      <td>44.104977</td>\n",
       "      <td>1.0</td>\n",
       "      <td>1.0</td>\n",
       "      <td>664.979492</td>\n",
       "      <td>15.0</td>\n",
       "      <td>False</td>\n",
       "    </tr>\n",
       "    <tr>\n",
       "      <th>10</th>\n",
       "      <td>0.000537</td>\n",
       "      <td>4.0</td>\n",
       "      <td>1.0</td>\n",
       "      <td>64.0</td>\n",
       "      <td>64.0</td>\n",
       "      <td>relu</td>\n",
       "      <td>linear_border</td>\n",
       "      <td>False</td>\n",
       "      <td>True</td>\n",
       "      <td>poly6</td>\n",
       "      <td>...</td>\n",
       "      <td>0.673705</td>\n",
       "      <td>0.762742</td>\n",
       "      <td>1.0</td>\n",
       "      <td>660.0</td>\n",
       "      <td>267.486023</td>\n",
       "      <td>1.0</td>\n",
       "      <td>1.0</td>\n",
       "      <td>552.775818</td>\n",
       "      <td>2.0</td>\n",
       "      <td>True</td>\n",
       "    </tr>\n",
       "    <tr>\n",
       "      <th>11</th>\n",
       "      <td>0.001156</td>\n",
       "      <td>3.0</td>\n",
       "      <td>4.0</td>\n",
       "      <td>64.0</td>\n",
       "      <td>32.0</td>\n",
       "      <td>tanh</td>\n",
       "      <td>linear</td>\n",
       "      <td>False</td>\n",
       "      <td>True</td>\n",
       "      <td>poly6</td>\n",
       "      <td>...</td>\n",
       "      <td>0.676494</td>\n",
       "      <td>0.756920</td>\n",
       "      <td>1.0</td>\n",
       "      <td>660.0</td>\n",
       "      <td>374.767029</td>\n",
       "      <td>1.0</td>\n",
       "      <td>1.0</td>\n",
       "      <td>769.108032</td>\n",
       "      <td>2.0</td>\n",
       "      <td>True</td>\n",
       "    </tr>\n",
       "    <tr>\n",
       "      <th>12</th>\n",
       "      <td>0.007933</td>\n",
       "      <td>8.0</td>\n",
       "      <td>0.0</td>\n",
       "      <td>16.0</td>\n",
       "      <td>128.0</td>\n",
       "      <td>relu</td>\n",
       "      <td>linear</td>\n",
       "      <td>False</td>\n",
       "      <td>True</td>\n",
       "      <td>None</td>\n",
       "      <td>...</td>\n",
       "      <td>0.710867</td>\n",
       "      <td>0.747197</td>\n",
       "      <td>1.0</td>\n",
       "      <td>660.0</td>\n",
       "      <td>107.865295</td>\n",
       "      <td>1.0</td>\n",
       "      <td>1.0</td>\n",
       "      <td>159.475739</td>\n",
       "      <td>2.0</td>\n",
       "      <td>True</td>\n",
       "    </tr>\n",
       "    <tr>\n",
       "      <th>13</th>\n",
       "      <td>0.002616</td>\n",
       "      <td>4.0</td>\n",
       "      <td>1.0</td>\n",
       "      <td>32.0</td>\n",
       "      <td>64.0</td>\n",
       "      <td>leaky_relu</td>\n",
       "      <td>nearest_neighbor</td>\n",
       "      <td>True</td>\n",
       "      <td>False</td>\n",
       "      <td>gaussian</td>\n",
       "      <td>...</td>\n",
       "      <td>0.725400</td>\n",
       "      <td>0.776553</td>\n",
       "      <td>1.0</td>\n",
       "      <td>660.0</td>\n",
       "      <td>245.574310</td>\n",
       "      <td>1.0</td>\n",
       "      <td>1.0</td>\n",
       "      <td>509.808807</td>\n",
       "      <td>2.0</td>\n",
       "      <td>True</td>\n",
       "    </tr>\n",
       "    <tr>\n",
       "      <th>14</th>\n",
       "      <td>0.004902</td>\n",
       "      <td>16.0</td>\n",
       "      <td>0.0</td>\n",
       "      <td>64.0</td>\n",
       "      <td>64.0</td>\n",
       "      <td>leaky_relu</td>\n",
       "      <td>nearest_neighbor</td>\n",
       "      <td>False</td>\n",
       "      <td>False</td>\n",
       "      <td>None</td>\n",
       "      <td>...</td>\n",
       "      <td>0.805636</td>\n",
       "      <td>0.892765</td>\n",
       "      <td>0.0</td>\n",
       "      <td>330.0</td>\n",
       "      <td>8133.678711</td>\n",
       "      <td>1.0</td>\n",
       "      <td>1.0</td>\n",
       "      <td>8133.678711</td>\n",
       "      <td>1.0</td>\n",
       "      <td>True</td>\n",
       "    </tr>\n",
       "    <tr>\n",
       "      <th>15</th>\n",
       "      <td>0.003611</td>\n",
       "      <td>3.0</td>\n",
       "      <td>1.0</td>\n",
       "      <td>16.0</td>\n",
       "      <td>48.0</td>\n",
       "      <td>relu</td>\n",
       "      <td>linear_border</td>\n",
       "      <td>True</td>\n",
       "      <td>True</td>\n",
       "      <td>poly6</td>\n",
       "      <td>...</td>\n",
       "      <td>0.838688</td>\n",
       "      <td>0.890316</td>\n",
       "      <td>0.0</td>\n",
       "      <td>330.0</td>\n",
       "      <td>223.419022</td>\n",
       "      <td>1.0</td>\n",
       "      <td>1.0</td>\n",
       "      <td>223.419022</td>\n",
       "      <td>1.0</td>\n",
       "      <td>True</td>\n",
       "    </tr>\n",
       "    <tr>\n",
       "      <th>16</th>\n",
       "      <td>0.000231</td>\n",
       "      <td>4.0</td>\n",
       "      <td>4.0</td>\n",
       "      <td>64.0</td>\n",
       "      <td>64.0</td>\n",
       "      <td>GeLU</td>\n",
       "      <td>linear</td>\n",
       "      <td>False</td>\n",
       "      <td>True</td>\n",
       "      <td>None</td>\n",
       "      <td>...</td>\n",
       "      <td>0.861983</td>\n",
       "      <td>0.915748</td>\n",
       "      <td>0.0</td>\n",
       "      <td>330.0</td>\n",
       "      <td>165.449051</td>\n",
       "      <td>1.0</td>\n",
       "      <td>1.0</td>\n",
       "      <td>165.449051</td>\n",
       "      <td>1.0</td>\n",
       "      <td>True</td>\n",
       "    </tr>\n",
       "    <tr>\n",
       "      <th>17</th>\n",
       "      <td>0.003655</td>\n",
       "      <td>4.0</td>\n",
       "      <td>1.0</td>\n",
       "      <td>8.0</td>\n",
       "      <td>32.0</td>\n",
       "      <td>tanh</td>\n",
       "      <td>nearest_neighbor</td>\n",
       "      <td>False</td>\n",
       "      <td>True</td>\n",
       "      <td>None</td>\n",
       "      <td>...</td>\n",
       "      <td>0.870353</td>\n",
       "      <td>0.913161</td>\n",
       "      <td>0.0</td>\n",
       "      <td>330.0</td>\n",
       "      <td>262.566284</td>\n",
       "      <td>1.0</td>\n",
       "      <td>1.0</td>\n",
       "      <td>262.566284</td>\n",
       "      <td>1.0</td>\n",
       "      <td>True</td>\n",
       "    </tr>\n",
       "    <tr>\n",
       "      <th>18</th>\n",
       "      <td>0.000217</td>\n",
       "      <td>8.0</td>\n",
       "      <td>1.0</td>\n",
       "      <td>64.0</td>\n",
       "      <td>48.0</td>\n",
       "      <td>GeLU</td>\n",
       "      <td>nearest_neighbor</td>\n",
       "      <td>True</td>\n",
       "      <td>False</td>\n",
       "      <td>gaussian</td>\n",
       "      <td>...</td>\n",
       "      <td>0.901980</td>\n",
       "      <td>0.953094</td>\n",
       "      <td>0.0</td>\n",
       "      <td>330.0</td>\n",
       "      <td>685.725220</td>\n",
       "      <td>1.0</td>\n",
       "      <td>1.0</td>\n",
       "      <td>685.725220</td>\n",
       "      <td>1.0</td>\n",
       "      <td>True</td>\n",
       "    </tr>\n",
       "    <tr>\n",
       "      <th>19</th>\n",
       "      <td>0.000633</td>\n",
       "      <td>3.0</td>\n",
       "      <td>2.0</td>\n",
       "      <td>64.0</td>\n",
       "      <td>256.0</td>\n",
       "      <td>relu</td>\n",
       "      <td>linear</td>\n",
       "      <td>True</td>\n",
       "      <td>False</td>\n",
       "      <td>poly6</td>\n",
       "      <td>...</td>\n",
       "      <td>0.908592</td>\n",
       "      <td>1.534368</td>\n",
       "      <td>0.0</td>\n",
       "      <td>330.0</td>\n",
       "      <td>192.280624</td>\n",
       "      <td>1.0</td>\n",
       "      <td>1.0</td>\n",
       "      <td>192.280624</td>\n",
       "      <td>1.0</td>\n",
       "      <td>True</td>\n",
       "    </tr>\n",
       "    <tr>\n",
       "      <th>20</th>\n",
       "      <td>0.003840</td>\n",
       "      <td>16.0</td>\n",
       "      <td>1.0</td>\n",
       "      <td>8.0</td>\n",
       "      <td>48.0</td>\n",
       "      <td>GeLU</td>\n",
       "      <td>linear_border</td>\n",
       "      <td>True</td>\n",
       "      <td>False</td>\n",
       "      <td>poly6</td>\n",
       "      <td>...</td>\n",
       "      <td>0.912416</td>\n",
       "      <td>0.956250</td>\n",
       "      <td>0.0</td>\n",
       "      <td>330.0</td>\n",
       "      <td>2510.038086</td>\n",
       "      <td>1.0</td>\n",
       "      <td>1.0</td>\n",
       "      <td>2510.038086</td>\n",
       "      <td>1.0</td>\n",
       "      <td>True</td>\n",
       "    </tr>\n",
       "    <tr>\n",
       "      <th>21</th>\n",
       "      <td>0.000174</td>\n",
       "      <td>4.0</td>\n",
       "      <td>2.0</td>\n",
       "      <td>64.0</td>\n",
       "      <td>64.0</td>\n",
       "      <td>relu</td>\n",
       "      <td>nearest_neighbor</td>\n",
       "      <td>False</td>\n",
       "      <td>True</td>\n",
       "      <td>poly6</td>\n",
       "      <td>...</td>\n",
       "      <td>0.920563</td>\n",
       "      <td>0.958178</td>\n",
       "      <td>0.0</td>\n",
       "      <td>330.0</td>\n",
       "      <td>333.165283</td>\n",
       "      <td>1.0</td>\n",
       "      <td>1.0</td>\n",
       "      <td>333.165283</td>\n",
       "      <td>1.0</td>\n",
       "      <td>True</td>\n",
       "    </tr>\n",
       "    <tr>\n",
       "      <th>22</th>\n",
       "      <td>0.003963</td>\n",
       "      <td>16.0</td>\n",
       "      <td>3.0</td>\n",
       "      <td>8.0</td>\n",
       "      <td>64.0</td>\n",
       "      <td>GeLU</td>\n",
       "      <td>nearest_neighbor</td>\n",
       "      <td>False</td>\n",
       "      <td>False</td>\n",
       "      <td>None</td>\n",
       "      <td>...</td>\n",
       "      <td>0.935497</td>\n",
       "      <td>8.543172</td>\n",
       "      <td>0.0</td>\n",
       "      <td>330.0</td>\n",
       "      <td>10341.900391</td>\n",
       "      <td>1.0</td>\n",
       "      <td>1.0</td>\n",
       "      <td>10341.900391</td>\n",
       "      <td>1.0</td>\n",
       "      <td>True</td>\n",
       "    </tr>\n",
       "    <tr>\n",
       "      <th>23</th>\n",
       "      <td>0.002610</td>\n",
       "      <td>16.0</td>\n",
       "      <td>3.0</td>\n",
       "      <td>8.0</td>\n",
       "      <td>64.0</td>\n",
       "      <td>leaky_relu</td>\n",
       "      <td>linear</td>\n",
       "      <td>False</td>\n",
       "      <td>False</td>\n",
       "      <td>gaussian</td>\n",
       "      <td>...</td>\n",
       "      <td>0.936622</td>\n",
       "      <td>1.301726</td>\n",
       "      <td>0.0</td>\n",
       "      <td>330.0</td>\n",
       "      <td>10486.561523</td>\n",
       "      <td>1.0</td>\n",
       "      <td>1.0</td>\n",
       "      <td>10486.561523</td>\n",
       "      <td>1.0</td>\n",
       "      <td>True</td>\n",
       "    </tr>\n",
       "    <tr>\n",
       "      <th>24</th>\n",
       "      <td>0.001167</td>\n",
       "      <td>3.0</td>\n",
       "      <td>0.0</td>\n",
       "      <td>4.0</td>\n",
       "      <td>64.0</td>\n",
       "      <td>relu</td>\n",
       "      <td>linear</td>\n",
       "      <td>False</td>\n",
       "      <td>False</td>\n",
       "      <td>poly6</td>\n",
       "      <td>...</td>\n",
       "      <td>0.938057</td>\n",
       "      <td>0.978817</td>\n",
       "      <td>0.0</td>\n",
       "      <td>330.0</td>\n",
       "      <td>34.742336</td>\n",
       "      <td>1.0</td>\n",
       "      <td>1.0</td>\n",
       "      <td>34.742336</td>\n",
       "      <td>1.0</td>\n",
       "      <td>True</td>\n",
       "    </tr>\n",
       "    <tr>\n",
       "      <th>25</th>\n",
       "      <td>0.000211</td>\n",
       "      <td>4.0</td>\n",
       "      <td>2.0</td>\n",
       "      <td>4.0</td>\n",
       "      <td>256.0</td>\n",
       "      <td>GeLU</td>\n",
       "      <td>linear</td>\n",
       "      <td>False</td>\n",
       "      <td>True</td>\n",
       "      <td>None</td>\n",
       "      <td>...</td>\n",
       "      <td>0.941224</td>\n",
       "      <td>0.967749</td>\n",
       "      <td>0.0</td>\n",
       "      <td>330.0</td>\n",
       "      <td>169.719727</td>\n",
       "      <td>1.0</td>\n",
       "      <td>1.0</td>\n",
       "      <td>169.719727</td>\n",
       "      <td>1.0</td>\n",
       "      <td>True</td>\n",
       "    </tr>\n",
       "    <tr>\n",
       "      <th>26</th>\n",
       "      <td>0.000794</td>\n",
       "      <td>8.0</td>\n",
       "      <td>0.0</td>\n",
       "      <td>8.0</td>\n",
       "      <td>32.0</td>\n",
       "      <td>GeLU</td>\n",
       "      <td>linear</td>\n",
       "      <td>True</td>\n",
       "      <td>True</td>\n",
       "      <td>poly6</td>\n",
       "      <td>...</td>\n",
       "      <td>0.941456</td>\n",
       "      <td>0.970050</td>\n",
       "      <td>0.0</td>\n",
       "      <td>330.0</td>\n",
       "      <td>44.618023</td>\n",
       "      <td>1.0</td>\n",
       "      <td>1.0</td>\n",
       "      <td>44.618023</td>\n",
       "      <td>1.0</td>\n",
       "      <td>True</td>\n",
       "    </tr>\n",
       "    <tr>\n",
       "      <th>27</th>\n",
       "      <td>0.000900</td>\n",
       "      <td>8.0</td>\n",
       "      <td>0.0</td>\n",
       "      <td>8.0</td>\n",
       "      <td>64.0</td>\n",
       "      <td>leaky_relu</td>\n",
       "      <td>linear_border</td>\n",
       "      <td>True</td>\n",
       "      <td>True</td>\n",
       "      <td>poly6</td>\n",
       "      <td>...</td>\n",
       "      <td>0.951741</td>\n",
       "      <td>0.978304</td>\n",
       "      <td>0.0</td>\n",
       "      <td>330.0</td>\n",
       "      <td>44.079655</td>\n",
       "      <td>1.0</td>\n",
       "      <td>1.0</td>\n",
       "      <td>44.079655</td>\n",
       "      <td>1.0</td>\n",
       "      <td>True</td>\n",
       "    </tr>\n",
       "    <tr>\n",
       "      <th>28</th>\n",
       "      <td>0.000195</td>\n",
       "      <td>16.0</td>\n",
       "      <td>0.0</td>\n",
       "      <td>16.0</td>\n",
       "      <td>32.0</td>\n",
       "      <td>tanh</td>\n",
       "      <td>linear</td>\n",
       "      <td>True</td>\n",
       "      <td>True</td>\n",
       "      <td>poly6</td>\n",
       "      <td>...</td>\n",
       "      <td>0.977900</td>\n",
       "      <td>1.002419</td>\n",
       "      <td>0.0</td>\n",
       "      <td>330.0</td>\n",
       "      <td>815.362793</td>\n",
       "      <td>1.0</td>\n",
       "      <td>1.0</td>\n",
       "      <td>815.362793</td>\n",
       "      <td>1.0</td>\n",
       "      <td>True</td>\n",
       "    </tr>\n",
       "    <tr>\n",
       "      <th>29</th>\n",
       "      <td>0.000108</td>\n",
       "      <td>16.0</td>\n",
       "      <td>1.0</td>\n",
       "      <td>8.0</td>\n",
       "      <td>32.0</td>\n",
       "      <td>relu</td>\n",
       "      <td>linear_border</td>\n",
       "      <td>False</td>\n",
       "      <td>True</td>\n",
       "      <td>gaussian</td>\n",
       "      <td>...</td>\n",
       "      <td>0.980325</td>\n",
       "      <td>0.995010</td>\n",
       "      <td>0.0</td>\n",
       "      <td>330.0</td>\n",
       "      <td>680.798828</td>\n",
       "      <td>1.0</td>\n",
       "      <td>1.0</td>\n",
       "      <td>680.798828</td>\n",
       "      <td>1.0</td>\n",
       "      <td>True</td>\n",
       "    </tr>\n",
       "    <tr>\n",
       "      <th>30</th>\n",
       "      <td>0.000110</td>\n",
       "      <td>4.0</td>\n",
       "      <td>0.0</td>\n",
       "      <td>16.0</td>\n",
       "      <td>32.0</td>\n",
       "      <td>leaky_relu</td>\n",
       "      <td>linear_border</td>\n",
       "      <td>True</td>\n",
       "      <td>True</td>\n",
       "      <td>gaussian</td>\n",
       "      <td>...</td>\n",
       "      <td>0.988220</td>\n",
       "      <td>0.998884</td>\n",
       "      <td>0.0</td>\n",
       "      <td>330.0</td>\n",
       "      <td>192.276031</td>\n",
       "      <td>1.0</td>\n",
       "      <td>1.0</td>\n",
       "      <td>192.276031</td>\n",
       "      <td>1.0</td>\n",
       "      <td>True</td>\n",
       "    </tr>\n",
       "  </tbody>\n",
       "</table>\n",
       "<p>31 rows × 27 columns</p>\n",
       "</div>"
      ],
      "text/plain": [
       "    learning_rate  kernel_size  num_hidden_layers  input_layer_out_channels  \\\n",
       "0        0.002847          8.0                3.0                      32.0   \n",
       "1        0.001080          4.0                2.0                      64.0   \n",
       "2        0.002219          3.0                1.0                      16.0   \n",
       "3        0.004911          3.0                2.0                      64.0   \n",
       "4        0.000551          3.0                4.0                      32.0   \n",
       "5        0.000260          4.0                4.0                       8.0   \n",
       "6        0.002687          3.0                4.0                       8.0   \n",
       "7        0.007852          3.0                3.0                       4.0   \n",
       "8        0.000369         16.0                1.0                      32.0   \n",
       "9        0.001700          4.0                0.0                      64.0   \n",
       "10       0.000537          4.0                1.0                      64.0   \n",
       "11       0.001156          3.0                4.0                      64.0   \n",
       "12       0.007933          8.0                0.0                      16.0   \n",
       "13       0.002616          4.0                1.0                      32.0   \n",
       "14       0.004902         16.0                0.0                      64.0   \n",
       "15       0.003611          3.0                1.0                      16.0   \n",
       "16       0.000231          4.0                4.0                      64.0   \n",
       "17       0.003655          4.0                1.0                       8.0   \n",
       "18       0.000217          8.0                1.0                      64.0   \n",
       "19       0.000633          3.0                2.0                      64.0   \n",
       "20       0.003840         16.0                1.0                       8.0   \n",
       "21       0.000174          4.0                2.0                      64.0   \n",
       "22       0.003963         16.0                3.0                       8.0   \n",
       "23       0.002610         16.0                3.0                       8.0   \n",
       "24       0.001167          3.0                0.0                       4.0   \n",
       "25       0.000211          4.0                2.0                       4.0   \n",
       "26       0.000794          8.0                0.0                       8.0   \n",
       "27       0.000900          8.0                0.0                       8.0   \n",
       "28       0.000195         16.0                0.0                      16.0   \n",
       "29       0.000108         16.0                1.0                       8.0   \n",
       "30       0.000110          4.0                0.0                      16.0   \n",
       "\n",
       "    hidden_units intermediate_activation_fn     interpolation  align_corners  \\\n",
       "0           64.0                       GeLU            linear           True   \n",
       "1           64.0                       GeLU     linear_border           True   \n",
       "2           64.0                 leaky_relu            linear           True   \n",
       "3           48.0                       tanh            linear          False   \n",
       "4          256.0                       GeLU            linear          False   \n",
       "5           32.0                       tanh            linear          False   \n",
       "6           64.0                       relu            linear          False   \n",
       "7           64.0                       GeLU            linear           True   \n",
       "8           48.0                       GeLU            linear           True   \n",
       "9          128.0                       relu            linear           True   \n",
       "10          64.0                       relu     linear_border          False   \n",
       "11          32.0                       tanh            linear          False   \n",
       "12         128.0                       relu            linear          False   \n",
       "13          64.0                 leaky_relu  nearest_neighbor           True   \n",
       "14          64.0                 leaky_relu  nearest_neighbor          False   \n",
       "15          48.0                       relu     linear_border           True   \n",
       "16          64.0                       GeLU            linear          False   \n",
       "17          32.0                       tanh  nearest_neighbor          False   \n",
       "18          48.0                       GeLU  nearest_neighbor           True   \n",
       "19         256.0                       relu            linear           True   \n",
       "20          48.0                       GeLU     linear_border           True   \n",
       "21          64.0                       relu  nearest_neighbor          False   \n",
       "22          64.0                       GeLU  nearest_neighbor          False   \n",
       "23          64.0                 leaky_relu            linear          False   \n",
       "24          64.0                       relu            linear          False   \n",
       "25         256.0                       GeLU            linear          False   \n",
       "26          32.0                       GeLU            linear           True   \n",
       "27          64.0                 leaky_relu     linear_border           True   \n",
       "28          32.0                       tanh            linear           True   \n",
       "29          32.0                       relu     linear_border          False   \n",
       "30          32.0                 leaky_relu     linear_border           True   \n",
       "\n",
       "    normalize window_function  ... val_loss_epoch  train_loss_epoch  epoch  \\\n",
       "0        True            None  ...       0.151971          0.152857    9.0   \n",
       "1        True           poly6  ...       0.210419          0.224328   14.0   \n",
       "2       False        gaussian  ...       0.230758          0.240826   14.0   \n",
       "3       False        gaussian  ...       0.252591          0.271895   14.0   \n",
       "4        True           poly6  ...       0.267873          0.277849    9.0   \n",
       "5       False        gaussian  ...       0.290415          0.305171   14.0   \n",
       "6        True            None  ...       0.384754          0.384243    9.0   \n",
       "7        True            None  ...       0.451696          0.455606    3.0   \n",
       "8       False           poly6  ...       0.595721          0.665299    1.0   \n",
       "9        True            None  ...       0.661287          0.673368   14.0   \n",
       "10       True           poly6  ...       0.673705          0.762742    1.0   \n",
       "11       True           poly6  ...       0.676494          0.756920    1.0   \n",
       "12       True            None  ...       0.710867          0.747197    1.0   \n",
       "13      False        gaussian  ...       0.725400          0.776553    1.0   \n",
       "14      False            None  ...       0.805636          0.892765    0.0   \n",
       "15       True           poly6  ...       0.838688          0.890316    0.0   \n",
       "16       True            None  ...       0.861983          0.915748    0.0   \n",
       "17       True            None  ...       0.870353          0.913161    0.0   \n",
       "18      False        gaussian  ...       0.901980          0.953094    0.0   \n",
       "19      False           poly6  ...       0.908592          1.534368    0.0   \n",
       "20      False           poly6  ...       0.912416          0.956250    0.0   \n",
       "21       True           poly6  ...       0.920563          0.958178    0.0   \n",
       "22      False            None  ...       0.935497          8.543172    0.0   \n",
       "23      False        gaussian  ...       0.936622          1.301726    0.0   \n",
       "24      False           poly6  ...       0.938057          0.978817    0.0   \n",
       "25       True            None  ...       0.941224          0.967749    0.0   \n",
       "26       True           poly6  ...       0.941456          0.970050    0.0   \n",
       "27       True           poly6  ...       0.951741          0.978304    0.0   \n",
       "28       True           poly6  ...       0.977900          1.002419    0.0   \n",
       "29       True        gaussian  ...       0.980325          0.995010    0.0   \n",
       "30       True        gaussian  ...       0.988220          0.998884    0.0   \n",
       "\n",
       "      step  time_this_iter_s  should_checkpoint  done  time_since_restore  \\\n",
       "0   3300.0        180.056076                1.0   1.0         1948.989624   \n",
       "1   4950.0        325.637268                1.0   1.0         2109.996582   \n",
       "2   4950.0        252.860504                1.0   1.0         2707.793945   \n",
       "3   4950.0        307.618744                1.0   1.0         4635.397461   \n",
       "4   3300.0        146.321823                1.0   1.0          950.918030   \n",
       "5   4950.0        380.037689                1.0   1.0         5635.374512   \n",
       "6   3300.0         81.887207                1.0   1.0          884.668701   \n",
       "7   1320.0        139.240982                1.0   1.0          587.169006   \n",
       "8    660.0       7644.119141                1.0   1.0        15453.688477   \n",
       "9   4950.0         44.104977                1.0   1.0          664.979492   \n",
       "10   660.0        267.486023                1.0   1.0          552.775818   \n",
       "11   660.0        374.767029                1.0   1.0          769.108032   \n",
       "12   660.0        107.865295                1.0   1.0          159.475739   \n",
       "13   660.0        245.574310                1.0   1.0          509.808807   \n",
       "14   330.0       8133.678711                1.0   1.0         8133.678711   \n",
       "15   330.0        223.419022                1.0   1.0          223.419022   \n",
       "16   330.0        165.449051                1.0   1.0          165.449051   \n",
       "17   330.0        262.566284                1.0   1.0          262.566284   \n",
       "18   330.0        685.725220                1.0   1.0          685.725220   \n",
       "19   330.0        192.280624                1.0   1.0          192.280624   \n",
       "20   330.0       2510.038086                1.0   1.0         2510.038086   \n",
       "21   330.0        333.165283                1.0   1.0          333.165283   \n",
       "22   330.0      10341.900391                1.0   1.0        10341.900391   \n",
       "23   330.0      10486.561523                1.0   1.0        10486.561523   \n",
       "24   330.0         34.742336                1.0   1.0           34.742336   \n",
       "25   330.0        169.719727                1.0   1.0          169.719727   \n",
       "26   330.0         44.618023                1.0   1.0           44.618023   \n",
       "27   330.0         44.079655                1.0   1.0           44.079655   \n",
       "28   330.0        815.362793                1.0   1.0          815.362793   \n",
       "29   330.0        680.798828                1.0   1.0          680.798828   \n",
       "30   330.0        192.276031                1.0   1.0          192.276031   \n",
       "\n",
       "    iterations_since_restore  stopped_early  \n",
       "0                       10.0          False  \n",
       "1                       15.0          False  \n",
       "2                       15.0          False  \n",
       "3                       15.0          False  \n",
       "4                       10.0          False  \n",
       "5                       15.0          False  \n",
       "6                       10.0          False  \n",
       "7                        4.0           True  \n",
       "8                        2.0           True  \n",
       "9                       15.0          False  \n",
       "10                       2.0           True  \n",
       "11                       2.0           True  \n",
       "12                       2.0           True  \n",
       "13                       2.0           True  \n",
       "14                       1.0           True  \n",
       "15                       1.0           True  \n",
       "16                       1.0           True  \n",
       "17                       1.0           True  \n",
       "18                       1.0           True  \n",
       "19                       1.0           True  \n",
       "20                       1.0           True  \n",
       "21                       1.0           True  \n",
       "22                       1.0           True  \n",
       "23                       1.0           True  \n",
       "24                       1.0           True  \n",
       "25                       1.0           True  \n",
       "26                       1.0           True  \n",
       "27                       1.0           True  \n",
       "28                       1.0           True  \n",
       "29                       1.0           True  \n",
       "30                       1.0           True  \n",
       "\n",
       "[31 rows x 27 columns]"
      ]
     },
     "execution_count": 5,
     "metadata": {},
     "output_type": "execute_result"
    }
   ],
   "source": [
    "csv_path = '../results/2023-07-08 hparams_table.csv'\n",
    "\n",
    "df = pd.read_csv(csv_path)\n",
    "# df = df.sort_values(by=['val_loss'])\n",
    "# df = df.drop(columns=['Unnamed: 0', 'val_loss', 'val_acc', 'train_loss', 'train_acc'])\n",
    "# df = df.rename(columns={'num_epochs': 'epochs', 'num_samples': 'samples', 'limit_train_batches': 'train_batches', 'limit_val_batches': 'val_batches'})\n",
    "# df = df.drop_duplicates(subset=['epochs', 'samples', 'train_batches', 'val_batches'], keep='first')\n",
    "# df = df.sort_values(by=['epochs', 'samples', 'train_batches', 'val_batches'])\n",
    "# df = df.reset_index(drop=True)\n",
    "\n",
    "# Map NaN to \"None\"\n",
    "df = df.where(pd.notnull(df), \"None\")\n",
    "\n",
    "# rename ray/tune/text columns to text\n",
    "for column in df.columns:\n",
    "    if 'ray/tune' in column:\n",
    "        df = df.rename(columns={column: column.replace('ray/tune/', '')})\n",
    "\n",
    "# df = df[df['epoch'] >= 1]     # exclude runs that where immediately stopped\n",
    "df['stopped_early'] = df['epoch'] < 5\n",
    "\n",
    "df"
   ]
  },
  {
   "cell_type": "code",
   "execution_count": 20,
   "metadata": {},
   "outputs": [
    {
     "data": {
      "text/plain": [
       "Index(['learning_rate', 'kernel_size', 'num_hidden_layers',\n",
       "       'input_layer_out_channels', 'hidden_units',\n",
       "       'intermediate_activation_fn', 'interpolation', 'align_corners',\n",
       "       'normalize', 'window_function', 'coordinate_mapping', 'filter_extent',\n",
       "       'radius_search_ignore_query_points', 'use_dense_layer_for_centers',\n",
       "       'train_loss', 'train_loss_step', 'val_loss', 'val_loss_epoch',\n",
       "       'train_loss_epoch', 'epoch', 'step', 'time_this_iter_s',\n",
       "       'should_checkpoint', 'done', 'time_since_restore',\n",
       "       'iterations_since_restore'],\n",
       "      dtype='object')"
      ]
     },
     "execution_count": 20,
     "metadata": {},
     "output_type": "execute_result"
    }
   ],
   "source": [
    "# Scatterplots to create:\n",
    "#\n",
    "df.columns"
   ]
  },
  {
   "cell_type": "code",
   "execution_count": 67,
   "metadata": {},
   "outputs": [
    {
     "data": {
      "application/vnd.plotly.v1+json": {
       "config": {
        "plotlyServerURL": "https://plot.ly"
       },
       "data": [
        {
         "dimensions": [
          {
           "axis": {
            "matches": true
           },
           "label": "Validation loss",
           "values": [
            0.1519712805747985,
            0.2104188352823257,
            0.2307580709457397,
            0.2525908648967743,
            0.2678727805614471,
            0.2904145419597626,
            0.384754329919815,
            0.6612871885299683
           ]
          },
          {
           "axis": {
            "matches": true
           },
           "label": "Learning rate",
           "values": [
            0.0028472529820115,
            0.0010795143989975,
            0.0022192782615047,
            0.0049111976057845,
            0.0005510828096481,
            0.0002598453601012,
            0.0026865494774873,
            0.0016999838543349
           ]
          },
          {
           "axis": {
            "matches": true
           },
           "label": "Kernel size",
           "values": [
            8,
            4,
            3,
            3,
            3,
            4,
            3,
            4
           ]
          },
          {
           "axis": {
            "matches": true
           },
           "label": "Hidden layers",
           "values": [
            3,
            2,
            1,
            2,
            4,
            4,
            4,
            0
           ]
          },
          {
           "axis": {
            "matches": true
           },
           "label": "Input layer out channels",
           "values": [
            32,
            64,
            16,
            64,
            32,
            8,
            8,
            64
           ]
          },
          {
           "axis": {
            "matches": true
           },
           "label": "Filter extent",
           "values": [
            0.125744190771616,
            0.1533070917030944,
            0.1490508680182408,
            0.1517497038179102,
            0.1237910339959341,
            0.1186753371823536,
            0.2625833808322801,
            0.1812155840097024
           ]
          }
         ],
         "hovertemplate": "stopped_early=False<br>%{xaxis.title.text}=%{x}<br>%{yaxis.title.text}=%{y}<extra></extra>",
         "legendgroup": "False",
         "marker": {
          "color": "#636efa",
          "symbol": "circle"
         },
         "name": "False",
         "showlegend": true,
         "type": "splom"
        },
        {
         "dimensions": [
          {
           "axis": {
            "matches": true
           },
           "label": "Validation loss",
           "values": [
            0.4516955316066742,
            0.5957207083702087,
            0.6737052798271179,
            0.6764938235282898,
            0.7108669877052307,
            0.7253999710083008,
            0.8056357502937317,
            0.8386881947517395,
            0.8619832396507263,
            0.8703534007072449,
            0.9019795656204224,
            0.9085923433303832,
            0.9124155044555664,
            0.920562982559204,
            0.9354971647262572,
            0.9366219639778136,
            0.938056707382202,
            0.941224217414856,
            0.9414558410644532,
            0.951740562915802,
            0.9778998494148254,
            0.9803254008293152,
            0.9882200956344604
           ]
          },
          {
           "axis": {
            "matches": true
           },
           "label": "Learning rate",
           "values": [
            0.007852475418724,
            0.000369395598376,
            0.0005369528748531,
            0.0011556882039059,
            0.0079332801515601,
            0.0026155350064962,
            0.0049024997699374,
            0.003610795367866,
            0.0002311567289884,
            0.0036550892343351,
            0.0002170284716561,
            0.0006328230874962,
            0.0038403335140201,
            0.0001744516396677,
            0.0039634558981758,
            0.002610185920323,
            0.0011668314753922,
            0.0002111186415189,
            0.0007941472403969,
            0.0008997509325562,
            0.0001948280832748,
            0.0001080671590945,
            0.0001100776507463
           ]
          },
          {
           "axis": {
            "matches": true
           },
           "label": "Kernel size",
           "values": [
            3,
            16,
            4,
            3,
            8,
            4,
            16,
            3,
            4,
            4,
            8,
            3,
            16,
            4,
            16,
            16,
            3,
            4,
            8,
            8,
            16,
            16,
            4
           ]
          },
          {
           "axis": {
            "matches": true
           },
           "label": "Hidden layers",
           "values": [
            3,
            1,
            1,
            4,
            0,
            1,
            0,
            1,
            4,
            1,
            1,
            2,
            1,
            2,
            3,
            3,
            0,
            2,
            0,
            0,
            0,
            1,
            0
           ]
          },
          {
           "axis": {
            "matches": true
           },
           "label": "Input layer out channels",
           "values": [
            4,
            32,
            64,
            64,
            16,
            32,
            64,
            16,
            64,
            8,
            64,
            64,
            8,
            64,
            8,
            8,
            4,
            4,
            8,
            8,
            16,
            8,
            16
           ]
          },
          {
           "axis": {
            "matches": true
           },
           "label": "Filter extent",
           "values": [
            0.1666839782696133,
            0.2491763628384303,
            0.1388220683390072,
            0.108498918106567,
            0.1517141681954666,
            0.0766355680898088,
            0.1132227047540914,
            0.0871766001933915,
            0.3254764081906778,
            0.2304765572896104,
            0.0938033062798732,
            0.2627651302376597,
            0.0889271625745868,
            0.1064211081891452,
            0.1405888360457206,
            0.2387800975464701,
            0.1873885371877903,
            0.1372375029938616,
            0.1114012383901866,
            0.0858908022428246,
            0.0878309429079135,
            0.1018089465207497,
            0.1988903099887931
           ]
          }
         ],
         "hovertemplate": "stopped_early=True<br>%{xaxis.title.text}=%{x}<br>%{yaxis.title.text}=%{y}<extra></extra>",
         "legendgroup": "True",
         "marker": {
          "color": "#636efa",
          "symbol": "x"
         },
         "name": "True",
         "showlegend": true,
         "type": "splom"
        }
       ],
       "layout": {
        "dragmode": "select",
        "height": 1000,
        "legend": {
         "title": {
          "text": "stopped_early"
         },
         "tracegroupgap": 0
        },
        "template": {
         "data": {
          "bar": [
           {
            "error_x": {
             "color": "#2a3f5f"
            },
            "error_y": {
             "color": "#2a3f5f"
            },
            "marker": {
             "line": {
              "color": "#E5ECF6",
              "width": 0.5
             },
             "pattern": {
              "fillmode": "overlay",
              "size": 10,
              "solidity": 0.2
             }
            },
            "type": "bar"
           }
          ],
          "barpolar": [
           {
            "marker": {
             "line": {
              "color": "#E5ECF6",
              "width": 0.5
             },
             "pattern": {
              "fillmode": "overlay",
              "size": 10,
              "solidity": 0.2
             }
            },
            "type": "barpolar"
           }
          ],
          "carpet": [
           {
            "aaxis": {
             "endlinecolor": "#2a3f5f",
             "gridcolor": "white",
             "linecolor": "white",
             "minorgridcolor": "white",
             "startlinecolor": "#2a3f5f"
            },
            "baxis": {
             "endlinecolor": "#2a3f5f",
             "gridcolor": "white",
             "linecolor": "white",
             "minorgridcolor": "white",
             "startlinecolor": "#2a3f5f"
            },
            "type": "carpet"
           }
          ],
          "choropleth": [
           {
            "colorbar": {
             "outlinewidth": 0,
             "ticks": ""
            },
            "type": "choropleth"
           }
          ],
          "contour": [
           {
            "colorbar": {
             "outlinewidth": 0,
             "ticks": ""
            },
            "colorscale": [
             [
              0,
              "#0d0887"
             ],
             [
              0.1111111111111111,
              "#46039f"
             ],
             [
              0.2222222222222222,
              "#7201a8"
             ],
             [
              0.3333333333333333,
              "#9c179e"
             ],
             [
              0.4444444444444444,
              "#bd3786"
             ],
             [
              0.5555555555555556,
              "#d8576b"
             ],
             [
              0.6666666666666666,
              "#ed7953"
             ],
             [
              0.7777777777777778,
              "#fb9f3a"
             ],
             [
              0.8888888888888888,
              "#fdca26"
             ],
             [
              1,
              "#f0f921"
             ]
            ],
            "type": "contour"
           }
          ],
          "contourcarpet": [
           {
            "colorbar": {
             "outlinewidth": 0,
             "ticks": ""
            },
            "type": "contourcarpet"
           }
          ],
          "heatmap": [
           {
            "colorbar": {
             "outlinewidth": 0,
             "ticks": ""
            },
            "colorscale": [
             [
              0,
              "#0d0887"
             ],
             [
              0.1111111111111111,
              "#46039f"
             ],
             [
              0.2222222222222222,
              "#7201a8"
             ],
             [
              0.3333333333333333,
              "#9c179e"
             ],
             [
              0.4444444444444444,
              "#bd3786"
             ],
             [
              0.5555555555555556,
              "#d8576b"
             ],
             [
              0.6666666666666666,
              "#ed7953"
             ],
             [
              0.7777777777777778,
              "#fb9f3a"
             ],
             [
              0.8888888888888888,
              "#fdca26"
             ],
             [
              1,
              "#f0f921"
             ]
            ],
            "type": "heatmap"
           }
          ],
          "heatmapgl": [
           {
            "colorbar": {
             "outlinewidth": 0,
             "ticks": ""
            },
            "colorscale": [
             [
              0,
              "#0d0887"
             ],
             [
              0.1111111111111111,
              "#46039f"
             ],
             [
              0.2222222222222222,
              "#7201a8"
             ],
             [
              0.3333333333333333,
              "#9c179e"
             ],
             [
              0.4444444444444444,
              "#bd3786"
             ],
             [
              0.5555555555555556,
              "#d8576b"
             ],
             [
              0.6666666666666666,
              "#ed7953"
             ],
             [
              0.7777777777777778,
              "#fb9f3a"
             ],
             [
              0.8888888888888888,
              "#fdca26"
             ],
             [
              1,
              "#f0f921"
             ]
            ],
            "type": "heatmapgl"
           }
          ],
          "histogram": [
           {
            "marker": {
             "pattern": {
              "fillmode": "overlay",
              "size": 10,
              "solidity": 0.2
             }
            },
            "type": "histogram"
           }
          ],
          "histogram2d": [
           {
            "colorbar": {
             "outlinewidth": 0,
             "ticks": ""
            },
            "colorscale": [
             [
              0,
              "#0d0887"
             ],
             [
              0.1111111111111111,
              "#46039f"
             ],
             [
              0.2222222222222222,
              "#7201a8"
             ],
             [
              0.3333333333333333,
              "#9c179e"
             ],
             [
              0.4444444444444444,
              "#bd3786"
             ],
             [
              0.5555555555555556,
              "#d8576b"
             ],
             [
              0.6666666666666666,
              "#ed7953"
             ],
             [
              0.7777777777777778,
              "#fb9f3a"
             ],
             [
              0.8888888888888888,
              "#fdca26"
             ],
             [
              1,
              "#f0f921"
             ]
            ],
            "type": "histogram2d"
           }
          ],
          "histogram2dcontour": [
           {
            "colorbar": {
             "outlinewidth": 0,
             "ticks": ""
            },
            "colorscale": [
             [
              0,
              "#0d0887"
             ],
             [
              0.1111111111111111,
              "#46039f"
             ],
             [
              0.2222222222222222,
              "#7201a8"
             ],
             [
              0.3333333333333333,
              "#9c179e"
             ],
             [
              0.4444444444444444,
              "#bd3786"
             ],
             [
              0.5555555555555556,
              "#d8576b"
             ],
             [
              0.6666666666666666,
              "#ed7953"
             ],
             [
              0.7777777777777778,
              "#fb9f3a"
             ],
             [
              0.8888888888888888,
              "#fdca26"
             ],
             [
              1,
              "#f0f921"
             ]
            ],
            "type": "histogram2dcontour"
           }
          ],
          "mesh3d": [
           {
            "colorbar": {
             "outlinewidth": 0,
             "ticks": ""
            },
            "type": "mesh3d"
           }
          ],
          "parcoords": [
           {
            "line": {
             "colorbar": {
              "outlinewidth": 0,
              "ticks": ""
             }
            },
            "type": "parcoords"
           }
          ],
          "pie": [
           {
            "automargin": true,
            "type": "pie"
           }
          ],
          "scatter": [
           {
            "fillpattern": {
             "fillmode": "overlay",
             "size": 10,
             "solidity": 0.2
            },
            "type": "scatter"
           }
          ],
          "scatter3d": [
           {
            "line": {
             "colorbar": {
              "outlinewidth": 0,
              "ticks": ""
             }
            },
            "marker": {
             "colorbar": {
              "outlinewidth": 0,
              "ticks": ""
             }
            },
            "type": "scatter3d"
           }
          ],
          "scattercarpet": [
           {
            "marker": {
             "colorbar": {
              "outlinewidth": 0,
              "ticks": ""
             }
            },
            "type": "scattercarpet"
           }
          ],
          "scattergeo": [
           {
            "marker": {
             "colorbar": {
              "outlinewidth": 0,
              "ticks": ""
             }
            },
            "type": "scattergeo"
           }
          ],
          "scattergl": [
           {
            "marker": {
             "colorbar": {
              "outlinewidth": 0,
              "ticks": ""
             }
            },
            "type": "scattergl"
           }
          ],
          "scattermapbox": [
           {
            "marker": {
             "colorbar": {
              "outlinewidth": 0,
              "ticks": ""
             }
            },
            "type": "scattermapbox"
           }
          ],
          "scatterpolar": [
           {
            "marker": {
             "colorbar": {
              "outlinewidth": 0,
              "ticks": ""
             }
            },
            "type": "scatterpolar"
           }
          ],
          "scatterpolargl": [
           {
            "marker": {
             "colorbar": {
              "outlinewidth": 0,
              "ticks": ""
             }
            },
            "type": "scatterpolargl"
           }
          ],
          "scatterternary": [
           {
            "marker": {
             "colorbar": {
              "outlinewidth": 0,
              "ticks": ""
             }
            },
            "type": "scatterternary"
           }
          ],
          "surface": [
           {
            "colorbar": {
             "outlinewidth": 0,
             "ticks": ""
            },
            "colorscale": [
             [
              0,
              "#0d0887"
             ],
             [
              0.1111111111111111,
              "#46039f"
             ],
             [
              0.2222222222222222,
              "#7201a8"
             ],
             [
              0.3333333333333333,
              "#9c179e"
             ],
             [
              0.4444444444444444,
              "#bd3786"
             ],
             [
              0.5555555555555556,
              "#d8576b"
             ],
             [
              0.6666666666666666,
              "#ed7953"
             ],
             [
              0.7777777777777778,
              "#fb9f3a"
             ],
             [
              0.8888888888888888,
              "#fdca26"
             ],
             [
              1,
              "#f0f921"
             ]
            ],
            "type": "surface"
           }
          ],
          "table": [
           {
            "cells": {
             "fill": {
              "color": "#EBF0F8"
             },
             "line": {
              "color": "white"
             }
            },
            "header": {
             "fill": {
              "color": "#C8D4E3"
             },
             "line": {
              "color": "white"
             }
            },
            "type": "table"
           }
          ]
         },
         "layout": {
          "annotationdefaults": {
           "arrowcolor": "#2a3f5f",
           "arrowhead": 0,
           "arrowwidth": 1
          },
          "autotypenumbers": "strict",
          "coloraxis": {
           "colorbar": {
            "outlinewidth": 0,
            "ticks": ""
           }
          },
          "colorscale": {
           "diverging": [
            [
             0,
             "#8e0152"
            ],
            [
             0.1,
             "#c51b7d"
            ],
            [
             0.2,
             "#de77ae"
            ],
            [
             0.3,
             "#f1b6da"
            ],
            [
             0.4,
             "#fde0ef"
            ],
            [
             0.5,
             "#f7f7f7"
            ],
            [
             0.6,
             "#e6f5d0"
            ],
            [
             0.7,
             "#b8e186"
            ],
            [
             0.8,
             "#7fbc41"
            ],
            [
             0.9,
             "#4d9221"
            ],
            [
             1,
             "#276419"
            ]
           ],
           "sequential": [
            [
             0,
             "#0d0887"
            ],
            [
             0.1111111111111111,
             "#46039f"
            ],
            [
             0.2222222222222222,
             "#7201a8"
            ],
            [
             0.3333333333333333,
             "#9c179e"
            ],
            [
             0.4444444444444444,
             "#bd3786"
            ],
            [
             0.5555555555555556,
             "#d8576b"
            ],
            [
             0.6666666666666666,
             "#ed7953"
            ],
            [
             0.7777777777777778,
             "#fb9f3a"
            ],
            [
             0.8888888888888888,
             "#fdca26"
            ],
            [
             1,
             "#f0f921"
            ]
           ],
           "sequentialminus": [
            [
             0,
             "#0d0887"
            ],
            [
             0.1111111111111111,
             "#46039f"
            ],
            [
             0.2222222222222222,
             "#7201a8"
            ],
            [
             0.3333333333333333,
             "#9c179e"
            ],
            [
             0.4444444444444444,
             "#bd3786"
            ],
            [
             0.5555555555555556,
             "#d8576b"
            ],
            [
             0.6666666666666666,
             "#ed7953"
            ],
            [
             0.7777777777777778,
             "#fb9f3a"
            ],
            [
             0.8888888888888888,
             "#fdca26"
            ],
            [
             1,
             "#f0f921"
            ]
           ]
          },
          "colorway": [
           "#636efa",
           "#EF553B",
           "#00cc96",
           "#ab63fa",
           "#FFA15A",
           "#19d3f3",
           "#FF6692",
           "#B6E880",
           "#FF97FF",
           "#FECB52"
          ],
          "font": {
           "color": "#2a3f5f"
          },
          "geo": {
           "bgcolor": "white",
           "lakecolor": "white",
           "landcolor": "#E5ECF6",
           "showlakes": true,
           "showland": true,
           "subunitcolor": "white"
          },
          "hoverlabel": {
           "align": "left"
          },
          "hovermode": "closest",
          "mapbox": {
           "style": "light"
          },
          "paper_bgcolor": "white",
          "plot_bgcolor": "#E5ECF6",
          "polar": {
           "angularaxis": {
            "gridcolor": "white",
            "linecolor": "white",
            "ticks": ""
           },
           "bgcolor": "#E5ECF6",
           "radialaxis": {
            "gridcolor": "white",
            "linecolor": "white",
            "ticks": ""
           }
          },
          "scene": {
           "xaxis": {
            "backgroundcolor": "#E5ECF6",
            "gridcolor": "white",
            "gridwidth": 2,
            "linecolor": "white",
            "showbackground": true,
            "ticks": "",
            "zerolinecolor": "white"
           },
           "yaxis": {
            "backgroundcolor": "#E5ECF6",
            "gridcolor": "white",
            "gridwidth": 2,
            "linecolor": "white",
            "showbackground": true,
            "ticks": "",
            "zerolinecolor": "white"
           },
           "zaxis": {
            "backgroundcolor": "#E5ECF6",
            "gridcolor": "white",
            "gridwidth": 2,
            "linecolor": "white",
            "showbackground": true,
            "ticks": "",
            "zerolinecolor": "white"
           }
          },
          "shapedefaults": {
           "line": {
            "color": "#2a3f5f"
           }
          },
          "ternary": {
           "aaxis": {
            "gridcolor": "white",
            "linecolor": "white",
            "ticks": ""
           },
           "baxis": {
            "gridcolor": "white",
            "linecolor": "white",
            "ticks": ""
           },
           "bgcolor": "#E5ECF6",
           "caxis": {
            "gridcolor": "white",
            "linecolor": "white",
            "ticks": ""
           }
          },
          "title": {
           "x": 0.05
          },
          "xaxis": {
           "automargin": true,
           "gridcolor": "white",
           "linecolor": "white",
           "ticks": "",
           "title": {
            "standoff": 15
           },
           "zerolinecolor": "white",
           "zerolinewidth": 2
          },
          "yaxis": {
           "automargin": true,
           "gridcolor": "white",
           "linecolor": "white",
           "ticks": "",
           "title": {
            "standoff": 15
           },
           "zerolinecolor": "white",
           "zerolinewidth": 2
          }
         }
        },
        "title": {
         "text": "Hyperparameter search results"
        }
       }
      },
      "text/html": [
       "<div>                            <div id=\"ed7dc599-d321-494d-9b89-af8eedcc88dd\" class=\"plotly-graph-div\" style=\"height:1000px; width:100%;\"></div>            <script type=\"text/javascript\">                require([\"plotly\"], function(Plotly) {                    window.PLOTLYENV=window.PLOTLYENV || {};                                    if (document.getElementById(\"ed7dc599-d321-494d-9b89-af8eedcc88dd\")) {                    Plotly.newPlot(                        \"ed7dc599-d321-494d-9b89-af8eedcc88dd\",                        [{\"dimensions\":[{\"axis\":{\"matches\":true},\"label\":\"Validation loss\",\"values\":[0.1519712805747985,0.2104188352823257,0.2307580709457397,0.2525908648967743,0.2678727805614471,0.2904145419597626,0.384754329919815,0.6612871885299683]},{\"axis\":{\"matches\":true},\"label\":\"Learning rate\",\"values\":[0.0028472529820115,0.0010795143989975,0.0022192782615047,0.0049111976057845,0.0005510828096481,0.0002598453601012,0.0026865494774873,0.0016999838543349]},{\"axis\":{\"matches\":true},\"label\":\"Kernel size\",\"values\":[8.0,4.0,3.0,3.0,3.0,4.0,3.0,4.0]},{\"axis\":{\"matches\":true},\"label\":\"Hidden layers\",\"values\":[3.0,2.0,1.0,2.0,4.0,4.0,4.0,0.0]},{\"axis\":{\"matches\":true},\"label\":\"Input layer out channels\",\"values\":[32.0,64.0,16.0,64.0,32.0,8.0,8.0,64.0]},{\"axis\":{\"matches\":true},\"label\":\"Filter extent\",\"values\":[0.125744190771616,0.1533070917030944,0.1490508680182408,0.1517497038179102,0.1237910339959341,0.1186753371823536,0.2625833808322801,0.1812155840097024]}],\"hovertemplate\":\"stopped_early=False\\u003cbr\\u003e%{xaxis.title.text}=%{x}\\u003cbr\\u003e%{yaxis.title.text}=%{y}\\u003cextra\\u003e\\u003c\\u002fextra\\u003e\",\"legendgroup\":\"False\",\"marker\":{\"color\":\"#636efa\",\"symbol\":\"circle\"},\"name\":\"False\",\"showlegend\":true,\"type\":\"splom\"},{\"dimensions\":[{\"axis\":{\"matches\":true},\"label\":\"Validation loss\",\"values\":[0.4516955316066742,0.5957207083702087,0.6737052798271179,0.6764938235282898,0.7108669877052307,0.7253999710083008,0.8056357502937317,0.8386881947517395,0.8619832396507263,0.8703534007072449,0.9019795656204224,0.9085923433303832,0.9124155044555664,0.920562982559204,0.9354971647262572,0.9366219639778136,0.938056707382202,0.941224217414856,0.9414558410644532,0.951740562915802,0.9778998494148254,0.9803254008293152,0.9882200956344604]},{\"axis\":{\"matches\":true},\"label\":\"Learning rate\",\"values\":[0.007852475418724,0.000369395598376,0.0005369528748531,0.0011556882039059,0.0079332801515601,0.0026155350064962,0.0049024997699374,0.003610795367866,0.0002311567289884,0.0036550892343351,0.0002170284716561,0.0006328230874962,0.0038403335140201,0.0001744516396677,0.0039634558981758,0.002610185920323,0.0011668314753922,0.0002111186415189,0.0007941472403969,0.0008997509325562,0.0001948280832748,0.0001080671590945,0.0001100776507463]},{\"axis\":{\"matches\":true},\"label\":\"Kernel size\",\"values\":[3.0,16.0,4.0,3.0,8.0,4.0,16.0,3.0,4.0,4.0,8.0,3.0,16.0,4.0,16.0,16.0,3.0,4.0,8.0,8.0,16.0,16.0,4.0]},{\"axis\":{\"matches\":true},\"label\":\"Hidden layers\",\"values\":[3.0,1.0,1.0,4.0,0.0,1.0,0.0,1.0,4.0,1.0,1.0,2.0,1.0,2.0,3.0,3.0,0.0,2.0,0.0,0.0,0.0,1.0,0.0]},{\"axis\":{\"matches\":true},\"label\":\"Input layer out channels\",\"values\":[4.0,32.0,64.0,64.0,16.0,32.0,64.0,16.0,64.0,8.0,64.0,64.0,8.0,64.0,8.0,8.0,4.0,4.0,8.0,8.0,16.0,8.0,16.0]},{\"axis\":{\"matches\":true},\"label\":\"Filter extent\",\"values\":[0.1666839782696133,0.2491763628384303,0.1388220683390072,0.108498918106567,0.1517141681954666,0.0766355680898088,0.1132227047540914,0.0871766001933915,0.3254764081906778,0.2304765572896104,0.0938033062798732,0.2627651302376597,0.0889271625745868,0.1064211081891452,0.1405888360457206,0.2387800975464701,0.1873885371877903,0.1372375029938616,0.1114012383901866,0.0858908022428246,0.0878309429079135,0.1018089465207497,0.1988903099887931]}],\"hovertemplate\":\"stopped_early=True\\u003cbr\\u003e%{xaxis.title.text}=%{x}\\u003cbr\\u003e%{yaxis.title.text}=%{y}\\u003cextra\\u003e\\u003c\\u002fextra\\u003e\",\"legendgroup\":\"True\",\"marker\":{\"color\":\"#636efa\",\"symbol\":\"x\"},\"name\":\"True\",\"showlegend\":true,\"type\":\"splom\"}],                        {\"template\":{\"data\":{\"histogram2dcontour\":[{\"type\":\"histogram2dcontour\",\"colorbar\":{\"outlinewidth\":0,\"ticks\":\"\"},\"colorscale\":[[0.0,\"#0d0887\"],[0.1111111111111111,\"#46039f\"],[0.2222222222222222,\"#7201a8\"],[0.3333333333333333,\"#9c179e\"],[0.4444444444444444,\"#bd3786\"],[0.5555555555555556,\"#d8576b\"],[0.6666666666666666,\"#ed7953\"],[0.7777777777777778,\"#fb9f3a\"],[0.8888888888888888,\"#fdca26\"],[1.0,\"#f0f921\"]]}],\"choropleth\":[{\"type\":\"choropleth\",\"colorbar\":{\"outlinewidth\":0,\"ticks\":\"\"}}],\"histogram2d\":[{\"type\":\"histogram2d\",\"colorbar\":{\"outlinewidth\":0,\"ticks\":\"\"},\"colorscale\":[[0.0,\"#0d0887\"],[0.1111111111111111,\"#46039f\"],[0.2222222222222222,\"#7201a8\"],[0.3333333333333333,\"#9c179e\"],[0.4444444444444444,\"#bd3786\"],[0.5555555555555556,\"#d8576b\"],[0.6666666666666666,\"#ed7953\"],[0.7777777777777778,\"#fb9f3a\"],[0.8888888888888888,\"#fdca26\"],[1.0,\"#f0f921\"]]}],\"heatmap\":[{\"type\":\"heatmap\",\"colorbar\":{\"outlinewidth\":0,\"ticks\":\"\"},\"colorscale\":[[0.0,\"#0d0887\"],[0.1111111111111111,\"#46039f\"],[0.2222222222222222,\"#7201a8\"],[0.3333333333333333,\"#9c179e\"],[0.4444444444444444,\"#bd3786\"],[0.5555555555555556,\"#d8576b\"],[0.6666666666666666,\"#ed7953\"],[0.7777777777777778,\"#fb9f3a\"],[0.8888888888888888,\"#fdca26\"],[1.0,\"#f0f921\"]]}],\"heatmapgl\":[{\"type\":\"heatmapgl\",\"colorbar\":{\"outlinewidth\":0,\"ticks\":\"\"},\"colorscale\":[[0.0,\"#0d0887\"],[0.1111111111111111,\"#46039f\"],[0.2222222222222222,\"#7201a8\"],[0.3333333333333333,\"#9c179e\"],[0.4444444444444444,\"#bd3786\"],[0.5555555555555556,\"#d8576b\"],[0.6666666666666666,\"#ed7953\"],[0.7777777777777778,\"#fb9f3a\"],[0.8888888888888888,\"#fdca26\"],[1.0,\"#f0f921\"]]}],\"contourcarpet\":[{\"type\":\"contourcarpet\",\"colorbar\":{\"outlinewidth\":0,\"ticks\":\"\"}}],\"contour\":[{\"type\":\"contour\",\"colorbar\":{\"outlinewidth\":0,\"ticks\":\"\"},\"colorscale\":[[0.0,\"#0d0887\"],[0.1111111111111111,\"#46039f\"],[0.2222222222222222,\"#7201a8\"],[0.3333333333333333,\"#9c179e\"],[0.4444444444444444,\"#bd3786\"],[0.5555555555555556,\"#d8576b\"],[0.6666666666666666,\"#ed7953\"],[0.7777777777777778,\"#fb9f3a\"],[0.8888888888888888,\"#fdca26\"],[1.0,\"#f0f921\"]]}],\"surface\":[{\"type\":\"surface\",\"colorbar\":{\"outlinewidth\":0,\"ticks\":\"\"},\"colorscale\":[[0.0,\"#0d0887\"],[0.1111111111111111,\"#46039f\"],[0.2222222222222222,\"#7201a8\"],[0.3333333333333333,\"#9c179e\"],[0.4444444444444444,\"#bd3786\"],[0.5555555555555556,\"#d8576b\"],[0.6666666666666666,\"#ed7953\"],[0.7777777777777778,\"#fb9f3a\"],[0.8888888888888888,\"#fdca26\"],[1.0,\"#f0f921\"]]}],\"mesh3d\":[{\"type\":\"mesh3d\",\"colorbar\":{\"outlinewidth\":0,\"ticks\":\"\"}}],\"scatter\":[{\"fillpattern\":{\"fillmode\":\"overlay\",\"size\":10,\"solidity\":0.2},\"type\":\"scatter\"}],\"parcoords\":[{\"type\":\"parcoords\",\"line\":{\"colorbar\":{\"outlinewidth\":0,\"ticks\":\"\"}}}],\"scatterpolargl\":[{\"type\":\"scatterpolargl\",\"marker\":{\"colorbar\":{\"outlinewidth\":0,\"ticks\":\"\"}}}],\"bar\":[{\"error_x\":{\"color\":\"#2a3f5f\"},\"error_y\":{\"color\":\"#2a3f5f\"},\"marker\":{\"line\":{\"color\":\"#E5ECF6\",\"width\":0.5},\"pattern\":{\"fillmode\":\"overlay\",\"size\":10,\"solidity\":0.2}},\"type\":\"bar\"}],\"scattergeo\":[{\"type\":\"scattergeo\",\"marker\":{\"colorbar\":{\"outlinewidth\":0,\"ticks\":\"\"}}}],\"scatterpolar\":[{\"type\":\"scatterpolar\",\"marker\":{\"colorbar\":{\"outlinewidth\":0,\"ticks\":\"\"}}}],\"histogram\":[{\"marker\":{\"pattern\":{\"fillmode\":\"overlay\",\"size\":10,\"solidity\":0.2}},\"type\":\"histogram\"}],\"scattergl\":[{\"type\":\"scattergl\",\"marker\":{\"colorbar\":{\"outlinewidth\":0,\"ticks\":\"\"}}}],\"scatter3d\":[{\"type\":\"scatter3d\",\"line\":{\"colorbar\":{\"outlinewidth\":0,\"ticks\":\"\"}},\"marker\":{\"colorbar\":{\"outlinewidth\":0,\"ticks\":\"\"}}}],\"scattermapbox\":[{\"type\":\"scattermapbox\",\"marker\":{\"colorbar\":{\"outlinewidth\":0,\"ticks\":\"\"}}}],\"scatterternary\":[{\"type\":\"scatterternary\",\"marker\":{\"colorbar\":{\"outlinewidth\":0,\"ticks\":\"\"}}}],\"scattercarpet\":[{\"type\":\"scattercarpet\",\"marker\":{\"colorbar\":{\"outlinewidth\":0,\"ticks\":\"\"}}}],\"carpet\":[{\"aaxis\":{\"endlinecolor\":\"#2a3f5f\",\"gridcolor\":\"white\",\"linecolor\":\"white\",\"minorgridcolor\":\"white\",\"startlinecolor\":\"#2a3f5f\"},\"baxis\":{\"endlinecolor\":\"#2a3f5f\",\"gridcolor\":\"white\",\"linecolor\":\"white\",\"minorgridcolor\":\"white\",\"startlinecolor\":\"#2a3f5f\"},\"type\":\"carpet\"}],\"table\":[{\"cells\":{\"fill\":{\"color\":\"#EBF0F8\"},\"line\":{\"color\":\"white\"}},\"header\":{\"fill\":{\"color\":\"#C8D4E3\"},\"line\":{\"color\":\"white\"}},\"type\":\"table\"}],\"barpolar\":[{\"marker\":{\"line\":{\"color\":\"#E5ECF6\",\"width\":0.5},\"pattern\":{\"fillmode\":\"overlay\",\"size\":10,\"solidity\":0.2}},\"type\":\"barpolar\"}],\"pie\":[{\"automargin\":true,\"type\":\"pie\"}]},\"layout\":{\"autotypenumbers\":\"strict\",\"colorway\":[\"#636efa\",\"#EF553B\",\"#00cc96\",\"#ab63fa\",\"#FFA15A\",\"#19d3f3\",\"#FF6692\",\"#B6E880\",\"#FF97FF\",\"#FECB52\"],\"font\":{\"color\":\"#2a3f5f\"},\"hovermode\":\"closest\",\"hoverlabel\":{\"align\":\"left\"},\"paper_bgcolor\":\"white\",\"plot_bgcolor\":\"#E5ECF6\",\"polar\":{\"bgcolor\":\"#E5ECF6\",\"angularaxis\":{\"gridcolor\":\"white\",\"linecolor\":\"white\",\"ticks\":\"\"},\"radialaxis\":{\"gridcolor\":\"white\",\"linecolor\":\"white\",\"ticks\":\"\"}},\"ternary\":{\"bgcolor\":\"#E5ECF6\",\"aaxis\":{\"gridcolor\":\"white\",\"linecolor\":\"white\",\"ticks\":\"\"},\"baxis\":{\"gridcolor\":\"white\",\"linecolor\":\"white\",\"ticks\":\"\"},\"caxis\":{\"gridcolor\":\"white\",\"linecolor\":\"white\",\"ticks\":\"\"}},\"coloraxis\":{\"colorbar\":{\"outlinewidth\":0,\"ticks\":\"\"}},\"colorscale\":{\"sequential\":[[0.0,\"#0d0887\"],[0.1111111111111111,\"#46039f\"],[0.2222222222222222,\"#7201a8\"],[0.3333333333333333,\"#9c179e\"],[0.4444444444444444,\"#bd3786\"],[0.5555555555555556,\"#d8576b\"],[0.6666666666666666,\"#ed7953\"],[0.7777777777777778,\"#fb9f3a\"],[0.8888888888888888,\"#fdca26\"],[1.0,\"#f0f921\"]],\"sequentialminus\":[[0.0,\"#0d0887\"],[0.1111111111111111,\"#46039f\"],[0.2222222222222222,\"#7201a8\"],[0.3333333333333333,\"#9c179e\"],[0.4444444444444444,\"#bd3786\"],[0.5555555555555556,\"#d8576b\"],[0.6666666666666666,\"#ed7953\"],[0.7777777777777778,\"#fb9f3a\"],[0.8888888888888888,\"#fdca26\"],[1.0,\"#f0f921\"]],\"diverging\":[[0,\"#8e0152\"],[0.1,\"#c51b7d\"],[0.2,\"#de77ae\"],[0.3,\"#f1b6da\"],[0.4,\"#fde0ef\"],[0.5,\"#f7f7f7\"],[0.6,\"#e6f5d0\"],[0.7,\"#b8e186\"],[0.8,\"#7fbc41\"],[0.9,\"#4d9221\"],[1,\"#276419\"]]},\"xaxis\":{\"gridcolor\":\"white\",\"linecolor\":\"white\",\"ticks\":\"\",\"title\":{\"standoff\":15},\"zerolinecolor\":\"white\",\"automargin\":true,\"zerolinewidth\":2},\"yaxis\":{\"gridcolor\":\"white\",\"linecolor\":\"white\",\"ticks\":\"\",\"title\":{\"standoff\":15},\"zerolinecolor\":\"white\",\"automargin\":true,\"zerolinewidth\":2},\"scene\":{\"xaxis\":{\"backgroundcolor\":\"#E5ECF6\",\"gridcolor\":\"white\",\"linecolor\":\"white\",\"showbackground\":true,\"ticks\":\"\",\"zerolinecolor\":\"white\",\"gridwidth\":2},\"yaxis\":{\"backgroundcolor\":\"#E5ECF6\",\"gridcolor\":\"white\",\"linecolor\":\"white\",\"showbackground\":true,\"ticks\":\"\",\"zerolinecolor\":\"white\",\"gridwidth\":2},\"zaxis\":{\"backgroundcolor\":\"#E5ECF6\",\"gridcolor\":\"white\",\"linecolor\":\"white\",\"showbackground\":true,\"ticks\":\"\",\"zerolinecolor\":\"white\",\"gridwidth\":2}},\"shapedefaults\":{\"line\":{\"color\":\"#2a3f5f\"}},\"annotationdefaults\":{\"arrowcolor\":\"#2a3f5f\",\"arrowhead\":0,\"arrowwidth\":1},\"geo\":{\"bgcolor\":\"white\",\"landcolor\":\"#E5ECF6\",\"subunitcolor\":\"white\",\"showland\":true,\"showlakes\":true,\"lakecolor\":\"white\"},\"title\":{\"x\":0.05},\"mapbox\":{\"style\":\"light\"}}},\"legend\":{\"title\":{\"text\":\"stopped_early\"},\"tracegroupgap\":0},\"title\":{\"text\":\"Hyperparameter search results\"},\"dragmode\":\"select\",\"height\":1000},                        {\"responsive\": true}                    ).then(function(){\n",
       "                            \n",
       "var gd = document.getElementById('ed7dc599-d321-494d-9b89-af8eedcc88dd');\n",
       "var x = new MutationObserver(function (mutations, observer) {{\n",
       "        var display = window.getComputedStyle(gd).display;\n",
       "        if (!display || display === 'none') {{\n",
       "            console.log([gd, 'removed!']);\n",
       "            Plotly.purge(gd);\n",
       "            observer.disconnect();\n",
       "        }}\n",
       "}});\n",
       "\n",
       "// Listen for the removal of the full notebook cells\n",
       "var notebookContainer = gd.closest('#notebook-container');\n",
       "if (notebookContainer) {{\n",
       "    x.observe(notebookContainer, {childList: true});\n",
       "}}\n",
       "\n",
       "// Listen for the clearing of the current output cell\n",
       "var outputEl = gd.closest('.output');\n",
       "if (outputEl) {{\n",
       "    x.observe(outputEl, {childList: true});\n",
       "}}\n",
       "\n",
       "                        })                };                });            </script>        </div>"
      ]
     },
     "metadata": {},
     "output_type": "display_data"
    }
   ],
   "source": [
    "# Create plotly scatterplot matrix\n",
    "fig = px.scatter_matrix(\n",
    "    df,\n",
    "    dimensions=['val_loss', 'learning_rate', 'kernel_size', 'num_hidden_layers', 'input_layer_out_channels', 'filter_extent'],\n",
    "    # color='val_loss',\n",
    "    # color_continuous_scale='viridis',\n",
    "    title='Hyperparameter search results',\n",
    "    labels={\n",
    "        'epoch': 'Epochs',\n",
    "        'samples': 'Samples',\n",
    "        'val_loss': 'Validation loss',\n",
    "        'learning_rate': 'Learning rate',\n",
    "        'kernel_size': 'Kernel size',\n",
    "        'num_hidden_layers': 'Hidden layers',\n",
    "        'input_layer_out_channels': 'Input layer out channels',\n",
    "        'filter_extent': 'Filter extent',\n",
    "    },\n",
    "    height=1000,\n",
    "    symbol='stopped_early',\n",
    "    symbol_map={\n",
    "        True: 'x',\n",
    "        False: 'circle',\n",
    "    },\n",
    ")\n",
    "\n",
    "fig.show()"
   ]
  },
  {
   "attachments": {},
   "cell_type": "markdown",
   "metadata": {},
   "source": [
    "TODO: Include Training Time, Number of Parameters\n",
    "Also train until convergence (= no val loss improvement)"
   ]
  },
  {
   "cell_type": "code",
   "execution_count": 69,
   "metadata": {},
   "outputs": [
    {
     "data": {
      "application/vnd.plotly.v1+json": {
       "config": {
        "plotlyServerURL": "https://plot.ly"
       },
       "data": [
        {
         "dimensions": [
          {
           "axis": {
            "matches": true
           },
           "label": "Validation loss",
           "values": [
            0.1519712805747985,
            0.2104188352823257,
            0.2307580709457397,
            0.2525908648967743,
            0.2678727805614471,
            0.2904145419597626,
            0.384754329919815,
            0.6612871885299683
           ]
          },
          {
           "axis": {
            "matches": true
           },
           "label": "Window function",
           "values": [
            "None",
            "poly6",
            "gaussian",
            "gaussian",
            "poly6",
            "gaussian",
            "None",
            "None"
           ]
          },
          {
           "axis": {
            "matches": true
           },
           "label": "Activation function",
           "values": [
            "GeLU",
            "GeLU",
            "leaky_relu",
            "tanh",
            "GeLU",
            "tanh",
            "relu",
            "relu"
           ]
          },
          {
           "axis": {
            "matches": true
           },
           "label": "Ignore query points",
           "values": [
            true,
            true,
            false,
            false,
            true,
            true,
            false,
            false
           ]
          },
          {
           "axis": {
            "matches": true
           },
           "label": "Dense layer",
           "values": [
            "None",
            true,
            true,
            true,
            "None",
            true,
            "None",
            false
           ]
          },
          {
           "axis": {
            "matches": true
           },
           "label": "Stopped early",
           "values": [
            false,
            false,
            false,
            false,
            false,
            false,
            false,
            false
           ]
          },
          {
           "axis": {
            "matches": true
           },
           "label": "Filter extent",
           "values": [
            0.125744190771616,
            0.1533070917030944,
            0.1490508680182408,
            0.1517497038179102,
            0.1237910339959341,
            0.1186753371823536,
            0.2625833808322801,
            0.1812155840097024
           ]
          }
         ],
         "hovertemplate": "Stopped early=False<br>%{xaxis.title.text}=%{x}<br>%{yaxis.title.text}=%{y}<br>Validation loss=%{marker.color}<extra></extra>",
         "legendgroup": "False",
         "marker": {
          "color": [
           0.1519712805747985,
           0.2104188352823257,
           0.2307580709457397,
           0.2525908648967743,
           0.2678727805614471,
           0.2904145419597626,
           0.384754329919815,
           0.6612871885299683
          ],
          "coloraxis": "coloraxis",
          "symbol": "circle"
         },
         "name": "False",
         "showlegend": true,
         "type": "splom"
        },
        {
         "dimensions": [
          {
           "axis": {
            "matches": true
           },
           "label": "Validation loss",
           "values": [
            0.4516955316066742,
            0.5957207083702087,
            0.6737052798271179,
            0.6764938235282898,
            0.7108669877052307,
            0.7253999710083008,
            0.8056357502937317,
            0.8386881947517395,
            0.8619832396507263,
            0.8703534007072449,
            0.9019795656204224,
            0.9085923433303832,
            0.9124155044555664,
            0.920562982559204,
            0.9354971647262572,
            0.9366219639778136,
            0.938056707382202,
            0.941224217414856,
            0.9414558410644532,
            0.951740562915802,
            0.9778998494148254,
            0.9803254008293152,
            0.9882200956344604
           ]
          },
          {
           "axis": {
            "matches": true
           },
           "label": "Window function",
           "values": [
            "None",
            "poly6",
            "poly6",
            "poly6",
            "None",
            "gaussian",
            "None",
            "poly6",
            "None",
            "None",
            "gaussian",
            "poly6",
            "poly6",
            "poly6",
            "None",
            "gaussian",
            "poly6",
            "None",
            "poly6",
            "poly6",
            "poly6",
            "gaussian",
            "gaussian"
           ]
          },
          {
           "axis": {
            "matches": true
           },
           "label": "Activation function",
           "values": [
            "GeLU",
            "GeLU",
            "relu",
            "tanh",
            "relu",
            "leaky_relu",
            "leaky_relu",
            "relu",
            "GeLU",
            "tanh",
            "GeLU",
            "relu",
            "GeLU",
            "relu",
            "GeLU",
            "leaky_relu",
            "relu",
            "GeLU",
            "GeLU",
            "leaky_relu",
            "tanh",
            "relu",
            "leaky_relu"
           ]
          },
          {
           "axis": {
            "matches": true
           },
           "label": "Ignore query points",
           "values": [
            false,
            false,
            false,
            false,
            true,
            false,
            true,
            true,
            false,
            true,
            false,
            false,
            false,
            false,
            false,
            false,
            true,
            false,
            true,
            true,
            false,
            true,
            false
           ]
          },
          {
           "axis": {
            "matches": true
           },
           "label": "Dense layer",
           "values": [
            "None",
            false,
            true,
            false,
            "None",
            true,
            false,
            true,
            "None",
            false,
            true,
            "None",
            true,
            false,
            false,
            true,
            "None",
            "None",
            "None",
            true,
            true,
            true,
            true
           ]
          },
          {
           "axis": {
            "matches": true
           },
           "label": "Stopped early",
           "values": [
            true,
            true,
            true,
            true,
            true,
            true,
            true,
            true,
            true,
            true,
            true,
            true,
            true,
            true,
            true,
            true,
            true,
            true,
            true,
            true,
            true,
            true,
            true
           ]
          },
          {
           "axis": {
            "matches": true
           },
           "label": "Filter extent",
           "values": [
            0.1666839782696133,
            0.2491763628384303,
            0.1388220683390072,
            0.108498918106567,
            0.1517141681954666,
            0.0766355680898088,
            0.1132227047540914,
            0.0871766001933915,
            0.3254764081906778,
            0.2304765572896104,
            0.0938033062798732,
            0.2627651302376597,
            0.0889271625745868,
            0.1064211081891452,
            0.1405888360457206,
            0.2387800975464701,
            0.1873885371877903,
            0.1372375029938616,
            0.1114012383901866,
            0.0858908022428246,
            0.0878309429079135,
            0.1018089465207497,
            0.1988903099887931
           ]
          }
         ],
         "hovertemplate": "Stopped early=True<br>%{xaxis.title.text}=%{x}<br>%{yaxis.title.text}=%{y}<br>Validation loss=%{marker.color}<extra></extra>",
         "legendgroup": "True",
         "marker": {
          "color": [
           0.4516955316066742,
           0.5957207083702087,
           0.6737052798271179,
           0.6764938235282898,
           0.7108669877052307,
           0.7253999710083008,
           0.8056357502937317,
           0.8386881947517395,
           0.8619832396507263,
           0.8703534007072449,
           0.9019795656204224,
           0.9085923433303832,
           0.9124155044555664,
           0.920562982559204,
           0.9354971647262572,
           0.9366219639778136,
           0.938056707382202,
           0.941224217414856,
           0.9414558410644532,
           0.951740562915802,
           0.9778998494148254,
           0.9803254008293152,
           0.9882200956344604
          ],
          "coloraxis": "coloraxis",
          "symbol": "x"
         },
         "name": "True",
         "showlegend": true,
         "type": "splom"
        }
       ],
       "layout": {
        "coloraxis": {
         "colorbar": {
          "title": {
           "text": "Validation loss"
          }
         },
         "colorscale": [
          [
           0,
           "#440154"
          ],
          [
           0.1111111111111111,
           "#482878"
          ],
          [
           0.2222222222222222,
           "#3e4989"
          ],
          [
           0.3333333333333333,
           "#31688e"
          ],
          [
           0.4444444444444444,
           "#26828e"
          ],
          [
           0.5555555555555556,
           "#1f9e89"
          ],
          [
           0.6666666666666666,
           "#35b779"
          ],
          [
           0.7777777777777778,
           "#6ece58"
          ],
          [
           0.8888888888888888,
           "#b5de2b"
          ],
          [
           1,
           "#fde725"
          ]
         ]
        },
        "dragmode": "select",
        "height": 1250,
        "legend": {
         "title": {
          "text": "Stopped early"
         },
         "tracegroupgap": 0
        },
        "template": {
         "data": {
          "bar": [
           {
            "error_x": {
             "color": "#2a3f5f"
            },
            "error_y": {
             "color": "#2a3f5f"
            },
            "marker": {
             "line": {
              "color": "#E5ECF6",
              "width": 0.5
             },
             "pattern": {
              "fillmode": "overlay",
              "size": 10,
              "solidity": 0.2
             }
            },
            "type": "bar"
           }
          ],
          "barpolar": [
           {
            "marker": {
             "line": {
              "color": "#E5ECF6",
              "width": 0.5
             },
             "pattern": {
              "fillmode": "overlay",
              "size": 10,
              "solidity": 0.2
             }
            },
            "type": "barpolar"
           }
          ],
          "carpet": [
           {
            "aaxis": {
             "endlinecolor": "#2a3f5f",
             "gridcolor": "white",
             "linecolor": "white",
             "minorgridcolor": "white",
             "startlinecolor": "#2a3f5f"
            },
            "baxis": {
             "endlinecolor": "#2a3f5f",
             "gridcolor": "white",
             "linecolor": "white",
             "minorgridcolor": "white",
             "startlinecolor": "#2a3f5f"
            },
            "type": "carpet"
           }
          ],
          "choropleth": [
           {
            "colorbar": {
             "outlinewidth": 0,
             "ticks": ""
            },
            "type": "choropleth"
           }
          ],
          "contour": [
           {
            "colorbar": {
             "outlinewidth": 0,
             "ticks": ""
            },
            "colorscale": [
             [
              0,
              "#0d0887"
             ],
             [
              0.1111111111111111,
              "#46039f"
             ],
             [
              0.2222222222222222,
              "#7201a8"
             ],
             [
              0.3333333333333333,
              "#9c179e"
             ],
             [
              0.4444444444444444,
              "#bd3786"
             ],
             [
              0.5555555555555556,
              "#d8576b"
             ],
             [
              0.6666666666666666,
              "#ed7953"
             ],
             [
              0.7777777777777778,
              "#fb9f3a"
             ],
             [
              0.8888888888888888,
              "#fdca26"
             ],
             [
              1,
              "#f0f921"
             ]
            ],
            "type": "contour"
           }
          ],
          "contourcarpet": [
           {
            "colorbar": {
             "outlinewidth": 0,
             "ticks": ""
            },
            "type": "contourcarpet"
           }
          ],
          "heatmap": [
           {
            "colorbar": {
             "outlinewidth": 0,
             "ticks": ""
            },
            "colorscale": [
             [
              0,
              "#0d0887"
             ],
             [
              0.1111111111111111,
              "#46039f"
             ],
             [
              0.2222222222222222,
              "#7201a8"
             ],
             [
              0.3333333333333333,
              "#9c179e"
             ],
             [
              0.4444444444444444,
              "#bd3786"
             ],
             [
              0.5555555555555556,
              "#d8576b"
             ],
             [
              0.6666666666666666,
              "#ed7953"
             ],
             [
              0.7777777777777778,
              "#fb9f3a"
             ],
             [
              0.8888888888888888,
              "#fdca26"
             ],
             [
              1,
              "#f0f921"
             ]
            ],
            "type": "heatmap"
           }
          ],
          "heatmapgl": [
           {
            "colorbar": {
             "outlinewidth": 0,
             "ticks": ""
            },
            "colorscale": [
             [
              0,
              "#0d0887"
             ],
             [
              0.1111111111111111,
              "#46039f"
             ],
             [
              0.2222222222222222,
              "#7201a8"
             ],
             [
              0.3333333333333333,
              "#9c179e"
             ],
             [
              0.4444444444444444,
              "#bd3786"
             ],
             [
              0.5555555555555556,
              "#d8576b"
             ],
             [
              0.6666666666666666,
              "#ed7953"
             ],
             [
              0.7777777777777778,
              "#fb9f3a"
             ],
             [
              0.8888888888888888,
              "#fdca26"
             ],
             [
              1,
              "#f0f921"
             ]
            ],
            "type": "heatmapgl"
           }
          ],
          "histogram": [
           {
            "marker": {
             "pattern": {
              "fillmode": "overlay",
              "size": 10,
              "solidity": 0.2
             }
            },
            "type": "histogram"
           }
          ],
          "histogram2d": [
           {
            "colorbar": {
             "outlinewidth": 0,
             "ticks": ""
            },
            "colorscale": [
             [
              0,
              "#0d0887"
             ],
             [
              0.1111111111111111,
              "#46039f"
             ],
             [
              0.2222222222222222,
              "#7201a8"
             ],
             [
              0.3333333333333333,
              "#9c179e"
             ],
             [
              0.4444444444444444,
              "#bd3786"
             ],
             [
              0.5555555555555556,
              "#d8576b"
             ],
             [
              0.6666666666666666,
              "#ed7953"
             ],
             [
              0.7777777777777778,
              "#fb9f3a"
             ],
             [
              0.8888888888888888,
              "#fdca26"
             ],
             [
              1,
              "#f0f921"
             ]
            ],
            "type": "histogram2d"
           }
          ],
          "histogram2dcontour": [
           {
            "colorbar": {
             "outlinewidth": 0,
             "ticks": ""
            },
            "colorscale": [
             [
              0,
              "#0d0887"
             ],
             [
              0.1111111111111111,
              "#46039f"
             ],
             [
              0.2222222222222222,
              "#7201a8"
             ],
             [
              0.3333333333333333,
              "#9c179e"
             ],
             [
              0.4444444444444444,
              "#bd3786"
             ],
             [
              0.5555555555555556,
              "#d8576b"
             ],
             [
              0.6666666666666666,
              "#ed7953"
             ],
             [
              0.7777777777777778,
              "#fb9f3a"
             ],
             [
              0.8888888888888888,
              "#fdca26"
             ],
             [
              1,
              "#f0f921"
             ]
            ],
            "type": "histogram2dcontour"
           }
          ],
          "mesh3d": [
           {
            "colorbar": {
             "outlinewidth": 0,
             "ticks": ""
            },
            "type": "mesh3d"
           }
          ],
          "parcoords": [
           {
            "line": {
             "colorbar": {
              "outlinewidth": 0,
              "ticks": ""
             }
            },
            "type": "parcoords"
           }
          ],
          "pie": [
           {
            "automargin": true,
            "type": "pie"
           }
          ],
          "scatter": [
           {
            "fillpattern": {
             "fillmode": "overlay",
             "size": 10,
             "solidity": 0.2
            },
            "type": "scatter"
           }
          ],
          "scatter3d": [
           {
            "line": {
             "colorbar": {
              "outlinewidth": 0,
              "ticks": ""
             }
            },
            "marker": {
             "colorbar": {
              "outlinewidth": 0,
              "ticks": ""
             }
            },
            "type": "scatter3d"
           }
          ],
          "scattercarpet": [
           {
            "marker": {
             "colorbar": {
              "outlinewidth": 0,
              "ticks": ""
             }
            },
            "type": "scattercarpet"
           }
          ],
          "scattergeo": [
           {
            "marker": {
             "colorbar": {
              "outlinewidth": 0,
              "ticks": ""
             }
            },
            "type": "scattergeo"
           }
          ],
          "scattergl": [
           {
            "marker": {
             "colorbar": {
              "outlinewidth": 0,
              "ticks": ""
             }
            },
            "type": "scattergl"
           }
          ],
          "scattermapbox": [
           {
            "marker": {
             "colorbar": {
              "outlinewidth": 0,
              "ticks": ""
             }
            },
            "type": "scattermapbox"
           }
          ],
          "scatterpolar": [
           {
            "marker": {
             "colorbar": {
              "outlinewidth": 0,
              "ticks": ""
             }
            },
            "type": "scatterpolar"
           }
          ],
          "scatterpolargl": [
           {
            "marker": {
             "colorbar": {
              "outlinewidth": 0,
              "ticks": ""
             }
            },
            "type": "scatterpolargl"
           }
          ],
          "scatterternary": [
           {
            "marker": {
             "colorbar": {
              "outlinewidth": 0,
              "ticks": ""
             }
            },
            "type": "scatterternary"
           }
          ],
          "surface": [
           {
            "colorbar": {
             "outlinewidth": 0,
             "ticks": ""
            },
            "colorscale": [
             [
              0,
              "#0d0887"
             ],
             [
              0.1111111111111111,
              "#46039f"
             ],
             [
              0.2222222222222222,
              "#7201a8"
             ],
             [
              0.3333333333333333,
              "#9c179e"
             ],
             [
              0.4444444444444444,
              "#bd3786"
             ],
             [
              0.5555555555555556,
              "#d8576b"
             ],
             [
              0.6666666666666666,
              "#ed7953"
             ],
             [
              0.7777777777777778,
              "#fb9f3a"
             ],
             [
              0.8888888888888888,
              "#fdca26"
             ],
             [
              1,
              "#f0f921"
             ]
            ],
            "type": "surface"
           }
          ],
          "table": [
           {
            "cells": {
             "fill": {
              "color": "#EBF0F8"
             },
             "line": {
              "color": "white"
             }
            },
            "header": {
             "fill": {
              "color": "#C8D4E3"
             },
             "line": {
              "color": "white"
             }
            },
            "type": "table"
           }
          ]
         },
         "layout": {
          "annotationdefaults": {
           "arrowcolor": "#2a3f5f",
           "arrowhead": 0,
           "arrowwidth": 1
          },
          "autotypenumbers": "strict",
          "coloraxis": {
           "colorbar": {
            "outlinewidth": 0,
            "ticks": ""
           }
          },
          "colorscale": {
           "diverging": [
            [
             0,
             "#8e0152"
            ],
            [
             0.1,
             "#c51b7d"
            ],
            [
             0.2,
             "#de77ae"
            ],
            [
             0.3,
             "#f1b6da"
            ],
            [
             0.4,
             "#fde0ef"
            ],
            [
             0.5,
             "#f7f7f7"
            ],
            [
             0.6,
             "#e6f5d0"
            ],
            [
             0.7,
             "#b8e186"
            ],
            [
             0.8,
             "#7fbc41"
            ],
            [
             0.9,
             "#4d9221"
            ],
            [
             1,
             "#276419"
            ]
           ],
           "sequential": [
            [
             0,
             "#0d0887"
            ],
            [
             0.1111111111111111,
             "#46039f"
            ],
            [
             0.2222222222222222,
             "#7201a8"
            ],
            [
             0.3333333333333333,
             "#9c179e"
            ],
            [
             0.4444444444444444,
             "#bd3786"
            ],
            [
             0.5555555555555556,
             "#d8576b"
            ],
            [
             0.6666666666666666,
             "#ed7953"
            ],
            [
             0.7777777777777778,
             "#fb9f3a"
            ],
            [
             0.8888888888888888,
             "#fdca26"
            ],
            [
             1,
             "#f0f921"
            ]
           ],
           "sequentialminus": [
            [
             0,
             "#0d0887"
            ],
            [
             0.1111111111111111,
             "#46039f"
            ],
            [
             0.2222222222222222,
             "#7201a8"
            ],
            [
             0.3333333333333333,
             "#9c179e"
            ],
            [
             0.4444444444444444,
             "#bd3786"
            ],
            [
             0.5555555555555556,
             "#d8576b"
            ],
            [
             0.6666666666666666,
             "#ed7953"
            ],
            [
             0.7777777777777778,
             "#fb9f3a"
            ],
            [
             0.8888888888888888,
             "#fdca26"
            ],
            [
             1,
             "#f0f921"
            ]
           ]
          },
          "colorway": [
           "#636efa",
           "#EF553B",
           "#00cc96",
           "#ab63fa",
           "#FFA15A",
           "#19d3f3",
           "#FF6692",
           "#B6E880",
           "#FF97FF",
           "#FECB52"
          ],
          "font": {
           "color": "#2a3f5f"
          },
          "geo": {
           "bgcolor": "white",
           "lakecolor": "white",
           "landcolor": "#E5ECF6",
           "showlakes": true,
           "showland": true,
           "subunitcolor": "white"
          },
          "hoverlabel": {
           "align": "left"
          },
          "hovermode": "closest",
          "mapbox": {
           "style": "light"
          },
          "paper_bgcolor": "white",
          "plot_bgcolor": "#E5ECF6",
          "polar": {
           "angularaxis": {
            "gridcolor": "white",
            "linecolor": "white",
            "ticks": ""
           },
           "bgcolor": "#E5ECF6",
           "radialaxis": {
            "gridcolor": "white",
            "linecolor": "white",
            "ticks": ""
           }
          },
          "scene": {
           "xaxis": {
            "backgroundcolor": "#E5ECF6",
            "gridcolor": "white",
            "gridwidth": 2,
            "linecolor": "white",
            "showbackground": true,
            "ticks": "",
            "zerolinecolor": "white"
           },
           "yaxis": {
            "backgroundcolor": "#E5ECF6",
            "gridcolor": "white",
            "gridwidth": 2,
            "linecolor": "white",
            "showbackground": true,
            "ticks": "",
            "zerolinecolor": "white"
           },
           "zaxis": {
            "backgroundcolor": "#E5ECF6",
            "gridcolor": "white",
            "gridwidth": 2,
            "linecolor": "white",
            "showbackground": true,
            "ticks": "",
            "zerolinecolor": "white"
           }
          },
          "shapedefaults": {
           "line": {
            "color": "#2a3f5f"
           }
          },
          "ternary": {
           "aaxis": {
            "gridcolor": "white",
            "linecolor": "white",
            "ticks": ""
           },
           "baxis": {
            "gridcolor": "white",
            "linecolor": "white",
            "ticks": ""
           },
           "bgcolor": "#E5ECF6",
           "caxis": {
            "gridcolor": "white",
            "linecolor": "white",
            "ticks": ""
           }
          },
          "title": {
           "x": 0.05
          },
          "xaxis": {
           "automargin": true,
           "gridcolor": "white",
           "linecolor": "white",
           "ticks": "",
           "title": {
            "standoff": 15
           },
           "zerolinecolor": "white",
           "zerolinewidth": 2
          },
          "yaxis": {
           "automargin": true,
           "gridcolor": "white",
           "linecolor": "white",
           "ticks": "",
           "title": {
            "standoff": 15
           },
           "zerolinecolor": "white",
           "zerolinewidth": 2
          }
         }
        },
        "title": {
         "text": "Hyperparameter search results"
        }
       }
      },
      "text/html": [
       "<div>                            <div id=\"bf6cbe39-4f42-407c-a09f-8c246a0728f0\" class=\"plotly-graph-div\" style=\"height:1250px; width:100%;\"></div>            <script type=\"text/javascript\">                require([\"plotly\"], function(Plotly) {                    window.PLOTLYENV=window.PLOTLYENV || {};                                    if (document.getElementById(\"bf6cbe39-4f42-407c-a09f-8c246a0728f0\")) {                    Plotly.newPlot(                        \"bf6cbe39-4f42-407c-a09f-8c246a0728f0\",                        [{\"dimensions\":[{\"axis\":{\"matches\":true},\"label\":\"Validation loss\",\"values\":[0.1519712805747985,0.2104188352823257,0.2307580709457397,0.2525908648967743,0.2678727805614471,0.2904145419597626,0.384754329919815,0.6612871885299683]},{\"axis\":{\"matches\":true},\"label\":\"Window function\",\"values\":[\"None\",\"poly6\",\"gaussian\",\"gaussian\",\"poly6\",\"gaussian\",\"None\",\"None\"]},{\"axis\":{\"matches\":true},\"label\":\"Activation function\",\"values\":[\"GeLU\",\"GeLU\",\"leaky_relu\",\"tanh\",\"GeLU\",\"tanh\",\"relu\",\"relu\"]},{\"axis\":{\"matches\":true},\"label\":\"Ignore query points\",\"values\":[true,true,false,false,true,true,false,false]},{\"axis\":{\"matches\":true},\"label\":\"Dense layer\",\"values\":[\"None\",true,true,true,\"None\",true,\"None\",false]},{\"axis\":{\"matches\":true},\"label\":\"Stopped early\",\"values\":[false,false,false,false,false,false,false,false]},{\"axis\":{\"matches\":true},\"label\":\"Filter extent\",\"values\":[0.125744190771616,0.1533070917030944,0.1490508680182408,0.1517497038179102,0.1237910339959341,0.1186753371823536,0.2625833808322801,0.1812155840097024]}],\"hovertemplate\":\"Stopped early=False\\u003cbr\\u003e%{xaxis.title.text}=%{x}\\u003cbr\\u003e%{yaxis.title.text}=%{y}\\u003cbr\\u003eValidation loss=%{marker.color}\\u003cextra\\u003e\\u003c\\u002fextra\\u003e\",\"legendgroup\":\"False\",\"marker\":{\"color\":[0.1519712805747985,0.2104188352823257,0.2307580709457397,0.2525908648967743,0.2678727805614471,0.2904145419597626,0.384754329919815,0.6612871885299683],\"coloraxis\":\"coloraxis\",\"symbol\":\"circle\"},\"name\":\"False\",\"showlegend\":true,\"type\":\"splom\"},{\"dimensions\":[{\"axis\":{\"matches\":true},\"label\":\"Validation loss\",\"values\":[0.4516955316066742,0.5957207083702087,0.6737052798271179,0.6764938235282898,0.7108669877052307,0.7253999710083008,0.8056357502937317,0.8386881947517395,0.8619832396507263,0.8703534007072449,0.9019795656204224,0.9085923433303832,0.9124155044555664,0.920562982559204,0.9354971647262572,0.9366219639778136,0.938056707382202,0.941224217414856,0.9414558410644532,0.951740562915802,0.9778998494148254,0.9803254008293152,0.9882200956344604]},{\"axis\":{\"matches\":true},\"label\":\"Window function\",\"values\":[\"None\",\"poly6\",\"poly6\",\"poly6\",\"None\",\"gaussian\",\"None\",\"poly6\",\"None\",\"None\",\"gaussian\",\"poly6\",\"poly6\",\"poly6\",\"None\",\"gaussian\",\"poly6\",\"None\",\"poly6\",\"poly6\",\"poly6\",\"gaussian\",\"gaussian\"]},{\"axis\":{\"matches\":true},\"label\":\"Activation function\",\"values\":[\"GeLU\",\"GeLU\",\"relu\",\"tanh\",\"relu\",\"leaky_relu\",\"leaky_relu\",\"relu\",\"GeLU\",\"tanh\",\"GeLU\",\"relu\",\"GeLU\",\"relu\",\"GeLU\",\"leaky_relu\",\"relu\",\"GeLU\",\"GeLU\",\"leaky_relu\",\"tanh\",\"relu\",\"leaky_relu\"]},{\"axis\":{\"matches\":true},\"label\":\"Ignore query points\",\"values\":[false,false,false,false,true,false,true,true,false,true,false,false,false,false,false,false,true,false,true,true,false,true,false]},{\"axis\":{\"matches\":true},\"label\":\"Dense layer\",\"values\":[\"None\",false,true,false,\"None\",true,false,true,\"None\",false,true,\"None\",true,false,false,true,\"None\",\"None\",\"None\",true,true,true,true]},{\"axis\":{\"matches\":true},\"label\":\"Stopped early\",\"values\":[true,true,true,true,true,true,true,true,true,true,true,true,true,true,true,true,true,true,true,true,true,true,true]},{\"axis\":{\"matches\":true},\"label\":\"Filter extent\",\"values\":[0.1666839782696133,0.2491763628384303,0.1388220683390072,0.108498918106567,0.1517141681954666,0.0766355680898088,0.1132227047540914,0.0871766001933915,0.3254764081906778,0.2304765572896104,0.0938033062798732,0.2627651302376597,0.0889271625745868,0.1064211081891452,0.1405888360457206,0.2387800975464701,0.1873885371877903,0.1372375029938616,0.1114012383901866,0.0858908022428246,0.0878309429079135,0.1018089465207497,0.1988903099887931]}],\"hovertemplate\":\"Stopped early=True\\u003cbr\\u003e%{xaxis.title.text}=%{x}\\u003cbr\\u003e%{yaxis.title.text}=%{y}\\u003cbr\\u003eValidation loss=%{marker.color}\\u003cextra\\u003e\\u003c\\u002fextra\\u003e\",\"legendgroup\":\"True\",\"marker\":{\"color\":[0.4516955316066742,0.5957207083702087,0.6737052798271179,0.6764938235282898,0.7108669877052307,0.7253999710083008,0.8056357502937317,0.8386881947517395,0.8619832396507263,0.8703534007072449,0.9019795656204224,0.9085923433303832,0.9124155044555664,0.920562982559204,0.9354971647262572,0.9366219639778136,0.938056707382202,0.941224217414856,0.9414558410644532,0.951740562915802,0.9778998494148254,0.9803254008293152,0.9882200956344604],\"coloraxis\":\"coloraxis\",\"symbol\":\"x\"},\"name\":\"True\",\"showlegend\":true,\"type\":\"splom\"}],                        {\"template\":{\"data\":{\"histogram2dcontour\":[{\"type\":\"histogram2dcontour\",\"colorbar\":{\"outlinewidth\":0,\"ticks\":\"\"},\"colorscale\":[[0.0,\"#0d0887\"],[0.1111111111111111,\"#46039f\"],[0.2222222222222222,\"#7201a8\"],[0.3333333333333333,\"#9c179e\"],[0.4444444444444444,\"#bd3786\"],[0.5555555555555556,\"#d8576b\"],[0.6666666666666666,\"#ed7953\"],[0.7777777777777778,\"#fb9f3a\"],[0.8888888888888888,\"#fdca26\"],[1.0,\"#f0f921\"]]}],\"choropleth\":[{\"type\":\"choropleth\",\"colorbar\":{\"outlinewidth\":0,\"ticks\":\"\"}}],\"histogram2d\":[{\"type\":\"histogram2d\",\"colorbar\":{\"outlinewidth\":0,\"ticks\":\"\"},\"colorscale\":[[0.0,\"#0d0887\"],[0.1111111111111111,\"#46039f\"],[0.2222222222222222,\"#7201a8\"],[0.3333333333333333,\"#9c179e\"],[0.4444444444444444,\"#bd3786\"],[0.5555555555555556,\"#d8576b\"],[0.6666666666666666,\"#ed7953\"],[0.7777777777777778,\"#fb9f3a\"],[0.8888888888888888,\"#fdca26\"],[1.0,\"#f0f921\"]]}],\"heatmap\":[{\"type\":\"heatmap\",\"colorbar\":{\"outlinewidth\":0,\"ticks\":\"\"},\"colorscale\":[[0.0,\"#0d0887\"],[0.1111111111111111,\"#46039f\"],[0.2222222222222222,\"#7201a8\"],[0.3333333333333333,\"#9c179e\"],[0.4444444444444444,\"#bd3786\"],[0.5555555555555556,\"#d8576b\"],[0.6666666666666666,\"#ed7953\"],[0.7777777777777778,\"#fb9f3a\"],[0.8888888888888888,\"#fdca26\"],[1.0,\"#f0f921\"]]}],\"heatmapgl\":[{\"type\":\"heatmapgl\",\"colorbar\":{\"outlinewidth\":0,\"ticks\":\"\"},\"colorscale\":[[0.0,\"#0d0887\"],[0.1111111111111111,\"#46039f\"],[0.2222222222222222,\"#7201a8\"],[0.3333333333333333,\"#9c179e\"],[0.4444444444444444,\"#bd3786\"],[0.5555555555555556,\"#d8576b\"],[0.6666666666666666,\"#ed7953\"],[0.7777777777777778,\"#fb9f3a\"],[0.8888888888888888,\"#fdca26\"],[1.0,\"#f0f921\"]]}],\"contourcarpet\":[{\"type\":\"contourcarpet\",\"colorbar\":{\"outlinewidth\":0,\"ticks\":\"\"}}],\"contour\":[{\"type\":\"contour\",\"colorbar\":{\"outlinewidth\":0,\"ticks\":\"\"},\"colorscale\":[[0.0,\"#0d0887\"],[0.1111111111111111,\"#46039f\"],[0.2222222222222222,\"#7201a8\"],[0.3333333333333333,\"#9c179e\"],[0.4444444444444444,\"#bd3786\"],[0.5555555555555556,\"#d8576b\"],[0.6666666666666666,\"#ed7953\"],[0.7777777777777778,\"#fb9f3a\"],[0.8888888888888888,\"#fdca26\"],[1.0,\"#f0f921\"]]}],\"surface\":[{\"type\":\"surface\",\"colorbar\":{\"outlinewidth\":0,\"ticks\":\"\"},\"colorscale\":[[0.0,\"#0d0887\"],[0.1111111111111111,\"#46039f\"],[0.2222222222222222,\"#7201a8\"],[0.3333333333333333,\"#9c179e\"],[0.4444444444444444,\"#bd3786\"],[0.5555555555555556,\"#d8576b\"],[0.6666666666666666,\"#ed7953\"],[0.7777777777777778,\"#fb9f3a\"],[0.8888888888888888,\"#fdca26\"],[1.0,\"#f0f921\"]]}],\"mesh3d\":[{\"type\":\"mesh3d\",\"colorbar\":{\"outlinewidth\":0,\"ticks\":\"\"}}],\"scatter\":[{\"fillpattern\":{\"fillmode\":\"overlay\",\"size\":10,\"solidity\":0.2},\"type\":\"scatter\"}],\"parcoords\":[{\"type\":\"parcoords\",\"line\":{\"colorbar\":{\"outlinewidth\":0,\"ticks\":\"\"}}}],\"scatterpolargl\":[{\"type\":\"scatterpolargl\",\"marker\":{\"colorbar\":{\"outlinewidth\":0,\"ticks\":\"\"}}}],\"bar\":[{\"error_x\":{\"color\":\"#2a3f5f\"},\"error_y\":{\"color\":\"#2a3f5f\"},\"marker\":{\"line\":{\"color\":\"#E5ECF6\",\"width\":0.5},\"pattern\":{\"fillmode\":\"overlay\",\"size\":10,\"solidity\":0.2}},\"type\":\"bar\"}],\"scattergeo\":[{\"type\":\"scattergeo\",\"marker\":{\"colorbar\":{\"outlinewidth\":0,\"ticks\":\"\"}}}],\"scatterpolar\":[{\"type\":\"scatterpolar\",\"marker\":{\"colorbar\":{\"outlinewidth\":0,\"ticks\":\"\"}}}],\"histogram\":[{\"marker\":{\"pattern\":{\"fillmode\":\"overlay\",\"size\":10,\"solidity\":0.2}},\"type\":\"histogram\"}],\"scattergl\":[{\"type\":\"scattergl\",\"marker\":{\"colorbar\":{\"outlinewidth\":0,\"ticks\":\"\"}}}],\"scatter3d\":[{\"type\":\"scatter3d\",\"line\":{\"colorbar\":{\"outlinewidth\":0,\"ticks\":\"\"}},\"marker\":{\"colorbar\":{\"outlinewidth\":0,\"ticks\":\"\"}}}],\"scattermapbox\":[{\"type\":\"scattermapbox\",\"marker\":{\"colorbar\":{\"outlinewidth\":0,\"ticks\":\"\"}}}],\"scatterternary\":[{\"type\":\"scatterternary\",\"marker\":{\"colorbar\":{\"outlinewidth\":0,\"ticks\":\"\"}}}],\"scattercarpet\":[{\"type\":\"scattercarpet\",\"marker\":{\"colorbar\":{\"outlinewidth\":0,\"ticks\":\"\"}}}],\"carpet\":[{\"aaxis\":{\"endlinecolor\":\"#2a3f5f\",\"gridcolor\":\"white\",\"linecolor\":\"white\",\"minorgridcolor\":\"white\",\"startlinecolor\":\"#2a3f5f\"},\"baxis\":{\"endlinecolor\":\"#2a3f5f\",\"gridcolor\":\"white\",\"linecolor\":\"white\",\"minorgridcolor\":\"white\",\"startlinecolor\":\"#2a3f5f\"},\"type\":\"carpet\"}],\"table\":[{\"cells\":{\"fill\":{\"color\":\"#EBF0F8\"},\"line\":{\"color\":\"white\"}},\"header\":{\"fill\":{\"color\":\"#C8D4E3\"},\"line\":{\"color\":\"white\"}},\"type\":\"table\"}],\"barpolar\":[{\"marker\":{\"line\":{\"color\":\"#E5ECF6\",\"width\":0.5},\"pattern\":{\"fillmode\":\"overlay\",\"size\":10,\"solidity\":0.2}},\"type\":\"barpolar\"}],\"pie\":[{\"automargin\":true,\"type\":\"pie\"}]},\"layout\":{\"autotypenumbers\":\"strict\",\"colorway\":[\"#636efa\",\"#EF553B\",\"#00cc96\",\"#ab63fa\",\"#FFA15A\",\"#19d3f3\",\"#FF6692\",\"#B6E880\",\"#FF97FF\",\"#FECB52\"],\"font\":{\"color\":\"#2a3f5f\"},\"hovermode\":\"closest\",\"hoverlabel\":{\"align\":\"left\"},\"paper_bgcolor\":\"white\",\"plot_bgcolor\":\"#E5ECF6\",\"polar\":{\"bgcolor\":\"#E5ECF6\",\"angularaxis\":{\"gridcolor\":\"white\",\"linecolor\":\"white\",\"ticks\":\"\"},\"radialaxis\":{\"gridcolor\":\"white\",\"linecolor\":\"white\",\"ticks\":\"\"}},\"ternary\":{\"bgcolor\":\"#E5ECF6\",\"aaxis\":{\"gridcolor\":\"white\",\"linecolor\":\"white\",\"ticks\":\"\"},\"baxis\":{\"gridcolor\":\"white\",\"linecolor\":\"white\",\"ticks\":\"\"},\"caxis\":{\"gridcolor\":\"white\",\"linecolor\":\"white\",\"ticks\":\"\"}},\"coloraxis\":{\"colorbar\":{\"outlinewidth\":0,\"ticks\":\"\"}},\"colorscale\":{\"sequential\":[[0.0,\"#0d0887\"],[0.1111111111111111,\"#46039f\"],[0.2222222222222222,\"#7201a8\"],[0.3333333333333333,\"#9c179e\"],[0.4444444444444444,\"#bd3786\"],[0.5555555555555556,\"#d8576b\"],[0.6666666666666666,\"#ed7953\"],[0.7777777777777778,\"#fb9f3a\"],[0.8888888888888888,\"#fdca26\"],[1.0,\"#f0f921\"]],\"sequentialminus\":[[0.0,\"#0d0887\"],[0.1111111111111111,\"#46039f\"],[0.2222222222222222,\"#7201a8\"],[0.3333333333333333,\"#9c179e\"],[0.4444444444444444,\"#bd3786\"],[0.5555555555555556,\"#d8576b\"],[0.6666666666666666,\"#ed7953\"],[0.7777777777777778,\"#fb9f3a\"],[0.8888888888888888,\"#fdca26\"],[1.0,\"#f0f921\"]],\"diverging\":[[0,\"#8e0152\"],[0.1,\"#c51b7d\"],[0.2,\"#de77ae\"],[0.3,\"#f1b6da\"],[0.4,\"#fde0ef\"],[0.5,\"#f7f7f7\"],[0.6,\"#e6f5d0\"],[0.7,\"#b8e186\"],[0.8,\"#7fbc41\"],[0.9,\"#4d9221\"],[1,\"#276419\"]]},\"xaxis\":{\"gridcolor\":\"white\",\"linecolor\":\"white\",\"ticks\":\"\",\"title\":{\"standoff\":15},\"zerolinecolor\":\"white\",\"automargin\":true,\"zerolinewidth\":2},\"yaxis\":{\"gridcolor\":\"white\",\"linecolor\":\"white\",\"ticks\":\"\",\"title\":{\"standoff\":15},\"zerolinecolor\":\"white\",\"automargin\":true,\"zerolinewidth\":2},\"scene\":{\"xaxis\":{\"backgroundcolor\":\"#E5ECF6\",\"gridcolor\":\"white\",\"linecolor\":\"white\",\"showbackground\":true,\"ticks\":\"\",\"zerolinecolor\":\"white\",\"gridwidth\":2},\"yaxis\":{\"backgroundcolor\":\"#E5ECF6\",\"gridcolor\":\"white\",\"linecolor\":\"white\",\"showbackground\":true,\"ticks\":\"\",\"zerolinecolor\":\"white\",\"gridwidth\":2},\"zaxis\":{\"backgroundcolor\":\"#E5ECF6\",\"gridcolor\":\"white\",\"linecolor\":\"white\",\"showbackground\":true,\"ticks\":\"\",\"zerolinecolor\":\"white\",\"gridwidth\":2}},\"shapedefaults\":{\"line\":{\"color\":\"#2a3f5f\"}},\"annotationdefaults\":{\"arrowcolor\":\"#2a3f5f\",\"arrowhead\":0,\"arrowwidth\":1},\"geo\":{\"bgcolor\":\"white\",\"landcolor\":\"#E5ECF6\",\"subunitcolor\":\"white\",\"showland\":true,\"showlakes\":true,\"lakecolor\":\"white\"},\"title\":{\"x\":0.05},\"mapbox\":{\"style\":\"light\"}}},\"coloraxis\":{\"colorbar\":{\"title\":{\"text\":\"Validation loss\"}},\"colorscale\":[[0.0,\"#440154\"],[0.1111111111111111,\"#482878\"],[0.2222222222222222,\"#3e4989\"],[0.3333333333333333,\"#31688e\"],[0.4444444444444444,\"#26828e\"],[0.5555555555555556,\"#1f9e89\"],[0.6666666666666666,\"#35b779\"],[0.7777777777777778,\"#6ece58\"],[0.8888888888888888,\"#b5de2b\"],[1.0,\"#fde725\"]]},\"legend\":{\"title\":{\"text\":\"Stopped early\"},\"tracegroupgap\":0},\"title\":{\"text\":\"Hyperparameter search results\"},\"dragmode\":\"select\",\"height\":1250},                        {\"responsive\": true}                    ).then(function(){\n",
       "                            \n",
       "var gd = document.getElementById('bf6cbe39-4f42-407c-a09f-8c246a0728f0');\n",
       "var x = new MutationObserver(function (mutations, observer) {{\n",
       "        var display = window.getComputedStyle(gd).display;\n",
       "        if (!display || display === 'none') {{\n",
       "            console.log([gd, 'removed!']);\n",
       "            Plotly.purge(gd);\n",
       "            observer.disconnect();\n",
       "        }}\n",
       "}});\n",
       "\n",
       "// Listen for the removal of the full notebook cells\n",
       "var notebookContainer = gd.closest('#notebook-container');\n",
       "if (notebookContainer) {{\n",
       "    x.observe(notebookContainer, {childList: true});\n",
       "}}\n",
       "\n",
       "// Listen for the clearing of the current output cell\n",
       "var outputEl = gd.closest('.output');\n",
       "if (outputEl) {{\n",
       "    x.observe(outputEl, {childList: true});\n",
       "}}\n",
       "\n",
       "                        })                };                });            </script>        </div>"
      ]
     },
     "metadata": {},
     "output_type": "display_data"
    }
   ],
   "source": [
    "# if stopped early -> shape triangle\n",
    "#  marginal_x='histogram', marginal_y='histogram'\n",
    "px.scatter(df, x='window_function', y='val_loss', color='val_loss', color_continuous_scale='viridis', symbol='stopped_early')\n",
    "\n",
    "#intermediate_activation_fn\n",
    "fig = px.scatter_matrix(\n",
    "    df,\n",
    "    dimensions=['val_loss', 'window_function', 'intermediate_activation_fn', 'radius_search_ignore_query_points', 'use_dense_layer_for_centers', 'stopped_early', 'filter_extent'],\n",
    "    color='val_loss',\n",
    "    color_continuous_scale='viridis',\n",
    "    title='Hyperparameter search results',\n",
    "    labels={\n",
    "        'val_loss': 'Validation loss',\n",
    "        'window_function': 'Window function',\n",
    "        'intermediate_activation_fn': 'Activation function',\n",
    "        'align_corners': 'Align corners',\n",
    "        'normalize': 'Normalize',\n",
    "        'filter_extent': 'Filter extent',\n",
    "        'radius_search_ignore_query_points': 'Ignore query points',\n",
    "        'use_dense_layer_for_centers': 'Dense layer',\n",
    "        'stopped_early': 'Stopped early'\n",
    "    },\n",
    "    height=1250,\n",
    "    symbol='stopped_early',\n",
    "    symbol_map={\n",
    "        True: 'x',\n",
    "        False: 'circle',\n",
    "    },\n",
    ")\n",
    "\n",
    "fig.show()\n"
   ]
  },
  {
   "attachments": {},
   "cell_type": "markdown",
   "metadata": {},
   "source": [
    "Todo: Perform stepwise regression to find which combination of parameters influence the validation loss most."
   ]
  },
  {
   "cell_type": "code",
   "execution_count": 81,
   "metadata": {},
   "outputs": [
    {
     "data": {
      "application/vnd.plotly.v1+json": {
       "config": {
        "plotlyServerURL": "https://plot.ly"
       },
       "data": [
        {
         "alignmentgroup": "True",
         "hovertemplate": "Validation loss=%{x}<br>Window function=%{y}<extra></extra>",
         "legendgroup": "0.1519712805747985",
         "marker": {
          "color": "#636efa"
         },
         "name": "0.1519712805747985",
         "notched": false,
         "offsetgroup": "0.1519712805747985",
         "orientation": "h",
         "showlegend": true,
         "type": "box",
         "x": [
          0.1519712805747985
         ],
         "x0": " ",
         "xaxis": "x",
         "y": [
          "None"
         ],
         "y0": " ",
         "yaxis": "y"
        },
        {
         "alignmentgroup": "True",
         "hovertemplate": "Validation loss=%{x}<br>Window function=%{y}<extra></extra>",
         "legendgroup": "0.2104188352823257",
         "marker": {
          "color": "#EF553B"
         },
         "name": "0.2104188352823257",
         "notched": false,
         "offsetgroup": "0.2104188352823257",
         "orientation": "h",
         "showlegend": true,
         "type": "box",
         "x": [
          0.2104188352823257
         ],
         "x0": " ",
         "xaxis": "x",
         "y": [
          "poly6"
         ],
         "y0": " ",
         "yaxis": "y"
        },
        {
         "alignmentgroup": "True",
         "hovertemplate": "Validation loss=%{x}<br>Window function=%{y}<extra></extra>",
         "legendgroup": "0.2307580709457397",
         "marker": {
          "color": "#00cc96"
         },
         "name": "0.2307580709457397",
         "notched": false,
         "offsetgroup": "0.2307580709457397",
         "orientation": "h",
         "showlegend": true,
         "type": "box",
         "x": [
          0.2307580709457397
         ],
         "x0": " ",
         "xaxis": "x",
         "y": [
          "gaussian"
         ],
         "y0": " ",
         "yaxis": "y"
        },
        {
         "alignmentgroup": "True",
         "hovertemplate": "Validation loss=%{x}<br>Window function=%{y}<extra></extra>",
         "legendgroup": "0.2525908648967743",
         "marker": {
          "color": "#ab63fa"
         },
         "name": "0.2525908648967743",
         "notched": false,
         "offsetgroup": "0.2525908648967743",
         "orientation": "h",
         "showlegend": true,
         "type": "box",
         "x": [
          0.2525908648967743
         ],
         "x0": " ",
         "xaxis": "x",
         "y": [
          "gaussian"
         ],
         "y0": " ",
         "yaxis": "y"
        },
        {
         "alignmentgroup": "True",
         "hovertemplate": "Validation loss=%{x}<br>Window function=%{y}<extra></extra>",
         "legendgroup": "0.2678727805614471",
         "marker": {
          "color": "#FFA15A"
         },
         "name": "0.2678727805614471",
         "notched": false,
         "offsetgroup": "0.2678727805614471",
         "orientation": "h",
         "showlegend": true,
         "type": "box",
         "x": [
          0.2678727805614471
         ],
         "x0": " ",
         "xaxis": "x",
         "y": [
          "poly6"
         ],
         "y0": " ",
         "yaxis": "y"
        },
        {
         "alignmentgroup": "True",
         "hovertemplate": "Validation loss=%{x}<br>Window function=%{y}<extra></extra>",
         "legendgroup": "0.2904145419597626",
         "marker": {
          "color": "#19d3f3"
         },
         "name": "0.2904145419597626",
         "notched": false,
         "offsetgroup": "0.2904145419597626",
         "orientation": "h",
         "showlegend": true,
         "type": "box",
         "x": [
          0.2904145419597626
         ],
         "x0": " ",
         "xaxis": "x",
         "y": [
          "gaussian"
         ],
         "y0": " ",
         "yaxis": "y"
        },
        {
         "alignmentgroup": "True",
         "hovertemplate": "Validation loss=%{x}<br>Window function=%{y}<extra></extra>",
         "legendgroup": "0.384754329919815",
         "marker": {
          "color": "#FF6692"
         },
         "name": "0.384754329919815",
         "notched": false,
         "offsetgroup": "0.384754329919815",
         "orientation": "h",
         "showlegend": true,
         "type": "box",
         "x": [
          0.384754329919815
         ],
         "x0": " ",
         "xaxis": "x",
         "y": [
          "None"
         ],
         "y0": " ",
         "yaxis": "y"
        },
        {
         "alignmentgroup": "True",
         "hovertemplate": "Validation loss=%{x}<br>Window function=%{y}<extra></extra>",
         "legendgroup": "0.4516955316066742",
         "marker": {
          "color": "#B6E880"
         },
         "name": "0.4516955316066742",
         "notched": false,
         "offsetgroup": "0.4516955316066742",
         "orientation": "h",
         "showlegend": true,
         "type": "box",
         "x": [
          0.4516955316066742
         ],
         "x0": " ",
         "xaxis": "x",
         "y": [
          "None"
         ],
         "y0": " ",
         "yaxis": "y"
        },
        {
         "alignmentgroup": "True",
         "hovertemplate": "Validation loss=%{x}<br>Window function=%{y}<extra></extra>",
         "legendgroup": "0.5957207083702087",
         "marker": {
          "color": "#FF97FF"
         },
         "name": "0.5957207083702087",
         "notched": false,
         "offsetgroup": "0.5957207083702087",
         "orientation": "h",
         "showlegend": true,
         "type": "box",
         "x": [
          0.5957207083702087
         ],
         "x0": " ",
         "xaxis": "x",
         "y": [
          "poly6"
         ],
         "y0": " ",
         "yaxis": "y"
        },
        {
         "alignmentgroup": "True",
         "hovertemplate": "Validation loss=%{x}<br>Window function=%{y}<extra></extra>",
         "legendgroup": "0.6612871885299683",
         "marker": {
          "color": "#FECB52"
         },
         "name": "0.6612871885299683",
         "notched": false,
         "offsetgroup": "0.6612871885299683",
         "orientation": "h",
         "showlegend": true,
         "type": "box",
         "x": [
          0.6612871885299683
         ],
         "x0": " ",
         "xaxis": "x",
         "y": [
          "None"
         ],
         "y0": " ",
         "yaxis": "y"
        },
        {
         "alignmentgroup": "True",
         "hovertemplate": "Validation loss=%{x}<br>Window function=%{y}<extra></extra>",
         "legendgroup": "0.6737052798271179",
         "marker": {
          "color": "#636efa"
         },
         "name": "0.6737052798271179",
         "notched": false,
         "offsetgroup": "0.6737052798271179",
         "orientation": "h",
         "showlegend": true,
         "type": "box",
         "x": [
          0.6737052798271179
         ],
         "x0": " ",
         "xaxis": "x",
         "y": [
          "poly6"
         ],
         "y0": " ",
         "yaxis": "y"
        },
        {
         "alignmentgroup": "True",
         "hovertemplate": "Validation loss=%{x}<br>Window function=%{y}<extra></extra>",
         "legendgroup": "0.6764938235282898",
         "marker": {
          "color": "#EF553B"
         },
         "name": "0.6764938235282898",
         "notched": false,
         "offsetgroup": "0.6764938235282898",
         "orientation": "h",
         "showlegend": true,
         "type": "box",
         "x": [
          0.6764938235282898
         ],
         "x0": " ",
         "xaxis": "x",
         "y": [
          "poly6"
         ],
         "y0": " ",
         "yaxis": "y"
        },
        {
         "alignmentgroup": "True",
         "hovertemplate": "Validation loss=%{x}<br>Window function=%{y}<extra></extra>",
         "legendgroup": "0.7108669877052307",
         "marker": {
          "color": "#00cc96"
         },
         "name": "0.7108669877052307",
         "notched": false,
         "offsetgroup": "0.7108669877052307",
         "orientation": "h",
         "showlegend": true,
         "type": "box",
         "x": [
          0.7108669877052307
         ],
         "x0": " ",
         "xaxis": "x",
         "y": [
          "None"
         ],
         "y0": " ",
         "yaxis": "y"
        },
        {
         "alignmentgroup": "True",
         "hovertemplate": "Validation loss=%{x}<br>Window function=%{y}<extra></extra>",
         "legendgroup": "0.7253999710083008",
         "marker": {
          "color": "#ab63fa"
         },
         "name": "0.7253999710083008",
         "notched": false,
         "offsetgroup": "0.7253999710083008",
         "orientation": "h",
         "showlegend": true,
         "type": "box",
         "x": [
          0.7253999710083008
         ],
         "x0": " ",
         "xaxis": "x",
         "y": [
          "gaussian"
         ],
         "y0": " ",
         "yaxis": "y"
        },
        {
         "alignmentgroup": "True",
         "hovertemplate": "Validation loss=%{x}<br>Window function=%{y}<extra></extra>",
         "legendgroup": "0.8056357502937317",
         "marker": {
          "color": "#FFA15A"
         },
         "name": "0.8056357502937317",
         "notched": false,
         "offsetgroup": "0.8056357502937317",
         "orientation": "h",
         "showlegend": true,
         "type": "box",
         "x": [
          0.8056357502937317
         ],
         "x0": " ",
         "xaxis": "x",
         "y": [
          "None"
         ],
         "y0": " ",
         "yaxis": "y"
        },
        {
         "alignmentgroup": "True",
         "hovertemplate": "Validation loss=%{x}<br>Window function=%{y}<extra></extra>",
         "legendgroup": "0.8386881947517395",
         "marker": {
          "color": "#19d3f3"
         },
         "name": "0.8386881947517395",
         "notched": false,
         "offsetgroup": "0.8386881947517395",
         "orientation": "h",
         "showlegend": true,
         "type": "box",
         "x": [
          0.8386881947517395
         ],
         "x0": " ",
         "xaxis": "x",
         "y": [
          "poly6"
         ],
         "y0": " ",
         "yaxis": "y"
        },
        {
         "alignmentgroup": "True",
         "hovertemplate": "Validation loss=%{x}<br>Window function=%{y}<extra></extra>",
         "legendgroup": "0.8619832396507263",
         "marker": {
          "color": "#FF6692"
         },
         "name": "0.8619832396507263",
         "notched": false,
         "offsetgroup": "0.8619832396507263",
         "orientation": "h",
         "showlegend": true,
         "type": "box",
         "x": [
          0.8619832396507263
         ],
         "x0": " ",
         "xaxis": "x",
         "y": [
          "None"
         ],
         "y0": " ",
         "yaxis": "y"
        },
        {
         "alignmentgroup": "True",
         "hovertemplate": "Validation loss=%{x}<br>Window function=%{y}<extra></extra>",
         "legendgroup": "0.8703534007072449",
         "marker": {
          "color": "#B6E880"
         },
         "name": "0.8703534007072449",
         "notched": false,
         "offsetgroup": "0.8703534007072449",
         "orientation": "h",
         "showlegend": true,
         "type": "box",
         "x": [
          0.8703534007072449
         ],
         "x0": " ",
         "xaxis": "x",
         "y": [
          "None"
         ],
         "y0": " ",
         "yaxis": "y"
        },
        {
         "alignmentgroup": "True",
         "hovertemplate": "Validation loss=%{x}<br>Window function=%{y}<extra></extra>",
         "legendgroup": "0.9019795656204224",
         "marker": {
          "color": "#FF97FF"
         },
         "name": "0.9019795656204224",
         "notched": false,
         "offsetgroup": "0.9019795656204224",
         "orientation": "h",
         "showlegend": true,
         "type": "box",
         "x": [
          0.9019795656204224
         ],
         "x0": " ",
         "xaxis": "x",
         "y": [
          "gaussian"
         ],
         "y0": " ",
         "yaxis": "y"
        },
        {
         "alignmentgroup": "True",
         "hovertemplate": "Validation loss=%{x}<br>Window function=%{y}<extra></extra>",
         "legendgroup": "0.9085923433303832",
         "marker": {
          "color": "#FECB52"
         },
         "name": "0.9085923433303832",
         "notched": false,
         "offsetgroup": "0.9085923433303832",
         "orientation": "h",
         "showlegend": true,
         "type": "box",
         "x": [
          0.9085923433303832
         ],
         "x0": " ",
         "xaxis": "x",
         "y": [
          "poly6"
         ],
         "y0": " ",
         "yaxis": "y"
        },
        {
         "alignmentgroup": "True",
         "hovertemplate": "Validation loss=%{x}<br>Window function=%{y}<extra></extra>",
         "legendgroup": "0.9124155044555664",
         "marker": {
          "color": "#636efa"
         },
         "name": "0.9124155044555664",
         "notched": false,
         "offsetgroup": "0.9124155044555664",
         "orientation": "h",
         "showlegend": true,
         "type": "box",
         "x": [
          0.9124155044555664
         ],
         "x0": " ",
         "xaxis": "x",
         "y": [
          "poly6"
         ],
         "y0": " ",
         "yaxis": "y"
        },
        {
         "alignmentgroup": "True",
         "hovertemplate": "Validation loss=%{x}<br>Window function=%{y}<extra></extra>",
         "legendgroup": "0.920562982559204",
         "marker": {
          "color": "#EF553B"
         },
         "name": "0.920562982559204",
         "notched": false,
         "offsetgroup": "0.920562982559204",
         "orientation": "h",
         "showlegend": true,
         "type": "box",
         "x": [
          0.920562982559204
         ],
         "x0": " ",
         "xaxis": "x",
         "y": [
          "poly6"
         ],
         "y0": " ",
         "yaxis": "y"
        },
        {
         "alignmentgroup": "True",
         "hovertemplate": "Validation loss=%{x}<br>Window function=%{y}<extra></extra>",
         "legendgroup": "0.9354971647262572",
         "marker": {
          "color": "#00cc96"
         },
         "name": "0.9354971647262572",
         "notched": false,
         "offsetgroup": "0.9354971647262572",
         "orientation": "h",
         "showlegend": true,
         "type": "box",
         "x": [
          0.9354971647262572
         ],
         "x0": " ",
         "xaxis": "x",
         "y": [
          "None"
         ],
         "y0": " ",
         "yaxis": "y"
        },
        {
         "alignmentgroup": "True",
         "hovertemplate": "Validation loss=%{x}<br>Window function=%{y}<extra></extra>",
         "legendgroup": "0.9366219639778136",
         "marker": {
          "color": "#ab63fa"
         },
         "name": "0.9366219639778136",
         "notched": false,
         "offsetgroup": "0.9366219639778136",
         "orientation": "h",
         "showlegend": true,
         "type": "box",
         "x": [
          0.9366219639778136
         ],
         "x0": " ",
         "xaxis": "x",
         "y": [
          "gaussian"
         ],
         "y0": " ",
         "yaxis": "y"
        },
        {
         "alignmentgroup": "True",
         "hovertemplate": "Validation loss=%{x}<br>Window function=%{y}<extra></extra>",
         "legendgroup": "0.938056707382202",
         "marker": {
          "color": "#FFA15A"
         },
         "name": "0.938056707382202",
         "notched": false,
         "offsetgroup": "0.938056707382202",
         "orientation": "h",
         "showlegend": true,
         "type": "box",
         "x": [
          0.938056707382202
         ],
         "x0": " ",
         "xaxis": "x",
         "y": [
          "poly6"
         ],
         "y0": " ",
         "yaxis": "y"
        },
        {
         "alignmentgroup": "True",
         "hovertemplate": "Validation loss=%{x}<br>Window function=%{y}<extra></extra>",
         "legendgroup": "0.941224217414856",
         "marker": {
          "color": "#19d3f3"
         },
         "name": "0.941224217414856",
         "notched": false,
         "offsetgroup": "0.941224217414856",
         "orientation": "h",
         "showlegend": true,
         "type": "box",
         "x": [
          0.941224217414856
         ],
         "x0": " ",
         "xaxis": "x",
         "y": [
          "None"
         ],
         "y0": " ",
         "yaxis": "y"
        },
        {
         "alignmentgroup": "True",
         "hovertemplate": "Validation loss=%{x}<br>Window function=%{y}<extra></extra>",
         "legendgroup": "0.9414558410644532",
         "marker": {
          "color": "#FF6692"
         },
         "name": "0.9414558410644532",
         "notched": false,
         "offsetgroup": "0.9414558410644532",
         "orientation": "h",
         "showlegend": true,
         "type": "box",
         "x": [
          0.9414558410644532
         ],
         "x0": " ",
         "xaxis": "x",
         "y": [
          "poly6"
         ],
         "y0": " ",
         "yaxis": "y"
        },
        {
         "alignmentgroup": "True",
         "hovertemplate": "Validation loss=%{x}<br>Window function=%{y}<extra></extra>",
         "legendgroup": "0.951740562915802",
         "marker": {
          "color": "#B6E880"
         },
         "name": "0.951740562915802",
         "notched": false,
         "offsetgroup": "0.951740562915802",
         "orientation": "h",
         "showlegend": true,
         "type": "box",
         "x": [
          0.951740562915802
         ],
         "x0": " ",
         "xaxis": "x",
         "y": [
          "poly6"
         ],
         "y0": " ",
         "yaxis": "y"
        },
        {
         "alignmentgroup": "True",
         "hovertemplate": "Validation loss=%{x}<br>Window function=%{y}<extra></extra>",
         "legendgroup": "0.9778998494148254",
         "marker": {
          "color": "#FF97FF"
         },
         "name": "0.9778998494148254",
         "notched": false,
         "offsetgroup": "0.9778998494148254",
         "orientation": "h",
         "showlegend": true,
         "type": "box",
         "x": [
          0.9778998494148254
         ],
         "x0": " ",
         "xaxis": "x",
         "y": [
          "poly6"
         ],
         "y0": " ",
         "yaxis": "y"
        },
        {
         "alignmentgroup": "True",
         "hovertemplate": "Validation loss=%{x}<br>Window function=%{y}<extra></extra>",
         "legendgroup": "0.9803254008293152",
         "marker": {
          "color": "#FECB52"
         },
         "name": "0.9803254008293152",
         "notched": false,
         "offsetgroup": "0.9803254008293152",
         "orientation": "h",
         "showlegend": true,
         "type": "box",
         "x": [
          0.9803254008293152
         ],
         "x0": " ",
         "xaxis": "x",
         "y": [
          "gaussian"
         ],
         "y0": " ",
         "yaxis": "y"
        },
        {
         "alignmentgroup": "True",
         "hovertemplate": "Validation loss=%{x}<br>Window function=%{y}<extra></extra>",
         "legendgroup": "0.9882200956344604",
         "marker": {
          "color": "#636efa"
         },
         "name": "0.9882200956344604",
         "notched": false,
         "offsetgroup": "0.9882200956344604",
         "orientation": "h",
         "showlegend": true,
         "type": "box",
         "x": [
          0.9882200956344604
         ],
         "x0": " ",
         "xaxis": "x",
         "y": [
          "gaussian"
         ],
         "y0": " ",
         "yaxis": "y"
        }
       ],
       "layout": {
        "boxmode": "group",
        "height": 1250,
        "legend": {
         "title": {
          "text": "Validation loss"
         },
         "tracegroupgap": 0
        },
        "template": {
         "data": {
          "bar": [
           {
            "error_x": {
             "color": "#2a3f5f"
            },
            "error_y": {
             "color": "#2a3f5f"
            },
            "marker": {
             "line": {
              "color": "#E5ECF6",
              "width": 0.5
             },
             "pattern": {
              "fillmode": "overlay",
              "size": 10,
              "solidity": 0.2
             }
            },
            "type": "bar"
           }
          ],
          "barpolar": [
           {
            "marker": {
             "line": {
              "color": "#E5ECF6",
              "width": 0.5
             },
             "pattern": {
              "fillmode": "overlay",
              "size": 10,
              "solidity": 0.2
             }
            },
            "type": "barpolar"
           }
          ],
          "carpet": [
           {
            "aaxis": {
             "endlinecolor": "#2a3f5f",
             "gridcolor": "white",
             "linecolor": "white",
             "minorgridcolor": "white",
             "startlinecolor": "#2a3f5f"
            },
            "baxis": {
             "endlinecolor": "#2a3f5f",
             "gridcolor": "white",
             "linecolor": "white",
             "minorgridcolor": "white",
             "startlinecolor": "#2a3f5f"
            },
            "type": "carpet"
           }
          ],
          "choropleth": [
           {
            "colorbar": {
             "outlinewidth": 0,
             "ticks": ""
            },
            "type": "choropleth"
           }
          ],
          "contour": [
           {
            "colorbar": {
             "outlinewidth": 0,
             "ticks": ""
            },
            "colorscale": [
             [
              0,
              "#0d0887"
             ],
             [
              0.1111111111111111,
              "#46039f"
             ],
             [
              0.2222222222222222,
              "#7201a8"
             ],
             [
              0.3333333333333333,
              "#9c179e"
             ],
             [
              0.4444444444444444,
              "#bd3786"
             ],
             [
              0.5555555555555556,
              "#d8576b"
             ],
             [
              0.6666666666666666,
              "#ed7953"
             ],
             [
              0.7777777777777778,
              "#fb9f3a"
             ],
             [
              0.8888888888888888,
              "#fdca26"
             ],
             [
              1,
              "#f0f921"
             ]
            ],
            "type": "contour"
           }
          ],
          "contourcarpet": [
           {
            "colorbar": {
             "outlinewidth": 0,
             "ticks": ""
            },
            "type": "contourcarpet"
           }
          ],
          "heatmap": [
           {
            "colorbar": {
             "outlinewidth": 0,
             "ticks": ""
            },
            "colorscale": [
             [
              0,
              "#0d0887"
             ],
             [
              0.1111111111111111,
              "#46039f"
             ],
             [
              0.2222222222222222,
              "#7201a8"
             ],
             [
              0.3333333333333333,
              "#9c179e"
             ],
             [
              0.4444444444444444,
              "#bd3786"
             ],
             [
              0.5555555555555556,
              "#d8576b"
             ],
             [
              0.6666666666666666,
              "#ed7953"
             ],
             [
              0.7777777777777778,
              "#fb9f3a"
             ],
             [
              0.8888888888888888,
              "#fdca26"
             ],
             [
              1,
              "#f0f921"
             ]
            ],
            "type": "heatmap"
           }
          ],
          "heatmapgl": [
           {
            "colorbar": {
             "outlinewidth": 0,
             "ticks": ""
            },
            "colorscale": [
             [
              0,
              "#0d0887"
             ],
             [
              0.1111111111111111,
              "#46039f"
             ],
             [
              0.2222222222222222,
              "#7201a8"
             ],
             [
              0.3333333333333333,
              "#9c179e"
             ],
             [
              0.4444444444444444,
              "#bd3786"
             ],
             [
              0.5555555555555556,
              "#d8576b"
             ],
             [
              0.6666666666666666,
              "#ed7953"
             ],
             [
              0.7777777777777778,
              "#fb9f3a"
             ],
             [
              0.8888888888888888,
              "#fdca26"
             ],
             [
              1,
              "#f0f921"
             ]
            ],
            "type": "heatmapgl"
           }
          ],
          "histogram": [
           {
            "marker": {
             "pattern": {
              "fillmode": "overlay",
              "size": 10,
              "solidity": 0.2
             }
            },
            "type": "histogram"
           }
          ],
          "histogram2d": [
           {
            "colorbar": {
             "outlinewidth": 0,
             "ticks": ""
            },
            "colorscale": [
             [
              0,
              "#0d0887"
             ],
             [
              0.1111111111111111,
              "#46039f"
             ],
             [
              0.2222222222222222,
              "#7201a8"
             ],
             [
              0.3333333333333333,
              "#9c179e"
             ],
             [
              0.4444444444444444,
              "#bd3786"
             ],
             [
              0.5555555555555556,
              "#d8576b"
             ],
             [
              0.6666666666666666,
              "#ed7953"
             ],
             [
              0.7777777777777778,
              "#fb9f3a"
             ],
             [
              0.8888888888888888,
              "#fdca26"
             ],
             [
              1,
              "#f0f921"
             ]
            ],
            "type": "histogram2d"
           }
          ],
          "histogram2dcontour": [
           {
            "colorbar": {
             "outlinewidth": 0,
             "ticks": ""
            },
            "colorscale": [
             [
              0,
              "#0d0887"
             ],
             [
              0.1111111111111111,
              "#46039f"
             ],
             [
              0.2222222222222222,
              "#7201a8"
             ],
             [
              0.3333333333333333,
              "#9c179e"
             ],
             [
              0.4444444444444444,
              "#bd3786"
             ],
             [
              0.5555555555555556,
              "#d8576b"
             ],
             [
              0.6666666666666666,
              "#ed7953"
             ],
             [
              0.7777777777777778,
              "#fb9f3a"
             ],
             [
              0.8888888888888888,
              "#fdca26"
             ],
             [
              1,
              "#f0f921"
             ]
            ],
            "type": "histogram2dcontour"
           }
          ],
          "mesh3d": [
           {
            "colorbar": {
             "outlinewidth": 0,
             "ticks": ""
            },
            "type": "mesh3d"
           }
          ],
          "parcoords": [
           {
            "line": {
             "colorbar": {
              "outlinewidth": 0,
              "ticks": ""
             }
            },
            "type": "parcoords"
           }
          ],
          "pie": [
           {
            "automargin": true,
            "type": "pie"
           }
          ],
          "scatter": [
           {
            "fillpattern": {
             "fillmode": "overlay",
             "size": 10,
             "solidity": 0.2
            },
            "type": "scatter"
           }
          ],
          "scatter3d": [
           {
            "line": {
             "colorbar": {
              "outlinewidth": 0,
              "ticks": ""
             }
            },
            "marker": {
             "colorbar": {
              "outlinewidth": 0,
              "ticks": ""
             }
            },
            "type": "scatter3d"
           }
          ],
          "scattercarpet": [
           {
            "marker": {
             "colorbar": {
              "outlinewidth": 0,
              "ticks": ""
             }
            },
            "type": "scattercarpet"
           }
          ],
          "scattergeo": [
           {
            "marker": {
             "colorbar": {
              "outlinewidth": 0,
              "ticks": ""
             }
            },
            "type": "scattergeo"
           }
          ],
          "scattergl": [
           {
            "marker": {
             "colorbar": {
              "outlinewidth": 0,
              "ticks": ""
             }
            },
            "type": "scattergl"
           }
          ],
          "scattermapbox": [
           {
            "marker": {
             "colorbar": {
              "outlinewidth": 0,
              "ticks": ""
             }
            },
            "type": "scattermapbox"
           }
          ],
          "scatterpolar": [
           {
            "marker": {
             "colorbar": {
              "outlinewidth": 0,
              "ticks": ""
             }
            },
            "type": "scatterpolar"
           }
          ],
          "scatterpolargl": [
           {
            "marker": {
             "colorbar": {
              "outlinewidth": 0,
              "ticks": ""
             }
            },
            "type": "scatterpolargl"
           }
          ],
          "scatterternary": [
           {
            "marker": {
             "colorbar": {
              "outlinewidth": 0,
              "ticks": ""
             }
            },
            "type": "scatterternary"
           }
          ],
          "surface": [
           {
            "colorbar": {
             "outlinewidth": 0,
             "ticks": ""
            },
            "colorscale": [
             [
              0,
              "#0d0887"
             ],
             [
              0.1111111111111111,
              "#46039f"
             ],
             [
              0.2222222222222222,
              "#7201a8"
             ],
             [
              0.3333333333333333,
              "#9c179e"
             ],
             [
              0.4444444444444444,
              "#bd3786"
             ],
             [
              0.5555555555555556,
              "#d8576b"
             ],
             [
              0.6666666666666666,
              "#ed7953"
             ],
             [
              0.7777777777777778,
              "#fb9f3a"
             ],
             [
              0.8888888888888888,
              "#fdca26"
             ],
             [
              1,
              "#f0f921"
             ]
            ],
            "type": "surface"
           }
          ],
          "table": [
           {
            "cells": {
             "fill": {
              "color": "#EBF0F8"
             },
             "line": {
              "color": "white"
             }
            },
            "header": {
             "fill": {
              "color": "#C8D4E3"
             },
             "line": {
              "color": "white"
             }
            },
            "type": "table"
           }
          ]
         },
         "layout": {
          "annotationdefaults": {
           "arrowcolor": "#2a3f5f",
           "arrowhead": 0,
           "arrowwidth": 1
          },
          "autotypenumbers": "strict",
          "coloraxis": {
           "colorbar": {
            "outlinewidth": 0,
            "ticks": ""
           }
          },
          "colorscale": {
           "diverging": [
            [
             0,
             "#8e0152"
            ],
            [
             0.1,
             "#c51b7d"
            ],
            [
             0.2,
             "#de77ae"
            ],
            [
             0.3,
             "#f1b6da"
            ],
            [
             0.4,
             "#fde0ef"
            ],
            [
             0.5,
             "#f7f7f7"
            ],
            [
             0.6,
             "#e6f5d0"
            ],
            [
             0.7,
             "#b8e186"
            ],
            [
             0.8,
             "#7fbc41"
            ],
            [
             0.9,
             "#4d9221"
            ],
            [
             1,
             "#276419"
            ]
           ],
           "sequential": [
            [
             0,
             "#0d0887"
            ],
            [
             0.1111111111111111,
             "#46039f"
            ],
            [
             0.2222222222222222,
             "#7201a8"
            ],
            [
             0.3333333333333333,
             "#9c179e"
            ],
            [
             0.4444444444444444,
             "#bd3786"
            ],
            [
             0.5555555555555556,
             "#d8576b"
            ],
            [
             0.6666666666666666,
             "#ed7953"
            ],
            [
             0.7777777777777778,
             "#fb9f3a"
            ],
            [
             0.8888888888888888,
             "#fdca26"
            ],
            [
             1,
             "#f0f921"
            ]
           ],
           "sequentialminus": [
            [
             0,
             "#0d0887"
            ],
            [
             0.1111111111111111,
             "#46039f"
            ],
            [
             0.2222222222222222,
             "#7201a8"
            ],
            [
             0.3333333333333333,
             "#9c179e"
            ],
            [
             0.4444444444444444,
             "#bd3786"
            ],
            [
             0.5555555555555556,
             "#d8576b"
            ],
            [
             0.6666666666666666,
             "#ed7953"
            ],
            [
             0.7777777777777778,
             "#fb9f3a"
            ],
            [
             0.8888888888888888,
             "#fdca26"
            ],
            [
             1,
             "#f0f921"
            ]
           ]
          },
          "colorway": [
           "#636efa",
           "#EF553B",
           "#00cc96",
           "#ab63fa",
           "#FFA15A",
           "#19d3f3",
           "#FF6692",
           "#B6E880",
           "#FF97FF",
           "#FECB52"
          ],
          "font": {
           "color": "#2a3f5f"
          },
          "geo": {
           "bgcolor": "white",
           "lakecolor": "white",
           "landcolor": "#E5ECF6",
           "showlakes": true,
           "showland": true,
           "subunitcolor": "white"
          },
          "hoverlabel": {
           "align": "left"
          },
          "hovermode": "closest",
          "mapbox": {
           "style": "light"
          },
          "paper_bgcolor": "white",
          "plot_bgcolor": "#E5ECF6",
          "polar": {
           "angularaxis": {
            "gridcolor": "white",
            "linecolor": "white",
            "ticks": ""
           },
           "bgcolor": "#E5ECF6",
           "radialaxis": {
            "gridcolor": "white",
            "linecolor": "white",
            "ticks": ""
           }
          },
          "scene": {
           "xaxis": {
            "backgroundcolor": "#E5ECF6",
            "gridcolor": "white",
            "gridwidth": 2,
            "linecolor": "white",
            "showbackground": true,
            "ticks": "",
            "zerolinecolor": "white"
           },
           "yaxis": {
            "backgroundcolor": "#E5ECF6",
            "gridcolor": "white",
            "gridwidth": 2,
            "linecolor": "white",
            "showbackground": true,
            "ticks": "",
            "zerolinecolor": "white"
           },
           "zaxis": {
            "backgroundcolor": "#E5ECF6",
            "gridcolor": "white",
            "gridwidth": 2,
            "linecolor": "white",
            "showbackground": true,
            "ticks": "",
            "zerolinecolor": "white"
           }
          },
          "shapedefaults": {
           "line": {
            "color": "#2a3f5f"
           }
          },
          "ternary": {
           "aaxis": {
            "gridcolor": "white",
            "linecolor": "white",
            "ticks": ""
           },
           "baxis": {
            "gridcolor": "white",
            "linecolor": "white",
            "ticks": ""
           },
           "bgcolor": "#E5ECF6",
           "caxis": {
            "gridcolor": "white",
            "linecolor": "white",
            "ticks": ""
           }
          },
          "title": {
           "x": 0.05
          },
          "xaxis": {
           "automargin": true,
           "gridcolor": "white",
           "linecolor": "white",
           "ticks": "",
           "title": {
            "standoff": 15
           },
           "zerolinecolor": "white",
           "zerolinewidth": 2
          },
          "yaxis": {
           "automargin": true,
           "gridcolor": "white",
           "linecolor": "white",
           "ticks": "",
           "title": {
            "standoff": 15
           },
           "zerolinecolor": "white",
           "zerolinewidth": 2
          }
         }
        },
        "title": {
         "text": "Hyperparameter search results"
        },
        "xaxis": {
         "anchor": "y",
         "categoryarray": [
          0.1519712805747985,
          0.2104188352823257,
          0.2307580709457397,
          0.2525908648967743,
          0.2678727805614471,
          0.2904145419597626,
          0.384754329919815,
          0.4516955316066742,
          0.5957207083702087,
          0.6612871885299683,
          0.6737052798271179,
          0.6764938235282898,
          0.7108669877052307,
          0.7253999710083008,
          0.8056357502937317,
          0.8386881947517395,
          0.8619832396507263,
          0.8703534007072449,
          0.9019795656204224,
          0.9085923433303832,
          0.9124155044555664,
          0.920562982559204,
          0.9354971647262572,
          0.9366219639778136,
          0.938056707382202,
          0.941224217414856,
          0.9414558410644532,
          0.951740562915802,
          0.9778998494148254,
          0.9803254008293152,
          0.9882200956344604
         ],
         "categoryorder": "array",
         "domain": [
          0,
          1
         ],
         "title": {
          "text": "Validation loss"
         }
        },
        "yaxis": {
         "anchor": "x",
         "domain": [
          0,
          1
         ],
         "title": {
          "text": "Window function"
         }
        }
       }
      },
      "text/html": [
       "<div>                            <div id=\"a0d47d34-ef79-4806-bf9a-8bc78c79c163\" class=\"plotly-graph-div\" style=\"height:1250px; width:100%;\"></div>            <script type=\"text/javascript\">                require([\"plotly\"], function(Plotly) {                    window.PLOTLYENV=window.PLOTLYENV || {};                                    if (document.getElementById(\"a0d47d34-ef79-4806-bf9a-8bc78c79c163\")) {                    Plotly.newPlot(                        \"a0d47d34-ef79-4806-bf9a-8bc78c79c163\",                        [{\"alignmentgroup\":\"True\",\"hovertemplate\":\"Validation loss=%{x}\\u003cbr\\u003eWindow function=%{y}\\u003cextra\\u003e\\u003c\\u002fextra\\u003e\",\"legendgroup\":\"0.1519712805747985\",\"marker\":{\"color\":\"#636efa\"},\"name\":\"0.1519712805747985\",\"notched\":false,\"offsetgroup\":\"0.1519712805747985\",\"orientation\":\"h\",\"showlegend\":true,\"x\":[0.1519712805747985],\"x0\":\" \",\"xaxis\":\"x\",\"y\":[\"None\"],\"y0\":\" \",\"yaxis\":\"y\",\"type\":\"box\"},{\"alignmentgroup\":\"True\",\"hovertemplate\":\"Validation loss=%{x}\\u003cbr\\u003eWindow function=%{y}\\u003cextra\\u003e\\u003c\\u002fextra\\u003e\",\"legendgroup\":\"0.2104188352823257\",\"marker\":{\"color\":\"#EF553B\"},\"name\":\"0.2104188352823257\",\"notched\":false,\"offsetgroup\":\"0.2104188352823257\",\"orientation\":\"h\",\"showlegend\":true,\"x\":[0.2104188352823257],\"x0\":\" \",\"xaxis\":\"x\",\"y\":[\"poly6\"],\"y0\":\" \",\"yaxis\":\"y\",\"type\":\"box\"},{\"alignmentgroup\":\"True\",\"hovertemplate\":\"Validation loss=%{x}\\u003cbr\\u003eWindow function=%{y}\\u003cextra\\u003e\\u003c\\u002fextra\\u003e\",\"legendgroup\":\"0.2307580709457397\",\"marker\":{\"color\":\"#00cc96\"},\"name\":\"0.2307580709457397\",\"notched\":false,\"offsetgroup\":\"0.2307580709457397\",\"orientation\":\"h\",\"showlegend\":true,\"x\":[0.2307580709457397],\"x0\":\" \",\"xaxis\":\"x\",\"y\":[\"gaussian\"],\"y0\":\" \",\"yaxis\":\"y\",\"type\":\"box\"},{\"alignmentgroup\":\"True\",\"hovertemplate\":\"Validation loss=%{x}\\u003cbr\\u003eWindow function=%{y}\\u003cextra\\u003e\\u003c\\u002fextra\\u003e\",\"legendgroup\":\"0.2525908648967743\",\"marker\":{\"color\":\"#ab63fa\"},\"name\":\"0.2525908648967743\",\"notched\":false,\"offsetgroup\":\"0.2525908648967743\",\"orientation\":\"h\",\"showlegend\":true,\"x\":[0.2525908648967743],\"x0\":\" \",\"xaxis\":\"x\",\"y\":[\"gaussian\"],\"y0\":\" \",\"yaxis\":\"y\",\"type\":\"box\"},{\"alignmentgroup\":\"True\",\"hovertemplate\":\"Validation loss=%{x}\\u003cbr\\u003eWindow function=%{y}\\u003cextra\\u003e\\u003c\\u002fextra\\u003e\",\"legendgroup\":\"0.2678727805614471\",\"marker\":{\"color\":\"#FFA15A\"},\"name\":\"0.2678727805614471\",\"notched\":false,\"offsetgroup\":\"0.2678727805614471\",\"orientation\":\"h\",\"showlegend\":true,\"x\":[0.2678727805614471],\"x0\":\" \",\"xaxis\":\"x\",\"y\":[\"poly6\"],\"y0\":\" \",\"yaxis\":\"y\",\"type\":\"box\"},{\"alignmentgroup\":\"True\",\"hovertemplate\":\"Validation loss=%{x}\\u003cbr\\u003eWindow function=%{y}\\u003cextra\\u003e\\u003c\\u002fextra\\u003e\",\"legendgroup\":\"0.2904145419597626\",\"marker\":{\"color\":\"#19d3f3\"},\"name\":\"0.2904145419597626\",\"notched\":false,\"offsetgroup\":\"0.2904145419597626\",\"orientation\":\"h\",\"showlegend\":true,\"x\":[0.2904145419597626],\"x0\":\" \",\"xaxis\":\"x\",\"y\":[\"gaussian\"],\"y0\":\" \",\"yaxis\":\"y\",\"type\":\"box\"},{\"alignmentgroup\":\"True\",\"hovertemplate\":\"Validation loss=%{x}\\u003cbr\\u003eWindow function=%{y}\\u003cextra\\u003e\\u003c\\u002fextra\\u003e\",\"legendgroup\":\"0.384754329919815\",\"marker\":{\"color\":\"#FF6692\"},\"name\":\"0.384754329919815\",\"notched\":false,\"offsetgroup\":\"0.384754329919815\",\"orientation\":\"h\",\"showlegend\":true,\"x\":[0.384754329919815],\"x0\":\" \",\"xaxis\":\"x\",\"y\":[\"None\"],\"y0\":\" \",\"yaxis\":\"y\",\"type\":\"box\"},{\"alignmentgroup\":\"True\",\"hovertemplate\":\"Validation loss=%{x}\\u003cbr\\u003eWindow function=%{y}\\u003cextra\\u003e\\u003c\\u002fextra\\u003e\",\"legendgroup\":\"0.4516955316066742\",\"marker\":{\"color\":\"#B6E880\"},\"name\":\"0.4516955316066742\",\"notched\":false,\"offsetgroup\":\"0.4516955316066742\",\"orientation\":\"h\",\"showlegend\":true,\"x\":[0.4516955316066742],\"x0\":\" \",\"xaxis\":\"x\",\"y\":[\"None\"],\"y0\":\" \",\"yaxis\":\"y\",\"type\":\"box\"},{\"alignmentgroup\":\"True\",\"hovertemplate\":\"Validation loss=%{x}\\u003cbr\\u003eWindow function=%{y}\\u003cextra\\u003e\\u003c\\u002fextra\\u003e\",\"legendgroup\":\"0.5957207083702087\",\"marker\":{\"color\":\"#FF97FF\"},\"name\":\"0.5957207083702087\",\"notched\":false,\"offsetgroup\":\"0.5957207083702087\",\"orientation\":\"h\",\"showlegend\":true,\"x\":[0.5957207083702087],\"x0\":\" \",\"xaxis\":\"x\",\"y\":[\"poly6\"],\"y0\":\" \",\"yaxis\":\"y\",\"type\":\"box\"},{\"alignmentgroup\":\"True\",\"hovertemplate\":\"Validation loss=%{x}\\u003cbr\\u003eWindow function=%{y}\\u003cextra\\u003e\\u003c\\u002fextra\\u003e\",\"legendgroup\":\"0.6612871885299683\",\"marker\":{\"color\":\"#FECB52\"},\"name\":\"0.6612871885299683\",\"notched\":false,\"offsetgroup\":\"0.6612871885299683\",\"orientation\":\"h\",\"showlegend\":true,\"x\":[0.6612871885299683],\"x0\":\" \",\"xaxis\":\"x\",\"y\":[\"None\"],\"y0\":\" \",\"yaxis\":\"y\",\"type\":\"box\"},{\"alignmentgroup\":\"True\",\"hovertemplate\":\"Validation loss=%{x}\\u003cbr\\u003eWindow function=%{y}\\u003cextra\\u003e\\u003c\\u002fextra\\u003e\",\"legendgroup\":\"0.6737052798271179\",\"marker\":{\"color\":\"#636efa\"},\"name\":\"0.6737052798271179\",\"notched\":false,\"offsetgroup\":\"0.6737052798271179\",\"orientation\":\"h\",\"showlegend\":true,\"x\":[0.6737052798271179],\"x0\":\" \",\"xaxis\":\"x\",\"y\":[\"poly6\"],\"y0\":\" \",\"yaxis\":\"y\",\"type\":\"box\"},{\"alignmentgroup\":\"True\",\"hovertemplate\":\"Validation loss=%{x}\\u003cbr\\u003eWindow function=%{y}\\u003cextra\\u003e\\u003c\\u002fextra\\u003e\",\"legendgroup\":\"0.6764938235282898\",\"marker\":{\"color\":\"#EF553B\"},\"name\":\"0.6764938235282898\",\"notched\":false,\"offsetgroup\":\"0.6764938235282898\",\"orientation\":\"h\",\"showlegend\":true,\"x\":[0.6764938235282898],\"x0\":\" \",\"xaxis\":\"x\",\"y\":[\"poly6\"],\"y0\":\" \",\"yaxis\":\"y\",\"type\":\"box\"},{\"alignmentgroup\":\"True\",\"hovertemplate\":\"Validation loss=%{x}\\u003cbr\\u003eWindow function=%{y}\\u003cextra\\u003e\\u003c\\u002fextra\\u003e\",\"legendgroup\":\"0.7108669877052307\",\"marker\":{\"color\":\"#00cc96\"},\"name\":\"0.7108669877052307\",\"notched\":false,\"offsetgroup\":\"0.7108669877052307\",\"orientation\":\"h\",\"showlegend\":true,\"x\":[0.7108669877052307],\"x0\":\" \",\"xaxis\":\"x\",\"y\":[\"None\"],\"y0\":\" \",\"yaxis\":\"y\",\"type\":\"box\"},{\"alignmentgroup\":\"True\",\"hovertemplate\":\"Validation loss=%{x}\\u003cbr\\u003eWindow function=%{y}\\u003cextra\\u003e\\u003c\\u002fextra\\u003e\",\"legendgroup\":\"0.7253999710083008\",\"marker\":{\"color\":\"#ab63fa\"},\"name\":\"0.7253999710083008\",\"notched\":false,\"offsetgroup\":\"0.7253999710083008\",\"orientation\":\"h\",\"showlegend\":true,\"x\":[0.7253999710083008],\"x0\":\" \",\"xaxis\":\"x\",\"y\":[\"gaussian\"],\"y0\":\" \",\"yaxis\":\"y\",\"type\":\"box\"},{\"alignmentgroup\":\"True\",\"hovertemplate\":\"Validation loss=%{x}\\u003cbr\\u003eWindow function=%{y}\\u003cextra\\u003e\\u003c\\u002fextra\\u003e\",\"legendgroup\":\"0.8056357502937317\",\"marker\":{\"color\":\"#FFA15A\"},\"name\":\"0.8056357502937317\",\"notched\":false,\"offsetgroup\":\"0.8056357502937317\",\"orientation\":\"h\",\"showlegend\":true,\"x\":[0.8056357502937317],\"x0\":\" \",\"xaxis\":\"x\",\"y\":[\"None\"],\"y0\":\" \",\"yaxis\":\"y\",\"type\":\"box\"},{\"alignmentgroup\":\"True\",\"hovertemplate\":\"Validation loss=%{x}\\u003cbr\\u003eWindow function=%{y}\\u003cextra\\u003e\\u003c\\u002fextra\\u003e\",\"legendgroup\":\"0.8386881947517395\",\"marker\":{\"color\":\"#19d3f3\"},\"name\":\"0.8386881947517395\",\"notched\":false,\"offsetgroup\":\"0.8386881947517395\",\"orientation\":\"h\",\"showlegend\":true,\"x\":[0.8386881947517395],\"x0\":\" \",\"xaxis\":\"x\",\"y\":[\"poly6\"],\"y0\":\" \",\"yaxis\":\"y\",\"type\":\"box\"},{\"alignmentgroup\":\"True\",\"hovertemplate\":\"Validation loss=%{x}\\u003cbr\\u003eWindow function=%{y}\\u003cextra\\u003e\\u003c\\u002fextra\\u003e\",\"legendgroup\":\"0.8619832396507263\",\"marker\":{\"color\":\"#FF6692\"},\"name\":\"0.8619832396507263\",\"notched\":false,\"offsetgroup\":\"0.8619832396507263\",\"orientation\":\"h\",\"showlegend\":true,\"x\":[0.8619832396507263],\"x0\":\" \",\"xaxis\":\"x\",\"y\":[\"None\"],\"y0\":\" \",\"yaxis\":\"y\",\"type\":\"box\"},{\"alignmentgroup\":\"True\",\"hovertemplate\":\"Validation loss=%{x}\\u003cbr\\u003eWindow function=%{y}\\u003cextra\\u003e\\u003c\\u002fextra\\u003e\",\"legendgroup\":\"0.8703534007072449\",\"marker\":{\"color\":\"#B6E880\"},\"name\":\"0.8703534007072449\",\"notched\":false,\"offsetgroup\":\"0.8703534007072449\",\"orientation\":\"h\",\"showlegend\":true,\"x\":[0.8703534007072449],\"x0\":\" \",\"xaxis\":\"x\",\"y\":[\"None\"],\"y0\":\" \",\"yaxis\":\"y\",\"type\":\"box\"},{\"alignmentgroup\":\"True\",\"hovertemplate\":\"Validation loss=%{x}\\u003cbr\\u003eWindow function=%{y}\\u003cextra\\u003e\\u003c\\u002fextra\\u003e\",\"legendgroup\":\"0.9019795656204224\",\"marker\":{\"color\":\"#FF97FF\"},\"name\":\"0.9019795656204224\",\"notched\":false,\"offsetgroup\":\"0.9019795656204224\",\"orientation\":\"h\",\"showlegend\":true,\"x\":[0.9019795656204224],\"x0\":\" \",\"xaxis\":\"x\",\"y\":[\"gaussian\"],\"y0\":\" \",\"yaxis\":\"y\",\"type\":\"box\"},{\"alignmentgroup\":\"True\",\"hovertemplate\":\"Validation loss=%{x}\\u003cbr\\u003eWindow function=%{y}\\u003cextra\\u003e\\u003c\\u002fextra\\u003e\",\"legendgroup\":\"0.9085923433303832\",\"marker\":{\"color\":\"#FECB52\"},\"name\":\"0.9085923433303832\",\"notched\":false,\"offsetgroup\":\"0.9085923433303832\",\"orientation\":\"h\",\"showlegend\":true,\"x\":[0.9085923433303832],\"x0\":\" \",\"xaxis\":\"x\",\"y\":[\"poly6\"],\"y0\":\" \",\"yaxis\":\"y\",\"type\":\"box\"},{\"alignmentgroup\":\"True\",\"hovertemplate\":\"Validation loss=%{x}\\u003cbr\\u003eWindow function=%{y}\\u003cextra\\u003e\\u003c\\u002fextra\\u003e\",\"legendgroup\":\"0.9124155044555664\",\"marker\":{\"color\":\"#636efa\"},\"name\":\"0.9124155044555664\",\"notched\":false,\"offsetgroup\":\"0.9124155044555664\",\"orientation\":\"h\",\"showlegend\":true,\"x\":[0.9124155044555664],\"x0\":\" \",\"xaxis\":\"x\",\"y\":[\"poly6\"],\"y0\":\" \",\"yaxis\":\"y\",\"type\":\"box\"},{\"alignmentgroup\":\"True\",\"hovertemplate\":\"Validation loss=%{x}\\u003cbr\\u003eWindow function=%{y}\\u003cextra\\u003e\\u003c\\u002fextra\\u003e\",\"legendgroup\":\"0.920562982559204\",\"marker\":{\"color\":\"#EF553B\"},\"name\":\"0.920562982559204\",\"notched\":false,\"offsetgroup\":\"0.920562982559204\",\"orientation\":\"h\",\"showlegend\":true,\"x\":[0.920562982559204],\"x0\":\" \",\"xaxis\":\"x\",\"y\":[\"poly6\"],\"y0\":\" \",\"yaxis\":\"y\",\"type\":\"box\"},{\"alignmentgroup\":\"True\",\"hovertemplate\":\"Validation loss=%{x}\\u003cbr\\u003eWindow function=%{y}\\u003cextra\\u003e\\u003c\\u002fextra\\u003e\",\"legendgroup\":\"0.9354971647262572\",\"marker\":{\"color\":\"#00cc96\"},\"name\":\"0.9354971647262572\",\"notched\":false,\"offsetgroup\":\"0.9354971647262572\",\"orientation\":\"h\",\"showlegend\":true,\"x\":[0.9354971647262572],\"x0\":\" \",\"xaxis\":\"x\",\"y\":[\"None\"],\"y0\":\" \",\"yaxis\":\"y\",\"type\":\"box\"},{\"alignmentgroup\":\"True\",\"hovertemplate\":\"Validation loss=%{x}\\u003cbr\\u003eWindow function=%{y}\\u003cextra\\u003e\\u003c\\u002fextra\\u003e\",\"legendgroup\":\"0.9366219639778136\",\"marker\":{\"color\":\"#ab63fa\"},\"name\":\"0.9366219639778136\",\"notched\":false,\"offsetgroup\":\"0.9366219639778136\",\"orientation\":\"h\",\"showlegend\":true,\"x\":[0.9366219639778136],\"x0\":\" \",\"xaxis\":\"x\",\"y\":[\"gaussian\"],\"y0\":\" \",\"yaxis\":\"y\",\"type\":\"box\"},{\"alignmentgroup\":\"True\",\"hovertemplate\":\"Validation loss=%{x}\\u003cbr\\u003eWindow function=%{y}\\u003cextra\\u003e\\u003c\\u002fextra\\u003e\",\"legendgroup\":\"0.938056707382202\",\"marker\":{\"color\":\"#FFA15A\"},\"name\":\"0.938056707382202\",\"notched\":false,\"offsetgroup\":\"0.938056707382202\",\"orientation\":\"h\",\"showlegend\":true,\"x\":[0.938056707382202],\"x0\":\" \",\"xaxis\":\"x\",\"y\":[\"poly6\"],\"y0\":\" \",\"yaxis\":\"y\",\"type\":\"box\"},{\"alignmentgroup\":\"True\",\"hovertemplate\":\"Validation loss=%{x}\\u003cbr\\u003eWindow function=%{y}\\u003cextra\\u003e\\u003c\\u002fextra\\u003e\",\"legendgroup\":\"0.941224217414856\",\"marker\":{\"color\":\"#19d3f3\"},\"name\":\"0.941224217414856\",\"notched\":false,\"offsetgroup\":\"0.941224217414856\",\"orientation\":\"h\",\"showlegend\":true,\"x\":[0.941224217414856],\"x0\":\" \",\"xaxis\":\"x\",\"y\":[\"None\"],\"y0\":\" \",\"yaxis\":\"y\",\"type\":\"box\"},{\"alignmentgroup\":\"True\",\"hovertemplate\":\"Validation loss=%{x}\\u003cbr\\u003eWindow function=%{y}\\u003cextra\\u003e\\u003c\\u002fextra\\u003e\",\"legendgroup\":\"0.9414558410644532\",\"marker\":{\"color\":\"#FF6692\"},\"name\":\"0.9414558410644532\",\"notched\":false,\"offsetgroup\":\"0.9414558410644532\",\"orientation\":\"h\",\"showlegend\":true,\"x\":[0.9414558410644532],\"x0\":\" \",\"xaxis\":\"x\",\"y\":[\"poly6\"],\"y0\":\" \",\"yaxis\":\"y\",\"type\":\"box\"},{\"alignmentgroup\":\"True\",\"hovertemplate\":\"Validation loss=%{x}\\u003cbr\\u003eWindow function=%{y}\\u003cextra\\u003e\\u003c\\u002fextra\\u003e\",\"legendgroup\":\"0.951740562915802\",\"marker\":{\"color\":\"#B6E880\"},\"name\":\"0.951740562915802\",\"notched\":false,\"offsetgroup\":\"0.951740562915802\",\"orientation\":\"h\",\"showlegend\":true,\"x\":[0.951740562915802],\"x0\":\" \",\"xaxis\":\"x\",\"y\":[\"poly6\"],\"y0\":\" \",\"yaxis\":\"y\",\"type\":\"box\"},{\"alignmentgroup\":\"True\",\"hovertemplate\":\"Validation loss=%{x}\\u003cbr\\u003eWindow function=%{y}\\u003cextra\\u003e\\u003c\\u002fextra\\u003e\",\"legendgroup\":\"0.9778998494148254\",\"marker\":{\"color\":\"#FF97FF\"},\"name\":\"0.9778998494148254\",\"notched\":false,\"offsetgroup\":\"0.9778998494148254\",\"orientation\":\"h\",\"showlegend\":true,\"x\":[0.9778998494148254],\"x0\":\" \",\"xaxis\":\"x\",\"y\":[\"poly6\"],\"y0\":\" \",\"yaxis\":\"y\",\"type\":\"box\"},{\"alignmentgroup\":\"True\",\"hovertemplate\":\"Validation loss=%{x}\\u003cbr\\u003eWindow function=%{y}\\u003cextra\\u003e\\u003c\\u002fextra\\u003e\",\"legendgroup\":\"0.9803254008293152\",\"marker\":{\"color\":\"#FECB52\"},\"name\":\"0.9803254008293152\",\"notched\":false,\"offsetgroup\":\"0.9803254008293152\",\"orientation\":\"h\",\"showlegend\":true,\"x\":[0.9803254008293152],\"x0\":\" \",\"xaxis\":\"x\",\"y\":[\"gaussian\"],\"y0\":\" \",\"yaxis\":\"y\",\"type\":\"box\"},{\"alignmentgroup\":\"True\",\"hovertemplate\":\"Validation loss=%{x}\\u003cbr\\u003eWindow function=%{y}\\u003cextra\\u003e\\u003c\\u002fextra\\u003e\",\"legendgroup\":\"0.9882200956344604\",\"marker\":{\"color\":\"#636efa\"},\"name\":\"0.9882200956344604\",\"notched\":false,\"offsetgroup\":\"0.9882200956344604\",\"orientation\":\"h\",\"showlegend\":true,\"x\":[0.9882200956344604],\"x0\":\" \",\"xaxis\":\"x\",\"y\":[\"gaussian\"],\"y0\":\" \",\"yaxis\":\"y\",\"type\":\"box\"}],                        {\"template\":{\"data\":{\"histogram2dcontour\":[{\"type\":\"histogram2dcontour\",\"colorbar\":{\"outlinewidth\":0,\"ticks\":\"\"},\"colorscale\":[[0.0,\"#0d0887\"],[0.1111111111111111,\"#46039f\"],[0.2222222222222222,\"#7201a8\"],[0.3333333333333333,\"#9c179e\"],[0.4444444444444444,\"#bd3786\"],[0.5555555555555556,\"#d8576b\"],[0.6666666666666666,\"#ed7953\"],[0.7777777777777778,\"#fb9f3a\"],[0.8888888888888888,\"#fdca26\"],[1.0,\"#f0f921\"]]}],\"choropleth\":[{\"type\":\"choropleth\",\"colorbar\":{\"outlinewidth\":0,\"ticks\":\"\"}}],\"histogram2d\":[{\"type\":\"histogram2d\",\"colorbar\":{\"outlinewidth\":0,\"ticks\":\"\"},\"colorscale\":[[0.0,\"#0d0887\"],[0.1111111111111111,\"#46039f\"],[0.2222222222222222,\"#7201a8\"],[0.3333333333333333,\"#9c179e\"],[0.4444444444444444,\"#bd3786\"],[0.5555555555555556,\"#d8576b\"],[0.6666666666666666,\"#ed7953\"],[0.7777777777777778,\"#fb9f3a\"],[0.8888888888888888,\"#fdca26\"],[1.0,\"#f0f921\"]]}],\"heatmap\":[{\"type\":\"heatmap\",\"colorbar\":{\"outlinewidth\":0,\"ticks\":\"\"},\"colorscale\":[[0.0,\"#0d0887\"],[0.1111111111111111,\"#46039f\"],[0.2222222222222222,\"#7201a8\"],[0.3333333333333333,\"#9c179e\"],[0.4444444444444444,\"#bd3786\"],[0.5555555555555556,\"#d8576b\"],[0.6666666666666666,\"#ed7953\"],[0.7777777777777778,\"#fb9f3a\"],[0.8888888888888888,\"#fdca26\"],[1.0,\"#f0f921\"]]}],\"heatmapgl\":[{\"type\":\"heatmapgl\",\"colorbar\":{\"outlinewidth\":0,\"ticks\":\"\"},\"colorscale\":[[0.0,\"#0d0887\"],[0.1111111111111111,\"#46039f\"],[0.2222222222222222,\"#7201a8\"],[0.3333333333333333,\"#9c179e\"],[0.4444444444444444,\"#bd3786\"],[0.5555555555555556,\"#d8576b\"],[0.6666666666666666,\"#ed7953\"],[0.7777777777777778,\"#fb9f3a\"],[0.8888888888888888,\"#fdca26\"],[1.0,\"#f0f921\"]]}],\"contourcarpet\":[{\"type\":\"contourcarpet\",\"colorbar\":{\"outlinewidth\":0,\"ticks\":\"\"}}],\"contour\":[{\"type\":\"contour\",\"colorbar\":{\"outlinewidth\":0,\"ticks\":\"\"},\"colorscale\":[[0.0,\"#0d0887\"],[0.1111111111111111,\"#46039f\"],[0.2222222222222222,\"#7201a8\"],[0.3333333333333333,\"#9c179e\"],[0.4444444444444444,\"#bd3786\"],[0.5555555555555556,\"#d8576b\"],[0.6666666666666666,\"#ed7953\"],[0.7777777777777778,\"#fb9f3a\"],[0.8888888888888888,\"#fdca26\"],[1.0,\"#f0f921\"]]}],\"surface\":[{\"type\":\"surface\",\"colorbar\":{\"outlinewidth\":0,\"ticks\":\"\"},\"colorscale\":[[0.0,\"#0d0887\"],[0.1111111111111111,\"#46039f\"],[0.2222222222222222,\"#7201a8\"],[0.3333333333333333,\"#9c179e\"],[0.4444444444444444,\"#bd3786\"],[0.5555555555555556,\"#d8576b\"],[0.6666666666666666,\"#ed7953\"],[0.7777777777777778,\"#fb9f3a\"],[0.8888888888888888,\"#fdca26\"],[1.0,\"#f0f921\"]]}],\"mesh3d\":[{\"type\":\"mesh3d\",\"colorbar\":{\"outlinewidth\":0,\"ticks\":\"\"}}],\"scatter\":[{\"fillpattern\":{\"fillmode\":\"overlay\",\"size\":10,\"solidity\":0.2},\"type\":\"scatter\"}],\"parcoords\":[{\"type\":\"parcoords\",\"line\":{\"colorbar\":{\"outlinewidth\":0,\"ticks\":\"\"}}}],\"scatterpolargl\":[{\"type\":\"scatterpolargl\",\"marker\":{\"colorbar\":{\"outlinewidth\":0,\"ticks\":\"\"}}}],\"bar\":[{\"error_x\":{\"color\":\"#2a3f5f\"},\"error_y\":{\"color\":\"#2a3f5f\"},\"marker\":{\"line\":{\"color\":\"#E5ECF6\",\"width\":0.5},\"pattern\":{\"fillmode\":\"overlay\",\"size\":10,\"solidity\":0.2}},\"type\":\"bar\"}],\"scattergeo\":[{\"type\":\"scattergeo\",\"marker\":{\"colorbar\":{\"outlinewidth\":0,\"ticks\":\"\"}}}],\"scatterpolar\":[{\"type\":\"scatterpolar\",\"marker\":{\"colorbar\":{\"outlinewidth\":0,\"ticks\":\"\"}}}],\"histogram\":[{\"marker\":{\"pattern\":{\"fillmode\":\"overlay\",\"size\":10,\"solidity\":0.2}},\"type\":\"histogram\"}],\"scattergl\":[{\"type\":\"scattergl\",\"marker\":{\"colorbar\":{\"outlinewidth\":0,\"ticks\":\"\"}}}],\"scatter3d\":[{\"type\":\"scatter3d\",\"line\":{\"colorbar\":{\"outlinewidth\":0,\"ticks\":\"\"}},\"marker\":{\"colorbar\":{\"outlinewidth\":0,\"ticks\":\"\"}}}],\"scattermapbox\":[{\"type\":\"scattermapbox\",\"marker\":{\"colorbar\":{\"outlinewidth\":0,\"ticks\":\"\"}}}],\"scatterternary\":[{\"type\":\"scatterternary\",\"marker\":{\"colorbar\":{\"outlinewidth\":0,\"ticks\":\"\"}}}],\"scattercarpet\":[{\"type\":\"scattercarpet\",\"marker\":{\"colorbar\":{\"outlinewidth\":0,\"ticks\":\"\"}}}],\"carpet\":[{\"aaxis\":{\"endlinecolor\":\"#2a3f5f\",\"gridcolor\":\"white\",\"linecolor\":\"white\",\"minorgridcolor\":\"white\",\"startlinecolor\":\"#2a3f5f\"},\"baxis\":{\"endlinecolor\":\"#2a3f5f\",\"gridcolor\":\"white\",\"linecolor\":\"white\",\"minorgridcolor\":\"white\",\"startlinecolor\":\"#2a3f5f\"},\"type\":\"carpet\"}],\"table\":[{\"cells\":{\"fill\":{\"color\":\"#EBF0F8\"},\"line\":{\"color\":\"white\"}},\"header\":{\"fill\":{\"color\":\"#C8D4E3\"},\"line\":{\"color\":\"white\"}},\"type\":\"table\"}],\"barpolar\":[{\"marker\":{\"line\":{\"color\":\"#E5ECF6\",\"width\":0.5},\"pattern\":{\"fillmode\":\"overlay\",\"size\":10,\"solidity\":0.2}},\"type\":\"barpolar\"}],\"pie\":[{\"automargin\":true,\"type\":\"pie\"}]},\"layout\":{\"autotypenumbers\":\"strict\",\"colorway\":[\"#636efa\",\"#EF553B\",\"#00cc96\",\"#ab63fa\",\"#FFA15A\",\"#19d3f3\",\"#FF6692\",\"#B6E880\",\"#FF97FF\",\"#FECB52\"],\"font\":{\"color\":\"#2a3f5f\"},\"hovermode\":\"closest\",\"hoverlabel\":{\"align\":\"left\"},\"paper_bgcolor\":\"white\",\"plot_bgcolor\":\"#E5ECF6\",\"polar\":{\"bgcolor\":\"#E5ECF6\",\"angularaxis\":{\"gridcolor\":\"white\",\"linecolor\":\"white\",\"ticks\":\"\"},\"radialaxis\":{\"gridcolor\":\"white\",\"linecolor\":\"white\",\"ticks\":\"\"}},\"ternary\":{\"bgcolor\":\"#E5ECF6\",\"aaxis\":{\"gridcolor\":\"white\",\"linecolor\":\"white\",\"ticks\":\"\"},\"baxis\":{\"gridcolor\":\"white\",\"linecolor\":\"white\",\"ticks\":\"\"},\"caxis\":{\"gridcolor\":\"white\",\"linecolor\":\"white\",\"ticks\":\"\"}},\"coloraxis\":{\"colorbar\":{\"outlinewidth\":0,\"ticks\":\"\"}},\"colorscale\":{\"sequential\":[[0.0,\"#0d0887\"],[0.1111111111111111,\"#46039f\"],[0.2222222222222222,\"#7201a8\"],[0.3333333333333333,\"#9c179e\"],[0.4444444444444444,\"#bd3786\"],[0.5555555555555556,\"#d8576b\"],[0.6666666666666666,\"#ed7953\"],[0.7777777777777778,\"#fb9f3a\"],[0.8888888888888888,\"#fdca26\"],[1.0,\"#f0f921\"]],\"sequentialminus\":[[0.0,\"#0d0887\"],[0.1111111111111111,\"#46039f\"],[0.2222222222222222,\"#7201a8\"],[0.3333333333333333,\"#9c179e\"],[0.4444444444444444,\"#bd3786\"],[0.5555555555555556,\"#d8576b\"],[0.6666666666666666,\"#ed7953\"],[0.7777777777777778,\"#fb9f3a\"],[0.8888888888888888,\"#fdca26\"],[1.0,\"#f0f921\"]],\"diverging\":[[0,\"#8e0152\"],[0.1,\"#c51b7d\"],[0.2,\"#de77ae\"],[0.3,\"#f1b6da\"],[0.4,\"#fde0ef\"],[0.5,\"#f7f7f7\"],[0.6,\"#e6f5d0\"],[0.7,\"#b8e186\"],[0.8,\"#7fbc41\"],[0.9,\"#4d9221\"],[1,\"#276419\"]]},\"xaxis\":{\"gridcolor\":\"white\",\"linecolor\":\"white\",\"ticks\":\"\",\"title\":{\"standoff\":15},\"zerolinecolor\":\"white\",\"automargin\":true,\"zerolinewidth\":2},\"yaxis\":{\"gridcolor\":\"white\",\"linecolor\":\"white\",\"ticks\":\"\",\"title\":{\"standoff\":15},\"zerolinecolor\":\"white\",\"automargin\":true,\"zerolinewidth\":2},\"scene\":{\"xaxis\":{\"backgroundcolor\":\"#E5ECF6\",\"gridcolor\":\"white\",\"linecolor\":\"white\",\"showbackground\":true,\"ticks\":\"\",\"zerolinecolor\":\"white\",\"gridwidth\":2},\"yaxis\":{\"backgroundcolor\":\"#E5ECF6\",\"gridcolor\":\"white\",\"linecolor\":\"white\",\"showbackground\":true,\"ticks\":\"\",\"zerolinecolor\":\"white\",\"gridwidth\":2},\"zaxis\":{\"backgroundcolor\":\"#E5ECF6\",\"gridcolor\":\"white\",\"linecolor\":\"white\",\"showbackground\":true,\"ticks\":\"\",\"zerolinecolor\":\"white\",\"gridwidth\":2}},\"shapedefaults\":{\"line\":{\"color\":\"#2a3f5f\"}},\"annotationdefaults\":{\"arrowcolor\":\"#2a3f5f\",\"arrowhead\":0,\"arrowwidth\":1},\"geo\":{\"bgcolor\":\"white\",\"landcolor\":\"#E5ECF6\",\"subunitcolor\":\"white\",\"showland\":true,\"showlakes\":true,\"lakecolor\":\"white\"},\"title\":{\"x\":0.05},\"mapbox\":{\"style\":\"light\"}}},\"xaxis\":{\"anchor\":\"y\",\"domain\":[0.0,1.0],\"title\":{\"text\":\"Validation loss\"},\"categoryorder\":\"array\",\"categoryarray\":[0.1519712805747985,0.2104188352823257,0.2307580709457397,0.2525908648967743,0.2678727805614471,0.2904145419597626,0.384754329919815,0.4516955316066742,0.5957207083702087,0.6612871885299683,0.6737052798271179,0.6764938235282898,0.7108669877052307,0.7253999710083008,0.8056357502937317,0.8386881947517395,0.8619832396507263,0.8703534007072449,0.9019795656204224,0.9085923433303832,0.9124155044555664,0.920562982559204,0.9354971647262572,0.9366219639778136,0.938056707382202,0.941224217414856,0.9414558410644532,0.951740562915802,0.9778998494148254,0.9803254008293152,0.9882200956344604]},\"yaxis\":{\"anchor\":\"x\",\"domain\":[0.0,1.0],\"title\":{\"text\":\"Window function\"}},\"legend\":{\"title\":{\"text\":\"Validation loss\"},\"tracegroupgap\":0},\"title\":{\"text\":\"Hyperparameter search results\"},\"boxmode\":\"group\",\"height\":1250},                        {\"responsive\": true}                    ).then(function(){\n",
       "                            \n",
       "var gd = document.getElementById('a0d47d34-ef79-4806-bf9a-8bc78c79c163');\n",
       "var x = new MutationObserver(function (mutations, observer) {{\n",
       "        var display = window.getComputedStyle(gd).display;\n",
       "        if (!display || display === 'none') {{\n",
       "            console.log([gd, 'removed!']);\n",
       "            Plotly.purge(gd);\n",
       "            observer.disconnect();\n",
       "        }}\n",
       "}});\n",
       "\n",
       "// Listen for the removal of the full notebook cells\n",
       "var notebookContainer = gd.closest('#notebook-container');\n",
       "if (notebookContainer) {{\n",
       "    x.observe(notebookContainer, {childList: true});\n",
       "}}\n",
       "\n",
       "// Listen for the clearing of the current output cell\n",
       "var outputEl = gd.closest('.output');\n",
       "if (outputEl) {{\n",
       "    x.observe(outputEl, {childList: true});\n",
       "}}\n",
       "\n",
       "                        })                };                });            </script>        </div>"
      ]
     },
     "metadata": {},
     "output_type": "display_data"
    }
   ],
   "source": [
    "# Create boxplots\n",
    "fig = px.box(\n",
    "    df,\n",
    "    x='val_loss',\n",
    "    y='window_function',\n",
    "    color='val_loss',\n",
    "    title='Hyperparameter search results',\n",
    "    labels={\n",
    "        'val_loss': 'Validation loss',\n",
    "        'window_function': 'Window function',\n",
    "        'intermediate_activation_fn': 'Activation function',\n",
    "        'align_corners': 'Align corners',\n",
    "        'normalize': 'Normalize',\n",
    "        'filter_extent': 'Filter extent',\n",
    "        'radius_search_ignore_query_points': 'Ignore query points',\n",
    "        'use_dense_layer_for_centers': 'Dense layer',\n",
    "        'stopped_early': 'Stopped early'\n",
    "    },\n",
    "    height=1250,\n",
    ")\n",
    "fig.show()\n"
   ]
  },
  {
   "cell_type": "code",
   "execution_count": 84,
   "metadata": {},
   "outputs": [
    {
     "data": {
      "application/vnd.plotly.v1+json": {
       "config": {
        "plotlyServerURL": "https://plot.ly"
       },
       "data": [
        {
         "colorscale": [
          [
           0,
           "#440154"
          ],
          [
           0.1111111111111111,
           "#482878"
          ],
          [
           0.2222222222222222,
           "#3e4989"
          ],
          [
           0.3333333333333333,
           "#31688e"
          ],
          [
           0.4444444444444444,
           "#26828e"
          ],
          [
           0.5555555555555556,
           "#1f9e89"
          ],
          [
           0.6666666666666666,
           "#35b779"
          ],
          [
           0.7777777777777778,
           "#6ece58"
          ],
          [
           0.8888888888888888,
           "#b5de2b"
          ],
          [
           1,
           "#fde725"
          ]
         ],
         "type": "heatmap",
         "x": [
          "None",
          "poly6",
          "gaussian",
          "gaussian",
          "poly6",
          "gaussian",
          "None",
          "None",
          "poly6",
          "None",
          "poly6",
          "poly6",
          "None",
          "gaussian",
          "None",
          "poly6",
          "None",
          "None",
          "gaussian",
          "poly6",
          "poly6",
          "poly6",
          "None",
          "gaussian",
          "poly6",
          "None",
          "poly6",
          "poly6",
          "poly6",
          "gaussian",
          "gaussian"
         ],
         "y": [
          "GeLU",
          "GeLU",
          "leaky_relu",
          "tanh",
          "GeLU",
          "tanh",
          "relu",
          "GeLU",
          "GeLU",
          "relu",
          "relu",
          "tanh",
          "relu",
          "leaky_relu",
          "leaky_relu",
          "relu",
          "GeLU",
          "tanh",
          "GeLU",
          "relu",
          "GeLU",
          "relu",
          "GeLU",
          "leaky_relu",
          "relu",
          "GeLU",
          "GeLU",
          "leaky_relu",
          "tanh",
          "relu",
          "leaky_relu"
         ],
         "z": [
          0.1519712805747985,
          0.2104188352823257,
          0.2307580709457397,
          0.2525908648967743,
          0.2678727805614471,
          0.2904145419597626,
          0.384754329919815,
          0.4516955316066742,
          0.5957207083702087,
          0.6612871885299683,
          0.6737052798271179,
          0.6764938235282898,
          0.7108669877052307,
          0.7253999710083008,
          0.8056357502937317,
          0.8386881947517395,
          0.8619832396507263,
          0.8703534007072449,
          0.9019795656204224,
          0.9085923433303832,
          0.9124155044555664,
          0.920562982559204,
          0.9354971647262572,
          0.9366219639778136,
          0.938056707382202,
          0.941224217414856,
          0.9414558410644532,
          0.951740562915802,
          0.9778998494148254,
          0.9803254008293152,
          0.9882200956344604
         ]
        }
       ],
       "layout": {
        "template": {
         "data": {
          "bar": [
           {
            "error_x": {
             "color": "#2a3f5f"
            },
            "error_y": {
             "color": "#2a3f5f"
            },
            "marker": {
             "line": {
              "color": "#E5ECF6",
              "width": 0.5
             },
             "pattern": {
              "fillmode": "overlay",
              "size": 10,
              "solidity": 0.2
             }
            },
            "type": "bar"
           }
          ],
          "barpolar": [
           {
            "marker": {
             "line": {
              "color": "#E5ECF6",
              "width": 0.5
             },
             "pattern": {
              "fillmode": "overlay",
              "size": 10,
              "solidity": 0.2
             }
            },
            "type": "barpolar"
           }
          ],
          "carpet": [
           {
            "aaxis": {
             "endlinecolor": "#2a3f5f",
             "gridcolor": "white",
             "linecolor": "white",
             "minorgridcolor": "white",
             "startlinecolor": "#2a3f5f"
            },
            "baxis": {
             "endlinecolor": "#2a3f5f",
             "gridcolor": "white",
             "linecolor": "white",
             "minorgridcolor": "white",
             "startlinecolor": "#2a3f5f"
            },
            "type": "carpet"
           }
          ],
          "choropleth": [
           {
            "colorbar": {
             "outlinewidth": 0,
             "ticks": ""
            },
            "type": "choropleth"
           }
          ],
          "contour": [
           {
            "colorbar": {
             "outlinewidth": 0,
             "ticks": ""
            },
            "colorscale": [
             [
              0,
              "#0d0887"
             ],
             [
              0.1111111111111111,
              "#46039f"
             ],
             [
              0.2222222222222222,
              "#7201a8"
             ],
             [
              0.3333333333333333,
              "#9c179e"
             ],
             [
              0.4444444444444444,
              "#bd3786"
             ],
             [
              0.5555555555555556,
              "#d8576b"
             ],
             [
              0.6666666666666666,
              "#ed7953"
             ],
             [
              0.7777777777777778,
              "#fb9f3a"
             ],
             [
              0.8888888888888888,
              "#fdca26"
             ],
             [
              1,
              "#f0f921"
             ]
            ],
            "type": "contour"
           }
          ],
          "contourcarpet": [
           {
            "colorbar": {
             "outlinewidth": 0,
             "ticks": ""
            },
            "type": "contourcarpet"
           }
          ],
          "heatmap": [
           {
            "colorbar": {
             "outlinewidth": 0,
             "ticks": ""
            },
            "colorscale": [
             [
              0,
              "#0d0887"
             ],
             [
              0.1111111111111111,
              "#46039f"
             ],
             [
              0.2222222222222222,
              "#7201a8"
             ],
             [
              0.3333333333333333,
              "#9c179e"
             ],
             [
              0.4444444444444444,
              "#bd3786"
             ],
             [
              0.5555555555555556,
              "#d8576b"
             ],
             [
              0.6666666666666666,
              "#ed7953"
             ],
             [
              0.7777777777777778,
              "#fb9f3a"
             ],
             [
              0.8888888888888888,
              "#fdca26"
             ],
             [
              1,
              "#f0f921"
             ]
            ],
            "type": "heatmap"
           }
          ],
          "heatmapgl": [
           {
            "colorbar": {
             "outlinewidth": 0,
             "ticks": ""
            },
            "colorscale": [
             [
              0,
              "#0d0887"
             ],
             [
              0.1111111111111111,
              "#46039f"
             ],
             [
              0.2222222222222222,
              "#7201a8"
             ],
             [
              0.3333333333333333,
              "#9c179e"
             ],
             [
              0.4444444444444444,
              "#bd3786"
             ],
             [
              0.5555555555555556,
              "#d8576b"
             ],
             [
              0.6666666666666666,
              "#ed7953"
             ],
             [
              0.7777777777777778,
              "#fb9f3a"
             ],
             [
              0.8888888888888888,
              "#fdca26"
             ],
             [
              1,
              "#f0f921"
             ]
            ],
            "type": "heatmapgl"
           }
          ],
          "histogram": [
           {
            "marker": {
             "pattern": {
              "fillmode": "overlay",
              "size": 10,
              "solidity": 0.2
             }
            },
            "type": "histogram"
           }
          ],
          "histogram2d": [
           {
            "colorbar": {
             "outlinewidth": 0,
             "ticks": ""
            },
            "colorscale": [
             [
              0,
              "#0d0887"
             ],
             [
              0.1111111111111111,
              "#46039f"
             ],
             [
              0.2222222222222222,
              "#7201a8"
             ],
             [
              0.3333333333333333,
              "#9c179e"
             ],
             [
              0.4444444444444444,
              "#bd3786"
             ],
             [
              0.5555555555555556,
              "#d8576b"
             ],
             [
              0.6666666666666666,
              "#ed7953"
             ],
             [
              0.7777777777777778,
              "#fb9f3a"
             ],
             [
              0.8888888888888888,
              "#fdca26"
             ],
             [
              1,
              "#f0f921"
             ]
            ],
            "type": "histogram2d"
           }
          ],
          "histogram2dcontour": [
           {
            "colorbar": {
             "outlinewidth": 0,
             "ticks": ""
            },
            "colorscale": [
             [
              0,
              "#0d0887"
             ],
             [
              0.1111111111111111,
              "#46039f"
             ],
             [
              0.2222222222222222,
              "#7201a8"
             ],
             [
              0.3333333333333333,
              "#9c179e"
             ],
             [
              0.4444444444444444,
              "#bd3786"
             ],
             [
              0.5555555555555556,
              "#d8576b"
             ],
             [
              0.6666666666666666,
              "#ed7953"
             ],
             [
              0.7777777777777778,
              "#fb9f3a"
             ],
             [
              0.8888888888888888,
              "#fdca26"
             ],
             [
              1,
              "#f0f921"
             ]
            ],
            "type": "histogram2dcontour"
           }
          ],
          "mesh3d": [
           {
            "colorbar": {
             "outlinewidth": 0,
             "ticks": ""
            },
            "type": "mesh3d"
           }
          ],
          "parcoords": [
           {
            "line": {
             "colorbar": {
              "outlinewidth": 0,
              "ticks": ""
             }
            },
            "type": "parcoords"
           }
          ],
          "pie": [
           {
            "automargin": true,
            "type": "pie"
           }
          ],
          "scatter": [
           {
            "fillpattern": {
             "fillmode": "overlay",
             "size": 10,
             "solidity": 0.2
            },
            "type": "scatter"
           }
          ],
          "scatter3d": [
           {
            "line": {
             "colorbar": {
              "outlinewidth": 0,
              "ticks": ""
             }
            },
            "marker": {
             "colorbar": {
              "outlinewidth": 0,
              "ticks": ""
             }
            },
            "type": "scatter3d"
           }
          ],
          "scattercarpet": [
           {
            "marker": {
             "colorbar": {
              "outlinewidth": 0,
              "ticks": ""
             }
            },
            "type": "scattercarpet"
           }
          ],
          "scattergeo": [
           {
            "marker": {
             "colorbar": {
              "outlinewidth": 0,
              "ticks": ""
             }
            },
            "type": "scattergeo"
           }
          ],
          "scattergl": [
           {
            "marker": {
             "colorbar": {
              "outlinewidth": 0,
              "ticks": ""
             }
            },
            "type": "scattergl"
           }
          ],
          "scattermapbox": [
           {
            "marker": {
             "colorbar": {
              "outlinewidth": 0,
              "ticks": ""
             }
            },
            "type": "scattermapbox"
           }
          ],
          "scatterpolar": [
           {
            "marker": {
             "colorbar": {
              "outlinewidth": 0,
              "ticks": ""
             }
            },
            "type": "scatterpolar"
           }
          ],
          "scatterpolargl": [
           {
            "marker": {
             "colorbar": {
              "outlinewidth": 0,
              "ticks": ""
             }
            },
            "type": "scatterpolargl"
           }
          ],
          "scatterternary": [
           {
            "marker": {
             "colorbar": {
              "outlinewidth": 0,
              "ticks": ""
             }
            },
            "type": "scatterternary"
           }
          ],
          "surface": [
           {
            "colorbar": {
             "outlinewidth": 0,
             "ticks": ""
            },
            "colorscale": [
             [
              0,
              "#0d0887"
             ],
             [
              0.1111111111111111,
              "#46039f"
             ],
             [
              0.2222222222222222,
              "#7201a8"
             ],
             [
              0.3333333333333333,
              "#9c179e"
             ],
             [
              0.4444444444444444,
              "#bd3786"
             ],
             [
              0.5555555555555556,
              "#d8576b"
             ],
             [
              0.6666666666666666,
              "#ed7953"
             ],
             [
              0.7777777777777778,
              "#fb9f3a"
             ],
             [
              0.8888888888888888,
              "#fdca26"
             ],
             [
              1,
              "#f0f921"
             ]
            ],
            "type": "surface"
           }
          ],
          "table": [
           {
            "cells": {
             "fill": {
              "color": "#EBF0F8"
             },
             "line": {
              "color": "white"
             }
            },
            "header": {
             "fill": {
              "color": "#C8D4E3"
             },
             "line": {
              "color": "white"
             }
            },
            "type": "table"
           }
          ]
         },
         "layout": {
          "annotationdefaults": {
           "arrowcolor": "#2a3f5f",
           "arrowhead": 0,
           "arrowwidth": 1
          },
          "autotypenumbers": "strict",
          "coloraxis": {
           "colorbar": {
            "outlinewidth": 0,
            "ticks": ""
           }
          },
          "colorscale": {
           "diverging": [
            [
             0,
             "#8e0152"
            ],
            [
             0.1,
             "#c51b7d"
            ],
            [
             0.2,
             "#de77ae"
            ],
            [
             0.3,
             "#f1b6da"
            ],
            [
             0.4,
             "#fde0ef"
            ],
            [
             0.5,
             "#f7f7f7"
            ],
            [
             0.6,
             "#e6f5d0"
            ],
            [
             0.7,
             "#b8e186"
            ],
            [
             0.8,
             "#7fbc41"
            ],
            [
             0.9,
             "#4d9221"
            ],
            [
             1,
             "#276419"
            ]
           ],
           "sequential": [
            [
             0,
             "#0d0887"
            ],
            [
             0.1111111111111111,
             "#46039f"
            ],
            [
             0.2222222222222222,
             "#7201a8"
            ],
            [
             0.3333333333333333,
             "#9c179e"
            ],
            [
             0.4444444444444444,
             "#bd3786"
            ],
            [
             0.5555555555555556,
             "#d8576b"
            ],
            [
             0.6666666666666666,
             "#ed7953"
            ],
            [
             0.7777777777777778,
             "#fb9f3a"
            ],
            [
             0.8888888888888888,
             "#fdca26"
            ],
            [
             1,
             "#f0f921"
            ]
           ],
           "sequentialminus": [
            [
             0,
             "#0d0887"
            ],
            [
             0.1111111111111111,
             "#46039f"
            ],
            [
             0.2222222222222222,
             "#7201a8"
            ],
            [
             0.3333333333333333,
             "#9c179e"
            ],
            [
             0.4444444444444444,
             "#bd3786"
            ],
            [
             0.5555555555555556,
             "#d8576b"
            ],
            [
             0.6666666666666666,
             "#ed7953"
            ],
            [
             0.7777777777777778,
             "#fb9f3a"
            ],
            [
             0.8888888888888888,
             "#fdca26"
            ],
            [
             1,
             "#f0f921"
            ]
           ]
          },
          "colorway": [
           "#636efa",
           "#EF553B",
           "#00cc96",
           "#ab63fa",
           "#FFA15A",
           "#19d3f3",
           "#FF6692",
           "#B6E880",
           "#FF97FF",
           "#FECB52"
          ],
          "font": {
           "color": "#2a3f5f"
          },
          "geo": {
           "bgcolor": "white",
           "lakecolor": "white",
           "landcolor": "#E5ECF6",
           "showlakes": true,
           "showland": true,
           "subunitcolor": "white"
          },
          "hoverlabel": {
           "align": "left"
          },
          "hovermode": "closest",
          "mapbox": {
           "style": "light"
          },
          "paper_bgcolor": "white",
          "plot_bgcolor": "#E5ECF6",
          "polar": {
           "angularaxis": {
            "gridcolor": "white",
            "linecolor": "white",
            "ticks": ""
           },
           "bgcolor": "#E5ECF6",
           "radialaxis": {
            "gridcolor": "white",
            "linecolor": "white",
            "ticks": ""
           }
          },
          "scene": {
           "xaxis": {
            "backgroundcolor": "#E5ECF6",
            "gridcolor": "white",
            "gridwidth": 2,
            "linecolor": "white",
            "showbackground": true,
            "ticks": "",
            "zerolinecolor": "white"
           },
           "yaxis": {
            "backgroundcolor": "#E5ECF6",
            "gridcolor": "white",
            "gridwidth": 2,
            "linecolor": "white",
            "showbackground": true,
            "ticks": "",
            "zerolinecolor": "white"
           },
           "zaxis": {
            "backgroundcolor": "#E5ECF6",
            "gridcolor": "white",
            "gridwidth": 2,
            "linecolor": "white",
            "showbackground": true,
            "ticks": "",
            "zerolinecolor": "white"
           }
          },
          "shapedefaults": {
           "line": {
            "color": "#2a3f5f"
           }
          },
          "ternary": {
           "aaxis": {
            "gridcolor": "white",
            "linecolor": "white",
            "ticks": ""
           },
           "baxis": {
            "gridcolor": "white",
            "linecolor": "white",
            "ticks": ""
           },
           "bgcolor": "#E5ECF6",
           "caxis": {
            "gridcolor": "white",
            "linecolor": "white",
            "ticks": ""
           }
          },
          "title": {
           "x": 0.05
          },
          "xaxis": {
           "automargin": true,
           "gridcolor": "white",
           "linecolor": "white",
           "ticks": "",
           "title": {
            "standoff": 15
           },
           "zerolinecolor": "white",
           "zerolinewidth": 2
          },
          "yaxis": {
           "automargin": true,
           "gridcolor": "white",
           "linecolor": "white",
           "ticks": "",
           "title": {
            "standoff": 15
           },
           "zerolinecolor": "white",
           "zerolinewidth": 2
          }
         }
        }
       }
      },
      "text/html": [
       "<div>                            <div id=\"6bf66b07-e2c7-44f6-be3b-2360b1f80756\" class=\"plotly-graph-div\" style=\"height:525px; width:100%;\"></div>            <script type=\"text/javascript\">                require([\"plotly\"], function(Plotly) {                    window.PLOTLYENV=window.PLOTLYENV || {};                                    if (document.getElementById(\"6bf66b07-e2c7-44f6-be3b-2360b1f80756\")) {                    Plotly.newPlot(                        \"6bf66b07-e2c7-44f6-be3b-2360b1f80756\",                        [{\"colorscale\":[[0.0,\"#440154\"],[0.1111111111111111,\"#482878\"],[0.2222222222222222,\"#3e4989\"],[0.3333333333333333,\"#31688e\"],[0.4444444444444444,\"#26828e\"],[0.5555555555555556,\"#1f9e89\"],[0.6666666666666666,\"#35b779\"],[0.7777777777777778,\"#6ece58\"],[0.8888888888888888,\"#b5de2b\"],[1.0,\"#fde725\"]],\"x\":[\"None\",\"poly6\",\"gaussian\",\"gaussian\",\"poly6\",\"gaussian\",\"None\",\"None\",\"poly6\",\"None\",\"poly6\",\"poly6\",\"None\",\"gaussian\",\"None\",\"poly6\",\"None\",\"None\",\"gaussian\",\"poly6\",\"poly6\",\"poly6\",\"None\",\"gaussian\",\"poly6\",\"None\",\"poly6\",\"poly6\",\"poly6\",\"gaussian\",\"gaussian\"],\"y\":[\"GeLU\",\"GeLU\",\"leaky_relu\",\"tanh\",\"GeLU\",\"tanh\",\"relu\",\"GeLU\",\"GeLU\",\"relu\",\"relu\",\"tanh\",\"relu\",\"leaky_relu\",\"leaky_relu\",\"relu\",\"GeLU\",\"tanh\",\"GeLU\",\"relu\",\"GeLU\",\"relu\",\"GeLU\",\"leaky_relu\",\"relu\",\"GeLU\",\"GeLU\",\"leaky_relu\",\"tanh\",\"relu\",\"leaky_relu\"],\"z\":[0.1519712805747985,0.2104188352823257,0.2307580709457397,0.2525908648967743,0.2678727805614471,0.2904145419597626,0.384754329919815,0.4516955316066742,0.5957207083702087,0.6612871885299683,0.6737052798271179,0.6764938235282898,0.7108669877052307,0.7253999710083008,0.8056357502937317,0.8386881947517395,0.8619832396507263,0.8703534007072449,0.9019795656204224,0.9085923433303832,0.9124155044555664,0.920562982559204,0.9354971647262572,0.9366219639778136,0.938056707382202,0.941224217414856,0.9414558410644532,0.951740562915802,0.9778998494148254,0.9803254008293152,0.9882200956344604],\"type\":\"heatmap\"}],                        {\"template\":{\"data\":{\"histogram2dcontour\":[{\"type\":\"histogram2dcontour\",\"colorbar\":{\"outlinewidth\":0,\"ticks\":\"\"},\"colorscale\":[[0.0,\"#0d0887\"],[0.1111111111111111,\"#46039f\"],[0.2222222222222222,\"#7201a8\"],[0.3333333333333333,\"#9c179e\"],[0.4444444444444444,\"#bd3786\"],[0.5555555555555556,\"#d8576b\"],[0.6666666666666666,\"#ed7953\"],[0.7777777777777778,\"#fb9f3a\"],[0.8888888888888888,\"#fdca26\"],[1.0,\"#f0f921\"]]}],\"choropleth\":[{\"type\":\"choropleth\",\"colorbar\":{\"outlinewidth\":0,\"ticks\":\"\"}}],\"histogram2d\":[{\"type\":\"histogram2d\",\"colorbar\":{\"outlinewidth\":0,\"ticks\":\"\"},\"colorscale\":[[0.0,\"#0d0887\"],[0.1111111111111111,\"#46039f\"],[0.2222222222222222,\"#7201a8\"],[0.3333333333333333,\"#9c179e\"],[0.4444444444444444,\"#bd3786\"],[0.5555555555555556,\"#d8576b\"],[0.6666666666666666,\"#ed7953\"],[0.7777777777777778,\"#fb9f3a\"],[0.8888888888888888,\"#fdca26\"],[1.0,\"#f0f921\"]]}],\"heatmap\":[{\"type\":\"heatmap\",\"colorbar\":{\"outlinewidth\":0,\"ticks\":\"\"},\"colorscale\":[[0.0,\"#0d0887\"],[0.1111111111111111,\"#46039f\"],[0.2222222222222222,\"#7201a8\"],[0.3333333333333333,\"#9c179e\"],[0.4444444444444444,\"#bd3786\"],[0.5555555555555556,\"#d8576b\"],[0.6666666666666666,\"#ed7953\"],[0.7777777777777778,\"#fb9f3a\"],[0.8888888888888888,\"#fdca26\"],[1.0,\"#f0f921\"]]}],\"heatmapgl\":[{\"type\":\"heatmapgl\",\"colorbar\":{\"outlinewidth\":0,\"ticks\":\"\"},\"colorscale\":[[0.0,\"#0d0887\"],[0.1111111111111111,\"#46039f\"],[0.2222222222222222,\"#7201a8\"],[0.3333333333333333,\"#9c179e\"],[0.4444444444444444,\"#bd3786\"],[0.5555555555555556,\"#d8576b\"],[0.6666666666666666,\"#ed7953\"],[0.7777777777777778,\"#fb9f3a\"],[0.8888888888888888,\"#fdca26\"],[1.0,\"#f0f921\"]]}],\"contourcarpet\":[{\"type\":\"contourcarpet\",\"colorbar\":{\"outlinewidth\":0,\"ticks\":\"\"}}],\"contour\":[{\"type\":\"contour\",\"colorbar\":{\"outlinewidth\":0,\"ticks\":\"\"},\"colorscale\":[[0.0,\"#0d0887\"],[0.1111111111111111,\"#46039f\"],[0.2222222222222222,\"#7201a8\"],[0.3333333333333333,\"#9c179e\"],[0.4444444444444444,\"#bd3786\"],[0.5555555555555556,\"#d8576b\"],[0.6666666666666666,\"#ed7953\"],[0.7777777777777778,\"#fb9f3a\"],[0.8888888888888888,\"#fdca26\"],[1.0,\"#f0f921\"]]}],\"surface\":[{\"type\":\"surface\",\"colorbar\":{\"outlinewidth\":0,\"ticks\":\"\"},\"colorscale\":[[0.0,\"#0d0887\"],[0.1111111111111111,\"#46039f\"],[0.2222222222222222,\"#7201a8\"],[0.3333333333333333,\"#9c179e\"],[0.4444444444444444,\"#bd3786\"],[0.5555555555555556,\"#d8576b\"],[0.6666666666666666,\"#ed7953\"],[0.7777777777777778,\"#fb9f3a\"],[0.8888888888888888,\"#fdca26\"],[1.0,\"#f0f921\"]]}],\"mesh3d\":[{\"type\":\"mesh3d\",\"colorbar\":{\"outlinewidth\":0,\"ticks\":\"\"}}],\"scatter\":[{\"fillpattern\":{\"fillmode\":\"overlay\",\"size\":10,\"solidity\":0.2},\"type\":\"scatter\"}],\"parcoords\":[{\"type\":\"parcoords\",\"line\":{\"colorbar\":{\"outlinewidth\":0,\"ticks\":\"\"}}}],\"scatterpolargl\":[{\"type\":\"scatterpolargl\",\"marker\":{\"colorbar\":{\"outlinewidth\":0,\"ticks\":\"\"}}}],\"bar\":[{\"error_x\":{\"color\":\"#2a3f5f\"},\"error_y\":{\"color\":\"#2a3f5f\"},\"marker\":{\"line\":{\"color\":\"#E5ECF6\",\"width\":0.5},\"pattern\":{\"fillmode\":\"overlay\",\"size\":10,\"solidity\":0.2}},\"type\":\"bar\"}],\"scattergeo\":[{\"type\":\"scattergeo\",\"marker\":{\"colorbar\":{\"outlinewidth\":0,\"ticks\":\"\"}}}],\"scatterpolar\":[{\"type\":\"scatterpolar\",\"marker\":{\"colorbar\":{\"outlinewidth\":0,\"ticks\":\"\"}}}],\"histogram\":[{\"marker\":{\"pattern\":{\"fillmode\":\"overlay\",\"size\":10,\"solidity\":0.2}},\"type\":\"histogram\"}],\"scattergl\":[{\"type\":\"scattergl\",\"marker\":{\"colorbar\":{\"outlinewidth\":0,\"ticks\":\"\"}}}],\"scatter3d\":[{\"type\":\"scatter3d\",\"line\":{\"colorbar\":{\"outlinewidth\":0,\"ticks\":\"\"}},\"marker\":{\"colorbar\":{\"outlinewidth\":0,\"ticks\":\"\"}}}],\"scattermapbox\":[{\"type\":\"scattermapbox\",\"marker\":{\"colorbar\":{\"outlinewidth\":0,\"ticks\":\"\"}}}],\"scatterternary\":[{\"type\":\"scatterternary\",\"marker\":{\"colorbar\":{\"outlinewidth\":0,\"ticks\":\"\"}}}],\"scattercarpet\":[{\"type\":\"scattercarpet\",\"marker\":{\"colorbar\":{\"outlinewidth\":0,\"ticks\":\"\"}}}],\"carpet\":[{\"aaxis\":{\"endlinecolor\":\"#2a3f5f\",\"gridcolor\":\"white\",\"linecolor\":\"white\",\"minorgridcolor\":\"white\",\"startlinecolor\":\"#2a3f5f\"},\"baxis\":{\"endlinecolor\":\"#2a3f5f\",\"gridcolor\":\"white\",\"linecolor\":\"white\",\"minorgridcolor\":\"white\",\"startlinecolor\":\"#2a3f5f\"},\"type\":\"carpet\"}],\"table\":[{\"cells\":{\"fill\":{\"color\":\"#EBF0F8\"},\"line\":{\"color\":\"white\"}},\"header\":{\"fill\":{\"color\":\"#C8D4E3\"},\"line\":{\"color\":\"white\"}},\"type\":\"table\"}],\"barpolar\":[{\"marker\":{\"line\":{\"color\":\"#E5ECF6\",\"width\":0.5},\"pattern\":{\"fillmode\":\"overlay\",\"size\":10,\"solidity\":0.2}},\"type\":\"barpolar\"}],\"pie\":[{\"automargin\":true,\"type\":\"pie\"}]},\"layout\":{\"autotypenumbers\":\"strict\",\"colorway\":[\"#636efa\",\"#EF553B\",\"#00cc96\",\"#ab63fa\",\"#FFA15A\",\"#19d3f3\",\"#FF6692\",\"#B6E880\",\"#FF97FF\",\"#FECB52\"],\"font\":{\"color\":\"#2a3f5f\"},\"hovermode\":\"closest\",\"hoverlabel\":{\"align\":\"left\"},\"paper_bgcolor\":\"white\",\"plot_bgcolor\":\"#E5ECF6\",\"polar\":{\"bgcolor\":\"#E5ECF6\",\"angularaxis\":{\"gridcolor\":\"white\",\"linecolor\":\"white\",\"ticks\":\"\"},\"radialaxis\":{\"gridcolor\":\"white\",\"linecolor\":\"white\",\"ticks\":\"\"}},\"ternary\":{\"bgcolor\":\"#E5ECF6\",\"aaxis\":{\"gridcolor\":\"white\",\"linecolor\":\"white\",\"ticks\":\"\"},\"baxis\":{\"gridcolor\":\"white\",\"linecolor\":\"white\",\"ticks\":\"\"},\"caxis\":{\"gridcolor\":\"white\",\"linecolor\":\"white\",\"ticks\":\"\"}},\"coloraxis\":{\"colorbar\":{\"outlinewidth\":0,\"ticks\":\"\"}},\"colorscale\":{\"sequential\":[[0.0,\"#0d0887\"],[0.1111111111111111,\"#46039f\"],[0.2222222222222222,\"#7201a8\"],[0.3333333333333333,\"#9c179e\"],[0.4444444444444444,\"#bd3786\"],[0.5555555555555556,\"#d8576b\"],[0.6666666666666666,\"#ed7953\"],[0.7777777777777778,\"#fb9f3a\"],[0.8888888888888888,\"#fdca26\"],[1.0,\"#f0f921\"]],\"sequentialminus\":[[0.0,\"#0d0887\"],[0.1111111111111111,\"#46039f\"],[0.2222222222222222,\"#7201a8\"],[0.3333333333333333,\"#9c179e\"],[0.4444444444444444,\"#bd3786\"],[0.5555555555555556,\"#d8576b\"],[0.6666666666666666,\"#ed7953\"],[0.7777777777777778,\"#fb9f3a\"],[0.8888888888888888,\"#fdca26\"],[1.0,\"#f0f921\"]],\"diverging\":[[0,\"#8e0152\"],[0.1,\"#c51b7d\"],[0.2,\"#de77ae\"],[0.3,\"#f1b6da\"],[0.4,\"#fde0ef\"],[0.5,\"#f7f7f7\"],[0.6,\"#e6f5d0\"],[0.7,\"#b8e186\"],[0.8,\"#7fbc41\"],[0.9,\"#4d9221\"],[1,\"#276419\"]]},\"xaxis\":{\"gridcolor\":\"white\",\"linecolor\":\"white\",\"ticks\":\"\",\"title\":{\"standoff\":15},\"zerolinecolor\":\"white\",\"automargin\":true,\"zerolinewidth\":2},\"yaxis\":{\"gridcolor\":\"white\",\"linecolor\":\"white\",\"ticks\":\"\",\"title\":{\"standoff\":15},\"zerolinecolor\":\"white\",\"automargin\":true,\"zerolinewidth\":2},\"scene\":{\"xaxis\":{\"backgroundcolor\":\"#E5ECF6\",\"gridcolor\":\"white\",\"linecolor\":\"white\",\"showbackground\":true,\"ticks\":\"\",\"zerolinecolor\":\"white\",\"gridwidth\":2},\"yaxis\":{\"backgroundcolor\":\"#E5ECF6\",\"gridcolor\":\"white\",\"linecolor\":\"white\",\"showbackground\":true,\"ticks\":\"\",\"zerolinecolor\":\"white\",\"gridwidth\":2},\"zaxis\":{\"backgroundcolor\":\"#E5ECF6\",\"gridcolor\":\"white\",\"linecolor\":\"white\",\"showbackground\":true,\"ticks\":\"\",\"zerolinecolor\":\"white\",\"gridwidth\":2}},\"shapedefaults\":{\"line\":{\"color\":\"#2a3f5f\"}},\"annotationdefaults\":{\"arrowcolor\":\"#2a3f5f\",\"arrowhead\":0,\"arrowwidth\":1},\"geo\":{\"bgcolor\":\"white\",\"landcolor\":\"#E5ECF6\",\"subunitcolor\":\"white\",\"showland\":true,\"showlakes\":true,\"lakecolor\":\"white\"},\"title\":{\"x\":0.05},\"mapbox\":{\"style\":\"light\"}}}},                        {\"responsive\": true}                    ).then(function(){\n",
       "                            \n",
       "var gd = document.getElementById('6bf66b07-e2c7-44f6-be3b-2360b1f80756');\n",
       "var x = new MutationObserver(function (mutations, observer) {{\n",
       "        var display = window.getComputedStyle(gd).display;\n",
       "        if (!display || display === 'none') {{\n",
       "            console.log([gd, 'removed!']);\n",
       "            Plotly.purge(gd);\n",
       "            observer.disconnect();\n",
       "        }}\n",
       "}});\n",
       "\n",
       "// Listen for the removal of the full notebook cells\n",
       "var notebookContainer = gd.closest('#notebook-container');\n",
       "if (notebookContainer) {{\n",
       "    x.observe(notebookContainer, {childList: true});\n",
       "}}\n",
       "\n",
       "// Listen for the clearing of the current output cell\n",
       "var outputEl = gd.closest('.output');\n",
       "if (outputEl) {{\n",
       "    x.observe(outputEl, {childList: true});\n",
       "}}\n",
       "\n",
       "                        })                };                });            </script>        </div>"
      ]
     },
     "metadata": {},
     "output_type": "display_data"
    },
    {
     "data": {
      "application/vnd.plotly.v1+json": {
       "config": {
        "plotlyServerURL": "https://plot.ly"
       },
       "data": [
        {
         "dimensions": [
          {
           "label": "val_loss",
           "values": [
            0.1519712805747985,
            0.2104188352823257,
            0.2307580709457397,
            0.2525908648967743,
            0.2678727805614471,
            0.2904145419597626,
            0.384754329919815,
            0.4516955316066742,
            0.5957207083702087,
            0.6612871885299683,
            0.6737052798271179,
            0.6764938235282898,
            0.7108669877052307,
            0.7253999710083008,
            0.8056357502937317,
            0.8386881947517395,
            0.8619832396507263,
            0.8703534007072449,
            0.9019795656204224,
            0.9085923433303832,
            0.9124155044555664,
            0.920562982559204,
            0.9354971647262572,
            0.9366219639778136,
            0.938056707382202,
            0.941224217414856,
            0.9414558410644532,
            0.951740562915802,
            0.9778998494148254,
            0.9803254008293152,
            0.9882200956344604
           ]
          },
          {
           "label": "filter_extent",
           "values": [
            0.125744190771616,
            0.1533070917030944,
            0.1490508680182408,
            0.1517497038179102,
            0.1237910339959341,
            0.1186753371823536,
            0.2625833808322801,
            0.1666839782696133,
            0.2491763628384303,
            0.1812155840097024,
            0.1388220683390072,
            0.108498918106567,
            0.1517141681954666,
            0.0766355680898088,
            0.1132227047540914,
            0.0871766001933915,
            0.3254764081906778,
            0.2304765572896104,
            0.0938033062798732,
            0.2627651302376597,
            0.0889271625745868,
            0.1064211081891452,
            0.1405888360457206,
            0.2387800975464701,
            0.1873885371877903,
            0.1372375029938616,
            0.1114012383901866,
            0.0858908022428246,
            0.0878309429079135,
            0.1018089465207497,
            0.1988903099887931
           ]
          }
         ],
         "domain": {
          "x": [
           0,
           1
          ],
          "y": [
           0,
           1
          ]
         },
         "line": {
          "color": [
           0.1519712805747985,
           0.2104188352823257,
           0.2307580709457397,
           0.2525908648967743,
           0.2678727805614471,
           0.2904145419597626,
           0.384754329919815,
           0.4516955316066742,
           0.5957207083702087,
           0.6612871885299683,
           0.6737052798271179,
           0.6764938235282898,
           0.7108669877052307,
           0.7253999710083008,
           0.8056357502937317,
           0.8386881947517395,
           0.8619832396507263,
           0.8703534007072449,
           0.9019795656204224,
           0.9085923433303832,
           0.9124155044555664,
           0.920562982559204,
           0.9354971647262572,
           0.9366219639778136,
           0.938056707382202,
           0.941224217414856,
           0.9414558410644532,
           0.951740562915802,
           0.9778998494148254,
           0.9803254008293152,
           0.9882200956344604
          ],
          "coloraxis": "coloraxis"
         },
         "name": "",
         "type": "parcoords"
        }
       ],
       "layout": {
        "coloraxis": {
         "colorbar": {
          "title": {
           "text": "val_loss"
          }
         },
         "colorscale": [
          [
           0,
           "#440154"
          ],
          [
           0.1111111111111111,
           "#482878"
          ],
          [
           0.2222222222222222,
           "#3e4989"
          ],
          [
           0.3333333333333333,
           "#31688e"
          ],
          [
           0.4444444444444444,
           "#26828e"
          ],
          [
           0.5555555555555556,
           "#1f9e89"
          ],
          [
           0.6666666666666666,
           "#35b779"
          ],
          [
           0.7777777777777778,
           "#6ece58"
          ],
          [
           0.8888888888888888,
           "#b5de2b"
          ],
          [
           1,
           "#fde725"
          ]
         ]
        },
        "legend": {
         "tracegroupgap": 0
        },
        "template": {
         "data": {
          "bar": [
           {
            "error_x": {
             "color": "#2a3f5f"
            },
            "error_y": {
             "color": "#2a3f5f"
            },
            "marker": {
             "line": {
              "color": "#E5ECF6",
              "width": 0.5
             },
             "pattern": {
              "fillmode": "overlay",
              "size": 10,
              "solidity": 0.2
             }
            },
            "type": "bar"
           }
          ],
          "barpolar": [
           {
            "marker": {
             "line": {
              "color": "#E5ECF6",
              "width": 0.5
             },
             "pattern": {
              "fillmode": "overlay",
              "size": 10,
              "solidity": 0.2
             }
            },
            "type": "barpolar"
           }
          ],
          "carpet": [
           {
            "aaxis": {
             "endlinecolor": "#2a3f5f",
             "gridcolor": "white",
             "linecolor": "white",
             "minorgridcolor": "white",
             "startlinecolor": "#2a3f5f"
            },
            "baxis": {
             "endlinecolor": "#2a3f5f",
             "gridcolor": "white",
             "linecolor": "white",
             "minorgridcolor": "white",
             "startlinecolor": "#2a3f5f"
            },
            "type": "carpet"
           }
          ],
          "choropleth": [
           {
            "colorbar": {
             "outlinewidth": 0,
             "ticks": ""
            },
            "type": "choropleth"
           }
          ],
          "contour": [
           {
            "colorbar": {
             "outlinewidth": 0,
             "ticks": ""
            },
            "colorscale": [
             [
              0,
              "#0d0887"
             ],
             [
              0.1111111111111111,
              "#46039f"
             ],
             [
              0.2222222222222222,
              "#7201a8"
             ],
             [
              0.3333333333333333,
              "#9c179e"
             ],
             [
              0.4444444444444444,
              "#bd3786"
             ],
             [
              0.5555555555555556,
              "#d8576b"
             ],
             [
              0.6666666666666666,
              "#ed7953"
             ],
             [
              0.7777777777777778,
              "#fb9f3a"
             ],
             [
              0.8888888888888888,
              "#fdca26"
             ],
             [
              1,
              "#f0f921"
             ]
            ],
            "type": "contour"
           }
          ],
          "contourcarpet": [
           {
            "colorbar": {
             "outlinewidth": 0,
             "ticks": ""
            },
            "type": "contourcarpet"
           }
          ],
          "heatmap": [
           {
            "colorbar": {
             "outlinewidth": 0,
             "ticks": ""
            },
            "colorscale": [
             [
              0,
              "#0d0887"
             ],
             [
              0.1111111111111111,
              "#46039f"
             ],
             [
              0.2222222222222222,
              "#7201a8"
             ],
             [
              0.3333333333333333,
              "#9c179e"
             ],
             [
              0.4444444444444444,
              "#bd3786"
             ],
             [
              0.5555555555555556,
              "#d8576b"
             ],
             [
              0.6666666666666666,
              "#ed7953"
             ],
             [
              0.7777777777777778,
              "#fb9f3a"
             ],
             [
              0.8888888888888888,
              "#fdca26"
             ],
             [
              1,
              "#f0f921"
             ]
            ],
            "type": "heatmap"
           }
          ],
          "heatmapgl": [
           {
            "colorbar": {
             "outlinewidth": 0,
             "ticks": ""
            },
            "colorscale": [
             [
              0,
              "#0d0887"
             ],
             [
              0.1111111111111111,
              "#46039f"
             ],
             [
              0.2222222222222222,
              "#7201a8"
             ],
             [
              0.3333333333333333,
              "#9c179e"
             ],
             [
              0.4444444444444444,
              "#bd3786"
             ],
             [
              0.5555555555555556,
              "#d8576b"
             ],
             [
              0.6666666666666666,
              "#ed7953"
             ],
             [
              0.7777777777777778,
              "#fb9f3a"
             ],
             [
              0.8888888888888888,
              "#fdca26"
             ],
             [
              1,
              "#f0f921"
             ]
            ],
            "type": "heatmapgl"
           }
          ],
          "histogram": [
           {
            "marker": {
             "pattern": {
              "fillmode": "overlay",
              "size": 10,
              "solidity": 0.2
             }
            },
            "type": "histogram"
           }
          ],
          "histogram2d": [
           {
            "colorbar": {
             "outlinewidth": 0,
             "ticks": ""
            },
            "colorscale": [
             [
              0,
              "#0d0887"
             ],
             [
              0.1111111111111111,
              "#46039f"
             ],
             [
              0.2222222222222222,
              "#7201a8"
             ],
             [
              0.3333333333333333,
              "#9c179e"
             ],
             [
              0.4444444444444444,
              "#bd3786"
             ],
             [
              0.5555555555555556,
              "#d8576b"
             ],
             [
              0.6666666666666666,
              "#ed7953"
             ],
             [
              0.7777777777777778,
              "#fb9f3a"
             ],
             [
              0.8888888888888888,
              "#fdca26"
             ],
             [
              1,
              "#f0f921"
             ]
            ],
            "type": "histogram2d"
           }
          ],
          "histogram2dcontour": [
           {
            "colorbar": {
             "outlinewidth": 0,
             "ticks": ""
            },
            "colorscale": [
             [
              0,
              "#0d0887"
             ],
             [
              0.1111111111111111,
              "#46039f"
             ],
             [
              0.2222222222222222,
              "#7201a8"
             ],
             [
              0.3333333333333333,
              "#9c179e"
             ],
             [
              0.4444444444444444,
              "#bd3786"
             ],
             [
              0.5555555555555556,
              "#d8576b"
             ],
             [
              0.6666666666666666,
              "#ed7953"
             ],
             [
              0.7777777777777778,
              "#fb9f3a"
             ],
             [
              0.8888888888888888,
              "#fdca26"
             ],
             [
              1,
              "#f0f921"
             ]
            ],
            "type": "histogram2dcontour"
           }
          ],
          "mesh3d": [
           {
            "colorbar": {
             "outlinewidth": 0,
             "ticks": ""
            },
            "type": "mesh3d"
           }
          ],
          "parcoords": [
           {
            "line": {
             "colorbar": {
              "outlinewidth": 0,
              "ticks": ""
             }
            },
            "type": "parcoords"
           }
          ],
          "pie": [
           {
            "automargin": true,
            "type": "pie"
           }
          ],
          "scatter": [
           {
            "fillpattern": {
             "fillmode": "overlay",
             "size": 10,
             "solidity": 0.2
            },
            "type": "scatter"
           }
          ],
          "scatter3d": [
           {
            "line": {
             "colorbar": {
              "outlinewidth": 0,
              "ticks": ""
             }
            },
            "marker": {
             "colorbar": {
              "outlinewidth": 0,
              "ticks": ""
             }
            },
            "type": "scatter3d"
           }
          ],
          "scattercarpet": [
           {
            "marker": {
             "colorbar": {
              "outlinewidth": 0,
              "ticks": ""
             }
            },
            "type": "scattercarpet"
           }
          ],
          "scattergeo": [
           {
            "marker": {
             "colorbar": {
              "outlinewidth": 0,
              "ticks": ""
             }
            },
            "type": "scattergeo"
           }
          ],
          "scattergl": [
           {
            "marker": {
             "colorbar": {
              "outlinewidth": 0,
              "ticks": ""
             }
            },
            "type": "scattergl"
           }
          ],
          "scattermapbox": [
           {
            "marker": {
             "colorbar": {
              "outlinewidth": 0,
              "ticks": ""
             }
            },
            "type": "scattermapbox"
           }
          ],
          "scatterpolar": [
           {
            "marker": {
             "colorbar": {
              "outlinewidth": 0,
              "ticks": ""
             }
            },
            "type": "scatterpolar"
           }
          ],
          "scatterpolargl": [
           {
            "marker": {
             "colorbar": {
              "outlinewidth": 0,
              "ticks": ""
             }
            },
            "type": "scatterpolargl"
           }
          ],
          "scatterternary": [
           {
            "marker": {
             "colorbar": {
              "outlinewidth": 0,
              "ticks": ""
             }
            },
            "type": "scatterternary"
           }
          ],
          "surface": [
           {
            "colorbar": {
             "outlinewidth": 0,
             "ticks": ""
            },
            "colorscale": [
             [
              0,
              "#0d0887"
             ],
             [
              0.1111111111111111,
              "#46039f"
             ],
             [
              0.2222222222222222,
              "#7201a8"
             ],
             [
              0.3333333333333333,
              "#9c179e"
             ],
             [
              0.4444444444444444,
              "#bd3786"
             ],
             [
              0.5555555555555556,
              "#d8576b"
             ],
             [
              0.6666666666666666,
              "#ed7953"
             ],
             [
              0.7777777777777778,
              "#fb9f3a"
             ],
             [
              0.8888888888888888,
              "#fdca26"
             ],
             [
              1,
              "#f0f921"
             ]
            ],
            "type": "surface"
           }
          ],
          "table": [
           {
            "cells": {
             "fill": {
              "color": "#EBF0F8"
             },
             "line": {
              "color": "white"
             }
            },
            "header": {
             "fill": {
              "color": "#C8D4E3"
             },
             "line": {
              "color": "white"
             }
            },
            "type": "table"
           }
          ]
         },
         "layout": {
          "annotationdefaults": {
           "arrowcolor": "#2a3f5f",
           "arrowhead": 0,
           "arrowwidth": 1
          },
          "autotypenumbers": "strict",
          "coloraxis": {
           "colorbar": {
            "outlinewidth": 0,
            "ticks": ""
           }
          },
          "colorscale": {
           "diverging": [
            [
             0,
             "#8e0152"
            ],
            [
             0.1,
             "#c51b7d"
            ],
            [
             0.2,
             "#de77ae"
            ],
            [
             0.3,
             "#f1b6da"
            ],
            [
             0.4,
             "#fde0ef"
            ],
            [
             0.5,
             "#f7f7f7"
            ],
            [
             0.6,
             "#e6f5d0"
            ],
            [
             0.7,
             "#b8e186"
            ],
            [
             0.8,
             "#7fbc41"
            ],
            [
             0.9,
             "#4d9221"
            ],
            [
             1,
             "#276419"
            ]
           ],
           "sequential": [
            [
             0,
             "#0d0887"
            ],
            [
             0.1111111111111111,
             "#46039f"
            ],
            [
             0.2222222222222222,
             "#7201a8"
            ],
            [
             0.3333333333333333,
             "#9c179e"
            ],
            [
             0.4444444444444444,
             "#bd3786"
            ],
            [
             0.5555555555555556,
             "#d8576b"
            ],
            [
             0.6666666666666666,
             "#ed7953"
            ],
            [
             0.7777777777777778,
             "#fb9f3a"
            ],
            [
             0.8888888888888888,
             "#fdca26"
            ],
            [
             1,
             "#f0f921"
            ]
           ],
           "sequentialminus": [
            [
             0,
             "#0d0887"
            ],
            [
             0.1111111111111111,
             "#46039f"
            ],
            [
             0.2222222222222222,
             "#7201a8"
            ],
            [
             0.3333333333333333,
             "#9c179e"
            ],
            [
             0.4444444444444444,
             "#bd3786"
            ],
            [
             0.5555555555555556,
             "#d8576b"
            ],
            [
             0.6666666666666666,
             "#ed7953"
            ],
            [
             0.7777777777777778,
             "#fb9f3a"
            ],
            [
             0.8888888888888888,
             "#fdca26"
            ],
            [
             1,
             "#f0f921"
            ]
           ]
          },
          "colorway": [
           "#636efa",
           "#EF553B",
           "#00cc96",
           "#ab63fa",
           "#FFA15A",
           "#19d3f3",
           "#FF6692",
           "#B6E880",
           "#FF97FF",
           "#FECB52"
          ],
          "font": {
           "color": "#2a3f5f"
          },
          "geo": {
           "bgcolor": "white",
           "lakecolor": "white",
           "landcolor": "#E5ECF6",
           "showlakes": true,
           "showland": true,
           "subunitcolor": "white"
          },
          "hoverlabel": {
           "align": "left"
          },
          "hovermode": "closest",
          "mapbox": {
           "style": "light"
          },
          "paper_bgcolor": "white",
          "plot_bgcolor": "#E5ECF6",
          "polar": {
           "angularaxis": {
            "gridcolor": "white",
            "linecolor": "white",
            "ticks": ""
           },
           "bgcolor": "#E5ECF6",
           "radialaxis": {
            "gridcolor": "white",
            "linecolor": "white",
            "ticks": ""
           }
          },
          "scene": {
           "xaxis": {
            "backgroundcolor": "#E5ECF6",
            "gridcolor": "white",
            "gridwidth": 2,
            "linecolor": "white",
            "showbackground": true,
            "ticks": "",
            "zerolinecolor": "white"
           },
           "yaxis": {
            "backgroundcolor": "#E5ECF6",
            "gridcolor": "white",
            "gridwidth": 2,
            "linecolor": "white",
            "showbackground": true,
            "ticks": "",
            "zerolinecolor": "white"
           },
           "zaxis": {
            "backgroundcolor": "#E5ECF6",
            "gridcolor": "white",
            "gridwidth": 2,
            "linecolor": "white",
            "showbackground": true,
            "ticks": "",
            "zerolinecolor": "white"
           }
          },
          "shapedefaults": {
           "line": {
            "color": "#2a3f5f"
           }
          },
          "ternary": {
           "aaxis": {
            "gridcolor": "white",
            "linecolor": "white",
            "ticks": ""
           },
           "baxis": {
            "gridcolor": "white",
            "linecolor": "white",
            "ticks": ""
           },
           "bgcolor": "#E5ECF6",
           "caxis": {
            "gridcolor": "white",
            "linecolor": "white",
            "ticks": ""
           }
          },
          "title": {
           "x": 0.05
          },
          "xaxis": {
           "automargin": true,
           "gridcolor": "white",
           "linecolor": "white",
           "ticks": "",
           "title": {
            "standoff": 15
           },
           "zerolinecolor": "white",
           "zerolinewidth": 2
          },
          "yaxis": {
           "automargin": true,
           "gridcolor": "white",
           "linecolor": "white",
           "ticks": "",
           "title": {
            "standoff": 15
           },
           "zerolinecolor": "white",
           "zerolinewidth": 2
          }
         }
        },
        "title": {
         "text": "Hyperparameter search results"
        }
       }
      },
      "text/html": [
       "<div>                            <div id=\"3c350703-5533-4f6d-a432-666435f4f3b5\" class=\"plotly-graph-div\" style=\"height:525px; width:100%;\"></div>            <script type=\"text/javascript\">                require([\"plotly\"], function(Plotly) {                    window.PLOTLYENV=window.PLOTLYENV || {};                                    if (document.getElementById(\"3c350703-5533-4f6d-a432-666435f4f3b5\")) {                    Plotly.newPlot(                        \"3c350703-5533-4f6d-a432-666435f4f3b5\",                        [{\"dimensions\":[{\"label\":\"val_loss\",\"values\":[0.1519712805747985,0.2104188352823257,0.2307580709457397,0.2525908648967743,0.2678727805614471,0.2904145419597626,0.384754329919815,0.4516955316066742,0.5957207083702087,0.6612871885299683,0.6737052798271179,0.6764938235282898,0.7108669877052307,0.7253999710083008,0.8056357502937317,0.8386881947517395,0.8619832396507263,0.8703534007072449,0.9019795656204224,0.9085923433303832,0.9124155044555664,0.920562982559204,0.9354971647262572,0.9366219639778136,0.938056707382202,0.941224217414856,0.9414558410644532,0.951740562915802,0.9778998494148254,0.9803254008293152,0.9882200956344604]},{\"label\":\"filter_extent\",\"values\":[0.125744190771616,0.1533070917030944,0.1490508680182408,0.1517497038179102,0.1237910339959341,0.1186753371823536,0.2625833808322801,0.1666839782696133,0.2491763628384303,0.1812155840097024,0.1388220683390072,0.108498918106567,0.1517141681954666,0.0766355680898088,0.1132227047540914,0.0871766001933915,0.3254764081906778,0.2304765572896104,0.0938033062798732,0.2627651302376597,0.0889271625745868,0.1064211081891452,0.1405888360457206,0.2387800975464701,0.1873885371877903,0.1372375029938616,0.1114012383901866,0.0858908022428246,0.0878309429079135,0.1018089465207497,0.1988903099887931]}],\"domain\":{\"x\":[0.0,1.0],\"y\":[0.0,1.0]},\"line\":{\"color\":[0.1519712805747985,0.2104188352823257,0.2307580709457397,0.2525908648967743,0.2678727805614471,0.2904145419597626,0.384754329919815,0.4516955316066742,0.5957207083702087,0.6612871885299683,0.6737052798271179,0.6764938235282898,0.7108669877052307,0.7253999710083008,0.8056357502937317,0.8386881947517395,0.8619832396507263,0.8703534007072449,0.9019795656204224,0.9085923433303832,0.9124155044555664,0.920562982559204,0.9354971647262572,0.9366219639778136,0.938056707382202,0.941224217414856,0.9414558410644532,0.951740562915802,0.9778998494148254,0.9803254008293152,0.9882200956344604],\"coloraxis\":\"coloraxis\"},\"name\":\"\",\"type\":\"parcoords\"}],                        {\"template\":{\"data\":{\"histogram2dcontour\":[{\"type\":\"histogram2dcontour\",\"colorbar\":{\"outlinewidth\":0,\"ticks\":\"\"},\"colorscale\":[[0.0,\"#0d0887\"],[0.1111111111111111,\"#46039f\"],[0.2222222222222222,\"#7201a8\"],[0.3333333333333333,\"#9c179e\"],[0.4444444444444444,\"#bd3786\"],[0.5555555555555556,\"#d8576b\"],[0.6666666666666666,\"#ed7953\"],[0.7777777777777778,\"#fb9f3a\"],[0.8888888888888888,\"#fdca26\"],[1.0,\"#f0f921\"]]}],\"choropleth\":[{\"type\":\"choropleth\",\"colorbar\":{\"outlinewidth\":0,\"ticks\":\"\"}}],\"histogram2d\":[{\"type\":\"histogram2d\",\"colorbar\":{\"outlinewidth\":0,\"ticks\":\"\"},\"colorscale\":[[0.0,\"#0d0887\"],[0.1111111111111111,\"#46039f\"],[0.2222222222222222,\"#7201a8\"],[0.3333333333333333,\"#9c179e\"],[0.4444444444444444,\"#bd3786\"],[0.5555555555555556,\"#d8576b\"],[0.6666666666666666,\"#ed7953\"],[0.7777777777777778,\"#fb9f3a\"],[0.8888888888888888,\"#fdca26\"],[1.0,\"#f0f921\"]]}],\"heatmap\":[{\"type\":\"heatmap\",\"colorbar\":{\"outlinewidth\":0,\"ticks\":\"\"},\"colorscale\":[[0.0,\"#0d0887\"],[0.1111111111111111,\"#46039f\"],[0.2222222222222222,\"#7201a8\"],[0.3333333333333333,\"#9c179e\"],[0.4444444444444444,\"#bd3786\"],[0.5555555555555556,\"#d8576b\"],[0.6666666666666666,\"#ed7953\"],[0.7777777777777778,\"#fb9f3a\"],[0.8888888888888888,\"#fdca26\"],[1.0,\"#f0f921\"]]}],\"heatmapgl\":[{\"type\":\"heatmapgl\",\"colorbar\":{\"outlinewidth\":0,\"ticks\":\"\"},\"colorscale\":[[0.0,\"#0d0887\"],[0.1111111111111111,\"#46039f\"],[0.2222222222222222,\"#7201a8\"],[0.3333333333333333,\"#9c179e\"],[0.4444444444444444,\"#bd3786\"],[0.5555555555555556,\"#d8576b\"],[0.6666666666666666,\"#ed7953\"],[0.7777777777777778,\"#fb9f3a\"],[0.8888888888888888,\"#fdca26\"],[1.0,\"#f0f921\"]]}],\"contourcarpet\":[{\"type\":\"contourcarpet\",\"colorbar\":{\"outlinewidth\":0,\"ticks\":\"\"}}],\"contour\":[{\"type\":\"contour\",\"colorbar\":{\"outlinewidth\":0,\"ticks\":\"\"},\"colorscale\":[[0.0,\"#0d0887\"],[0.1111111111111111,\"#46039f\"],[0.2222222222222222,\"#7201a8\"],[0.3333333333333333,\"#9c179e\"],[0.4444444444444444,\"#bd3786\"],[0.5555555555555556,\"#d8576b\"],[0.6666666666666666,\"#ed7953\"],[0.7777777777777778,\"#fb9f3a\"],[0.8888888888888888,\"#fdca26\"],[1.0,\"#f0f921\"]]}],\"surface\":[{\"type\":\"surface\",\"colorbar\":{\"outlinewidth\":0,\"ticks\":\"\"},\"colorscale\":[[0.0,\"#0d0887\"],[0.1111111111111111,\"#46039f\"],[0.2222222222222222,\"#7201a8\"],[0.3333333333333333,\"#9c179e\"],[0.4444444444444444,\"#bd3786\"],[0.5555555555555556,\"#d8576b\"],[0.6666666666666666,\"#ed7953\"],[0.7777777777777778,\"#fb9f3a\"],[0.8888888888888888,\"#fdca26\"],[1.0,\"#f0f921\"]]}],\"mesh3d\":[{\"type\":\"mesh3d\",\"colorbar\":{\"outlinewidth\":0,\"ticks\":\"\"}}],\"scatter\":[{\"fillpattern\":{\"fillmode\":\"overlay\",\"size\":10,\"solidity\":0.2},\"type\":\"scatter\"}],\"parcoords\":[{\"type\":\"parcoords\",\"line\":{\"colorbar\":{\"outlinewidth\":0,\"ticks\":\"\"}}}],\"scatterpolargl\":[{\"type\":\"scatterpolargl\",\"marker\":{\"colorbar\":{\"outlinewidth\":0,\"ticks\":\"\"}}}],\"bar\":[{\"error_x\":{\"color\":\"#2a3f5f\"},\"error_y\":{\"color\":\"#2a3f5f\"},\"marker\":{\"line\":{\"color\":\"#E5ECF6\",\"width\":0.5},\"pattern\":{\"fillmode\":\"overlay\",\"size\":10,\"solidity\":0.2}},\"type\":\"bar\"}],\"scattergeo\":[{\"type\":\"scattergeo\",\"marker\":{\"colorbar\":{\"outlinewidth\":0,\"ticks\":\"\"}}}],\"scatterpolar\":[{\"type\":\"scatterpolar\",\"marker\":{\"colorbar\":{\"outlinewidth\":0,\"ticks\":\"\"}}}],\"histogram\":[{\"marker\":{\"pattern\":{\"fillmode\":\"overlay\",\"size\":10,\"solidity\":0.2}},\"type\":\"histogram\"}],\"scattergl\":[{\"type\":\"scattergl\",\"marker\":{\"colorbar\":{\"outlinewidth\":0,\"ticks\":\"\"}}}],\"scatter3d\":[{\"type\":\"scatter3d\",\"line\":{\"colorbar\":{\"outlinewidth\":0,\"ticks\":\"\"}},\"marker\":{\"colorbar\":{\"outlinewidth\":0,\"ticks\":\"\"}}}],\"scattermapbox\":[{\"type\":\"scattermapbox\",\"marker\":{\"colorbar\":{\"outlinewidth\":0,\"ticks\":\"\"}}}],\"scatterternary\":[{\"type\":\"scatterternary\",\"marker\":{\"colorbar\":{\"outlinewidth\":0,\"ticks\":\"\"}}}],\"scattercarpet\":[{\"type\":\"scattercarpet\",\"marker\":{\"colorbar\":{\"outlinewidth\":0,\"ticks\":\"\"}}}],\"carpet\":[{\"aaxis\":{\"endlinecolor\":\"#2a3f5f\",\"gridcolor\":\"white\",\"linecolor\":\"white\",\"minorgridcolor\":\"white\",\"startlinecolor\":\"#2a3f5f\"},\"baxis\":{\"endlinecolor\":\"#2a3f5f\",\"gridcolor\":\"white\",\"linecolor\":\"white\",\"minorgridcolor\":\"white\",\"startlinecolor\":\"#2a3f5f\"},\"type\":\"carpet\"}],\"table\":[{\"cells\":{\"fill\":{\"color\":\"#EBF0F8\"},\"line\":{\"color\":\"white\"}},\"header\":{\"fill\":{\"color\":\"#C8D4E3\"},\"line\":{\"color\":\"white\"}},\"type\":\"table\"}],\"barpolar\":[{\"marker\":{\"line\":{\"color\":\"#E5ECF6\",\"width\":0.5},\"pattern\":{\"fillmode\":\"overlay\",\"size\":10,\"solidity\":0.2}},\"type\":\"barpolar\"}],\"pie\":[{\"automargin\":true,\"type\":\"pie\"}]},\"layout\":{\"autotypenumbers\":\"strict\",\"colorway\":[\"#636efa\",\"#EF553B\",\"#00cc96\",\"#ab63fa\",\"#FFA15A\",\"#19d3f3\",\"#FF6692\",\"#B6E880\",\"#FF97FF\",\"#FECB52\"],\"font\":{\"color\":\"#2a3f5f\"},\"hovermode\":\"closest\",\"hoverlabel\":{\"align\":\"left\"},\"paper_bgcolor\":\"white\",\"plot_bgcolor\":\"#E5ECF6\",\"polar\":{\"bgcolor\":\"#E5ECF6\",\"angularaxis\":{\"gridcolor\":\"white\",\"linecolor\":\"white\",\"ticks\":\"\"},\"radialaxis\":{\"gridcolor\":\"white\",\"linecolor\":\"white\",\"ticks\":\"\"}},\"ternary\":{\"bgcolor\":\"#E5ECF6\",\"aaxis\":{\"gridcolor\":\"white\",\"linecolor\":\"white\",\"ticks\":\"\"},\"baxis\":{\"gridcolor\":\"white\",\"linecolor\":\"white\",\"ticks\":\"\"},\"caxis\":{\"gridcolor\":\"white\",\"linecolor\":\"white\",\"ticks\":\"\"}},\"coloraxis\":{\"colorbar\":{\"outlinewidth\":0,\"ticks\":\"\"}},\"colorscale\":{\"sequential\":[[0.0,\"#0d0887\"],[0.1111111111111111,\"#46039f\"],[0.2222222222222222,\"#7201a8\"],[0.3333333333333333,\"#9c179e\"],[0.4444444444444444,\"#bd3786\"],[0.5555555555555556,\"#d8576b\"],[0.6666666666666666,\"#ed7953\"],[0.7777777777777778,\"#fb9f3a\"],[0.8888888888888888,\"#fdca26\"],[1.0,\"#f0f921\"]],\"sequentialminus\":[[0.0,\"#0d0887\"],[0.1111111111111111,\"#46039f\"],[0.2222222222222222,\"#7201a8\"],[0.3333333333333333,\"#9c179e\"],[0.4444444444444444,\"#bd3786\"],[0.5555555555555556,\"#d8576b\"],[0.6666666666666666,\"#ed7953\"],[0.7777777777777778,\"#fb9f3a\"],[0.8888888888888888,\"#fdca26\"],[1.0,\"#f0f921\"]],\"diverging\":[[0,\"#8e0152\"],[0.1,\"#c51b7d\"],[0.2,\"#de77ae\"],[0.3,\"#f1b6da\"],[0.4,\"#fde0ef\"],[0.5,\"#f7f7f7\"],[0.6,\"#e6f5d0\"],[0.7,\"#b8e186\"],[0.8,\"#7fbc41\"],[0.9,\"#4d9221\"],[1,\"#276419\"]]},\"xaxis\":{\"gridcolor\":\"white\",\"linecolor\":\"white\",\"ticks\":\"\",\"title\":{\"standoff\":15},\"zerolinecolor\":\"white\",\"automargin\":true,\"zerolinewidth\":2},\"yaxis\":{\"gridcolor\":\"white\",\"linecolor\":\"white\",\"ticks\":\"\",\"title\":{\"standoff\":15},\"zerolinecolor\":\"white\",\"automargin\":true,\"zerolinewidth\":2},\"scene\":{\"xaxis\":{\"backgroundcolor\":\"#E5ECF6\",\"gridcolor\":\"white\",\"linecolor\":\"white\",\"showbackground\":true,\"ticks\":\"\",\"zerolinecolor\":\"white\",\"gridwidth\":2},\"yaxis\":{\"backgroundcolor\":\"#E5ECF6\",\"gridcolor\":\"white\",\"linecolor\":\"white\",\"showbackground\":true,\"ticks\":\"\",\"zerolinecolor\":\"white\",\"gridwidth\":2},\"zaxis\":{\"backgroundcolor\":\"#E5ECF6\",\"gridcolor\":\"white\",\"linecolor\":\"white\",\"showbackground\":true,\"ticks\":\"\",\"zerolinecolor\":\"white\",\"gridwidth\":2}},\"shapedefaults\":{\"line\":{\"color\":\"#2a3f5f\"}},\"annotationdefaults\":{\"arrowcolor\":\"#2a3f5f\",\"arrowhead\":0,\"arrowwidth\":1},\"geo\":{\"bgcolor\":\"white\",\"landcolor\":\"#E5ECF6\",\"subunitcolor\":\"white\",\"showland\":true,\"showlakes\":true,\"lakecolor\":\"white\"},\"title\":{\"x\":0.05},\"mapbox\":{\"style\":\"light\"}}},\"coloraxis\":{\"colorbar\":{\"title\":{\"text\":\"val_loss\"}},\"colorscale\":[[0.0,\"#440154\"],[0.1111111111111111,\"#482878\"],[0.2222222222222222,\"#3e4989\"],[0.3333333333333333,\"#31688e\"],[0.4444444444444444,\"#26828e\"],[0.5555555555555556,\"#1f9e89\"],[0.6666666666666666,\"#35b779\"],[0.7777777777777778,\"#6ece58\"],[0.8888888888888888,\"#b5de2b\"],[1.0,\"#fde725\"]]},\"legend\":{\"tracegroupgap\":0},\"title\":{\"text\":\"Hyperparameter search results\"}},                        {\"responsive\": true}                    ).then(function(){\n",
       "                            \n",
       "var gd = document.getElementById('3c350703-5533-4f6d-a432-666435f4f3b5');\n",
       "var x = new MutationObserver(function (mutations, observer) {{\n",
       "        var display = window.getComputedStyle(gd).display;\n",
       "        if (!display || display === 'none') {{\n",
       "            console.log([gd, 'removed!']);\n",
       "            Plotly.purge(gd);\n",
       "            observer.disconnect();\n",
       "        }}\n",
       "}});\n",
       "\n",
       "// Listen for the removal of the full notebook cells\n",
       "var notebookContainer = gd.closest('#notebook-container');\n",
       "if (notebookContainer) {{\n",
       "    x.observe(notebookContainer, {childList: true});\n",
       "}}\n",
       "\n",
       "// Listen for the clearing of the current output cell\n",
       "var outputEl = gd.closest('.output');\n",
       "if (outputEl) {{\n",
       "    x.observe(outputEl, {childList: true});\n",
       "}}\n",
       "\n",
       "                        })                };                });            </script>        </div>"
      ]
     },
     "metadata": {},
     "output_type": "display_data"
    },
    {
     "data": {
      "application/vnd.plotly.v1+json": {
       "config": {
        "plotlyServerURL": "https://plot.ly"
       },
       "data": [
        {
         "dimensions": [
          {
           "label": "val_loss",
           "values": [
            0.1519712805747985,
            0.2104188352823257,
            0.2307580709457397,
            0.2525908648967743,
            0.2678727805614471,
            0.2904145419597626,
            0.384754329919815,
            0.4516955316066742,
            0.5957207083702087,
            0.6612871885299683,
            0.6737052798271179,
            0.6764938235282898,
            0.7108669877052307,
            0.7253999710083008,
            0.8056357502937317,
            0.8386881947517395,
            0.8619832396507263,
            0.8703534007072449,
            0.9019795656204224,
            0.9085923433303832,
            0.9124155044555664,
            0.920562982559204,
            0.9354971647262572,
            0.9366219639778136,
            0.938056707382202,
            0.941224217414856,
            0.9414558410644532,
            0.951740562915802,
            0.9778998494148254,
            0.9803254008293152,
            0.9882200956344604
           ]
          },
          {
           "label": "window_function",
           "values": [
            "None",
            "poly6",
            "gaussian",
            "gaussian",
            "poly6",
            "gaussian",
            "None",
            "None",
            "poly6",
            "None",
            "poly6",
            "poly6",
            "None",
            "gaussian",
            "None",
            "poly6",
            "None",
            "None",
            "gaussian",
            "poly6",
            "poly6",
            "poly6",
            "None",
            "gaussian",
            "poly6",
            "None",
            "poly6",
            "poly6",
            "poly6",
            "gaussian",
            "gaussian"
           ]
          },
          {
           "label": "intermediate_activation_fn",
           "values": [
            "GeLU",
            "GeLU",
            "leaky_relu",
            "tanh",
            "GeLU",
            "tanh",
            "relu",
            "GeLU",
            "GeLU",
            "relu",
            "relu",
            "tanh",
            "relu",
            "leaky_relu",
            "leaky_relu",
            "relu",
            "GeLU",
            "tanh",
            "GeLU",
            "relu",
            "GeLU",
            "relu",
            "GeLU",
            "leaky_relu",
            "relu",
            "GeLU",
            "GeLU",
            "leaky_relu",
            "tanh",
            "relu",
            "leaky_relu"
           ]
          },
          {
           "label": "radius_search_ignore_query_points",
           "values": [
            true,
            true,
            false,
            false,
            true,
            true,
            false,
            false,
            false,
            false,
            false,
            false,
            true,
            false,
            true,
            true,
            false,
            true,
            false,
            false,
            false,
            false,
            false,
            false,
            true,
            false,
            true,
            true,
            false,
            true,
            false
           ]
          },
          {
           "label": "use_dense_layer_for_centers",
           "values": [
            "None",
            true,
            true,
            true,
            "None",
            true,
            "None",
            "None",
            false,
            false,
            true,
            false,
            "None",
            true,
            false,
            true,
            "None",
            false,
            true,
            "None",
            true,
            false,
            false,
            true,
            "None",
            "None",
            "None",
            true,
            true,
            true,
            true
           ]
          },
          {
           "label": "stopped_early",
           "values": [
            false,
            false,
            false,
            false,
            false,
            false,
            false,
            true,
            true,
            false,
            true,
            true,
            true,
            true,
            true,
            true,
            true,
            true,
            true,
            true,
            true,
            true,
            true,
            true,
            true,
            true,
            true,
            true,
            true,
            true,
            true
           ]
          },
          {
           "label": "filter_extent",
           "values": [
            0.125744190771616,
            0.1533070917030944,
            0.1490508680182408,
            0.1517497038179102,
            0.1237910339959341,
            0.1186753371823536,
            0.2625833808322801,
            0.1666839782696133,
            0.2491763628384303,
            0.1812155840097024,
            0.1388220683390072,
            0.108498918106567,
            0.1517141681954666,
            0.0766355680898088,
            0.1132227047540914,
            0.0871766001933915,
            0.3254764081906778,
            0.2304765572896104,
            0.0938033062798732,
            0.2627651302376597,
            0.0889271625745868,
            0.1064211081891452,
            0.1405888360457206,
            0.2387800975464701,
            0.1873885371877903,
            0.1372375029938616,
            0.1114012383901866,
            0.0858908022428246,
            0.0878309429079135,
            0.1018089465207497,
            0.1988903099887931
           ]
          }
         ],
         "domain": {
          "x": [
           0,
           1
          ],
          "y": [
           0,
           1
          ]
         },
         "line": {
          "color": [
           0.1519712805747985,
           0.2104188352823257,
           0.2307580709457397,
           0.2525908648967743,
           0.2678727805614471,
           0.2904145419597626,
           0.384754329919815,
           0.4516955316066742,
           0.5957207083702087,
           0.6612871885299683,
           0.6737052798271179,
           0.6764938235282898,
           0.7108669877052307,
           0.7253999710083008,
           0.8056357502937317,
           0.8386881947517395,
           0.8619832396507263,
           0.8703534007072449,
           0.9019795656204224,
           0.9085923433303832,
           0.9124155044555664,
           0.920562982559204,
           0.9354971647262572,
           0.9366219639778136,
           0.938056707382202,
           0.941224217414856,
           0.9414558410644532,
           0.951740562915802,
           0.9778998494148254,
           0.9803254008293152,
           0.9882200956344604
          ],
          "coloraxis": "coloraxis"
         },
         "name": "",
         "type": "parcats"
        }
       ],
       "layout": {
        "coloraxis": {
         "colorbar": {
          "title": {
           "text": "val_loss"
          }
         },
         "colorscale": [
          [
           0,
           "#440154"
          ],
          [
           0.1111111111111111,
           "#482878"
          ],
          [
           0.2222222222222222,
           "#3e4989"
          ],
          [
           0.3333333333333333,
           "#31688e"
          ],
          [
           0.4444444444444444,
           "#26828e"
          ],
          [
           0.5555555555555556,
           "#1f9e89"
          ],
          [
           0.6666666666666666,
           "#35b779"
          ],
          [
           0.7777777777777778,
           "#6ece58"
          ],
          [
           0.8888888888888888,
           "#b5de2b"
          ],
          [
           1,
           "#fde725"
          ]
         ]
        },
        "legend": {
         "tracegroupgap": 0
        },
        "template": {
         "data": {
          "bar": [
           {
            "error_x": {
             "color": "#2a3f5f"
            },
            "error_y": {
             "color": "#2a3f5f"
            },
            "marker": {
             "line": {
              "color": "#E5ECF6",
              "width": 0.5
             },
             "pattern": {
              "fillmode": "overlay",
              "size": 10,
              "solidity": 0.2
             }
            },
            "type": "bar"
           }
          ],
          "barpolar": [
           {
            "marker": {
             "line": {
              "color": "#E5ECF6",
              "width": 0.5
             },
             "pattern": {
              "fillmode": "overlay",
              "size": 10,
              "solidity": 0.2
             }
            },
            "type": "barpolar"
           }
          ],
          "carpet": [
           {
            "aaxis": {
             "endlinecolor": "#2a3f5f",
             "gridcolor": "white",
             "linecolor": "white",
             "minorgridcolor": "white",
             "startlinecolor": "#2a3f5f"
            },
            "baxis": {
             "endlinecolor": "#2a3f5f",
             "gridcolor": "white",
             "linecolor": "white",
             "minorgridcolor": "white",
             "startlinecolor": "#2a3f5f"
            },
            "type": "carpet"
           }
          ],
          "choropleth": [
           {
            "colorbar": {
             "outlinewidth": 0,
             "ticks": ""
            },
            "type": "choropleth"
           }
          ],
          "contour": [
           {
            "colorbar": {
             "outlinewidth": 0,
             "ticks": ""
            },
            "colorscale": [
             [
              0,
              "#0d0887"
             ],
             [
              0.1111111111111111,
              "#46039f"
             ],
             [
              0.2222222222222222,
              "#7201a8"
             ],
             [
              0.3333333333333333,
              "#9c179e"
             ],
             [
              0.4444444444444444,
              "#bd3786"
             ],
             [
              0.5555555555555556,
              "#d8576b"
             ],
             [
              0.6666666666666666,
              "#ed7953"
             ],
             [
              0.7777777777777778,
              "#fb9f3a"
             ],
             [
              0.8888888888888888,
              "#fdca26"
             ],
             [
              1,
              "#f0f921"
             ]
            ],
            "type": "contour"
           }
          ],
          "contourcarpet": [
           {
            "colorbar": {
             "outlinewidth": 0,
             "ticks": ""
            },
            "type": "contourcarpet"
           }
          ],
          "heatmap": [
           {
            "colorbar": {
             "outlinewidth": 0,
             "ticks": ""
            },
            "colorscale": [
             [
              0,
              "#0d0887"
             ],
             [
              0.1111111111111111,
              "#46039f"
             ],
             [
              0.2222222222222222,
              "#7201a8"
             ],
             [
              0.3333333333333333,
              "#9c179e"
             ],
             [
              0.4444444444444444,
              "#bd3786"
             ],
             [
              0.5555555555555556,
              "#d8576b"
             ],
             [
              0.6666666666666666,
              "#ed7953"
             ],
             [
              0.7777777777777778,
              "#fb9f3a"
             ],
             [
              0.8888888888888888,
              "#fdca26"
             ],
             [
              1,
              "#f0f921"
             ]
            ],
            "type": "heatmap"
           }
          ],
          "heatmapgl": [
           {
            "colorbar": {
             "outlinewidth": 0,
             "ticks": ""
            },
            "colorscale": [
             [
              0,
              "#0d0887"
             ],
             [
              0.1111111111111111,
              "#46039f"
             ],
             [
              0.2222222222222222,
              "#7201a8"
             ],
             [
              0.3333333333333333,
              "#9c179e"
             ],
             [
              0.4444444444444444,
              "#bd3786"
             ],
             [
              0.5555555555555556,
              "#d8576b"
             ],
             [
              0.6666666666666666,
              "#ed7953"
             ],
             [
              0.7777777777777778,
              "#fb9f3a"
             ],
             [
              0.8888888888888888,
              "#fdca26"
             ],
             [
              1,
              "#f0f921"
             ]
            ],
            "type": "heatmapgl"
           }
          ],
          "histogram": [
           {
            "marker": {
             "pattern": {
              "fillmode": "overlay",
              "size": 10,
              "solidity": 0.2
             }
            },
            "type": "histogram"
           }
          ],
          "histogram2d": [
           {
            "colorbar": {
             "outlinewidth": 0,
             "ticks": ""
            },
            "colorscale": [
             [
              0,
              "#0d0887"
             ],
             [
              0.1111111111111111,
              "#46039f"
             ],
             [
              0.2222222222222222,
              "#7201a8"
             ],
             [
              0.3333333333333333,
              "#9c179e"
             ],
             [
              0.4444444444444444,
              "#bd3786"
             ],
             [
              0.5555555555555556,
              "#d8576b"
             ],
             [
              0.6666666666666666,
              "#ed7953"
             ],
             [
              0.7777777777777778,
              "#fb9f3a"
             ],
             [
              0.8888888888888888,
              "#fdca26"
             ],
             [
              1,
              "#f0f921"
             ]
            ],
            "type": "histogram2d"
           }
          ],
          "histogram2dcontour": [
           {
            "colorbar": {
             "outlinewidth": 0,
             "ticks": ""
            },
            "colorscale": [
             [
              0,
              "#0d0887"
             ],
             [
              0.1111111111111111,
              "#46039f"
             ],
             [
              0.2222222222222222,
              "#7201a8"
             ],
             [
              0.3333333333333333,
              "#9c179e"
             ],
             [
              0.4444444444444444,
              "#bd3786"
             ],
             [
              0.5555555555555556,
              "#d8576b"
             ],
             [
              0.6666666666666666,
              "#ed7953"
             ],
             [
              0.7777777777777778,
              "#fb9f3a"
             ],
             [
              0.8888888888888888,
              "#fdca26"
             ],
             [
              1,
              "#f0f921"
             ]
            ],
            "type": "histogram2dcontour"
           }
          ],
          "mesh3d": [
           {
            "colorbar": {
             "outlinewidth": 0,
             "ticks": ""
            },
            "type": "mesh3d"
           }
          ],
          "parcoords": [
           {
            "line": {
             "colorbar": {
              "outlinewidth": 0,
              "ticks": ""
             }
            },
            "type": "parcoords"
           }
          ],
          "pie": [
           {
            "automargin": true,
            "type": "pie"
           }
          ],
          "scatter": [
           {
            "fillpattern": {
             "fillmode": "overlay",
             "size": 10,
             "solidity": 0.2
            },
            "type": "scatter"
           }
          ],
          "scatter3d": [
           {
            "line": {
             "colorbar": {
              "outlinewidth": 0,
              "ticks": ""
             }
            },
            "marker": {
             "colorbar": {
              "outlinewidth": 0,
              "ticks": ""
             }
            },
            "type": "scatter3d"
           }
          ],
          "scattercarpet": [
           {
            "marker": {
             "colorbar": {
              "outlinewidth": 0,
              "ticks": ""
             }
            },
            "type": "scattercarpet"
           }
          ],
          "scattergeo": [
           {
            "marker": {
             "colorbar": {
              "outlinewidth": 0,
              "ticks": ""
             }
            },
            "type": "scattergeo"
           }
          ],
          "scattergl": [
           {
            "marker": {
             "colorbar": {
              "outlinewidth": 0,
              "ticks": ""
             }
            },
            "type": "scattergl"
           }
          ],
          "scattermapbox": [
           {
            "marker": {
             "colorbar": {
              "outlinewidth": 0,
              "ticks": ""
             }
            },
            "type": "scattermapbox"
           }
          ],
          "scatterpolar": [
           {
            "marker": {
             "colorbar": {
              "outlinewidth": 0,
              "ticks": ""
             }
            },
            "type": "scatterpolar"
           }
          ],
          "scatterpolargl": [
           {
            "marker": {
             "colorbar": {
              "outlinewidth": 0,
              "ticks": ""
             }
            },
            "type": "scatterpolargl"
           }
          ],
          "scatterternary": [
           {
            "marker": {
             "colorbar": {
              "outlinewidth": 0,
              "ticks": ""
             }
            },
            "type": "scatterternary"
           }
          ],
          "surface": [
           {
            "colorbar": {
             "outlinewidth": 0,
             "ticks": ""
            },
            "colorscale": [
             [
              0,
              "#0d0887"
             ],
             [
              0.1111111111111111,
              "#46039f"
             ],
             [
              0.2222222222222222,
              "#7201a8"
             ],
             [
              0.3333333333333333,
              "#9c179e"
             ],
             [
              0.4444444444444444,
              "#bd3786"
             ],
             [
              0.5555555555555556,
              "#d8576b"
             ],
             [
              0.6666666666666666,
              "#ed7953"
             ],
             [
              0.7777777777777778,
              "#fb9f3a"
             ],
             [
              0.8888888888888888,
              "#fdca26"
             ],
             [
              1,
              "#f0f921"
             ]
            ],
            "type": "surface"
           }
          ],
          "table": [
           {
            "cells": {
             "fill": {
              "color": "#EBF0F8"
             },
             "line": {
              "color": "white"
             }
            },
            "header": {
             "fill": {
              "color": "#C8D4E3"
             },
             "line": {
              "color": "white"
             }
            },
            "type": "table"
           }
          ]
         },
         "layout": {
          "annotationdefaults": {
           "arrowcolor": "#2a3f5f",
           "arrowhead": 0,
           "arrowwidth": 1
          },
          "autotypenumbers": "strict",
          "coloraxis": {
           "colorbar": {
            "outlinewidth": 0,
            "ticks": ""
           }
          },
          "colorscale": {
           "diverging": [
            [
             0,
             "#8e0152"
            ],
            [
             0.1,
             "#c51b7d"
            ],
            [
             0.2,
             "#de77ae"
            ],
            [
             0.3,
             "#f1b6da"
            ],
            [
             0.4,
             "#fde0ef"
            ],
            [
             0.5,
             "#f7f7f7"
            ],
            [
             0.6,
             "#e6f5d0"
            ],
            [
             0.7,
             "#b8e186"
            ],
            [
             0.8,
             "#7fbc41"
            ],
            [
             0.9,
             "#4d9221"
            ],
            [
             1,
             "#276419"
            ]
           ],
           "sequential": [
            [
             0,
             "#0d0887"
            ],
            [
             0.1111111111111111,
             "#46039f"
            ],
            [
             0.2222222222222222,
             "#7201a8"
            ],
            [
             0.3333333333333333,
             "#9c179e"
            ],
            [
             0.4444444444444444,
             "#bd3786"
            ],
            [
             0.5555555555555556,
             "#d8576b"
            ],
            [
             0.6666666666666666,
             "#ed7953"
            ],
            [
             0.7777777777777778,
             "#fb9f3a"
            ],
            [
             0.8888888888888888,
             "#fdca26"
            ],
            [
             1,
             "#f0f921"
            ]
           ],
           "sequentialminus": [
            [
             0,
             "#0d0887"
            ],
            [
             0.1111111111111111,
             "#46039f"
            ],
            [
             0.2222222222222222,
             "#7201a8"
            ],
            [
             0.3333333333333333,
             "#9c179e"
            ],
            [
             0.4444444444444444,
             "#bd3786"
            ],
            [
             0.5555555555555556,
             "#d8576b"
            ],
            [
             0.6666666666666666,
             "#ed7953"
            ],
            [
             0.7777777777777778,
             "#fb9f3a"
            ],
            [
             0.8888888888888888,
             "#fdca26"
            ],
            [
             1,
             "#f0f921"
            ]
           ]
          },
          "colorway": [
           "#636efa",
           "#EF553B",
           "#00cc96",
           "#ab63fa",
           "#FFA15A",
           "#19d3f3",
           "#FF6692",
           "#B6E880",
           "#FF97FF",
           "#FECB52"
          ],
          "font": {
           "color": "#2a3f5f"
          },
          "geo": {
           "bgcolor": "white",
           "lakecolor": "white",
           "landcolor": "#E5ECF6",
           "showlakes": true,
           "showland": true,
           "subunitcolor": "white"
          },
          "hoverlabel": {
           "align": "left"
          },
          "hovermode": "closest",
          "mapbox": {
           "style": "light"
          },
          "paper_bgcolor": "white",
          "plot_bgcolor": "#E5ECF6",
          "polar": {
           "angularaxis": {
            "gridcolor": "white",
            "linecolor": "white",
            "ticks": ""
           },
           "bgcolor": "#E5ECF6",
           "radialaxis": {
            "gridcolor": "white",
            "linecolor": "white",
            "ticks": ""
           }
          },
          "scene": {
           "xaxis": {
            "backgroundcolor": "#E5ECF6",
            "gridcolor": "white",
            "gridwidth": 2,
            "linecolor": "white",
            "showbackground": true,
            "ticks": "",
            "zerolinecolor": "white"
           },
           "yaxis": {
            "backgroundcolor": "#E5ECF6",
            "gridcolor": "white",
            "gridwidth": 2,
            "linecolor": "white",
            "showbackground": true,
            "ticks": "",
            "zerolinecolor": "white"
           },
           "zaxis": {
            "backgroundcolor": "#E5ECF6",
            "gridcolor": "white",
            "gridwidth": 2,
            "linecolor": "white",
            "showbackground": true,
            "ticks": "",
            "zerolinecolor": "white"
           }
          },
          "shapedefaults": {
           "line": {
            "color": "#2a3f5f"
           }
          },
          "ternary": {
           "aaxis": {
            "gridcolor": "white",
            "linecolor": "white",
            "ticks": ""
           },
           "baxis": {
            "gridcolor": "white",
            "linecolor": "white",
            "ticks": ""
           },
           "bgcolor": "#E5ECF6",
           "caxis": {
            "gridcolor": "white",
            "linecolor": "white",
            "ticks": ""
           }
          },
          "title": {
           "x": 0.05
          },
          "xaxis": {
           "automargin": true,
           "gridcolor": "white",
           "linecolor": "white",
           "ticks": "",
           "title": {
            "standoff": 15
           },
           "zerolinecolor": "white",
           "zerolinewidth": 2
          },
          "yaxis": {
           "automargin": true,
           "gridcolor": "white",
           "linecolor": "white",
           "ticks": "",
           "title": {
            "standoff": 15
           },
           "zerolinecolor": "white",
           "zerolinewidth": 2
          }
         }
        },
        "title": {
         "text": "Hyperparameter search results"
        }
       }
      },
      "text/html": [
       "<div>                            <div id=\"8c54a10d-2078-48d8-9c89-bd6c843c69f7\" class=\"plotly-graph-div\" style=\"height:525px; width:100%;\"></div>            <script type=\"text/javascript\">                require([\"plotly\"], function(Plotly) {                    window.PLOTLYENV=window.PLOTLYENV || {};                                    if (document.getElementById(\"8c54a10d-2078-48d8-9c89-bd6c843c69f7\")) {                    Plotly.newPlot(                        \"8c54a10d-2078-48d8-9c89-bd6c843c69f7\",                        [{\"dimensions\":[{\"label\":\"val_loss\",\"values\":[0.1519712805747985,0.2104188352823257,0.2307580709457397,0.2525908648967743,0.2678727805614471,0.2904145419597626,0.384754329919815,0.4516955316066742,0.5957207083702087,0.6612871885299683,0.6737052798271179,0.6764938235282898,0.7108669877052307,0.7253999710083008,0.8056357502937317,0.8386881947517395,0.8619832396507263,0.8703534007072449,0.9019795656204224,0.9085923433303832,0.9124155044555664,0.920562982559204,0.9354971647262572,0.9366219639778136,0.938056707382202,0.941224217414856,0.9414558410644532,0.951740562915802,0.9778998494148254,0.9803254008293152,0.9882200956344604]},{\"label\":\"window_function\",\"values\":[\"None\",\"poly6\",\"gaussian\",\"gaussian\",\"poly6\",\"gaussian\",\"None\",\"None\",\"poly6\",\"None\",\"poly6\",\"poly6\",\"None\",\"gaussian\",\"None\",\"poly6\",\"None\",\"None\",\"gaussian\",\"poly6\",\"poly6\",\"poly6\",\"None\",\"gaussian\",\"poly6\",\"None\",\"poly6\",\"poly6\",\"poly6\",\"gaussian\",\"gaussian\"]},{\"label\":\"intermediate_activation_fn\",\"values\":[\"GeLU\",\"GeLU\",\"leaky_relu\",\"tanh\",\"GeLU\",\"tanh\",\"relu\",\"GeLU\",\"GeLU\",\"relu\",\"relu\",\"tanh\",\"relu\",\"leaky_relu\",\"leaky_relu\",\"relu\",\"GeLU\",\"tanh\",\"GeLU\",\"relu\",\"GeLU\",\"relu\",\"GeLU\",\"leaky_relu\",\"relu\",\"GeLU\",\"GeLU\",\"leaky_relu\",\"tanh\",\"relu\",\"leaky_relu\"]},{\"label\":\"radius_search_ignore_query_points\",\"values\":[true,true,false,false,true,true,false,false,false,false,false,false,true,false,true,true,false,true,false,false,false,false,false,false,true,false,true,true,false,true,false]},{\"label\":\"use_dense_layer_for_centers\",\"values\":[\"None\",true,true,true,\"None\",true,\"None\",\"None\",false,false,true,false,\"None\",true,false,true,\"None\",false,true,\"None\",true,false,false,true,\"None\",\"None\",\"None\",true,true,true,true]},{\"label\":\"stopped_early\",\"values\":[false,false,false,false,false,false,false,true,true,false,true,true,true,true,true,true,true,true,true,true,true,true,true,true,true,true,true,true,true,true,true]},{\"label\":\"filter_extent\",\"values\":[0.125744190771616,0.1533070917030944,0.1490508680182408,0.1517497038179102,0.1237910339959341,0.1186753371823536,0.2625833808322801,0.1666839782696133,0.2491763628384303,0.1812155840097024,0.1388220683390072,0.108498918106567,0.1517141681954666,0.0766355680898088,0.1132227047540914,0.0871766001933915,0.3254764081906778,0.2304765572896104,0.0938033062798732,0.2627651302376597,0.0889271625745868,0.1064211081891452,0.1405888360457206,0.2387800975464701,0.1873885371877903,0.1372375029938616,0.1114012383901866,0.0858908022428246,0.0878309429079135,0.1018089465207497,0.1988903099887931]}],\"domain\":{\"x\":[0.0,1.0],\"y\":[0.0,1.0]},\"line\":{\"color\":[0.1519712805747985,0.2104188352823257,0.2307580709457397,0.2525908648967743,0.2678727805614471,0.2904145419597626,0.384754329919815,0.4516955316066742,0.5957207083702087,0.6612871885299683,0.6737052798271179,0.6764938235282898,0.7108669877052307,0.7253999710083008,0.8056357502937317,0.8386881947517395,0.8619832396507263,0.8703534007072449,0.9019795656204224,0.9085923433303832,0.9124155044555664,0.920562982559204,0.9354971647262572,0.9366219639778136,0.938056707382202,0.941224217414856,0.9414558410644532,0.951740562915802,0.9778998494148254,0.9803254008293152,0.9882200956344604],\"coloraxis\":\"coloraxis\"},\"name\":\"\",\"type\":\"parcats\"}],                        {\"template\":{\"data\":{\"histogram2dcontour\":[{\"type\":\"histogram2dcontour\",\"colorbar\":{\"outlinewidth\":0,\"ticks\":\"\"},\"colorscale\":[[0.0,\"#0d0887\"],[0.1111111111111111,\"#46039f\"],[0.2222222222222222,\"#7201a8\"],[0.3333333333333333,\"#9c179e\"],[0.4444444444444444,\"#bd3786\"],[0.5555555555555556,\"#d8576b\"],[0.6666666666666666,\"#ed7953\"],[0.7777777777777778,\"#fb9f3a\"],[0.8888888888888888,\"#fdca26\"],[1.0,\"#f0f921\"]]}],\"choropleth\":[{\"type\":\"choropleth\",\"colorbar\":{\"outlinewidth\":0,\"ticks\":\"\"}}],\"histogram2d\":[{\"type\":\"histogram2d\",\"colorbar\":{\"outlinewidth\":0,\"ticks\":\"\"},\"colorscale\":[[0.0,\"#0d0887\"],[0.1111111111111111,\"#46039f\"],[0.2222222222222222,\"#7201a8\"],[0.3333333333333333,\"#9c179e\"],[0.4444444444444444,\"#bd3786\"],[0.5555555555555556,\"#d8576b\"],[0.6666666666666666,\"#ed7953\"],[0.7777777777777778,\"#fb9f3a\"],[0.8888888888888888,\"#fdca26\"],[1.0,\"#f0f921\"]]}],\"heatmap\":[{\"type\":\"heatmap\",\"colorbar\":{\"outlinewidth\":0,\"ticks\":\"\"},\"colorscale\":[[0.0,\"#0d0887\"],[0.1111111111111111,\"#46039f\"],[0.2222222222222222,\"#7201a8\"],[0.3333333333333333,\"#9c179e\"],[0.4444444444444444,\"#bd3786\"],[0.5555555555555556,\"#d8576b\"],[0.6666666666666666,\"#ed7953\"],[0.7777777777777778,\"#fb9f3a\"],[0.8888888888888888,\"#fdca26\"],[1.0,\"#f0f921\"]]}],\"heatmapgl\":[{\"type\":\"heatmapgl\",\"colorbar\":{\"outlinewidth\":0,\"ticks\":\"\"},\"colorscale\":[[0.0,\"#0d0887\"],[0.1111111111111111,\"#46039f\"],[0.2222222222222222,\"#7201a8\"],[0.3333333333333333,\"#9c179e\"],[0.4444444444444444,\"#bd3786\"],[0.5555555555555556,\"#d8576b\"],[0.6666666666666666,\"#ed7953\"],[0.7777777777777778,\"#fb9f3a\"],[0.8888888888888888,\"#fdca26\"],[1.0,\"#f0f921\"]]}],\"contourcarpet\":[{\"type\":\"contourcarpet\",\"colorbar\":{\"outlinewidth\":0,\"ticks\":\"\"}}],\"contour\":[{\"type\":\"contour\",\"colorbar\":{\"outlinewidth\":0,\"ticks\":\"\"},\"colorscale\":[[0.0,\"#0d0887\"],[0.1111111111111111,\"#46039f\"],[0.2222222222222222,\"#7201a8\"],[0.3333333333333333,\"#9c179e\"],[0.4444444444444444,\"#bd3786\"],[0.5555555555555556,\"#d8576b\"],[0.6666666666666666,\"#ed7953\"],[0.7777777777777778,\"#fb9f3a\"],[0.8888888888888888,\"#fdca26\"],[1.0,\"#f0f921\"]]}],\"surface\":[{\"type\":\"surface\",\"colorbar\":{\"outlinewidth\":0,\"ticks\":\"\"},\"colorscale\":[[0.0,\"#0d0887\"],[0.1111111111111111,\"#46039f\"],[0.2222222222222222,\"#7201a8\"],[0.3333333333333333,\"#9c179e\"],[0.4444444444444444,\"#bd3786\"],[0.5555555555555556,\"#d8576b\"],[0.6666666666666666,\"#ed7953\"],[0.7777777777777778,\"#fb9f3a\"],[0.8888888888888888,\"#fdca26\"],[1.0,\"#f0f921\"]]}],\"mesh3d\":[{\"type\":\"mesh3d\",\"colorbar\":{\"outlinewidth\":0,\"ticks\":\"\"}}],\"scatter\":[{\"fillpattern\":{\"fillmode\":\"overlay\",\"size\":10,\"solidity\":0.2},\"type\":\"scatter\"}],\"parcoords\":[{\"type\":\"parcoords\",\"line\":{\"colorbar\":{\"outlinewidth\":0,\"ticks\":\"\"}}}],\"scatterpolargl\":[{\"type\":\"scatterpolargl\",\"marker\":{\"colorbar\":{\"outlinewidth\":0,\"ticks\":\"\"}}}],\"bar\":[{\"error_x\":{\"color\":\"#2a3f5f\"},\"error_y\":{\"color\":\"#2a3f5f\"},\"marker\":{\"line\":{\"color\":\"#E5ECF6\",\"width\":0.5},\"pattern\":{\"fillmode\":\"overlay\",\"size\":10,\"solidity\":0.2}},\"type\":\"bar\"}],\"scattergeo\":[{\"type\":\"scattergeo\",\"marker\":{\"colorbar\":{\"outlinewidth\":0,\"ticks\":\"\"}}}],\"scatterpolar\":[{\"type\":\"scatterpolar\",\"marker\":{\"colorbar\":{\"outlinewidth\":0,\"ticks\":\"\"}}}],\"histogram\":[{\"marker\":{\"pattern\":{\"fillmode\":\"overlay\",\"size\":10,\"solidity\":0.2}},\"type\":\"histogram\"}],\"scattergl\":[{\"type\":\"scattergl\",\"marker\":{\"colorbar\":{\"outlinewidth\":0,\"ticks\":\"\"}}}],\"scatter3d\":[{\"type\":\"scatter3d\",\"line\":{\"colorbar\":{\"outlinewidth\":0,\"ticks\":\"\"}},\"marker\":{\"colorbar\":{\"outlinewidth\":0,\"ticks\":\"\"}}}],\"scattermapbox\":[{\"type\":\"scattermapbox\",\"marker\":{\"colorbar\":{\"outlinewidth\":0,\"ticks\":\"\"}}}],\"scatterternary\":[{\"type\":\"scatterternary\",\"marker\":{\"colorbar\":{\"outlinewidth\":0,\"ticks\":\"\"}}}],\"scattercarpet\":[{\"type\":\"scattercarpet\",\"marker\":{\"colorbar\":{\"outlinewidth\":0,\"ticks\":\"\"}}}],\"carpet\":[{\"aaxis\":{\"endlinecolor\":\"#2a3f5f\",\"gridcolor\":\"white\",\"linecolor\":\"white\",\"minorgridcolor\":\"white\",\"startlinecolor\":\"#2a3f5f\"},\"baxis\":{\"endlinecolor\":\"#2a3f5f\",\"gridcolor\":\"white\",\"linecolor\":\"white\",\"minorgridcolor\":\"white\",\"startlinecolor\":\"#2a3f5f\"},\"type\":\"carpet\"}],\"table\":[{\"cells\":{\"fill\":{\"color\":\"#EBF0F8\"},\"line\":{\"color\":\"white\"}},\"header\":{\"fill\":{\"color\":\"#C8D4E3\"},\"line\":{\"color\":\"white\"}},\"type\":\"table\"}],\"barpolar\":[{\"marker\":{\"line\":{\"color\":\"#E5ECF6\",\"width\":0.5},\"pattern\":{\"fillmode\":\"overlay\",\"size\":10,\"solidity\":0.2}},\"type\":\"barpolar\"}],\"pie\":[{\"automargin\":true,\"type\":\"pie\"}]},\"layout\":{\"autotypenumbers\":\"strict\",\"colorway\":[\"#636efa\",\"#EF553B\",\"#00cc96\",\"#ab63fa\",\"#FFA15A\",\"#19d3f3\",\"#FF6692\",\"#B6E880\",\"#FF97FF\",\"#FECB52\"],\"font\":{\"color\":\"#2a3f5f\"},\"hovermode\":\"closest\",\"hoverlabel\":{\"align\":\"left\"},\"paper_bgcolor\":\"white\",\"plot_bgcolor\":\"#E5ECF6\",\"polar\":{\"bgcolor\":\"#E5ECF6\",\"angularaxis\":{\"gridcolor\":\"white\",\"linecolor\":\"white\",\"ticks\":\"\"},\"radialaxis\":{\"gridcolor\":\"white\",\"linecolor\":\"white\",\"ticks\":\"\"}},\"ternary\":{\"bgcolor\":\"#E5ECF6\",\"aaxis\":{\"gridcolor\":\"white\",\"linecolor\":\"white\",\"ticks\":\"\"},\"baxis\":{\"gridcolor\":\"white\",\"linecolor\":\"white\",\"ticks\":\"\"},\"caxis\":{\"gridcolor\":\"white\",\"linecolor\":\"white\",\"ticks\":\"\"}},\"coloraxis\":{\"colorbar\":{\"outlinewidth\":0,\"ticks\":\"\"}},\"colorscale\":{\"sequential\":[[0.0,\"#0d0887\"],[0.1111111111111111,\"#46039f\"],[0.2222222222222222,\"#7201a8\"],[0.3333333333333333,\"#9c179e\"],[0.4444444444444444,\"#bd3786\"],[0.5555555555555556,\"#d8576b\"],[0.6666666666666666,\"#ed7953\"],[0.7777777777777778,\"#fb9f3a\"],[0.8888888888888888,\"#fdca26\"],[1.0,\"#f0f921\"]],\"sequentialminus\":[[0.0,\"#0d0887\"],[0.1111111111111111,\"#46039f\"],[0.2222222222222222,\"#7201a8\"],[0.3333333333333333,\"#9c179e\"],[0.4444444444444444,\"#bd3786\"],[0.5555555555555556,\"#d8576b\"],[0.6666666666666666,\"#ed7953\"],[0.7777777777777778,\"#fb9f3a\"],[0.8888888888888888,\"#fdca26\"],[1.0,\"#f0f921\"]],\"diverging\":[[0,\"#8e0152\"],[0.1,\"#c51b7d\"],[0.2,\"#de77ae\"],[0.3,\"#f1b6da\"],[0.4,\"#fde0ef\"],[0.5,\"#f7f7f7\"],[0.6,\"#e6f5d0\"],[0.7,\"#b8e186\"],[0.8,\"#7fbc41\"],[0.9,\"#4d9221\"],[1,\"#276419\"]]},\"xaxis\":{\"gridcolor\":\"white\",\"linecolor\":\"white\",\"ticks\":\"\",\"title\":{\"standoff\":15},\"zerolinecolor\":\"white\",\"automargin\":true,\"zerolinewidth\":2},\"yaxis\":{\"gridcolor\":\"white\",\"linecolor\":\"white\",\"ticks\":\"\",\"title\":{\"standoff\":15},\"zerolinecolor\":\"white\",\"automargin\":true,\"zerolinewidth\":2},\"scene\":{\"xaxis\":{\"backgroundcolor\":\"#E5ECF6\",\"gridcolor\":\"white\",\"linecolor\":\"white\",\"showbackground\":true,\"ticks\":\"\",\"zerolinecolor\":\"white\",\"gridwidth\":2},\"yaxis\":{\"backgroundcolor\":\"#E5ECF6\",\"gridcolor\":\"white\",\"linecolor\":\"white\",\"showbackground\":true,\"ticks\":\"\",\"zerolinecolor\":\"white\",\"gridwidth\":2},\"zaxis\":{\"backgroundcolor\":\"#E5ECF6\",\"gridcolor\":\"white\",\"linecolor\":\"white\",\"showbackground\":true,\"ticks\":\"\",\"zerolinecolor\":\"white\",\"gridwidth\":2}},\"shapedefaults\":{\"line\":{\"color\":\"#2a3f5f\"}},\"annotationdefaults\":{\"arrowcolor\":\"#2a3f5f\",\"arrowhead\":0,\"arrowwidth\":1},\"geo\":{\"bgcolor\":\"white\",\"landcolor\":\"#E5ECF6\",\"subunitcolor\":\"white\",\"showland\":true,\"showlakes\":true,\"lakecolor\":\"white\"},\"title\":{\"x\":0.05},\"mapbox\":{\"style\":\"light\"}}},\"coloraxis\":{\"colorbar\":{\"title\":{\"text\":\"val_loss\"}},\"colorscale\":[[0.0,\"#440154\"],[0.1111111111111111,\"#482878\"],[0.2222222222222222,\"#3e4989\"],[0.3333333333333333,\"#31688e\"],[0.4444444444444444,\"#26828e\"],[0.5555555555555556,\"#1f9e89\"],[0.6666666666666666,\"#35b779\"],[0.7777777777777778,\"#6ece58\"],[0.8888888888888888,\"#b5de2b\"],[1.0,\"#fde725\"]]},\"legend\":{\"tracegroupgap\":0},\"title\":{\"text\":\"Hyperparameter search results\"}},                        {\"responsive\": true}                    ).then(function(){\n",
       "                            \n",
       "var gd = document.getElementById('8c54a10d-2078-48d8-9c89-bd6c843c69f7');\n",
       "var x = new MutationObserver(function (mutations, observer) {{\n",
       "        var display = window.getComputedStyle(gd).display;\n",
       "        if (!display || display === 'none') {{\n",
       "            console.log([gd, 'removed!']);\n",
       "            Plotly.purge(gd);\n",
       "            observer.disconnect();\n",
       "        }}\n",
       "}});\n",
       "\n",
       "// Listen for the removal of the full notebook cells\n",
       "var notebookContainer = gd.closest('#notebook-container');\n",
       "if (notebookContainer) {{\n",
       "    x.observe(notebookContainer, {childList: true});\n",
       "}}\n",
       "\n",
       "// Listen for the clearing of the current output cell\n",
       "var outputEl = gd.closest('.output');\n",
       "if (outputEl) {{\n",
       "    x.observe(outputEl, {childList: true});\n",
       "}}\n",
       "\n",
       "                        })                };                });            </script>        </div>"
      ]
     },
     "metadata": {},
     "output_type": "display_data"
    }
   ],
   "source": [
    "# Create heatmap\n",
    "\n",
    "fig = go.Figure(data=go.Heatmap(\n",
    "    z=df['val_loss'],\n",
    "    x=df['window_function'],\n",
    "    y=df['intermediate_activation_fn'],\n",
    "    colorscale='Viridis'))\n",
    "fig.show()\n",
    "\n",
    "# Create parallel coordinates plot\n",
    "fig = px.parallel_coordinates(\n",
    "    df,\n",
    "    dimensions=['val_loss', 'window_function', 'intermediate_activation_fn', 'radius_search_ignore_query_points', 'use_dense_layer_for_centers', 'stopped_early', 'filter_extent'],\n",
    "    color='val_loss',\n",
    "    color_continuous_scale='viridis',\n",
    "    title='Hyperparameter search results',\n",
    ")\n",
    "fig.show()\n",
    "\n",
    "# Create parallel categories plot\n",
    "fig = px.parallel_categories(\n",
    "    df,\n",
    "    dimensions=['val_loss', 'window_function', 'intermediate_activation_fn', 'radius_search_ignore_query_points', 'use_dense_layer_for_centers', 'stopped_early', 'filter_extent'],\n",
    "    color='val_loss',\n",
    "    color_continuous_scale='viridis',\n",
    "    title='Hyperparameter search results',\n",
    ")\n",
    "fig.show()\n",
    "\n"
   ]
  },
  {
   "cell_type": "code",
   "execution_count": 85,
   "metadata": {},
   "outputs": [
    {
     "data": {
      "application/vnd.plotly.v1+json": {
       "config": {
        "plotlyServerURL": "https://plot.ly"
       },
       "data": [
        {
         "hovertemplate": "val_loss=%{marker.color}<br>window_function=%{y}<br>intermediate_activation_fn=%{z}<extra></extra>",
         "legendgroup": "",
         "marker": {
          "color": [
           0.1519712805747985,
           0.2104188352823257,
           0.2307580709457397,
           0.2525908648967743,
           0.2678727805614471,
           0.2904145419597626,
           0.384754329919815,
           0.4516955316066742,
           0.5957207083702087,
           0.6612871885299683,
           0.6737052798271179,
           0.6764938235282898,
           0.7108669877052307,
           0.7253999710083008,
           0.8056357502937317,
           0.8386881947517395,
           0.8619832396507263,
           0.8703534007072449,
           0.9019795656204224,
           0.9085923433303832,
           0.9124155044555664,
           0.920562982559204,
           0.9354971647262572,
           0.9366219639778136,
           0.938056707382202,
           0.941224217414856,
           0.9414558410644532,
           0.951740562915802,
           0.9778998494148254,
           0.9803254008293152,
           0.9882200956344604
          ],
          "coloraxis": "coloraxis",
          "symbol": "circle"
         },
         "mode": "markers",
         "name": "",
         "scene": "scene",
         "showlegend": false,
         "type": "scatter3d",
         "x": [
          0.1519712805747985,
          0.2104188352823257,
          0.2307580709457397,
          0.2525908648967743,
          0.2678727805614471,
          0.2904145419597626,
          0.384754329919815,
          0.4516955316066742,
          0.5957207083702087,
          0.6612871885299683,
          0.6737052798271179,
          0.6764938235282898,
          0.7108669877052307,
          0.7253999710083008,
          0.8056357502937317,
          0.8386881947517395,
          0.8619832396507263,
          0.8703534007072449,
          0.9019795656204224,
          0.9085923433303832,
          0.9124155044555664,
          0.920562982559204,
          0.9354971647262572,
          0.9366219639778136,
          0.938056707382202,
          0.941224217414856,
          0.9414558410644532,
          0.951740562915802,
          0.9778998494148254,
          0.9803254008293152,
          0.9882200956344604
         ],
         "y": [
          "None",
          "poly6",
          "gaussian",
          "gaussian",
          "poly6",
          "gaussian",
          "None",
          "None",
          "poly6",
          "None",
          "poly6",
          "poly6",
          "None",
          "gaussian",
          "None",
          "poly6",
          "None",
          "None",
          "gaussian",
          "poly6",
          "poly6",
          "poly6",
          "None",
          "gaussian",
          "poly6",
          "None",
          "poly6",
          "poly6",
          "poly6",
          "gaussian",
          "gaussian"
         ],
         "z": [
          "GeLU",
          "GeLU",
          "leaky_relu",
          "tanh",
          "GeLU",
          "tanh",
          "relu",
          "GeLU",
          "GeLU",
          "relu",
          "relu",
          "tanh",
          "relu",
          "leaky_relu",
          "leaky_relu",
          "relu",
          "GeLU",
          "tanh",
          "GeLU",
          "relu",
          "GeLU",
          "relu",
          "GeLU",
          "leaky_relu",
          "relu",
          "GeLU",
          "GeLU",
          "leaky_relu",
          "tanh",
          "relu",
          "leaky_relu"
         ]
        }
       ],
       "layout": {
        "coloraxis": {
         "colorbar": {
          "title": {
           "text": "val_loss"
          }
         },
         "colorscale": [
          [
           0,
           "#440154"
          ],
          [
           0.1111111111111111,
           "#482878"
          ],
          [
           0.2222222222222222,
           "#3e4989"
          ],
          [
           0.3333333333333333,
           "#31688e"
          ],
          [
           0.4444444444444444,
           "#26828e"
          ],
          [
           0.5555555555555556,
           "#1f9e89"
          ],
          [
           0.6666666666666666,
           "#35b779"
          ],
          [
           0.7777777777777778,
           "#6ece58"
          ],
          [
           0.8888888888888888,
           "#b5de2b"
          ],
          [
           1,
           "#fde725"
          ]
         ]
        },
        "legend": {
         "tracegroupgap": 0
        },
        "scene": {
         "domain": {
          "x": [
           0,
           1
          ],
          "y": [
           0,
           1
          ]
         },
         "xaxis": {
          "title": {
           "text": "val_loss"
          }
         },
         "yaxis": {
          "title": {
           "text": "window_function"
          }
         },
         "zaxis": {
          "title": {
           "text": "intermediate_activation_fn"
          }
         }
        },
        "template": {
         "data": {
          "bar": [
           {
            "error_x": {
             "color": "#2a3f5f"
            },
            "error_y": {
             "color": "#2a3f5f"
            },
            "marker": {
             "line": {
              "color": "#E5ECF6",
              "width": 0.5
             },
             "pattern": {
              "fillmode": "overlay",
              "size": 10,
              "solidity": 0.2
             }
            },
            "type": "bar"
           }
          ],
          "barpolar": [
           {
            "marker": {
             "line": {
              "color": "#E5ECF6",
              "width": 0.5
             },
             "pattern": {
              "fillmode": "overlay",
              "size": 10,
              "solidity": 0.2
             }
            },
            "type": "barpolar"
           }
          ],
          "carpet": [
           {
            "aaxis": {
             "endlinecolor": "#2a3f5f",
             "gridcolor": "white",
             "linecolor": "white",
             "minorgridcolor": "white",
             "startlinecolor": "#2a3f5f"
            },
            "baxis": {
             "endlinecolor": "#2a3f5f",
             "gridcolor": "white",
             "linecolor": "white",
             "minorgridcolor": "white",
             "startlinecolor": "#2a3f5f"
            },
            "type": "carpet"
           }
          ],
          "choropleth": [
           {
            "colorbar": {
             "outlinewidth": 0,
             "ticks": ""
            },
            "type": "choropleth"
           }
          ],
          "contour": [
           {
            "colorbar": {
             "outlinewidth": 0,
             "ticks": ""
            },
            "colorscale": [
             [
              0,
              "#0d0887"
             ],
             [
              0.1111111111111111,
              "#46039f"
             ],
             [
              0.2222222222222222,
              "#7201a8"
             ],
             [
              0.3333333333333333,
              "#9c179e"
             ],
             [
              0.4444444444444444,
              "#bd3786"
             ],
             [
              0.5555555555555556,
              "#d8576b"
             ],
             [
              0.6666666666666666,
              "#ed7953"
             ],
             [
              0.7777777777777778,
              "#fb9f3a"
             ],
             [
              0.8888888888888888,
              "#fdca26"
             ],
             [
              1,
              "#f0f921"
             ]
            ],
            "type": "contour"
           }
          ],
          "contourcarpet": [
           {
            "colorbar": {
             "outlinewidth": 0,
             "ticks": ""
            },
            "type": "contourcarpet"
           }
          ],
          "heatmap": [
           {
            "colorbar": {
             "outlinewidth": 0,
             "ticks": ""
            },
            "colorscale": [
             [
              0,
              "#0d0887"
             ],
             [
              0.1111111111111111,
              "#46039f"
             ],
             [
              0.2222222222222222,
              "#7201a8"
             ],
             [
              0.3333333333333333,
              "#9c179e"
             ],
             [
              0.4444444444444444,
              "#bd3786"
             ],
             [
              0.5555555555555556,
              "#d8576b"
             ],
             [
              0.6666666666666666,
              "#ed7953"
             ],
             [
              0.7777777777777778,
              "#fb9f3a"
             ],
             [
              0.8888888888888888,
              "#fdca26"
             ],
             [
              1,
              "#f0f921"
             ]
            ],
            "type": "heatmap"
           }
          ],
          "heatmapgl": [
           {
            "colorbar": {
             "outlinewidth": 0,
             "ticks": ""
            },
            "colorscale": [
             [
              0,
              "#0d0887"
             ],
             [
              0.1111111111111111,
              "#46039f"
             ],
             [
              0.2222222222222222,
              "#7201a8"
             ],
             [
              0.3333333333333333,
              "#9c179e"
             ],
             [
              0.4444444444444444,
              "#bd3786"
             ],
             [
              0.5555555555555556,
              "#d8576b"
             ],
             [
              0.6666666666666666,
              "#ed7953"
             ],
             [
              0.7777777777777778,
              "#fb9f3a"
             ],
             [
              0.8888888888888888,
              "#fdca26"
             ],
             [
              1,
              "#f0f921"
             ]
            ],
            "type": "heatmapgl"
           }
          ],
          "histogram": [
           {
            "marker": {
             "pattern": {
              "fillmode": "overlay",
              "size": 10,
              "solidity": 0.2
             }
            },
            "type": "histogram"
           }
          ],
          "histogram2d": [
           {
            "colorbar": {
             "outlinewidth": 0,
             "ticks": ""
            },
            "colorscale": [
             [
              0,
              "#0d0887"
             ],
             [
              0.1111111111111111,
              "#46039f"
             ],
             [
              0.2222222222222222,
              "#7201a8"
             ],
             [
              0.3333333333333333,
              "#9c179e"
             ],
             [
              0.4444444444444444,
              "#bd3786"
             ],
             [
              0.5555555555555556,
              "#d8576b"
             ],
             [
              0.6666666666666666,
              "#ed7953"
             ],
             [
              0.7777777777777778,
              "#fb9f3a"
             ],
             [
              0.8888888888888888,
              "#fdca26"
             ],
             [
              1,
              "#f0f921"
             ]
            ],
            "type": "histogram2d"
           }
          ],
          "histogram2dcontour": [
           {
            "colorbar": {
             "outlinewidth": 0,
             "ticks": ""
            },
            "colorscale": [
             [
              0,
              "#0d0887"
             ],
             [
              0.1111111111111111,
              "#46039f"
             ],
             [
              0.2222222222222222,
              "#7201a8"
             ],
             [
              0.3333333333333333,
              "#9c179e"
             ],
             [
              0.4444444444444444,
              "#bd3786"
             ],
             [
              0.5555555555555556,
              "#d8576b"
             ],
             [
              0.6666666666666666,
              "#ed7953"
             ],
             [
              0.7777777777777778,
              "#fb9f3a"
             ],
             [
              0.8888888888888888,
              "#fdca26"
             ],
             [
              1,
              "#f0f921"
             ]
            ],
            "type": "histogram2dcontour"
           }
          ],
          "mesh3d": [
           {
            "colorbar": {
             "outlinewidth": 0,
             "ticks": ""
            },
            "type": "mesh3d"
           }
          ],
          "parcoords": [
           {
            "line": {
             "colorbar": {
              "outlinewidth": 0,
              "ticks": ""
             }
            },
            "type": "parcoords"
           }
          ],
          "pie": [
           {
            "automargin": true,
            "type": "pie"
           }
          ],
          "scatter": [
           {
            "fillpattern": {
             "fillmode": "overlay",
             "size": 10,
             "solidity": 0.2
            },
            "type": "scatter"
           }
          ],
          "scatter3d": [
           {
            "line": {
             "colorbar": {
              "outlinewidth": 0,
              "ticks": ""
             }
            },
            "marker": {
             "colorbar": {
              "outlinewidth": 0,
              "ticks": ""
             }
            },
            "type": "scatter3d"
           }
          ],
          "scattercarpet": [
           {
            "marker": {
             "colorbar": {
              "outlinewidth": 0,
              "ticks": ""
             }
            },
            "type": "scattercarpet"
           }
          ],
          "scattergeo": [
           {
            "marker": {
             "colorbar": {
              "outlinewidth": 0,
              "ticks": ""
             }
            },
            "type": "scattergeo"
           }
          ],
          "scattergl": [
           {
            "marker": {
             "colorbar": {
              "outlinewidth": 0,
              "ticks": ""
             }
            },
            "type": "scattergl"
           }
          ],
          "scattermapbox": [
           {
            "marker": {
             "colorbar": {
              "outlinewidth": 0,
              "ticks": ""
             }
            },
            "type": "scattermapbox"
           }
          ],
          "scatterpolar": [
           {
            "marker": {
             "colorbar": {
              "outlinewidth": 0,
              "ticks": ""
             }
            },
            "type": "scatterpolar"
           }
          ],
          "scatterpolargl": [
           {
            "marker": {
             "colorbar": {
              "outlinewidth": 0,
              "ticks": ""
             }
            },
            "type": "scatterpolargl"
           }
          ],
          "scatterternary": [
           {
            "marker": {
             "colorbar": {
              "outlinewidth": 0,
              "ticks": ""
             }
            },
            "type": "scatterternary"
           }
          ],
          "surface": [
           {
            "colorbar": {
             "outlinewidth": 0,
             "ticks": ""
            },
            "colorscale": [
             [
              0,
              "#0d0887"
             ],
             [
              0.1111111111111111,
              "#46039f"
             ],
             [
              0.2222222222222222,
              "#7201a8"
             ],
             [
              0.3333333333333333,
              "#9c179e"
             ],
             [
              0.4444444444444444,
              "#bd3786"
             ],
             [
              0.5555555555555556,
              "#d8576b"
             ],
             [
              0.6666666666666666,
              "#ed7953"
             ],
             [
              0.7777777777777778,
              "#fb9f3a"
             ],
             [
              0.8888888888888888,
              "#fdca26"
             ],
             [
              1,
              "#f0f921"
             ]
            ],
            "type": "surface"
           }
          ],
          "table": [
           {
            "cells": {
             "fill": {
              "color": "#EBF0F8"
             },
             "line": {
              "color": "white"
             }
            },
            "header": {
             "fill": {
              "color": "#C8D4E3"
             },
             "line": {
              "color": "white"
             }
            },
            "type": "table"
           }
          ]
         },
         "layout": {
          "annotationdefaults": {
           "arrowcolor": "#2a3f5f",
           "arrowhead": 0,
           "arrowwidth": 1
          },
          "autotypenumbers": "strict",
          "coloraxis": {
           "colorbar": {
            "outlinewidth": 0,
            "ticks": ""
           }
          },
          "colorscale": {
           "diverging": [
            [
             0,
             "#8e0152"
            ],
            [
             0.1,
             "#c51b7d"
            ],
            [
             0.2,
             "#de77ae"
            ],
            [
             0.3,
             "#f1b6da"
            ],
            [
             0.4,
             "#fde0ef"
            ],
            [
             0.5,
             "#f7f7f7"
            ],
            [
             0.6,
             "#e6f5d0"
            ],
            [
             0.7,
             "#b8e186"
            ],
            [
             0.8,
             "#7fbc41"
            ],
            [
             0.9,
             "#4d9221"
            ],
            [
             1,
             "#276419"
            ]
           ],
           "sequential": [
            [
             0,
             "#0d0887"
            ],
            [
             0.1111111111111111,
             "#46039f"
            ],
            [
             0.2222222222222222,
             "#7201a8"
            ],
            [
             0.3333333333333333,
             "#9c179e"
            ],
            [
             0.4444444444444444,
             "#bd3786"
            ],
            [
             0.5555555555555556,
             "#d8576b"
            ],
            [
             0.6666666666666666,
             "#ed7953"
            ],
            [
             0.7777777777777778,
             "#fb9f3a"
            ],
            [
             0.8888888888888888,
             "#fdca26"
            ],
            [
             1,
             "#f0f921"
            ]
           ],
           "sequentialminus": [
            [
             0,
             "#0d0887"
            ],
            [
             0.1111111111111111,
             "#46039f"
            ],
            [
             0.2222222222222222,
             "#7201a8"
            ],
            [
             0.3333333333333333,
             "#9c179e"
            ],
            [
             0.4444444444444444,
             "#bd3786"
            ],
            [
             0.5555555555555556,
             "#d8576b"
            ],
            [
             0.6666666666666666,
             "#ed7953"
            ],
            [
             0.7777777777777778,
             "#fb9f3a"
            ],
            [
             0.8888888888888888,
             "#fdca26"
            ],
            [
             1,
             "#f0f921"
            ]
           ]
          },
          "colorway": [
           "#636efa",
           "#EF553B",
           "#00cc96",
           "#ab63fa",
           "#FFA15A",
           "#19d3f3",
           "#FF6692",
           "#B6E880",
           "#FF97FF",
           "#FECB52"
          ],
          "font": {
           "color": "#2a3f5f"
          },
          "geo": {
           "bgcolor": "white",
           "lakecolor": "white",
           "landcolor": "#E5ECF6",
           "showlakes": true,
           "showland": true,
           "subunitcolor": "white"
          },
          "hoverlabel": {
           "align": "left"
          },
          "hovermode": "closest",
          "mapbox": {
           "style": "light"
          },
          "paper_bgcolor": "white",
          "plot_bgcolor": "#E5ECF6",
          "polar": {
           "angularaxis": {
            "gridcolor": "white",
            "linecolor": "white",
            "ticks": ""
           },
           "bgcolor": "#E5ECF6",
           "radialaxis": {
            "gridcolor": "white",
            "linecolor": "white",
            "ticks": ""
           }
          },
          "scene": {
           "xaxis": {
            "backgroundcolor": "#E5ECF6",
            "gridcolor": "white",
            "gridwidth": 2,
            "linecolor": "white",
            "showbackground": true,
            "ticks": "",
            "zerolinecolor": "white"
           },
           "yaxis": {
            "backgroundcolor": "#E5ECF6",
            "gridcolor": "white",
            "gridwidth": 2,
            "linecolor": "white",
            "showbackground": true,
            "ticks": "",
            "zerolinecolor": "white"
           },
           "zaxis": {
            "backgroundcolor": "#E5ECF6",
            "gridcolor": "white",
            "gridwidth": 2,
            "linecolor": "white",
            "showbackground": true,
            "ticks": "",
            "zerolinecolor": "white"
           }
          },
          "shapedefaults": {
           "line": {
            "color": "#2a3f5f"
           }
          },
          "ternary": {
           "aaxis": {
            "gridcolor": "white",
            "linecolor": "white",
            "ticks": ""
           },
           "baxis": {
            "gridcolor": "white",
            "linecolor": "white",
            "ticks": ""
           },
           "bgcolor": "#E5ECF6",
           "caxis": {
            "gridcolor": "white",
            "linecolor": "white",
            "ticks": ""
           }
          },
          "title": {
           "x": 0.05
          },
          "xaxis": {
           "automargin": true,
           "gridcolor": "white",
           "linecolor": "white",
           "ticks": "",
           "title": {
            "standoff": 15
           },
           "zerolinecolor": "white",
           "zerolinewidth": 2
          },
          "yaxis": {
           "automargin": true,
           "gridcolor": "white",
           "linecolor": "white",
           "ticks": "",
           "title": {
            "standoff": 15
           },
           "zerolinecolor": "white",
           "zerolinewidth": 2
          }
         }
        },
        "title": {
         "text": "Hyperparameter search results"
        }
       }
      },
      "text/html": [
       "<div>                            <div id=\"cbfb0670-b44f-46b0-a395-bea156282e18\" class=\"plotly-graph-div\" style=\"height:525px; width:100%;\"></div>            <script type=\"text/javascript\">                require([\"plotly\"], function(Plotly) {                    window.PLOTLYENV=window.PLOTLYENV || {};                                    if (document.getElementById(\"cbfb0670-b44f-46b0-a395-bea156282e18\")) {                    Plotly.newPlot(                        \"cbfb0670-b44f-46b0-a395-bea156282e18\",                        [{\"hovertemplate\":\"val_loss=%{marker.color}\\u003cbr\\u003ewindow_function=%{y}\\u003cbr\\u003eintermediate_activation_fn=%{z}\\u003cextra\\u003e\\u003c\\u002fextra\\u003e\",\"legendgroup\":\"\",\"marker\":{\"color\":[0.1519712805747985,0.2104188352823257,0.2307580709457397,0.2525908648967743,0.2678727805614471,0.2904145419597626,0.384754329919815,0.4516955316066742,0.5957207083702087,0.6612871885299683,0.6737052798271179,0.6764938235282898,0.7108669877052307,0.7253999710083008,0.8056357502937317,0.8386881947517395,0.8619832396507263,0.8703534007072449,0.9019795656204224,0.9085923433303832,0.9124155044555664,0.920562982559204,0.9354971647262572,0.9366219639778136,0.938056707382202,0.941224217414856,0.9414558410644532,0.951740562915802,0.9778998494148254,0.9803254008293152,0.9882200956344604],\"coloraxis\":\"coloraxis\",\"symbol\":\"circle\"},\"mode\":\"markers\",\"name\":\"\",\"scene\":\"scene\",\"showlegend\":false,\"x\":[0.1519712805747985,0.2104188352823257,0.2307580709457397,0.2525908648967743,0.2678727805614471,0.2904145419597626,0.384754329919815,0.4516955316066742,0.5957207083702087,0.6612871885299683,0.6737052798271179,0.6764938235282898,0.7108669877052307,0.7253999710083008,0.8056357502937317,0.8386881947517395,0.8619832396507263,0.8703534007072449,0.9019795656204224,0.9085923433303832,0.9124155044555664,0.920562982559204,0.9354971647262572,0.9366219639778136,0.938056707382202,0.941224217414856,0.9414558410644532,0.951740562915802,0.9778998494148254,0.9803254008293152,0.9882200956344604],\"y\":[\"None\",\"poly6\",\"gaussian\",\"gaussian\",\"poly6\",\"gaussian\",\"None\",\"None\",\"poly6\",\"None\",\"poly6\",\"poly6\",\"None\",\"gaussian\",\"None\",\"poly6\",\"None\",\"None\",\"gaussian\",\"poly6\",\"poly6\",\"poly6\",\"None\",\"gaussian\",\"poly6\",\"None\",\"poly6\",\"poly6\",\"poly6\",\"gaussian\",\"gaussian\"],\"z\":[\"GeLU\",\"GeLU\",\"leaky_relu\",\"tanh\",\"GeLU\",\"tanh\",\"relu\",\"GeLU\",\"GeLU\",\"relu\",\"relu\",\"tanh\",\"relu\",\"leaky_relu\",\"leaky_relu\",\"relu\",\"GeLU\",\"tanh\",\"GeLU\",\"relu\",\"GeLU\",\"relu\",\"GeLU\",\"leaky_relu\",\"relu\",\"GeLU\",\"GeLU\",\"leaky_relu\",\"tanh\",\"relu\",\"leaky_relu\"],\"type\":\"scatter3d\"}],                        {\"template\":{\"data\":{\"histogram2dcontour\":[{\"type\":\"histogram2dcontour\",\"colorbar\":{\"outlinewidth\":0,\"ticks\":\"\"},\"colorscale\":[[0.0,\"#0d0887\"],[0.1111111111111111,\"#46039f\"],[0.2222222222222222,\"#7201a8\"],[0.3333333333333333,\"#9c179e\"],[0.4444444444444444,\"#bd3786\"],[0.5555555555555556,\"#d8576b\"],[0.6666666666666666,\"#ed7953\"],[0.7777777777777778,\"#fb9f3a\"],[0.8888888888888888,\"#fdca26\"],[1.0,\"#f0f921\"]]}],\"choropleth\":[{\"type\":\"choropleth\",\"colorbar\":{\"outlinewidth\":0,\"ticks\":\"\"}}],\"histogram2d\":[{\"type\":\"histogram2d\",\"colorbar\":{\"outlinewidth\":0,\"ticks\":\"\"},\"colorscale\":[[0.0,\"#0d0887\"],[0.1111111111111111,\"#46039f\"],[0.2222222222222222,\"#7201a8\"],[0.3333333333333333,\"#9c179e\"],[0.4444444444444444,\"#bd3786\"],[0.5555555555555556,\"#d8576b\"],[0.6666666666666666,\"#ed7953\"],[0.7777777777777778,\"#fb9f3a\"],[0.8888888888888888,\"#fdca26\"],[1.0,\"#f0f921\"]]}],\"heatmap\":[{\"type\":\"heatmap\",\"colorbar\":{\"outlinewidth\":0,\"ticks\":\"\"},\"colorscale\":[[0.0,\"#0d0887\"],[0.1111111111111111,\"#46039f\"],[0.2222222222222222,\"#7201a8\"],[0.3333333333333333,\"#9c179e\"],[0.4444444444444444,\"#bd3786\"],[0.5555555555555556,\"#d8576b\"],[0.6666666666666666,\"#ed7953\"],[0.7777777777777778,\"#fb9f3a\"],[0.8888888888888888,\"#fdca26\"],[1.0,\"#f0f921\"]]}],\"heatmapgl\":[{\"type\":\"heatmapgl\",\"colorbar\":{\"outlinewidth\":0,\"ticks\":\"\"},\"colorscale\":[[0.0,\"#0d0887\"],[0.1111111111111111,\"#46039f\"],[0.2222222222222222,\"#7201a8\"],[0.3333333333333333,\"#9c179e\"],[0.4444444444444444,\"#bd3786\"],[0.5555555555555556,\"#d8576b\"],[0.6666666666666666,\"#ed7953\"],[0.7777777777777778,\"#fb9f3a\"],[0.8888888888888888,\"#fdca26\"],[1.0,\"#f0f921\"]]}],\"contourcarpet\":[{\"type\":\"contourcarpet\",\"colorbar\":{\"outlinewidth\":0,\"ticks\":\"\"}}],\"contour\":[{\"type\":\"contour\",\"colorbar\":{\"outlinewidth\":0,\"ticks\":\"\"},\"colorscale\":[[0.0,\"#0d0887\"],[0.1111111111111111,\"#46039f\"],[0.2222222222222222,\"#7201a8\"],[0.3333333333333333,\"#9c179e\"],[0.4444444444444444,\"#bd3786\"],[0.5555555555555556,\"#d8576b\"],[0.6666666666666666,\"#ed7953\"],[0.7777777777777778,\"#fb9f3a\"],[0.8888888888888888,\"#fdca26\"],[1.0,\"#f0f921\"]]}],\"surface\":[{\"type\":\"surface\",\"colorbar\":{\"outlinewidth\":0,\"ticks\":\"\"},\"colorscale\":[[0.0,\"#0d0887\"],[0.1111111111111111,\"#46039f\"],[0.2222222222222222,\"#7201a8\"],[0.3333333333333333,\"#9c179e\"],[0.4444444444444444,\"#bd3786\"],[0.5555555555555556,\"#d8576b\"],[0.6666666666666666,\"#ed7953\"],[0.7777777777777778,\"#fb9f3a\"],[0.8888888888888888,\"#fdca26\"],[1.0,\"#f0f921\"]]}],\"mesh3d\":[{\"type\":\"mesh3d\",\"colorbar\":{\"outlinewidth\":0,\"ticks\":\"\"}}],\"scatter\":[{\"fillpattern\":{\"fillmode\":\"overlay\",\"size\":10,\"solidity\":0.2},\"type\":\"scatter\"}],\"parcoords\":[{\"type\":\"parcoords\",\"line\":{\"colorbar\":{\"outlinewidth\":0,\"ticks\":\"\"}}}],\"scatterpolargl\":[{\"type\":\"scatterpolargl\",\"marker\":{\"colorbar\":{\"outlinewidth\":0,\"ticks\":\"\"}}}],\"bar\":[{\"error_x\":{\"color\":\"#2a3f5f\"},\"error_y\":{\"color\":\"#2a3f5f\"},\"marker\":{\"line\":{\"color\":\"#E5ECF6\",\"width\":0.5},\"pattern\":{\"fillmode\":\"overlay\",\"size\":10,\"solidity\":0.2}},\"type\":\"bar\"}],\"scattergeo\":[{\"type\":\"scattergeo\",\"marker\":{\"colorbar\":{\"outlinewidth\":0,\"ticks\":\"\"}}}],\"scatterpolar\":[{\"type\":\"scatterpolar\",\"marker\":{\"colorbar\":{\"outlinewidth\":0,\"ticks\":\"\"}}}],\"histogram\":[{\"marker\":{\"pattern\":{\"fillmode\":\"overlay\",\"size\":10,\"solidity\":0.2}},\"type\":\"histogram\"}],\"scattergl\":[{\"type\":\"scattergl\",\"marker\":{\"colorbar\":{\"outlinewidth\":0,\"ticks\":\"\"}}}],\"scatter3d\":[{\"type\":\"scatter3d\",\"line\":{\"colorbar\":{\"outlinewidth\":0,\"ticks\":\"\"}},\"marker\":{\"colorbar\":{\"outlinewidth\":0,\"ticks\":\"\"}}}],\"scattermapbox\":[{\"type\":\"scattermapbox\",\"marker\":{\"colorbar\":{\"outlinewidth\":0,\"ticks\":\"\"}}}],\"scatterternary\":[{\"type\":\"scatterternary\",\"marker\":{\"colorbar\":{\"outlinewidth\":0,\"ticks\":\"\"}}}],\"scattercarpet\":[{\"type\":\"scattercarpet\",\"marker\":{\"colorbar\":{\"outlinewidth\":0,\"ticks\":\"\"}}}],\"carpet\":[{\"aaxis\":{\"endlinecolor\":\"#2a3f5f\",\"gridcolor\":\"white\",\"linecolor\":\"white\",\"minorgridcolor\":\"white\",\"startlinecolor\":\"#2a3f5f\"},\"baxis\":{\"endlinecolor\":\"#2a3f5f\",\"gridcolor\":\"white\",\"linecolor\":\"white\",\"minorgridcolor\":\"white\",\"startlinecolor\":\"#2a3f5f\"},\"type\":\"carpet\"}],\"table\":[{\"cells\":{\"fill\":{\"color\":\"#EBF0F8\"},\"line\":{\"color\":\"white\"}},\"header\":{\"fill\":{\"color\":\"#C8D4E3\"},\"line\":{\"color\":\"white\"}},\"type\":\"table\"}],\"barpolar\":[{\"marker\":{\"line\":{\"color\":\"#E5ECF6\",\"width\":0.5},\"pattern\":{\"fillmode\":\"overlay\",\"size\":10,\"solidity\":0.2}},\"type\":\"barpolar\"}],\"pie\":[{\"automargin\":true,\"type\":\"pie\"}]},\"layout\":{\"autotypenumbers\":\"strict\",\"colorway\":[\"#636efa\",\"#EF553B\",\"#00cc96\",\"#ab63fa\",\"#FFA15A\",\"#19d3f3\",\"#FF6692\",\"#B6E880\",\"#FF97FF\",\"#FECB52\"],\"font\":{\"color\":\"#2a3f5f\"},\"hovermode\":\"closest\",\"hoverlabel\":{\"align\":\"left\"},\"paper_bgcolor\":\"white\",\"plot_bgcolor\":\"#E5ECF6\",\"polar\":{\"bgcolor\":\"#E5ECF6\",\"angularaxis\":{\"gridcolor\":\"white\",\"linecolor\":\"white\",\"ticks\":\"\"},\"radialaxis\":{\"gridcolor\":\"white\",\"linecolor\":\"white\",\"ticks\":\"\"}},\"ternary\":{\"bgcolor\":\"#E5ECF6\",\"aaxis\":{\"gridcolor\":\"white\",\"linecolor\":\"white\",\"ticks\":\"\"},\"baxis\":{\"gridcolor\":\"white\",\"linecolor\":\"white\",\"ticks\":\"\"},\"caxis\":{\"gridcolor\":\"white\",\"linecolor\":\"white\",\"ticks\":\"\"}},\"coloraxis\":{\"colorbar\":{\"outlinewidth\":0,\"ticks\":\"\"}},\"colorscale\":{\"sequential\":[[0.0,\"#0d0887\"],[0.1111111111111111,\"#46039f\"],[0.2222222222222222,\"#7201a8\"],[0.3333333333333333,\"#9c179e\"],[0.4444444444444444,\"#bd3786\"],[0.5555555555555556,\"#d8576b\"],[0.6666666666666666,\"#ed7953\"],[0.7777777777777778,\"#fb9f3a\"],[0.8888888888888888,\"#fdca26\"],[1.0,\"#f0f921\"]],\"sequentialminus\":[[0.0,\"#0d0887\"],[0.1111111111111111,\"#46039f\"],[0.2222222222222222,\"#7201a8\"],[0.3333333333333333,\"#9c179e\"],[0.4444444444444444,\"#bd3786\"],[0.5555555555555556,\"#d8576b\"],[0.6666666666666666,\"#ed7953\"],[0.7777777777777778,\"#fb9f3a\"],[0.8888888888888888,\"#fdca26\"],[1.0,\"#f0f921\"]],\"diverging\":[[0,\"#8e0152\"],[0.1,\"#c51b7d\"],[0.2,\"#de77ae\"],[0.3,\"#f1b6da\"],[0.4,\"#fde0ef\"],[0.5,\"#f7f7f7\"],[0.6,\"#e6f5d0\"],[0.7,\"#b8e186\"],[0.8,\"#7fbc41\"],[0.9,\"#4d9221\"],[1,\"#276419\"]]},\"xaxis\":{\"gridcolor\":\"white\",\"linecolor\":\"white\",\"ticks\":\"\",\"title\":{\"standoff\":15},\"zerolinecolor\":\"white\",\"automargin\":true,\"zerolinewidth\":2},\"yaxis\":{\"gridcolor\":\"white\",\"linecolor\":\"white\",\"ticks\":\"\",\"title\":{\"standoff\":15},\"zerolinecolor\":\"white\",\"automargin\":true,\"zerolinewidth\":2},\"scene\":{\"xaxis\":{\"backgroundcolor\":\"#E5ECF6\",\"gridcolor\":\"white\",\"linecolor\":\"white\",\"showbackground\":true,\"ticks\":\"\",\"zerolinecolor\":\"white\",\"gridwidth\":2},\"yaxis\":{\"backgroundcolor\":\"#E5ECF6\",\"gridcolor\":\"white\",\"linecolor\":\"white\",\"showbackground\":true,\"ticks\":\"\",\"zerolinecolor\":\"white\",\"gridwidth\":2},\"zaxis\":{\"backgroundcolor\":\"#E5ECF6\",\"gridcolor\":\"white\",\"linecolor\":\"white\",\"showbackground\":true,\"ticks\":\"\",\"zerolinecolor\":\"white\",\"gridwidth\":2}},\"shapedefaults\":{\"line\":{\"color\":\"#2a3f5f\"}},\"annotationdefaults\":{\"arrowcolor\":\"#2a3f5f\",\"arrowhead\":0,\"arrowwidth\":1},\"geo\":{\"bgcolor\":\"white\",\"landcolor\":\"#E5ECF6\",\"subunitcolor\":\"white\",\"showland\":true,\"showlakes\":true,\"lakecolor\":\"white\"},\"title\":{\"x\":0.05},\"mapbox\":{\"style\":\"light\"}}},\"scene\":{\"domain\":{\"x\":[0.0,1.0],\"y\":[0.0,1.0]},\"xaxis\":{\"title\":{\"text\":\"val_loss\"}},\"yaxis\":{\"title\":{\"text\":\"window_function\"}},\"zaxis\":{\"title\":{\"text\":\"intermediate_activation_fn\"}}},\"coloraxis\":{\"colorbar\":{\"title\":{\"text\":\"val_loss\"}},\"colorscale\":[[0.0,\"#440154\"],[0.1111111111111111,\"#482878\"],[0.2222222222222222,\"#3e4989\"],[0.3333333333333333,\"#31688e\"],[0.4444444444444444,\"#26828e\"],[0.5555555555555556,\"#1f9e89\"],[0.6666666666666666,\"#35b779\"],[0.7777777777777778,\"#6ece58\"],[0.8888888888888888,\"#b5de2b\"],[1.0,\"#fde725\"]]},\"legend\":{\"tracegroupgap\":0},\"title\":{\"text\":\"Hyperparameter search results\"}},                        {\"responsive\": true}                    ).then(function(){\n",
       "                            \n",
       "var gd = document.getElementById('cbfb0670-b44f-46b0-a395-bea156282e18');\n",
       "var x = new MutationObserver(function (mutations, observer) {{\n",
       "        var display = window.getComputedStyle(gd).display;\n",
       "        if (!display || display === 'none') {{\n",
       "            console.log([gd, 'removed!']);\n",
       "            Plotly.purge(gd);\n",
       "            observer.disconnect();\n",
       "        }}\n",
       "}});\n",
       "\n",
       "// Listen for the removal of the full notebook cells\n",
       "var notebookContainer = gd.closest('#notebook-container');\n",
       "if (notebookContainer) {{\n",
       "    x.observe(notebookContainer, {childList: true});\n",
       "}}\n",
       "\n",
       "// Listen for the clearing of the current output cell\n",
       "var outputEl = gd.closest('.output');\n",
       "if (outputEl) {{\n",
       "    x.observe(outputEl, {childList: true});\n",
       "}}\n",
       "\n",
       "                        })                };                });            </script>        </div>"
      ]
     },
     "metadata": {},
     "output_type": "display_data"
    },
    {
     "data": {
      "application/vnd.plotly.v1+json": {
       "config": {
        "plotlyServerURL": "https://plot.ly"
       },
       "data": [
        {
         "hovertemplate": "val_loss=%{marker.color}<br>window_function=%{theta}<extra></extra>",
         "legendgroup": "",
         "marker": {
          "color": [
           0.1519712805747985,
           0.2104188352823257,
           0.2307580709457397,
           0.2525908648967743,
           0.2678727805614471,
           0.2904145419597626,
           0.384754329919815,
           0.4516955316066742,
           0.5957207083702087,
           0.6612871885299683,
           0.6737052798271179,
           0.6764938235282898,
           0.7108669877052307,
           0.7253999710083008,
           0.8056357502937317,
           0.8386881947517395,
           0.8619832396507263,
           0.8703534007072449,
           0.9019795656204224,
           0.9085923433303832,
           0.9124155044555664,
           0.920562982559204,
           0.9354971647262572,
           0.9366219639778136,
           0.938056707382202,
           0.941224217414856,
           0.9414558410644532,
           0.951740562915802,
           0.9778998494148254,
           0.9803254008293152,
           0.9882200956344604
          ],
          "coloraxis": "coloraxis",
          "symbol": "circle"
         },
         "mode": "markers",
         "name": "",
         "r": [
          0.1519712805747985,
          0.2104188352823257,
          0.2307580709457397,
          0.2525908648967743,
          0.2678727805614471,
          0.2904145419597626,
          0.384754329919815,
          0.4516955316066742,
          0.5957207083702087,
          0.6612871885299683,
          0.6737052798271179,
          0.6764938235282898,
          0.7108669877052307,
          0.7253999710083008,
          0.8056357502937317,
          0.8386881947517395,
          0.8619832396507263,
          0.8703534007072449,
          0.9019795656204224,
          0.9085923433303832,
          0.9124155044555664,
          0.920562982559204,
          0.9354971647262572,
          0.9366219639778136,
          0.938056707382202,
          0.941224217414856,
          0.9414558410644532,
          0.951740562915802,
          0.9778998494148254,
          0.9803254008293152,
          0.9882200956344604
         ],
         "showlegend": false,
         "subplot": "polar",
         "theta": [
          "None",
          "poly6",
          "gaussian",
          "gaussian",
          "poly6",
          "gaussian",
          "None",
          "None",
          "poly6",
          "None",
          "poly6",
          "poly6",
          "None",
          "gaussian",
          "None",
          "poly6",
          "None",
          "None",
          "gaussian",
          "poly6",
          "poly6",
          "poly6",
          "None",
          "gaussian",
          "poly6",
          "None",
          "poly6",
          "poly6",
          "poly6",
          "gaussian",
          "gaussian"
         ],
         "type": "scatterpolar"
        }
       ],
       "layout": {
        "coloraxis": {
         "colorbar": {
          "title": {
           "text": "val_loss"
          }
         },
         "colorscale": [
          [
           0,
           "#440154"
          ],
          [
           0.1111111111111111,
           "#482878"
          ],
          [
           0.2222222222222222,
           "#3e4989"
          ],
          [
           0.3333333333333333,
           "#31688e"
          ],
          [
           0.4444444444444444,
           "#26828e"
          ],
          [
           0.5555555555555556,
           "#1f9e89"
          ],
          [
           0.6666666666666666,
           "#35b779"
          ],
          [
           0.7777777777777778,
           "#6ece58"
          ],
          [
           0.8888888888888888,
           "#b5de2b"
          ],
          [
           1,
           "#fde725"
          ]
         ]
        },
        "legend": {
         "tracegroupgap": 0
        },
        "polar": {
         "angularaxis": {
          "direction": "clockwise",
          "rotation": 90
         },
         "domain": {
          "x": [
           0,
           1
          ],
          "y": [
           0,
           1
          ]
         }
        },
        "template": {
         "data": {
          "bar": [
           {
            "error_x": {
             "color": "#2a3f5f"
            },
            "error_y": {
             "color": "#2a3f5f"
            },
            "marker": {
             "line": {
              "color": "#E5ECF6",
              "width": 0.5
             },
             "pattern": {
              "fillmode": "overlay",
              "size": 10,
              "solidity": 0.2
             }
            },
            "type": "bar"
           }
          ],
          "barpolar": [
           {
            "marker": {
             "line": {
              "color": "#E5ECF6",
              "width": 0.5
             },
             "pattern": {
              "fillmode": "overlay",
              "size": 10,
              "solidity": 0.2
             }
            },
            "type": "barpolar"
           }
          ],
          "carpet": [
           {
            "aaxis": {
             "endlinecolor": "#2a3f5f",
             "gridcolor": "white",
             "linecolor": "white",
             "minorgridcolor": "white",
             "startlinecolor": "#2a3f5f"
            },
            "baxis": {
             "endlinecolor": "#2a3f5f",
             "gridcolor": "white",
             "linecolor": "white",
             "minorgridcolor": "white",
             "startlinecolor": "#2a3f5f"
            },
            "type": "carpet"
           }
          ],
          "choropleth": [
           {
            "colorbar": {
             "outlinewidth": 0,
             "ticks": ""
            },
            "type": "choropleth"
           }
          ],
          "contour": [
           {
            "colorbar": {
             "outlinewidth": 0,
             "ticks": ""
            },
            "colorscale": [
             [
              0,
              "#0d0887"
             ],
             [
              0.1111111111111111,
              "#46039f"
             ],
             [
              0.2222222222222222,
              "#7201a8"
             ],
             [
              0.3333333333333333,
              "#9c179e"
             ],
             [
              0.4444444444444444,
              "#bd3786"
             ],
             [
              0.5555555555555556,
              "#d8576b"
             ],
             [
              0.6666666666666666,
              "#ed7953"
             ],
             [
              0.7777777777777778,
              "#fb9f3a"
             ],
             [
              0.8888888888888888,
              "#fdca26"
             ],
             [
              1,
              "#f0f921"
             ]
            ],
            "type": "contour"
           }
          ],
          "contourcarpet": [
           {
            "colorbar": {
             "outlinewidth": 0,
             "ticks": ""
            },
            "type": "contourcarpet"
           }
          ],
          "heatmap": [
           {
            "colorbar": {
             "outlinewidth": 0,
             "ticks": ""
            },
            "colorscale": [
             [
              0,
              "#0d0887"
             ],
             [
              0.1111111111111111,
              "#46039f"
             ],
             [
              0.2222222222222222,
              "#7201a8"
             ],
             [
              0.3333333333333333,
              "#9c179e"
             ],
             [
              0.4444444444444444,
              "#bd3786"
             ],
             [
              0.5555555555555556,
              "#d8576b"
             ],
             [
              0.6666666666666666,
              "#ed7953"
             ],
             [
              0.7777777777777778,
              "#fb9f3a"
             ],
             [
              0.8888888888888888,
              "#fdca26"
             ],
             [
              1,
              "#f0f921"
             ]
            ],
            "type": "heatmap"
           }
          ],
          "heatmapgl": [
           {
            "colorbar": {
             "outlinewidth": 0,
             "ticks": ""
            },
            "colorscale": [
             [
              0,
              "#0d0887"
             ],
             [
              0.1111111111111111,
              "#46039f"
             ],
             [
              0.2222222222222222,
              "#7201a8"
             ],
             [
              0.3333333333333333,
              "#9c179e"
             ],
             [
              0.4444444444444444,
              "#bd3786"
             ],
             [
              0.5555555555555556,
              "#d8576b"
             ],
             [
              0.6666666666666666,
              "#ed7953"
             ],
             [
              0.7777777777777778,
              "#fb9f3a"
             ],
             [
              0.8888888888888888,
              "#fdca26"
             ],
             [
              1,
              "#f0f921"
             ]
            ],
            "type": "heatmapgl"
           }
          ],
          "histogram": [
           {
            "marker": {
             "pattern": {
              "fillmode": "overlay",
              "size": 10,
              "solidity": 0.2
             }
            },
            "type": "histogram"
           }
          ],
          "histogram2d": [
           {
            "colorbar": {
             "outlinewidth": 0,
             "ticks": ""
            },
            "colorscale": [
             [
              0,
              "#0d0887"
             ],
             [
              0.1111111111111111,
              "#46039f"
             ],
             [
              0.2222222222222222,
              "#7201a8"
             ],
             [
              0.3333333333333333,
              "#9c179e"
             ],
             [
              0.4444444444444444,
              "#bd3786"
             ],
             [
              0.5555555555555556,
              "#d8576b"
             ],
             [
              0.6666666666666666,
              "#ed7953"
             ],
             [
              0.7777777777777778,
              "#fb9f3a"
             ],
             [
              0.8888888888888888,
              "#fdca26"
             ],
             [
              1,
              "#f0f921"
             ]
            ],
            "type": "histogram2d"
           }
          ],
          "histogram2dcontour": [
           {
            "colorbar": {
             "outlinewidth": 0,
             "ticks": ""
            },
            "colorscale": [
             [
              0,
              "#0d0887"
             ],
             [
              0.1111111111111111,
              "#46039f"
             ],
             [
              0.2222222222222222,
              "#7201a8"
             ],
             [
              0.3333333333333333,
              "#9c179e"
             ],
             [
              0.4444444444444444,
              "#bd3786"
             ],
             [
              0.5555555555555556,
              "#d8576b"
             ],
             [
              0.6666666666666666,
              "#ed7953"
             ],
             [
              0.7777777777777778,
              "#fb9f3a"
             ],
             [
              0.8888888888888888,
              "#fdca26"
             ],
             [
              1,
              "#f0f921"
             ]
            ],
            "type": "histogram2dcontour"
           }
          ],
          "mesh3d": [
           {
            "colorbar": {
             "outlinewidth": 0,
             "ticks": ""
            },
            "type": "mesh3d"
           }
          ],
          "parcoords": [
           {
            "line": {
             "colorbar": {
              "outlinewidth": 0,
              "ticks": ""
             }
            },
            "type": "parcoords"
           }
          ],
          "pie": [
           {
            "automargin": true,
            "type": "pie"
           }
          ],
          "scatter": [
           {
            "fillpattern": {
             "fillmode": "overlay",
             "size": 10,
             "solidity": 0.2
            },
            "type": "scatter"
           }
          ],
          "scatter3d": [
           {
            "line": {
             "colorbar": {
              "outlinewidth": 0,
              "ticks": ""
             }
            },
            "marker": {
             "colorbar": {
              "outlinewidth": 0,
              "ticks": ""
             }
            },
            "type": "scatter3d"
           }
          ],
          "scattercarpet": [
           {
            "marker": {
             "colorbar": {
              "outlinewidth": 0,
              "ticks": ""
             }
            },
            "type": "scattercarpet"
           }
          ],
          "scattergeo": [
           {
            "marker": {
             "colorbar": {
              "outlinewidth": 0,
              "ticks": ""
             }
            },
            "type": "scattergeo"
           }
          ],
          "scattergl": [
           {
            "marker": {
             "colorbar": {
              "outlinewidth": 0,
              "ticks": ""
             }
            },
            "type": "scattergl"
           }
          ],
          "scattermapbox": [
           {
            "marker": {
             "colorbar": {
              "outlinewidth": 0,
              "ticks": ""
             }
            },
            "type": "scattermapbox"
           }
          ],
          "scatterpolar": [
           {
            "marker": {
             "colorbar": {
              "outlinewidth": 0,
              "ticks": ""
             }
            },
            "type": "scatterpolar"
           }
          ],
          "scatterpolargl": [
           {
            "marker": {
             "colorbar": {
              "outlinewidth": 0,
              "ticks": ""
             }
            },
            "type": "scatterpolargl"
           }
          ],
          "scatterternary": [
           {
            "marker": {
             "colorbar": {
              "outlinewidth": 0,
              "ticks": ""
             }
            },
            "type": "scatterternary"
           }
          ],
          "surface": [
           {
            "colorbar": {
             "outlinewidth": 0,
             "ticks": ""
            },
            "colorscale": [
             [
              0,
              "#0d0887"
             ],
             [
              0.1111111111111111,
              "#46039f"
             ],
             [
              0.2222222222222222,
              "#7201a8"
             ],
             [
              0.3333333333333333,
              "#9c179e"
             ],
             [
              0.4444444444444444,
              "#bd3786"
             ],
             [
              0.5555555555555556,
              "#d8576b"
             ],
             [
              0.6666666666666666,
              "#ed7953"
             ],
             [
              0.7777777777777778,
              "#fb9f3a"
             ],
             [
              0.8888888888888888,
              "#fdca26"
             ],
             [
              1,
              "#f0f921"
             ]
            ],
            "type": "surface"
           }
          ],
          "table": [
           {
            "cells": {
             "fill": {
              "color": "#EBF0F8"
             },
             "line": {
              "color": "white"
             }
            },
            "header": {
             "fill": {
              "color": "#C8D4E3"
             },
             "line": {
              "color": "white"
             }
            },
            "type": "table"
           }
          ]
         },
         "layout": {
          "annotationdefaults": {
           "arrowcolor": "#2a3f5f",
           "arrowhead": 0,
           "arrowwidth": 1
          },
          "autotypenumbers": "strict",
          "coloraxis": {
           "colorbar": {
            "outlinewidth": 0,
            "ticks": ""
           }
          },
          "colorscale": {
           "diverging": [
            [
             0,
             "#8e0152"
            ],
            [
             0.1,
             "#c51b7d"
            ],
            [
             0.2,
             "#de77ae"
            ],
            [
             0.3,
             "#f1b6da"
            ],
            [
             0.4,
             "#fde0ef"
            ],
            [
             0.5,
             "#f7f7f7"
            ],
            [
             0.6,
             "#e6f5d0"
            ],
            [
             0.7,
             "#b8e186"
            ],
            [
             0.8,
             "#7fbc41"
            ],
            [
             0.9,
             "#4d9221"
            ],
            [
             1,
             "#276419"
            ]
           ],
           "sequential": [
            [
             0,
             "#0d0887"
            ],
            [
             0.1111111111111111,
             "#46039f"
            ],
            [
             0.2222222222222222,
             "#7201a8"
            ],
            [
             0.3333333333333333,
             "#9c179e"
            ],
            [
             0.4444444444444444,
             "#bd3786"
            ],
            [
             0.5555555555555556,
             "#d8576b"
            ],
            [
             0.6666666666666666,
             "#ed7953"
            ],
            [
             0.7777777777777778,
             "#fb9f3a"
            ],
            [
             0.8888888888888888,
             "#fdca26"
            ],
            [
             1,
             "#f0f921"
            ]
           ],
           "sequentialminus": [
            [
             0,
             "#0d0887"
            ],
            [
             0.1111111111111111,
             "#46039f"
            ],
            [
             0.2222222222222222,
             "#7201a8"
            ],
            [
             0.3333333333333333,
             "#9c179e"
            ],
            [
             0.4444444444444444,
             "#bd3786"
            ],
            [
             0.5555555555555556,
             "#d8576b"
            ],
            [
             0.6666666666666666,
             "#ed7953"
            ],
            [
             0.7777777777777778,
             "#fb9f3a"
            ],
            [
             0.8888888888888888,
             "#fdca26"
            ],
            [
             1,
             "#f0f921"
            ]
           ]
          },
          "colorway": [
           "#636efa",
           "#EF553B",
           "#00cc96",
           "#ab63fa",
           "#FFA15A",
           "#19d3f3",
           "#FF6692",
           "#B6E880",
           "#FF97FF",
           "#FECB52"
          ],
          "font": {
           "color": "#2a3f5f"
          },
          "geo": {
           "bgcolor": "white",
           "lakecolor": "white",
           "landcolor": "#E5ECF6",
           "showlakes": true,
           "showland": true,
           "subunitcolor": "white"
          },
          "hoverlabel": {
           "align": "left"
          },
          "hovermode": "closest",
          "mapbox": {
           "style": "light"
          },
          "paper_bgcolor": "white",
          "plot_bgcolor": "#E5ECF6",
          "polar": {
           "angularaxis": {
            "gridcolor": "white",
            "linecolor": "white",
            "ticks": ""
           },
           "bgcolor": "#E5ECF6",
           "radialaxis": {
            "gridcolor": "white",
            "linecolor": "white",
            "ticks": ""
           }
          },
          "scene": {
           "xaxis": {
            "backgroundcolor": "#E5ECF6",
            "gridcolor": "white",
            "gridwidth": 2,
            "linecolor": "white",
            "showbackground": true,
            "ticks": "",
            "zerolinecolor": "white"
           },
           "yaxis": {
            "backgroundcolor": "#E5ECF6",
            "gridcolor": "white",
            "gridwidth": 2,
            "linecolor": "white",
            "showbackground": true,
            "ticks": "",
            "zerolinecolor": "white"
           },
           "zaxis": {
            "backgroundcolor": "#E5ECF6",
            "gridcolor": "white",
            "gridwidth": 2,
            "linecolor": "white",
            "showbackground": true,
            "ticks": "",
            "zerolinecolor": "white"
           }
          },
          "shapedefaults": {
           "line": {
            "color": "#2a3f5f"
           }
          },
          "ternary": {
           "aaxis": {
            "gridcolor": "white",
            "linecolor": "white",
            "ticks": ""
           },
           "baxis": {
            "gridcolor": "white",
            "linecolor": "white",
            "ticks": ""
           },
           "bgcolor": "#E5ECF6",
           "caxis": {
            "gridcolor": "white",
            "linecolor": "white",
            "ticks": ""
           }
          },
          "title": {
           "x": 0.05
          },
          "xaxis": {
           "automargin": true,
           "gridcolor": "white",
           "linecolor": "white",
           "ticks": "",
           "title": {
            "standoff": 15
           },
           "zerolinecolor": "white",
           "zerolinewidth": 2
          },
          "yaxis": {
           "automargin": true,
           "gridcolor": "white",
           "linecolor": "white",
           "ticks": "",
           "title": {
            "standoff": 15
           },
           "zerolinecolor": "white",
           "zerolinewidth": 2
          }
         }
        },
        "title": {
         "text": "Hyperparameter search results"
        }
       }
      },
      "text/html": [
       "<div>                            <div id=\"c4457e03-423b-4789-b85b-cabfcbb2384b\" class=\"plotly-graph-div\" style=\"height:525px; width:100%;\"></div>            <script type=\"text/javascript\">                require([\"plotly\"], function(Plotly) {                    window.PLOTLYENV=window.PLOTLYENV || {};                                    if (document.getElementById(\"c4457e03-423b-4789-b85b-cabfcbb2384b\")) {                    Plotly.newPlot(                        \"c4457e03-423b-4789-b85b-cabfcbb2384b\",                        [{\"hovertemplate\":\"val_loss=%{marker.color}\\u003cbr\\u003ewindow_function=%{theta}\\u003cextra\\u003e\\u003c\\u002fextra\\u003e\",\"legendgroup\":\"\",\"marker\":{\"color\":[0.1519712805747985,0.2104188352823257,0.2307580709457397,0.2525908648967743,0.2678727805614471,0.2904145419597626,0.384754329919815,0.4516955316066742,0.5957207083702087,0.6612871885299683,0.6737052798271179,0.6764938235282898,0.7108669877052307,0.7253999710083008,0.8056357502937317,0.8386881947517395,0.8619832396507263,0.8703534007072449,0.9019795656204224,0.9085923433303832,0.9124155044555664,0.920562982559204,0.9354971647262572,0.9366219639778136,0.938056707382202,0.941224217414856,0.9414558410644532,0.951740562915802,0.9778998494148254,0.9803254008293152,0.9882200956344604],\"coloraxis\":\"coloraxis\",\"symbol\":\"circle\"},\"mode\":\"markers\",\"name\":\"\",\"r\":[0.1519712805747985,0.2104188352823257,0.2307580709457397,0.2525908648967743,0.2678727805614471,0.2904145419597626,0.384754329919815,0.4516955316066742,0.5957207083702087,0.6612871885299683,0.6737052798271179,0.6764938235282898,0.7108669877052307,0.7253999710083008,0.8056357502937317,0.8386881947517395,0.8619832396507263,0.8703534007072449,0.9019795656204224,0.9085923433303832,0.9124155044555664,0.920562982559204,0.9354971647262572,0.9366219639778136,0.938056707382202,0.941224217414856,0.9414558410644532,0.951740562915802,0.9778998494148254,0.9803254008293152,0.9882200956344604],\"showlegend\":false,\"subplot\":\"polar\",\"theta\":[\"None\",\"poly6\",\"gaussian\",\"gaussian\",\"poly6\",\"gaussian\",\"None\",\"None\",\"poly6\",\"None\",\"poly6\",\"poly6\",\"None\",\"gaussian\",\"None\",\"poly6\",\"None\",\"None\",\"gaussian\",\"poly6\",\"poly6\",\"poly6\",\"None\",\"gaussian\",\"poly6\",\"None\",\"poly6\",\"poly6\",\"poly6\",\"gaussian\",\"gaussian\"],\"type\":\"scatterpolar\"}],                        {\"template\":{\"data\":{\"histogram2dcontour\":[{\"type\":\"histogram2dcontour\",\"colorbar\":{\"outlinewidth\":0,\"ticks\":\"\"},\"colorscale\":[[0.0,\"#0d0887\"],[0.1111111111111111,\"#46039f\"],[0.2222222222222222,\"#7201a8\"],[0.3333333333333333,\"#9c179e\"],[0.4444444444444444,\"#bd3786\"],[0.5555555555555556,\"#d8576b\"],[0.6666666666666666,\"#ed7953\"],[0.7777777777777778,\"#fb9f3a\"],[0.8888888888888888,\"#fdca26\"],[1.0,\"#f0f921\"]]}],\"choropleth\":[{\"type\":\"choropleth\",\"colorbar\":{\"outlinewidth\":0,\"ticks\":\"\"}}],\"histogram2d\":[{\"type\":\"histogram2d\",\"colorbar\":{\"outlinewidth\":0,\"ticks\":\"\"},\"colorscale\":[[0.0,\"#0d0887\"],[0.1111111111111111,\"#46039f\"],[0.2222222222222222,\"#7201a8\"],[0.3333333333333333,\"#9c179e\"],[0.4444444444444444,\"#bd3786\"],[0.5555555555555556,\"#d8576b\"],[0.6666666666666666,\"#ed7953\"],[0.7777777777777778,\"#fb9f3a\"],[0.8888888888888888,\"#fdca26\"],[1.0,\"#f0f921\"]]}],\"heatmap\":[{\"type\":\"heatmap\",\"colorbar\":{\"outlinewidth\":0,\"ticks\":\"\"},\"colorscale\":[[0.0,\"#0d0887\"],[0.1111111111111111,\"#46039f\"],[0.2222222222222222,\"#7201a8\"],[0.3333333333333333,\"#9c179e\"],[0.4444444444444444,\"#bd3786\"],[0.5555555555555556,\"#d8576b\"],[0.6666666666666666,\"#ed7953\"],[0.7777777777777778,\"#fb9f3a\"],[0.8888888888888888,\"#fdca26\"],[1.0,\"#f0f921\"]]}],\"heatmapgl\":[{\"type\":\"heatmapgl\",\"colorbar\":{\"outlinewidth\":0,\"ticks\":\"\"},\"colorscale\":[[0.0,\"#0d0887\"],[0.1111111111111111,\"#46039f\"],[0.2222222222222222,\"#7201a8\"],[0.3333333333333333,\"#9c179e\"],[0.4444444444444444,\"#bd3786\"],[0.5555555555555556,\"#d8576b\"],[0.6666666666666666,\"#ed7953\"],[0.7777777777777778,\"#fb9f3a\"],[0.8888888888888888,\"#fdca26\"],[1.0,\"#f0f921\"]]}],\"contourcarpet\":[{\"type\":\"contourcarpet\",\"colorbar\":{\"outlinewidth\":0,\"ticks\":\"\"}}],\"contour\":[{\"type\":\"contour\",\"colorbar\":{\"outlinewidth\":0,\"ticks\":\"\"},\"colorscale\":[[0.0,\"#0d0887\"],[0.1111111111111111,\"#46039f\"],[0.2222222222222222,\"#7201a8\"],[0.3333333333333333,\"#9c179e\"],[0.4444444444444444,\"#bd3786\"],[0.5555555555555556,\"#d8576b\"],[0.6666666666666666,\"#ed7953\"],[0.7777777777777778,\"#fb9f3a\"],[0.8888888888888888,\"#fdca26\"],[1.0,\"#f0f921\"]]}],\"surface\":[{\"type\":\"surface\",\"colorbar\":{\"outlinewidth\":0,\"ticks\":\"\"},\"colorscale\":[[0.0,\"#0d0887\"],[0.1111111111111111,\"#46039f\"],[0.2222222222222222,\"#7201a8\"],[0.3333333333333333,\"#9c179e\"],[0.4444444444444444,\"#bd3786\"],[0.5555555555555556,\"#d8576b\"],[0.6666666666666666,\"#ed7953\"],[0.7777777777777778,\"#fb9f3a\"],[0.8888888888888888,\"#fdca26\"],[1.0,\"#f0f921\"]]}],\"mesh3d\":[{\"type\":\"mesh3d\",\"colorbar\":{\"outlinewidth\":0,\"ticks\":\"\"}}],\"scatter\":[{\"fillpattern\":{\"fillmode\":\"overlay\",\"size\":10,\"solidity\":0.2},\"type\":\"scatter\"}],\"parcoords\":[{\"type\":\"parcoords\",\"line\":{\"colorbar\":{\"outlinewidth\":0,\"ticks\":\"\"}}}],\"scatterpolargl\":[{\"type\":\"scatterpolargl\",\"marker\":{\"colorbar\":{\"outlinewidth\":0,\"ticks\":\"\"}}}],\"bar\":[{\"error_x\":{\"color\":\"#2a3f5f\"},\"error_y\":{\"color\":\"#2a3f5f\"},\"marker\":{\"line\":{\"color\":\"#E5ECF6\",\"width\":0.5},\"pattern\":{\"fillmode\":\"overlay\",\"size\":10,\"solidity\":0.2}},\"type\":\"bar\"}],\"scattergeo\":[{\"type\":\"scattergeo\",\"marker\":{\"colorbar\":{\"outlinewidth\":0,\"ticks\":\"\"}}}],\"scatterpolar\":[{\"type\":\"scatterpolar\",\"marker\":{\"colorbar\":{\"outlinewidth\":0,\"ticks\":\"\"}}}],\"histogram\":[{\"marker\":{\"pattern\":{\"fillmode\":\"overlay\",\"size\":10,\"solidity\":0.2}},\"type\":\"histogram\"}],\"scattergl\":[{\"type\":\"scattergl\",\"marker\":{\"colorbar\":{\"outlinewidth\":0,\"ticks\":\"\"}}}],\"scatter3d\":[{\"type\":\"scatter3d\",\"line\":{\"colorbar\":{\"outlinewidth\":0,\"ticks\":\"\"}},\"marker\":{\"colorbar\":{\"outlinewidth\":0,\"ticks\":\"\"}}}],\"scattermapbox\":[{\"type\":\"scattermapbox\",\"marker\":{\"colorbar\":{\"outlinewidth\":0,\"ticks\":\"\"}}}],\"scatterternary\":[{\"type\":\"scatterternary\",\"marker\":{\"colorbar\":{\"outlinewidth\":0,\"ticks\":\"\"}}}],\"scattercarpet\":[{\"type\":\"scattercarpet\",\"marker\":{\"colorbar\":{\"outlinewidth\":0,\"ticks\":\"\"}}}],\"carpet\":[{\"aaxis\":{\"endlinecolor\":\"#2a3f5f\",\"gridcolor\":\"white\",\"linecolor\":\"white\",\"minorgridcolor\":\"white\",\"startlinecolor\":\"#2a3f5f\"},\"baxis\":{\"endlinecolor\":\"#2a3f5f\",\"gridcolor\":\"white\",\"linecolor\":\"white\",\"minorgridcolor\":\"white\",\"startlinecolor\":\"#2a3f5f\"},\"type\":\"carpet\"}],\"table\":[{\"cells\":{\"fill\":{\"color\":\"#EBF0F8\"},\"line\":{\"color\":\"white\"}},\"header\":{\"fill\":{\"color\":\"#C8D4E3\"},\"line\":{\"color\":\"white\"}},\"type\":\"table\"}],\"barpolar\":[{\"marker\":{\"line\":{\"color\":\"#E5ECF6\",\"width\":0.5},\"pattern\":{\"fillmode\":\"overlay\",\"size\":10,\"solidity\":0.2}},\"type\":\"barpolar\"}],\"pie\":[{\"automargin\":true,\"type\":\"pie\"}]},\"layout\":{\"autotypenumbers\":\"strict\",\"colorway\":[\"#636efa\",\"#EF553B\",\"#00cc96\",\"#ab63fa\",\"#FFA15A\",\"#19d3f3\",\"#FF6692\",\"#B6E880\",\"#FF97FF\",\"#FECB52\"],\"font\":{\"color\":\"#2a3f5f\"},\"hovermode\":\"closest\",\"hoverlabel\":{\"align\":\"left\"},\"paper_bgcolor\":\"white\",\"plot_bgcolor\":\"#E5ECF6\",\"polar\":{\"bgcolor\":\"#E5ECF6\",\"angularaxis\":{\"gridcolor\":\"white\",\"linecolor\":\"white\",\"ticks\":\"\"},\"radialaxis\":{\"gridcolor\":\"white\",\"linecolor\":\"white\",\"ticks\":\"\"}},\"ternary\":{\"bgcolor\":\"#E5ECF6\",\"aaxis\":{\"gridcolor\":\"white\",\"linecolor\":\"white\",\"ticks\":\"\"},\"baxis\":{\"gridcolor\":\"white\",\"linecolor\":\"white\",\"ticks\":\"\"},\"caxis\":{\"gridcolor\":\"white\",\"linecolor\":\"white\",\"ticks\":\"\"}},\"coloraxis\":{\"colorbar\":{\"outlinewidth\":0,\"ticks\":\"\"}},\"colorscale\":{\"sequential\":[[0.0,\"#0d0887\"],[0.1111111111111111,\"#46039f\"],[0.2222222222222222,\"#7201a8\"],[0.3333333333333333,\"#9c179e\"],[0.4444444444444444,\"#bd3786\"],[0.5555555555555556,\"#d8576b\"],[0.6666666666666666,\"#ed7953\"],[0.7777777777777778,\"#fb9f3a\"],[0.8888888888888888,\"#fdca26\"],[1.0,\"#f0f921\"]],\"sequentialminus\":[[0.0,\"#0d0887\"],[0.1111111111111111,\"#46039f\"],[0.2222222222222222,\"#7201a8\"],[0.3333333333333333,\"#9c179e\"],[0.4444444444444444,\"#bd3786\"],[0.5555555555555556,\"#d8576b\"],[0.6666666666666666,\"#ed7953\"],[0.7777777777777778,\"#fb9f3a\"],[0.8888888888888888,\"#fdca26\"],[1.0,\"#f0f921\"]],\"diverging\":[[0,\"#8e0152\"],[0.1,\"#c51b7d\"],[0.2,\"#de77ae\"],[0.3,\"#f1b6da\"],[0.4,\"#fde0ef\"],[0.5,\"#f7f7f7\"],[0.6,\"#e6f5d0\"],[0.7,\"#b8e186\"],[0.8,\"#7fbc41\"],[0.9,\"#4d9221\"],[1,\"#276419\"]]},\"xaxis\":{\"gridcolor\":\"white\",\"linecolor\":\"white\",\"ticks\":\"\",\"title\":{\"standoff\":15},\"zerolinecolor\":\"white\",\"automargin\":true,\"zerolinewidth\":2},\"yaxis\":{\"gridcolor\":\"white\",\"linecolor\":\"white\",\"ticks\":\"\",\"title\":{\"standoff\":15},\"zerolinecolor\":\"white\",\"automargin\":true,\"zerolinewidth\":2},\"scene\":{\"xaxis\":{\"backgroundcolor\":\"#E5ECF6\",\"gridcolor\":\"white\",\"linecolor\":\"white\",\"showbackground\":true,\"ticks\":\"\",\"zerolinecolor\":\"white\",\"gridwidth\":2},\"yaxis\":{\"backgroundcolor\":\"#E5ECF6\",\"gridcolor\":\"white\",\"linecolor\":\"white\",\"showbackground\":true,\"ticks\":\"\",\"zerolinecolor\":\"white\",\"gridwidth\":2},\"zaxis\":{\"backgroundcolor\":\"#E5ECF6\",\"gridcolor\":\"white\",\"linecolor\":\"white\",\"showbackground\":true,\"ticks\":\"\",\"zerolinecolor\":\"white\",\"gridwidth\":2}},\"shapedefaults\":{\"line\":{\"color\":\"#2a3f5f\"}},\"annotationdefaults\":{\"arrowcolor\":\"#2a3f5f\",\"arrowhead\":0,\"arrowwidth\":1},\"geo\":{\"bgcolor\":\"white\",\"landcolor\":\"#E5ECF6\",\"subunitcolor\":\"white\",\"showland\":true,\"showlakes\":true,\"lakecolor\":\"white\"},\"title\":{\"x\":0.05},\"mapbox\":{\"style\":\"light\"}}},\"polar\":{\"domain\":{\"x\":[0.0,1.0],\"y\":[0.0,1.0]},\"angularaxis\":{\"direction\":\"clockwise\",\"rotation\":90}},\"coloraxis\":{\"colorbar\":{\"title\":{\"text\":\"val_loss\"}},\"colorscale\":[[0.0,\"#440154\"],[0.1111111111111111,\"#482878\"],[0.2222222222222222,\"#3e4989\"],[0.3333333333333333,\"#31688e\"],[0.4444444444444444,\"#26828e\"],[0.5555555555555556,\"#1f9e89\"],[0.6666666666666666,\"#35b779\"],[0.7777777777777778,\"#6ece58\"],[0.8888888888888888,\"#b5de2b\"],[1.0,\"#fde725\"]]},\"legend\":{\"tracegroupgap\":0},\"title\":{\"text\":\"Hyperparameter search results\"}},                        {\"responsive\": true}                    ).then(function(){\n",
       "                            \n",
       "var gd = document.getElementById('c4457e03-423b-4789-b85b-cabfcbb2384b');\n",
       "var x = new MutationObserver(function (mutations, observer) {{\n",
       "        var display = window.getComputedStyle(gd).display;\n",
       "        if (!display || display === 'none') {{\n",
       "            console.log([gd, 'removed!']);\n",
       "            Plotly.purge(gd);\n",
       "            observer.disconnect();\n",
       "        }}\n",
       "}});\n",
       "\n",
       "// Listen for the removal of the full notebook cells\n",
       "var notebookContainer = gd.closest('#notebook-container');\n",
       "if (notebookContainer) {{\n",
       "    x.observe(notebookContainer, {childList: true});\n",
       "}}\n",
       "\n",
       "// Listen for the clearing of the current output cell\n",
       "var outputEl = gd.closest('.output');\n",
       "if (outputEl) {{\n",
       "    x.observe(outputEl, {childList: true});\n",
       "}}\n",
       "\n",
       "                        })                };                });            </script>        </div>"
      ]
     },
     "metadata": {},
     "output_type": "display_data"
    }
   ],
   "source": [
    "\n",
    "# Create 3D scatterplot\n",
    "fig = px.scatter_3d(\n",
    "    df,\n",
    "    x='val_loss',\n",
    "    y='window_function',\n",
    "    z='intermediate_activation_fn',\n",
    "    color='val_loss',\n",
    "    color_continuous_scale='viridis',\n",
    "    title='Hyperparameter search results',\n",
    ")\n",
    "fig.show()\n",
    "\n",
    "\n",
    "# Create radius chart\n",
    "fig = px.scatter_polar(\n",
    "    df,\n",
    "    r='val_loss',\n",
    "    theta='window_function',\n",
    "    color='val_loss',\n",
    "    color_continuous_scale='viridis',\n",
    "    title='Hyperparameter search results',\n",
    ")\n",
    "fig.show()\n",
    "\n",
    "# create an actual radius chart for all dimensions of df\n",
    "# https://plotly.com/python/radar-chart/\n",
    "\n"
   ]
  },
  {
   "cell_type": "code",
   "execution_count": 96,
   "metadata": {},
   "outputs": [
    {
     "data": {
      "text/plain": [
       "[1, 2, 3]"
      ]
     },
     "execution_count": 96,
     "metadata": {},
     "output_type": "execute_result"
    }
   ],
   "source": [
    "l = [1, 2, 3 ,4, 5]\n",
    "l[0:-2]"
   ]
  },
  {
   "cell_type": "code",
   "execution_count": 123,
   "metadata": {},
   "outputs": [
    {
     "data": {
      "application/vnd.plotly.v1+json": {
       "config": {
        "plotlyServerURL": "https://plot.ly"
       },
       "data": [
        {
         "dimensions": [
          {
           "label": "Learning rate",
           "values": [
            0.0028472529820115,
            0.0010795143989975,
            0.0022192782615047,
            0.0049111976057845,
            0.0005510828096481,
            0.0002598453601012,
            0.0026865494774873,
            0.007852475418724,
            0.000369395598376,
            0.0016999838543349,
            0.0005369528748531,
            0.0011556882039059,
            0.0079332801515601,
            0.0026155350064962,
            0.0049024997699374,
            0.003610795367866,
            0.0002311567289884,
            0.0036550892343351,
            0.0002170284716561,
            0.0006328230874962,
            0.0038403335140201,
            0.0001744516396677,
            0.0039634558981758,
            0.002610185920323,
            0.0011668314753922,
            0.0002111186415189,
            0.0007941472403969,
            0.0008997509325562,
            0.0001948280832748,
            0.0001080671590945,
            0.0001100776507463
           ]
          },
          {
           "label": "Kernel size",
           "values": [
            8,
            4,
            3,
            3,
            3,
            4,
            3,
            3,
            16,
            4,
            4,
            3,
            8,
            4,
            16,
            3,
            4,
            4,
            8,
            3,
            16,
            4,
            16,
            16,
            3,
            4,
            8,
            8,
            16,
            16,
            4
           ]
          },
          {
           "label": "Hidden layers",
           "values": [
            3,
            2,
            1,
            2,
            4,
            4,
            4,
            3,
            1,
            0,
            1,
            4,
            0,
            1,
            0,
            1,
            4,
            1,
            1,
            2,
            1,
            2,
            3,
            3,
            0,
            2,
            0,
            0,
            0,
            1,
            0
           ]
          },
          {
           "label": "Input layer out channels",
           "values": [
            32,
            64,
            16,
            64,
            32,
            8,
            8,
            4,
            32,
            64,
            64,
            64,
            16,
            32,
            64,
            16,
            64,
            8,
            64,
            64,
            8,
            64,
            8,
            8,
            4,
            4,
            8,
            8,
            16,
            8,
            16
           ]
          },
          {
           "label": "Hidden units",
           "values": [
            64,
            64,
            64,
            48,
            256,
            32,
            64,
            64,
            48,
            128,
            64,
            32,
            128,
            64,
            64,
            48,
            64,
            32,
            48,
            256,
            48,
            64,
            64,
            64,
            64,
            256,
            32,
            64,
            32,
            32,
            32
           ]
          },
          {
           "label": "Filter extent",
           "values": [
            0.125744190771616,
            0.1533070917030944,
            0.1490508680182408,
            0.1517497038179102,
            0.1237910339959341,
            0.1186753371823536,
            0.2625833808322801,
            0.1666839782696133,
            0.2491763628384303,
            0.1812155840097024,
            0.1388220683390072,
            0.108498918106567,
            0.1517141681954666,
            0.0766355680898088,
            0.1132227047540914,
            0.0871766001933915,
            0.3254764081906778,
            0.2304765572896104,
            0.0938033062798732,
            0.2627651302376597,
            0.0889271625745868,
            0.1064211081891452,
            0.1405888360457206,
            0.2387800975464701,
            0.1873885371877903,
            0.1372375029938616,
            0.1114012383901866,
            0.0858908022428246,
            0.0878309429079135,
            0.1018089465207497,
            0.1988903099887931
           ]
          },
          {
           "label": "train_loss",
           "values": [
            0.1528566777706146,
            0.2243282198905944,
            0.2408255189657211,
            0.2718948423862457,
            0.2778487801551819,
            0.305171400308609,
            0.3842425644397735,
            0.4556061327457428,
            0.6652987599372864,
            0.6733682751655579,
            0.7627420425415039,
            0.7569199800491333,
            0.7471965551376343,
            0.7765533328056335,
            0.8927646279335022,
            0.890315592288971,
            0.9157480001449584,
            0.9131609201431274,
            0.9530941247940063,
            1.5343680381774902,
            0.956250011920929,
            0.9581775069236756,
            8.543171882629395,
            1.3017256259918213,
            0.9788167476654052,
            0.9677491188049316,
            0.9700497984886168,
            0.9783040285110474,
            1.0024189949035645,
            0.9950098991394044,
            0.9988837838172911
           ]
          },
          {
           "label": "train_loss_step",
           "values": [
            0.177444651722908,
            0.1742253601551056,
            0.2198877483606338,
            0.2368020415306091,
            0.3132205307483673,
            0.2773456573486328,
            0.4130210280418396,
            0.5273393392562866,
            0.5702796578407288,
            0.5884695053100586,
            0.6839683055877686,
            0.6345576047897339,
            0.4111674726009369,
            0.6738557815551758,
            0.9412596225738524,
            0.9396437406539916,
            0.8461421132087708,
            0.7999749183654785,
            0.927232027053833,
            0.9228183031082152,
            0.9608519673347472,
            0.9624656438827516,
            1.0535048246383667,
            0.884697437286377,
            0.957766056060791,
            0.9589796662330629,
            0.970122456550598,
            0.9787510633468628,
            0.9880263805389404,
            0.9899113178253174,
            0.993074357509613
           ]
          },
          {
           "label": "Validation loss",
           "values": [
            0.1519712805747985,
            0.2104188352823257,
            0.2307580709457397,
            0.2525908648967743,
            0.2678727805614471,
            0.2904145419597626,
            0.384754329919815,
            0.4516955316066742,
            0.5957207083702087,
            0.6612871885299683,
            0.6737052798271179,
            0.6764938235282898,
            0.7108669877052307,
            0.7253999710083008,
            0.8056357502937317,
            0.8386881947517395,
            0.8619832396507263,
            0.8703534007072449,
            0.9019795656204224,
            0.9085923433303832,
            0.9124155044555664,
            0.920562982559204,
            0.9354971647262572,
            0.9366219639778136,
            0.938056707382202,
            0.941224217414856,
            0.9414558410644532,
            0.951740562915802,
            0.9778998494148254,
            0.9803254008293152,
            0.9882200956344604
           ]
          },
          {
           "label": "val_loss_epoch",
           "values": [
            0.1519712805747985,
            0.2104188352823257,
            0.2307580709457397,
            0.2525908648967743,
            0.2678727805614471,
            0.2904145419597626,
            0.384754329919815,
            0.4516955316066742,
            0.5957207083702087,
            0.6612871885299683,
            0.6737052798271179,
            0.6764938235282898,
            0.7108669877052307,
            0.7253999710083008,
            0.8056357502937317,
            0.8386881947517395,
            0.8619832396507263,
            0.8703534007072449,
            0.9019795656204224,
            0.9085923433303832,
            0.9124155044555664,
            0.920562982559204,
            0.9354971647262572,
            0.9366219639778136,
            0.938056707382202,
            0.941224217414856,
            0.9414558410644532,
            0.951740562915802,
            0.9778998494148254,
            0.9803254008293152,
            0.9882200956344604
           ]
          },
          {
           "label": "train_loss_epoch",
           "values": [
            0.1528566777706146,
            0.2243282198905944,
            0.2408255189657211,
            0.2718948423862457,
            0.2778487801551819,
            0.305171400308609,
            0.3842425644397735,
            0.4556061327457428,
            0.6652987599372864,
            0.6733682751655579,
            0.7627420425415039,
            0.7569199800491333,
            0.7471965551376343,
            0.7765533328056335,
            0.8927646279335022,
            0.890315592288971,
            0.9157480001449584,
            0.9131609201431274,
            0.9530941247940063,
            1.5343680381774902,
            0.956250011920929,
            0.9581775069236756,
            8.543171882629395,
            1.3017256259918213,
            0.9788167476654052,
            0.9677491188049316,
            0.9700497984886168,
            0.9783040285110474,
            1.0024189949035645,
            0.9950098991394044,
            0.9988837838172911
           ]
          },
          {
           "label": "Epoch",
           "values": [
            9,
            14,
            14,
            14,
            9,
            14,
            9,
            3,
            1,
            14,
            1,
            1,
            1,
            1,
            0,
            0,
            0,
            0,
            0,
            0,
            0,
            0,
            0,
            0,
            0,
            0,
            0,
            0,
            0,
            0,
            0
           ]
          }
         ],
         "domain": {
          "x": [
           0,
           1
          ],
          "y": [
           0,
           1
          ]
         },
         "line": {
          "color": [
           0.1519712805747985,
           0.2104188352823257,
           0.2307580709457397,
           0.2525908648967743,
           0.2678727805614471,
           0.2904145419597626,
           0.384754329919815,
           0.4516955316066742,
           0.5957207083702087,
           0.6612871885299683,
           0.6737052798271179,
           0.6764938235282898,
           0.7108669877052307,
           0.7253999710083008,
           0.8056357502937317,
           0.8386881947517395,
           0.8619832396507263,
           0.8703534007072449,
           0.9019795656204224,
           0.9085923433303832,
           0.9124155044555664,
           0.920562982559204,
           0.9354971647262572,
           0.9366219639778136,
           0.938056707382202,
           0.941224217414856,
           0.9414558410644532,
           0.951740562915802,
           0.9778998494148254,
           0.9803254008293152,
           0.9882200956344604
          ],
          "coloraxis": "coloraxis"
         },
         "name": "",
         "type": "parcoords"
        }
       ],
       "layout": {
        "coloraxis": {
         "colorbar": {
          "title": {
           "text": "Validation loss"
          }
         },
         "colorscale": [
          [
           0,
           "#0d0887"
          ],
          [
           0.1111111111111111,
           "#46039f"
          ],
          [
           0.2222222222222222,
           "#7201a8"
          ],
          [
           0.3333333333333333,
           "#9c179e"
          ],
          [
           0.4444444444444444,
           "#bd3786"
          ],
          [
           0.5555555555555556,
           "#d8576b"
          ],
          [
           0.6666666666666666,
           "#ed7953"
          ],
          [
           0.7777777777777778,
           "#fb9f3a"
          ],
          [
           0.8888888888888888,
           "#fdca26"
          ],
          [
           1,
           "#f0f921"
          ]
         ]
        },
        "legend": {
         "tracegroupgap": 0
        },
        "template": {
         "data": {
          "bar": [
           {
            "error_x": {
             "color": "#2a3f5f"
            },
            "error_y": {
             "color": "#2a3f5f"
            },
            "marker": {
             "line": {
              "color": "#E5ECF6",
              "width": 0.5
             },
             "pattern": {
              "fillmode": "overlay",
              "size": 10,
              "solidity": 0.2
             }
            },
            "type": "bar"
           }
          ],
          "barpolar": [
           {
            "marker": {
             "line": {
              "color": "#E5ECF6",
              "width": 0.5
             },
             "pattern": {
              "fillmode": "overlay",
              "size": 10,
              "solidity": 0.2
             }
            },
            "type": "barpolar"
           }
          ],
          "carpet": [
           {
            "aaxis": {
             "endlinecolor": "#2a3f5f",
             "gridcolor": "white",
             "linecolor": "white",
             "minorgridcolor": "white",
             "startlinecolor": "#2a3f5f"
            },
            "baxis": {
             "endlinecolor": "#2a3f5f",
             "gridcolor": "white",
             "linecolor": "white",
             "minorgridcolor": "white",
             "startlinecolor": "#2a3f5f"
            },
            "type": "carpet"
           }
          ],
          "choropleth": [
           {
            "colorbar": {
             "outlinewidth": 0,
             "ticks": ""
            },
            "type": "choropleth"
           }
          ],
          "contour": [
           {
            "colorbar": {
             "outlinewidth": 0,
             "ticks": ""
            },
            "colorscale": [
             [
              0,
              "#0d0887"
             ],
             [
              0.1111111111111111,
              "#46039f"
             ],
             [
              0.2222222222222222,
              "#7201a8"
             ],
             [
              0.3333333333333333,
              "#9c179e"
             ],
             [
              0.4444444444444444,
              "#bd3786"
             ],
             [
              0.5555555555555556,
              "#d8576b"
             ],
             [
              0.6666666666666666,
              "#ed7953"
             ],
             [
              0.7777777777777778,
              "#fb9f3a"
             ],
             [
              0.8888888888888888,
              "#fdca26"
             ],
             [
              1,
              "#f0f921"
             ]
            ],
            "type": "contour"
           }
          ],
          "contourcarpet": [
           {
            "colorbar": {
             "outlinewidth": 0,
             "ticks": ""
            },
            "type": "contourcarpet"
           }
          ],
          "heatmap": [
           {
            "colorbar": {
             "outlinewidth": 0,
             "ticks": ""
            },
            "colorscale": [
             [
              0,
              "#0d0887"
             ],
             [
              0.1111111111111111,
              "#46039f"
             ],
             [
              0.2222222222222222,
              "#7201a8"
             ],
             [
              0.3333333333333333,
              "#9c179e"
             ],
             [
              0.4444444444444444,
              "#bd3786"
             ],
             [
              0.5555555555555556,
              "#d8576b"
             ],
             [
              0.6666666666666666,
              "#ed7953"
             ],
             [
              0.7777777777777778,
              "#fb9f3a"
             ],
             [
              0.8888888888888888,
              "#fdca26"
             ],
             [
              1,
              "#f0f921"
             ]
            ],
            "type": "heatmap"
           }
          ],
          "heatmapgl": [
           {
            "colorbar": {
             "outlinewidth": 0,
             "ticks": ""
            },
            "colorscale": [
             [
              0,
              "#0d0887"
             ],
             [
              0.1111111111111111,
              "#46039f"
             ],
             [
              0.2222222222222222,
              "#7201a8"
             ],
             [
              0.3333333333333333,
              "#9c179e"
             ],
             [
              0.4444444444444444,
              "#bd3786"
             ],
             [
              0.5555555555555556,
              "#d8576b"
             ],
             [
              0.6666666666666666,
              "#ed7953"
             ],
             [
              0.7777777777777778,
              "#fb9f3a"
             ],
             [
              0.8888888888888888,
              "#fdca26"
             ],
             [
              1,
              "#f0f921"
             ]
            ],
            "type": "heatmapgl"
           }
          ],
          "histogram": [
           {
            "marker": {
             "pattern": {
              "fillmode": "overlay",
              "size": 10,
              "solidity": 0.2
             }
            },
            "type": "histogram"
           }
          ],
          "histogram2d": [
           {
            "colorbar": {
             "outlinewidth": 0,
             "ticks": ""
            },
            "colorscale": [
             [
              0,
              "#0d0887"
             ],
             [
              0.1111111111111111,
              "#46039f"
             ],
             [
              0.2222222222222222,
              "#7201a8"
             ],
             [
              0.3333333333333333,
              "#9c179e"
             ],
             [
              0.4444444444444444,
              "#bd3786"
             ],
             [
              0.5555555555555556,
              "#d8576b"
             ],
             [
              0.6666666666666666,
              "#ed7953"
             ],
             [
              0.7777777777777778,
              "#fb9f3a"
             ],
             [
              0.8888888888888888,
              "#fdca26"
             ],
             [
              1,
              "#f0f921"
             ]
            ],
            "type": "histogram2d"
           }
          ],
          "histogram2dcontour": [
           {
            "colorbar": {
             "outlinewidth": 0,
             "ticks": ""
            },
            "colorscale": [
             [
              0,
              "#0d0887"
             ],
             [
              0.1111111111111111,
              "#46039f"
             ],
             [
              0.2222222222222222,
              "#7201a8"
             ],
             [
              0.3333333333333333,
              "#9c179e"
             ],
             [
              0.4444444444444444,
              "#bd3786"
             ],
             [
              0.5555555555555556,
              "#d8576b"
             ],
             [
              0.6666666666666666,
              "#ed7953"
             ],
             [
              0.7777777777777778,
              "#fb9f3a"
             ],
             [
              0.8888888888888888,
              "#fdca26"
             ],
             [
              1,
              "#f0f921"
             ]
            ],
            "type": "histogram2dcontour"
           }
          ],
          "mesh3d": [
           {
            "colorbar": {
             "outlinewidth": 0,
             "ticks": ""
            },
            "type": "mesh3d"
           }
          ],
          "parcoords": [
           {
            "line": {
             "colorbar": {
              "outlinewidth": 0,
              "ticks": ""
             }
            },
            "type": "parcoords"
           }
          ],
          "pie": [
           {
            "automargin": true,
            "type": "pie"
           }
          ],
          "scatter": [
           {
            "fillpattern": {
             "fillmode": "overlay",
             "size": 10,
             "solidity": 0.2
            },
            "type": "scatter"
           }
          ],
          "scatter3d": [
           {
            "line": {
             "colorbar": {
              "outlinewidth": 0,
              "ticks": ""
             }
            },
            "marker": {
             "colorbar": {
              "outlinewidth": 0,
              "ticks": ""
             }
            },
            "type": "scatter3d"
           }
          ],
          "scattercarpet": [
           {
            "marker": {
             "colorbar": {
              "outlinewidth": 0,
              "ticks": ""
             }
            },
            "type": "scattercarpet"
           }
          ],
          "scattergeo": [
           {
            "marker": {
             "colorbar": {
              "outlinewidth": 0,
              "ticks": ""
             }
            },
            "type": "scattergeo"
           }
          ],
          "scattergl": [
           {
            "marker": {
             "colorbar": {
              "outlinewidth": 0,
              "ticks": ""
             }
            },
            "type": "scattergl"
           }
          ],
          "scattermapbox": [
           {
            "marker": {
             "colorbar": {
              "outlinewidth": 0,
              "ticks": ""
             }
            },
            "type": "scattermapbox"
           }
          ],
          "scatterpolar": [
           {
            "marker": {
             "colorbar": {
              "outlinewidth": 0,
              "ticks": ""
             }
            },
            "type": "scatterpolar"
           }
          ],
          "scatterpolargl": [
           {
            "marker": {
             "colorbar": {
              "outlinewidth": 0,
              "ticks": ""
             }
            },
            "type": "scatterpolargl"
           }
          ],
          "scatterternary": [
           {
            "marker": {
             "colorbar": {
              "outlinewidth": 0,
              "ticks": ""
             }
            },
            "type": "scatterternary"
           }
          ],
          "surface": [
           {
            "colorbar": {
             "outlinewidth": 0,
             "ticks": ""
            },
            "colorscale": [
             [
              0,
              "#0d0887"
             ],
             [
              0.1111111111111111,
              "#46039f"
             ],
             [
              0.2222222222222222,
              "#7201a8"
             ],
             [
              0.3333333333333333,
              "#9c179e"
             ],
             [
              0.4444444444444444,
              "#bd3786"
             ],
             [
              0.5555555555555556,
              "#d8576b"
             ],
             [
              0.6666666666666666,
              "#ed7953"
             ],
             [
              0.7777777777777778,
              "#fb9f3a"
             ],
             [
              0.8888888888888888,
              "#fdca26"
             ],
             [
              1,
              "#f0f921"
             ]
            ],
            "type": "surface"
           }
          ],
          "table": [
           {
            "cells": {
             "fill": {
              "color": "#EBF0F8"
             },
             "line": {
              "color": "white"
             }
            },
            "header": {
             "fill": {
              "color": "#C8D4E3"
             },
             "line": {
              "color": "white"
             }
            },
            "type": "table"
           }
          ]
         },
         "layout": {
          "annotationdefaults": {
           "arrowcolor": "#2a3f5f",
           "arrowhead": 0,
           "arrowwidth": 1
          },
          "autotypenumbers": "strict",
          "coloraxis": {
           "colorbar": {
            "outlinewidth": 0,
            "ticks": ""
           }
          },
          "colorscale": {
           "diverging": [
            [
             0,
             "#8e0152"
            ],
            [
             0.1,
             "#c51b7d"
            ],
            [
             0.2,
             "#de77ae"
            ],
            [
             0.3,
             "#f1b6da"
            ],
            [
             0.4,
             "#fde0ef"
            ],
            [
             0.5,
             "#f7f7f7"
            ],
            [
             0.6,
             "#e6f5d0"
            ],
            [
             0.7,
             "#b8e186"
            ],
            [
             0.8,
             "#7fbc41"
            ],
            [
             0.9,
             "#4d9221"
            ],
            [
             1,
             "#276419"
            ]
           ],
           "sequential": [
            [
             0,
             "#0d0887"
            ],
            [
             0.1111111111111111,
             "#46039f"
            ],
            [
             0.2222222222222222,
             "#7201a8"
            ],
            [
             0.3333333333333333,
             "#9c179e"
            ],
            [
             0.4444444444444444,
             "#bd3786"
            ],
            [
             0.5555555555555556,
             "#d8576b"
            ],
            [
             0.6666666666666666,
             "#ed7953"
            ],
            [
             0.7777777777777778,
             "#fb9f3a"
            ],
            [
             0.8888888888888888,
             "#fdca26"
            ],
            [
             1,
             "#f0f921"
            ]
           ],
           "sequentialminus": [
            [
             0,
             "#0d0887"
            ],
            [
             0.1111111111111111,
             "#46039f"
            ],
            [
             0.2222222222222222,
             "#7201a8"
            ],
            [
             0.3333333333333333,
             "#9c179e"
            ],
            [
             0.4444444444444444,
             "#bd3786"
            ],
            [
             0.5555555555555556,
             "#d8576b"
            ],
            [
             0.6666666666666666,
             "#ed7953"
            ],
            [
             0.7777777777777778,
             "#fb9f3a"
            ],
            [
             0.8888888888888888,
             "#fdca26"
            ],
            [
             1,
             "#f0f921"
            ]
           ]
          },
          "colorway": [
           "#636efa",
           "#EF553B",
           "#00cc96",
           "#ab63fa",
           "#FFA15A",
           "#19d3f3",
           "#FF6692",
           "#B6E880",
           "#FF97FF",
           "#FECB52"
          ],
          "font": {
           "color": "#2a3f5f"
          },
          "geo": {
           "bgcolor": "white",
           "lakecolor": "white",
           "landcolor": "#E5ECF6",
           "showlakes": true,
           "showland": true,
           "subunitcolor": "white"
          },
          "hoverlabel": {
           "align": "left"
          },
          "hovermode": "closest",
          "mapbox": {
           "style": "light"
          },
          "paper_bgcolor": "white",
          "plot_bgcolor": "#E5ECF6",
          "polar": {
           "angularaxis": {
            "gridcolor": "white",
            "linecolor": "white",
            "ticks": ""
           },
           "bgcolor": "#E5ECF6",
           "radialaxis": {
            "gridcolor": "white",
            "linecolor": "white",
            "ticks": ""
           }
          },
          "scene": {
           "xaxis": {
            "backgroundcolor": "#E5ECF6",
            "gridcolor": "white",
            "gridwidth": 2,
            "linecolor": "white",
            "showbackground": true,
            "ticks": "",
            "zerolinecolor": "white"
           },
           "yaxis": {
            "backgroundcolor": "#E5ECF6",
            "gridcolor": "white",
            "gridwidth": 2,
            "linecolor": "white",
            "showbackground": true,
            "ticks": "",
            "zerolinecolor": "white"
           },
           "zaxis": {
            "backgroundcolor": "#E5ECF6",
            "gridcolor": "white",
            "gridwidth": 2,
            "linecolor": "white",
            "showbackground": true,
            "ticks": "",
            "zerolinecolor": "white"
           }
          },
          "shapedefaults": {
           "line": {
            "color": "#2a3f5f"
           }
          },
          "ternary": {
           "aaxis": {
            "gridcolor": "white",
            "linecolor": "white",
            "ticks": ""
           },
           "baxis": {
            "gridcolor": "white",
            "linecolor": "white",
            "ticks": ""
           },
           "bgcolor": "#E5ECF6",
           "caxis": {
            "gridcolor": "white",
            "linecolor": "white",
            "ticks": ""
           }
          },
          "title": {
           "x": 0.05
          },
          "xaxis": {
           "automargin": true,
           "gridcolor": "white",
           "linecolor": "white",
           "ticks": "",
           "title": {
            "standoff": 15
           },
           "zerolinecolor": "white",
           "zerolinewidth": 2
          },
          "yaxis": {
           "automargin": true,
           "gridcolor": "white",
           "linecolor": "white",
           "ticks": "",
           "title": {
            "standoff": 15
           },
           "zerolinecolor": "white",
           "zerolinewidth": 2
          }
         }
        },
        "title": {
         "text": "Hyperparameter search results"
        }
       }
      },
      "text/html": [
       "<div>                            <div id=\"0ca6eed9-701e-409a-be09-5c020597212d\" class=\"plotly-graph-div\" style=\"height:525px; width:100%;\"></div>            <script type=\"text/javascript\">                require([\"plotly\"], function(Plotly) {                    window.PLOTLYENV=window.PLOTLYENV || {};                                    if (document.getElementById(\"0ca6eed9-701e-409a-be09-5c020597212d\")) {                    Plotly.newPlot(                        \"0ca6eed9-701e-409a-be09-5c020597212d\",                        [{\"dimensions\":[{\"label\":\"Learning rate\",\"values\":[0.0028472529820115,0.0010795143989975,0.0022192782615047,0.0049111976057845,0.0005510828096481,0.0002598453601012,0.0026865494774873,0.007852475418724,0.000369395598376,0.0016999838543349,0.0005369528748531,0.0011556882039059,0.0079332801515601,0.0026155350064962,0.0049024997699374,0.003610795367866,0.0002311567289884,0.0036550892343351,0.0002170284716561,0.0006328230874962,0.0038403335140201,0.0001744516396677,0.0039634558981758,0.002610185920323,0.0011668314753922,0.0002111186415189,0.0007941472403969,0.0008997509325562,0.0001948280832748,0.0001080671590945,0.0001100776507463]},{\"label\":\"Kernel size\",\"values\":[8.0,4.0,3.0,3.0,3.0,4.0,3.0,3.0,16.0,4.0,4.0,3.0,8.0,4.0,16.0,3.0,4.0,4.0,8.0,3.0,16.0,4.0,16.0,16.0,3.0,4.0,8.0,8.0,16.0,16.0,4.0]},{\"label\":\"Hidden layers\",\"values\":[3.0,2.0,1.0,2.0,4.0,4.0,4.0,3.0,1.0,0.0,1.0,4.0,0.0,1.0,0.0,1.0,4.0,1.0,1.0,2.0,1.0,2.0,3.0,3.0,0.0,2.0,0.0,0.0,0.0,1.0,0.0]},{\"label\":\"Input layer out channels\",\"values\":[32.0,64.0,16.0,64.0,32.0,8.0,8.0,4.0,32.0,64.0,64.0,64.0,16.0,32.0,64.0,16.0,64.0,8.0,64.0,64.0,8.0,64.0,8.0,8.0,4.0,4.0,8.0,8.0,16.0,8.0,16.0]},{\"label\":\"Hidden units\",\"values\":[64.0,64.0,64.0,48.0,256.0,32.0,64.0,64.0,48.0,128.0,64.0,32.0,128.0,64.0,64.0,48.0,64.0,32.0,48.0,256.0,48.0,64.0,64.0,64.0,64.0,256.0,32.0,64.0,32.0,32.0,32.0]},{\"label\":\"Filter extent\",\"values\":[0.125744190771616,0.1533070917030944,0.1490508680182408,0.1517497038179102,0.1237910339959341,0.1186753371823536,0.2625833808322801,0.1666839782696133,0.2491763628384303,0.1812155840097024,0.1388220683390072,0.108498918106567,0.1517141681954666,0.0766355680898088,0.1132227047540914,0.0871766001933915,0.3254764081906778,0.2304765572896104,0.0938033062798732,0.2627651302376597,0.0889271625745868,0.1064211081891452,0.1405888360457206,0.2387800975464701,0.1873885371877903,0.1372375029938616,0.1114012383901866,0.0858908022428246,0.0878309429079135,0.1018089465207497,0.1988903099887931]},{\"label\":\"train_loss\",\"values\":[0.1528566777706146,0.2243282198905944,0.2408255189657211,0.2718948423862457,0.2778487801551819,0.305171400308609,0.3842425644397735,0.4556061327457428,0.6652987599372864,0.6733682751655579,0.7627420425415039,0.7569199800491333,0.7471965551376343,0.7765533328056335,0.8927646279335022,0.890315592288971,0.9157480001449584,0.9131609201431274,0.9530941247940063,1.5343680381774902,0.956250011920929,0.9581775069236756,8.543171882629395,1.3017256259918213,0.9788167476654052,0.9677491188049316,0.9700497984886168,0.9783040285110474,1.0024189949035645,0.9950098991394044,0.9988837838172911]},{\"label\":\"train_loss_step\",\"values\":[0.177444651722908,0.1742253601551056,0.2198877483606338,0.2368020415306091,0.3132205307483673,0.2773456573486328,0.4130210280418396,0.5273393392562866,0.5702796578407288,0.5884695053100586,0.6839683055877686,0.6345576047897339,0.4111674726009369,0.6738557815551758,0.9412596225738524,0.9396437406539916,0.8461421132087708,0.7999749183654785,0.927232027053833,0.9228183031082152,0.9608519673347472,0.9624656438827516,1.0535048246383667,0.884697437286377,0.957766056060791,0.9589796662330629,0.970122456550598,0.9787510633468628,0.9880263805389404,0.9899113178253174,0.993074357509613]},{\"label\":\"Validation loss\",\"values\":[0.1519712805747985,0.2104188352823257,0.2307580709457397,0.2525908648967743,0.2678727805614471,0.2904145419597626,0.384754329919815,0.4516955316066742,0.5957207083702087,0.6612871885299683,0.6737052798271179,0.6764938235282898,0.7108669877052307,0.7253999710083008,0.8056357502937317,0.8386881947517395,0.8619832396507263,0.8703534007072449,0.9019795656204224,0.9085923433303832,0.9124155044555664,0.920562982559204,0.9354971647262572,0.9366219639778136,0.938056707382202,0.941224217414856,0.9414558410644532,0.951740562915802,0.9778998494148254,0.9803254008293152,0.9882200956344604]},{\"label\":\"val_loss_epoch\",\"values\":[0.1519712805747985,0.2104188352823257,0.2307580709457397,0.2525908648967743,0.2678727805614471,0.2904145419597626,0.384754329919815,0.4516955316066742,0.5957207083702087,0.6612871885299683,0.6737052798271179,0.6764938235282898,0.7108669877052307,0.7253999710083008,0.8056357502937317,0.8386881947517395,0.8619832396507263,0.8703534007072449,0.9019795656204224,0.9085923433303832,0.9124155044555664,0.920562982559204,0.9354971647262572,0.9366219639778136,0.938056707382202,0.941224217414856,0.9414558410644532,0.951740562915802,0.9778998494148254,0.9803254008293152,0.9882200956344604]},{\"label\":\"train_loss_epoch\",\"values\":[0.1528566777706146,0.2243282198905944,0.2408255189657211,0.2718948423862457,0.2778487801551819,0.305171400308609,0.3842425644397735,0.4556061327457428,0.6652987599372864,0.6733682751655579,0.7627420425415039,0.7569199800491333,0.7471965551376343,0.7765533328056335,0.8927646279335022,0.890315592288971,0.9157480001449584,0.9131609201431274,0.9530941247940063,1.5343680381774902,0.956250011920929,0.9581775069236756,8.543171882629395,1.3017256259918213,0.9788167476654052,0.9677491188049316,0.9700497984886168,0.9783040285110474,1.0024189949035645,0.9950098991394044,0.9988837838172911]},{\"label\":\"Epoch\",\"values\":[9.0,14.0,14.0,14.0,9.0,14.0,9.0,3.0,1.0,14.0,1.0,1.0,1.0,1.0,0.0,0.0,0.0,0.0,0.0,0.0,0.0,0.0,0.0,0.0,0.0,0.0,0.0,0.0,0.0,0.0,0.0]}],\"domain\":{\"x\":[0.0,1.0],\"y\":[0.0,1.0]},\"line\":{\"color\":[0.1519712805747985,0.2104188352823257,0.2307580709457397,0.2525908648967743,0.2678727805614471,0.2904145419597626,0.384754329919815,0.4516955316066742,0.5957207083702087,0.6612871885299683,0.6737052798271179,0.6764938235282898,0.7108669877052307,0.7253999710083008,0.8056357502937317,0.8386881947517395,0.8619832396507263,0.8703534007072449,0.9019795656204224,0.9085923433303832,0.9124155044555664,0.920562982559204,0.9354971647262572,0.9366219639778136,0.938056707382202,0.941224217414856,0.9414558410644532,0.951740562915802,0.9778998494148254,0.9803254008293152,0.9882200956344604],\"coloraxis\":\"coloraxis\"},\"name\":\"\",\"type\":\"parcoords\"}],                        {\"template\":{\"data\":{\"histogram2dcontour\":[{\"type\":\"histogram2dcontour\",\"colorbar\":{\"outlinewidth\":0,\"ticks\":\"\"},\"colorscale\":[[0.0,\"#0d0887\"],[0.1111111111111111,\"#46039f\"],[0.2222222222222222,\"#7201a8\"],[0.3333333333333333,\"#9c179e\"],[0.4444444444444444,\"#bd3786\"],[0.5555555555555556,\"#d8576b\"],[0.6666666666666666,\"#ed7953\"],[0.7777777777777778,\"#fb9f3a\"],[0.8888888888888888,\"#fdca26\"],[1.0,\"#f0f921\"]]}],\"choropleth\":[{\"type\":\"choropleth\",\"colorbar\":{\"outlinewidth\":0,\"ticks\":\"\"}}],\"histogram2d\":[{\"type\":\"histogram2d\",\"colorbar\":{\"outlinewidth\":0,\"ticks\":\"\"},\"colorscale\":[[0.0,\"#0d0887\"],[0.1111111111111111,\"#46039f\"],[0.2222222222222222,\"#7201a8\"],[0.3333333333333333,\"#9c179e\"],[0.4444444444444444,\"#bd3786\"],[0.5555555555555556,\"#d8576b\"],[0.6666666666666666,\"#ed7953\"],[0.7777777777777778,\"#fb9f3a\"],[0.8888888888888888,\"#fdca26\"],[1.0,\"#f0f921\"]]}],\"heatmap\":[{\"type\":\"heatmap\",\"colorbar\":{\"outlinewidth\":0,\"ticks\":\"\"},\"colorscale\":[[0.0,\"#0d0887\"],[0.1111111111111111,\"#46039f\"],[0.2222222222222222,\"#7201a8\"],[0.3333333333333333,\"#9c179e\"],[0.4444444444444444,\"#bd3786\"],[0.5555555555555556,\"#d8576b\"],[0.6666666666666666,\"#ed7953\"],[0.7777777777777778,\"#fb9f3a\"],[0.8888888888888888,\"#fdca26\"],[1.0,\"#f0f921\"]]}],\"heatmapgl\":[{\"type\":\"heatmapgl\",\"colorbar\":{\"outlinewidth\":0,\"ticks\":\"\"},\"colorscale\":[[0.0,\"#0d0887\"],[0.1111111111111111,\"#46039f\"],[0.2222222222222222,\"#7201a8\"],[0.3333333333333333,\"#9c179e\"],[0.4444444444444444,\"#bd3786\"],[0.5555555555555556,\"#d8576b\"],[0.6666666666666666,\"#ed7953\"],[0.7777777777777778,\"#fb9f3a\"],[0.8888888888888888,\"#fdca26\"],[1.0,\"#f0f921\"]]}],\"contourcarpet\":[{\"type\":\"contourcarpet\",\"colorbar\":{\"outlinewidth\":0,\"ticks\":\"\"}}],\"contour\":[{\"type\":\"contour\",\"colorbar\":{\"outlinewidth\":0,\"ticks\":\"\"},\"colorscale\":[[0.0,\"#0d0887\"],[0.1111111111111111,\"#46039f\"],[0.2222222222222222,\"#7201a8\"],[0.3333333333333333,\"#9c179e\"],[0.4444444444444444,\"#bd3786\"],[0.5555555555555556,\"#d8576b\"],[0.6666666666666666,\"#ed7953\"],[0.7777777777777778,\"#fb9f3a\"],[0.8888888888888888,\"#fdca26\"],[1.0,\"#f0f921\"]]}],\"surface\":[{\"type\":\"surface\",\"colorbar\":{\"outlinewidth\":0,\"ticks\":\"\"},\"colorscale\":[[0.0,\"#0d0887\"],[0.1111111111111111,\"#46039f\"],[0.2222222222222222,\"#7201a8\"],[0.3333333333333333,\"#9c179e\"],[0.4444444444444444,\"#bd3786\"],[0.5555555555555556,\"#d8576b\"],[0.6666666666666666,\"#ed7953\"],[0.7777777777777778,\"#fb9f3a\"],[0.8888888888888888,\"#fdca26\"],[1.0,\"#f0f921\"]]}],\"mesh3d\":[{\"type\":\"mesh3d\",\"colorbar\":{\"outlinewidth\":0,\"ticks\":\"\"}}],\"scatter\":[{\"fillpattern\":{\"fillmode\":\"overlay\",\"size\":10,\"solidity\":0.2},\"type\":\"scatter\"}],\"parcoords\":[{\"type\":\"parcoords\",\"line\":{\"colorbar\":{\"outlinewidth\":0,\"ticks\":\"\"}}}],\"scatterpolargl\":[{\"type\":\"scatterpolargl\",\"marker\":{\"colorbar\":{\"outlinewidth\":0,\"ticks\":\"\"}}}],\"bar\":[{\"error_x\":{\"color\":\"#2a3f5f\"},\"error_y\":{\"color\":\"#2a3f5f\"},\"marker\":{\"line\":{\"color\":\"#E5ECF6\",\"width\":0.5},\"pattern\":{\"fillmode\":\"overlay\",\"size\":10,\"solidity\":0.2}},\"type\":\"bar\"}],\"scattergeo\":[{\"type\":\"scattergeo\",\"marker\":{\"colorbar\":{\"outlinewidth\":0,\"ticks\":\"\"}}}],\"scatterpolar\":[{\"type\":\"scatterpolar\",\"marker\":{\"colorbar\":{\"outlinewidth\":0,\"ticks\":\"\"}}}],\"histogram\":[{\"marker\":{\"pattern\":{\"fillmode\":\"overlay\",\"size\":10,\"solidity\":0.2}},\"type\":\"histogram\"}],\"scattergl\":[{\"type\":\"scattergl\",\"marker\":{\"colorbar\":{\"outlinewidth\":0,\"ticks\":\"\"}}}],\"scatter3d\":[{\"type\":\"scatter3d\",\"line\":{\"colorbar\":{\"outlinewidth\":0,\"ticks\":\"\"}},\"marker\":{\"colorbar\":{\"outlinewidth\":0,\"ticks\":\"\"}}}],\"scattermapbox\":[{\"type\":\"scattermapbox\",\"marker\":{\"colorbar\":{\"outlinewidth\":0,\"ticks\":\"\"}}}],\"scatterternary\":[{\"type\":\"scatterternary\",\"marker\":{\"colorbar\":{\"outlinewidth\":0,\"ticks\":\"\"}}}],\"scattercarpet\":[{\"type\":\"scattercarpet\",\"marker\":{\"colorbar\":{\"outlinewidth\":0,\"ticks\":\"\"}}}],\"carpet\":[{\"aaxis\":{\"endlinecolor\":\"#2a3f5f\",\"gridcolor\":\"white\",\"linecolor\":\"white\",\"minorgridcolor\":\"white\",\"startlinecolor\":\"#2a3f5f\"},\"baxis\":{\"endlinecolor\":\"#2a3f5f\",\"gridcolor\":\"white\",\"linecolor\":\"white\",\"minorgridcolor\":\"white\",\"startlinecolor\":\"#2a3f5f\"},\"type\":\"carpet\"}],\"table\":[{\"cells\":{\"fill\":{\"color\":\"#EBF0F8\"},\"line\":{\"color\":\"white\"}},\"header\":{\"fill\":{\"color\":\"#C8D4E3\"},\"line\":{\"color\":\"white\"}},\"type\":\"table\"}],\"barpolar\":[{\"marker\":{\"line\":{\"color\":\"#E5ECF6\",\"width\":0.5},\"pattern\":{\"fillmode\":\"overlay\",\"size\":10,\"solidity\":0.2}},\"type\":\"barpolar\"}],\"pie\":[{\"automargin\":true,\"type\":\"pie\"}]},\"layout\":{\"autotypenumbers\":\"strict\",\"colorway\":[\"#636efa\",\"#EF553B\",\"#00cc96\",\"#ab63fa\",\"#FFA15A\",\"#19d3f3\",\"#FF6692\",\"#B6E880\",\"#FF97FF\",\"#FECB52\"],\"font\":{\"color\":\"#2a3f5f\"},\"hovermode\":\"closest\",\"hoverlabel\":{\"align\":\"left\"},\"paper_bgcolor\":\"white\",\"plot_bgcolor\":\"#E5ECF6\",\"polar\":{\"bgcolor\":\"#E5ECF6\",\"angularaxis\":{\"gridcolor\":\"white\",\"linecolor\":\"white\",\"ticks\":\"\"},\"radialaxis\":{\"gridcolor\":\"white\",\"linecolor\":\"white\",\"ticks\":\"\"}},\"ternary\":{\"bgcolor\":\"#E5ECF6\",\"aaxis\":{\"gridcolor\":\"white\",\"linecolor\":\"white\",\"ticks\":\"\"},\"baxis\":{\"gridcolor\":\"white\",\"linecolor\":\"white\",\"ticks\":\"\"},\"caxis\":{\"gridcolor\":\"white\",\"linecolor\":\"white\",\"ticks\":\"\"}},\"coloraxis\":{\"colorbar\":{\"outlinewidth\":0,\"ticks\":\"\"}},\"colorscale\":{\"sequential\":[[0.0,\"#0d0887\"],[0.1111111111111111,\"#46039f\"],[0.2222222222222222,\"#7201a8\"],[0.3333333333333333,\"#9c179e\"],[0.4444444444444444,\"#bd3786\"],[0.5555555555555556,\"#d8576b\"],[0.6666666666666666,\"#ed7953\"],[0.7777777777777778,\"#fb9f3a\"],[0.8888888888888888,\"#fdca26\"],[1.0,\"#f0f921\"]],\"sequentialminus\":[[0.0,\"#0d0887\"],[0.1111111111111111,\"#46039f\"],[0.2222222222222222,\"#7201a8\"],[0.3333333333333333,\"#9c179e\"],[0.4444444444444444,\"#bd3786\"],[0.5555555555555556,\"#d8576b\"],[0.6666666666666666,\"#ed7953\"],[0.7777777777777778,\"#fb9f3a\"],[0.8888888888888888,\"#fdca26\"],[1.0,\"#f0f921\"]],\"diverging\":[[0,\"#8e0152\"],[0.1,\"#c51b7d\"],[0.2,\"#de77ae\"],[0.3,\"#f1b6da\"],[0.4,\"#fde0ef\"],[0.5,\"#f7f7f7\"],[0.6,\"#e6f5d0\"],[0.7,\"#b8e186\"],[0.8,\"#7fbc41\"],[0.9,\"#4d9221\"],[1,\"#276419\"]]},\"xaxis\":{\"gridcolor\":\"white\",\"linecolor\":\"white\",\"ticks\":\"\",\"title\":{\"standoff\":15},\"zerolinecolor\":\"white\",\"automargin\":true,\"zerolinewidth\":2},\"yaxis\":{\"gridcolor\":\"white\",\"linecolor\":\"white\",\"ticks\":\"\",\"title\":{\"standoff\":15},\"zerolinecolor\":\"white\",\"automargin\":true,\"zerolinewidth\":2},\"scene\":{\"xaxis\":{\"backgroundcolor\":\"#E5ECF6\",\"gridcolor\":\"white\",\"linecolor\":\"white\",\"showbackground\":true,\"ticks\":\"\",\"zerolinecolor\":\"white\",\"gridwidth\":2},\"yaxis\":{\"backgroundcolor\":\"#E5ECF6\",\"gridcolor\":\"white\",\"linecolor\":\"white\",\"showbackground\":true,\"ticks\":\"\",\"zerolinecolor\":\"white\",\"gridwidth\":2},\"zaxis\":{\"backgroundcolor\":\"#E5ECF6\",\"gridcolor\":\"white\",\"linecolor\":\"white\",\"showbackground\":true,\"ticks\":\"\",\"zerolinecolor\":\"white\",\"gridwidth\":2}},\"shapedefaults\":{\"line\":{\"color\":\"#2a3f5f\"}},\"annotationdefaults\":{\"arrowcolor\":\"#2a3f5f\",\"arrowhead\":0,\"arrowwidth\":1},\"geo\":{\"bgcolor\":\"white\",\"landcolor\":\"#E5ECF6\",\"subunitcolor\":\"white\",\"showland\":true,\"showlakes\":true,\"lakecolor\":\"white\"},\"title\":{\"x\":0.05},\"mapbox\":{\"style\":\"light\"}}},\"coloraxis\":{\"colorbar\":{\"title\":{\"text\":\"Validation loss\"}},\"colorscale\":[[0.0,\"#0d0887\"],[0.1111111111111111,\"#46039f\"],[0.2222222222222222,\"#7201a8\"],[0.3333333333333333,\"#9c179e\"],[0.4444444444444444,\"#bd3786\"],[0.5555555555555556,\"#d8576b\"],[0.6666666666666666,\"#ed7953\"],[0.7777777777777778,\"#fb9f3a\"],[0.8888888888888888,\"#fdca26\"],[1.0,\"#f0f921\"]]},\"legend\":{\"tracegroupgap\":0},\"title\":{\"text\":\"Hyperparameter search results\"}},                        {\"responsive\": true}                    ).then(function(){\n",
       "                            \n",
       "var gd = document.getElementById('0ca6eed9-701e-409a-be09-5c020597212d');\n",
       "var x = new MutationObserver(function (mutations, observer) {{\n",
       "        var display = window.getComputedStyle(gd).display;\n",
       "        if (!display || display === 'none') {{\n",
       "            console.log([gd, 'removed!']);\n",
       "            Plotly.purge(gd);\n",
       "            observer.disconnect();\n",
       "        }}\n",
       "}});\n",
       "\n",
       "// Listen for the removal of the full notebook cells\n",
       "var notebookContainer = gd.closest('#notebook-container');\n",
       "if (notebookContainer) {{\n",
       "    x.observe(notebookContainer, {childList: true});\n",
       "}}\n",
       "\n",
       "// Listen for the clearing of the current output cell\n",
       "var outputEl = gd.closest('.output');\n",
       "if (outputEl) {{\n",
       "    x.observe(outputEl, {childList: true});\n",
       "}}\n",
       "\n",
       "                        })                };                });            </script>        </div>"
      ]
     },
     "metadata": {},
     "output_type": "display_data"
    }
   ],
   "source": [
    "# Create parallel coordinates plot\n",
    "fig = px.parallel_coordinates(\n",
    "    df,\n",
    "    dimensions=list(df.columns)[0:-7],\n",
    "    color='val_loss',\n",
    "    color_continuous_scale='plasma',\n",
    "    title='Hyperparameter search results',\n",
    "    labels=labels,\n",
    "\n",
    ")\n",
    "fig.show()\n",
    "\n",
    "# TODO: Also show categorical values such as activation function, interpolation, etc.\n",
    "# TODO: Remove other loss metrics than val_loss\n",
    "# TODO: Maybe apply log scale to some categories\n",
    "# Note: Drag and drop columns + select constraint on columns via mouse click"
   ]
  },
  {
   "cell_type": "code",
   "execution_count": null,
   "metadata": {},
   "outputs": [],
   "source": []
  },
  {
   "cell_type": "code",
   "execution_count": 90,
   "metadata": {},
   "outputs": [
    {
     "data": {
      "text/plain": [
       "['learning_rate',\n",
       " 'kernel_size',\n",
       " 'num_hidden_layers',\n",
       " 'input_layer_out_channels',\n",
       " 'hidden_units',\n",
       " 'intermediate_activation_fn',\n",
       " 'interpolation',\n",
       " 'align_corners',\n",
       " 'normalize',\n",
       " 'window_function',\n",
       " 'coordinate_mapping',\n",
       " 'filter_extent',\n",
       " 'radius_search_ignore_query_points',\n",
       " 'use_dense_layer_for_centers',\n",
       " 'train_loss',\n",
       " 'train_loss_step',\n",
       " 'val_loss',\n",
       " 'val_loss_epoch',\n",
       " 'train_loss_epoch',\n",
       " 'epoch',\n",
       " 'step',\n",
       " 'time_this_iter_s',\n",
       " 'should_checkpoint',\n",
       " 'done',\n",
       " 'time_since_restore',\n",
       " 'iterations_since_restore',\n",
       " 'stopped_early']"
      ]
     },
     "execution_count": 90,
     "metadata": {},
     "output_type": "execute_result"
    }
   ],
   "source": [
    "list(df.columns)"
   ]
  },
  {
   "cell_type": "code",
   "execution_count": 117,
   "metadata": {},
   "outputs": [
    {
     "data": {
      "application/vnd.plotly.v1+json": {
       "config": {
        "plotlyServerURL": "https://plot.ly"
       },
       "data": [
        {
         "dimensions": [
          {
           "constraintrange": [
            1,
            2
           ],
           "label": "A",
           "range": [
            1,
            5
           ],
           "values": [
            1,
            4
           ]
          },
          {
           "label": "B",
           "range": [
            1.5,
            5
           ],
           "tickvals": [
            1.5,
            3,
            4.5
           ],
           "values": [
            3,
            1.5
           ]
          },
          {
           "label": "C",
           "range": [
            1,
            5
           ],
           "ticktext": [
            "text 1",
            "text 2",
            "text 3",
            "text 4"
           ],
           "tickvals": [
            1,
            2,
            4,
            5
           ],
           "values": [
            2,
            4
           ]
          },
          {
           "label": "D",
           "range": [
            1,
            5
           ],
           "values": [
            4,
            2
           ]
          }
         ],
         "line": {
          "color": "blue"
         },
         "type": "parcoords"
        }
       ],
       "layout": {
        "template": {
         "data": {
          "bar": [
           {
            "error_x": {
             "color": "#2a3f5f"
            },
            "error_y": {
             "color": "#2a3f5f"
            },
            "marker": {
             "line": {
              "color": "#E5ECF6",
              "width": 0.5
             },
             "pattern": {
              "fillmode": "overlay",
              "size": 10,
              "solidity": 0.2
             }
            },
            "type": "bar"
           }
          ],
          "barpolar": [
           {
            "marker": {
             "line": {
              "color": "#E5ECF6",
              "width": 0.5
             },
             "pattern": {
              "fillmode": "overlay",
              "size": 10,
              "solidity": 0.2
             }
            },
            "type": "barpolar"
           }
          ],
          "carpet": [
           {
            "aaxis": {
             "endlinecolor": "#2a3f5f",
             "gridcolor": "white",
             "linecolor": "white",
             "minorgridcolor": "white",
             "startlinecolor": "#2a3f5f"
            },
            "baxis": {
             "endlinecolor": "#2a3f5f",
             "gridcolor": "white",
             "linecolor": "white",
             "minorgridcolor": "white",
             "startlinecolor": "#2a3f5f"
            },
            "type": "carpet"
           }
          ],
          "choropleth": [
           {
            "colorbar": {
             "outlinewidth": 0,
             "ticks": ""
            },
            "type": "choropleth"
           }
          ],
          "contour": [
           {
            "colorbar": {
             "outlinewidth": 0,
             "ticks": ""
            },
            "colorscale": [
             [
              0,
              "#0d0887"
             ],
             [
              0.1111111111111111,
              "#46039f"
             ],
             [
              0.2222222222222222,
              "#7201a8"
             ],
             [
              0.3333333333333333,
              "#9c179e"
             ],
             [
              0.4444444444444444,
              "#bd3786"
             ],
             [
              0.5555555555555556,
              "#d8576b"
             ],
             [
              0.6666666666666666,
              "#ed7953"
             ],
             [
              0.7777777777777778,
              "#fb9f3a"
             ],
             [
              0.8888888888888888,
              "#fdca26"
             ],
             [
              1,
              "#f0f921"
             ]
            ],
            "type": "contour"
           }
          ],
          "contourcarpet": [
           {
            "colorbar": {
             "outlinewidth": 0,
             "ticks": ""
            },
            "type": "contourcarpet"
           }
          ],
          "heatmap": [
           {
            "colorbar": {
             "outlinewidth": 0,
             "ticks": ""
            },
            "colorscale": [
             [
              0,
              "#0d0887"
             ],
             [
              0.1111111111111111,
              "#46039f"
             ],
             [
              0.2222222222222222,
              "#7201a8"
             ],
             [
              0.3333333333333333,
              "#9c179e"
             ],
             [
              0.4444444444444444,
              "#bd3786"
             ],
             [
              0.5555555555555556,
              "#d8576b"
             ],
             [
              0.6666666666666666,
              "#ed7953"
             ],
             [
              0.7777777777777778,
              "#fb9f3a"
             ],
             [
              0.8888888888888888,
              "#fdca26"
             ],
             [
              1,
              "#f0f921"
             ]
            ],
            "type": "heatmap"
           }
          ],
          "heatmapgl": [
           {
            "colorbar": {
             "outlinewidth": 0,
             "ticks": ""
            },
            "colorscale": [
             [
              0,
              "#0d0887"
             ],
             [
              0.1111111111111111,
              "#46039f"
             ],
             [
              0.2222222222222222,
              "#7201a8"
             ],
             [
              0.3333333333333333,
              "#9c179e"
             ],
             [
              0.4444444444444444,
              "#bd3786"
             ],
             [
              0.5555555555555556,
              "#d8576b"
             ],
             [
              0.6666666666666666,
              "#ed7953"
             ],
             [
              0.7777777777777778,
              "#fb9f3a"
             ],
             [
              0.8888888888888888,
              "#fdca26"
             ],
             [
              1,
              "#f0f921"
             ]
            ],
            "type": "heatmapgl"
           }
          ],
          "histogram": [
           {
            "marker": {
             "pattern": {
              "fillmode": "overlay",
              "size": 10,
              "solidity": 0.2
             }
            },
            "type": "histogram"
           }
          ],
          "histogram2d": [
           {
            "colorbar": {
             "outlinewidth": 0,
             "ticks": ""
            },
            "colorscale": [
             [
              0,
              "#0d0887"
             ],
             [
              0.1111111111111111,
              "#46039f"
             ],
             [
              0.2222222222222222,
              "#7201a8"
             ],
             [
              0.3333333333333333,
              "#9c179e"
             ],
             [
              0.4444444444444444,
              "#bd3786"
             ],
             [
              0.5555555555555556,
              "#d8576b"
             ],
             [
              0.6666666666666666,
              "#ed7953"
             ],
             [
              0.7777777777777778,
              "#fb9f3a"
             ],
             [
              0.8888888888888888,
              "#fdca26"
             ],
             [
              1,
              "#f0f921"
             ]
            ],
            "type": "histogram2d"
           }
          ],
          "histogram2dcontour": [
           {
            "colorbar": {
             "outlinewidth": 0,
             "ticks": ""
            },
            "colorscale": [
             [
              0,
              "#0d0887"
             ],
             [
              0.1111111111111111,
              "#46039f"
             ],
             [
              0.2222222222222222,
              "#7201a8"
             ],
             [
              0.3333333333333333,
              "#9c179e"
             ],
             [
              0.4444444444444444,
              "#bd3786"
             ],
             [
              0.5555555555555556,
              "#d8576b"
             ],
             [
              0.6666666666666666,
              "#ed7953"
             ],
             [
              0.7777777777777778,
              "#fb9f3a"
             ],
             [
              0.8888888888888888,
              "#fdca26"
             ],
             [
              1,
              "#f0f921"
             ]
            ],
            "type": "histogram2dcontour"
           }
          ],
          "mesh3d": [
           {
            "colorbar": {
             "outlinewidth": 0,
             "ticks": ""
            },
            "type": "mesh3d"
           }
          ],
          "parcoords": [
           {
            "line": {
             "colorbar": {
              "outlinewidth": 0,
              "ticks": ""
             }
            },
            "type": "parcoords"
           }
          ],
          "pie": [
           {
            "automargin": true,
            "type": "pie"
           }
          ],
          "scatter": [
           {
            "fillpattern": {
             "fillmode": "overlay",
             "size": 10,
             "solidity": 0.2
            },
            "type": "scatter"
           }
          ],
          "scatter3d": [
           {
            "line": {
             "colorbar": {
              "outlinewidth": 0,
              "ticks": ""
             }
            },
            "marker": {
             "colorbar": {
              "outlinewidth": 0,
              "ticks": ""
             }
            },
            "type": "scatter3d"
           }
          ],
          "scattercarpet": [
           {
            "marker": {
             "colorbar": {
              "outlinewidth": 0,
              "ticks": ""
             }
            },
            "type": "scattercarpet"
           }
          ],
          "scattergeo": [
           {
            "marker": {
             "colorbar": {
              "outlinewidth": 0,
              "ticks": ""
             }
            },
            "type": "scattergeo"
           }
          ],
          "scattergl": [
           {
            "marker": {
             "colorbar": {
              "outlinewidth": 0,
              "ticks": ""
             }
            },
            "type": "scattergl"
           }
          ],
          "scattermapbox": [
           {
            "marker": {
             "colorbar": {
              "outlinewidth": 0,
              "ticks": ""
             }
            },
            "type": "scattermapbox"
           }
          ],
          "scatterpolar": [
           {
            "marker": {
             "colorbar": {
              "outlinewidth": 0,
              "ticks": ""
             }
            },
            "type": "scatterpolar"
           }
          ],
          "scatterpolargl": [
           {
            "marker": {
             "colorbar": {
              "outlinewidth": 0,
              "ticks": ""
             }
            },
            "type": "scatterpolargl"
           }
          ],
          "scatterternary": [
           {
            "marker": {
             "colorbar": {
              "outlinewidth": 0,
              "ticks": ""
             }
            },
            "type": "scatterternary"
           }
          ],
          "surface": [
           {
            "colorbar": {
             "outlinewidth": 0,
             "ticks": ""
            },
            "colorscale": [
             [
              0,
              "#0d0887"
             ],
             [
              0.1111111111111111,
              "#46039f"
             ],
             [
              0.2222222222222222,
              "#7201a8"
             ],
             [
              0.3333333333333333,
              "#9c179e"
             ],
             [
              0.4444444444444444,
              "#bd3786"
             ],
             [
              0.5555555555555556,
              "#d8576b"
             ],
             [
              0.6666666666666666,
              "#ed7953"
             ],
             [
              0.7777777777777778,
              "#fb9f3a"
             ],
             [
              0.8888888888888888,
              "#fdca26"
             ],
             [
              1,
              "#f0f921"
             ]
            ],
            "type": "surface"
           }
          ],
          "table": [
           {
            "cells": {
             "fill": {
              "color": "#EBF0F8"
             },
             "line": {
              "color": "white"
             }
            },
            "header": {
             "fill": {
              "color": "#C8D4E3"
             },
             "line": {
              "color": "white"
             }
            },
            "type": "table"
           }
          ]
         },
         "layout": {
          "annotationdefaults": {
           "arrowcolor": "#2a3f5f",
           "arrowhead": 0,
           "arrowwidth": 1
          },
          "autotypenumbers": "strict",
          "coloraxis": {
           "colorbar": {
            "outlinewidth": 0,
            "ticks": ""
           }
          },
          "colorscale": {
           "diverging": [
            [
             0,
             "#8e0152"
            ],
            [
             0.1,
             "#c51b7d"
            ],
            [
             0.2,
             "#de77ae"
            ],
            [
             0.3,
             "#f1b6da"
            ],
            [
             0.4,
             "#fde0ef"
            ],
            [
             0.5,
             "#f7f7f7"
            ],
            [
             0.6,
             "#e6f5d0"
            ],
            [
             0.7,
             "#b8e186"
            ],
            [
             0.8,
             "#7fbc41"
            ],
            [
             0.9,
             "#4d9221"
            ],
            [
             1,
             "#276419"
            ]
           ],
           "sequential": [
            [
             0,
             "#0d0887"
            ],
            [
             0.1111111111111111,
             "#46039f"
            ],
            [
             0.2222222222222222,
             "#7201a8"
            ],
            [
             0.3333333333333333,
             "#9c179e"
            ],
            [
             0.4444444444444444,
             "#bd3786"
            ],
            [
             0.5555555555555556,
             "#d8576b"
            ],
            [
             0.6666666666666666,
             "#ed7953"
            ],
            [
             0.7777777777777778,
             "#fb9f3a"
            ],
            [
             0.8888888888888888,
             "#fdca26"
            ],
            [
             1,
             "#f0f921"
            ]
           ],
           "sequentialminus": [
            [
             0,
             "#0d0887"
            ],
            [
             0.1111111111111111,
             "#46039f"
            ],
            [
             0.2222222222222222,
             "#7201a8"
            ],
            [
             0.3333333333333333,
             "#9c179e"
            ],
            [
             0.4444444444444444,
             "#bd3786"
            ],
            [
             0.5555555555555556,
             "#d8576b"
            ],
            [
             0.6666666666666666,
             "#ed7953"
            ],
            [
             0.7777777777777778,
             "#fb9f3a"
            ],
            [
             0.8888888888888888,
             "#fdca26"
            ],
            [
             1,
             "#f0f921"
            ]
           ]
          },
          "colorway": [
           "#636efa",
           "#EF553B",
           "#00cc96",
           "#ab63fa",
           "#FFA15A",
           "#19d3f3",
           "#FF6692",
           "#B6E880",
           "#FF97FF",
           "#FECB52"
          ],
          "font": {
           "color": "#2a3f5f"
          },
          "geo": {
           "bgcolor": "white",
           "lakecolor": "white",
           "landcolor": "#E5ECF6",
           "showlakes": true,
           "showland": true,
           "subunitcolor": "white"
          },
          "hoverlabel": {
           "align": "left"
          },
          "hovermode": "closest",
          "mapbox": {
           "style": "light"
          },
          "paper_bgcolor": "white",
          "plot_bgcolor": "#E5ECF6",
          "polar": {
           "angularaxis": {
            "gridcolor": "white",
            "linecolor": "white",
            "ticks": ""
           },
           "bgcolor": "#E5ECF6",
           "radialaxis": {
            "gridcolor": "white",
            "linecolor": "white",
            "ticks": ""
           }
          },
          "scene": {
           "xaxis": {
            "backgroundcolor": "#E5ECF6",
            "gridcolor": "white",
            "gridwidth": 2,
            "linecolor": "white",
            "showbackground": true,
            "ticks": "",
            "zerolinecolor": "white"
           },
           "yaxis": {
            "backgroundcolor": "#E5ECF6",
            "gridcolor": "white",
            "gridwidth": 2,
            "linecolor": "white",
            "showbackground": true,
            "ticks": "",
            "zerolinecolor": "white"
           },
           "zaxis": {
            "backgroundcolor": "#E5ECF6",
            "gridcolor": "white",
            "gridwidth": 2,
            "linecolor": "white",
            "showbackground": true,
            "ticks": "",
            "zerolinecolor": "white"
           }
          },
          "shapedefaults": {
           "line": {
            "color": "#2a3f5f"
           }
          },
          "ternary": {
           "aaxis": {
            "gridcolor": "white",
            "linecolor": "white",
            "ticks": ""
           },
           "baxis": {
            "gridcolor": "white",
            "linecolor": "white",
            "ticks": ""
           },
           "bgcolor": "#E5ECF6",
           "caxis": {
            "gridcolor": "white",
            "linecolor": "white",
            "ticks": ""
           }
          },
          "title": {
           "x": 0.05
          },
          "xaxis": {
           "automargin": true,
           "gridcolor": "white",
           "linecolor": "white",
           "ticks": "",
           "title": {
            "standoff": 15
           },
           "zerolinecolor": "white",
           "zerolinewidth": 2
          },
          "yaxis": {
           "automargin": true,
           "gridcolor": "white",
           "linecolor": "white",
           "ticks": "",
           "title": {
            "standoff": 15
           },
           "zerolinecolor": "white",
           "zerolinewidth": 2
          }
         }
        }
       }
      },
      "text/html": [
       "<div>                            <div id=\"5f40263e-0422-48b3-a461-72e342c20d69\" class=\"plotly-graph-div\" style=\"height:525px; width:100%;\"></div>            <script type=\"text/javascript\">                require([\"plotly\"], function(Plotly) {                    window.PLOTLYENV=window.PLOTLYENV || {};                                    if (document.getElementById(\"5f40263e-0422-48b3-a461-72e342c20d69\")) {                    Plotly.newPlot(                        \"5f40263e-0422-48b3-a461-72e342c20d69\",                        [{\"dimensions\":[{\"constraintrange\":[1,2],\"label\":\"A\",\"range\":[1,5],\"values\":[1,4]},{\"label\":\"B\",\"range\":[1.5,5],\"tickvals\":[1.5,3,4.5],\"values\":[3,1.5]},{\"label\":\"C\",\"range\":[1,5],\"ticktext\":[\"text 1\",\"text 2\",\"text 3\",\"text 4\"],\"tickvals\":[1,2,4,5],\"values\":[2,4]},{\"label\":\"D\",\"range\":[1,5],\"values\":[4,2]}],\"line\":{\"color\":\"blue\"},\"type\":\"parcoords\"}],                        {\"template\":{\"data\":{\"histogram2dcontour\":[{\"type\":\"histogram2dcontour\",\"colorbar\":{\"outlinewidth\":0,\"ticks\":\"\"},\"colorscale\":[[0.0,\"#0d0887\"],[0.1111111111111111,\"#46039f\"],[0.2222222222222222,\"#7201a8\"],[0.3333333333333333,\"#9c179e\"],[0.4444444444444444,\"#bd3786\"],[0.5555555555555556,\"#d8576b\"],[0.6666666666666666,\"#ed7953\"],[0.7777777777777778,\"#fb9f3a\"],[0.8888888888888888,\"#fdca26\"],[1.0,\"#f0f921\"]]}],\"choropleth\":[{\"type\":\"choropleth\",\"colorbar\":{\"outlinewidth\":0,\"ticks\":\"\"}}],\"histogram2d\":[{\"type\":\"histogram2d\",\"colorbar\":{\"outlinewidth\":0,\"ticks\":\"\"},\"colorscale\":[[0.0,\"#0d0887\"],[0.1111111111111111,\"#46039f\"],[0.2222222222222222,\"#7201a8\"],[0.3333333333333333,\"#9c179e\"],[0.4444444444444444,\"#bd3786\"],[0.5555555555555556,\"#d8576b\"],[0.6666666666666666,\"#ed7953\"],[0.7777777777777778,\"#fb9f3a\"],[0.8888888888888888,\"#fdca26\"],[1.0,\"#f0f921\"]]}],\"heatmap\":[{\"type\":\"heatmap\",\"colorbar\":{\"outlinewidth\":0,\"ticks\":\"\"},\"colorscale\":[[0.0,\"#0d0887\"],[0.1111111111111111,\"#46039f\"],[0.2222222222222222,\"#7201a8\"],[0.3333333333333333,\"#9c179e\"],[0.4444444444444444,\"#bd3786\"],[0.5555555555555556,\"#d8576b\"],[0.6666666666666666,\"#ed7953\"],[0.7777777777777778,\"#fb9f3a\"],[0.8888888888888888,\"#fdca26\"],[1.0,\"#f0f921\"]]}],\"heatmapgl\":[{\"type\":\"heatmapgl\",\"colorbar\":{\"outlinewidth\":0,\"ticks\":\"\"},\"colorscale\":[[0.0,\"#0d0887\"],[0.1111111111111111,\"#46039f\"],[0.2222222222222222,\"#7201a8\"],[0.3333333333333333,\"#9c179e\"],[0.4444444444444444,\"#bd3786\"],[0.5555555555555556,\"#d8576b\"],[0.6666666666666666,\"#ed7953\"],[0.7777777777777778,\"#fb9f3a\"],[0.8888888888888888,\"#fdca26\"],[1.0,\"#f0f921\"]]}],\"contourcarpet\":[{\"type\":\"contourcarpet\",\"colorbar\":{\"outlinewidth\":0,\"ticks\":\"\"}}],\"contour\":[{\"type\":\"contour\",\"colorbar\":{\"outlinewidth\":0,\"ticks\":\"\"},\"colorscale\":[[0.0,\"#0d0887\"],[0.1111111111111111,\"#46039f\"],[0.2222222222222222,\"#7201a8\"],[0.3333333333333333,\"#9c179e\"],[0.4444444444444444,\"#bd3786\"],[0.5555555555555556,\"#d8576b\"],[0.6666666666666666,\"#ed7953\"],[0.7777777777777778,\"#fb9f3a\"],[0.8888888888888888,\"#fdca26\"],[1.0,\"#f0f921\"]]}],\"surface\":[{\"type\":\"surface\",\"colorbar\":{\"outlinewidth\":0,\"ticks\":\"\"},\"colorscale\":[[0.0,\"#0d0887\"],[0.1111111111111111,\"#46039f\"],[0.2222222222222222,\"#7201a8\"],[0.3333333333333333,\"#9c179e\"],[0.4444444444444444,\"#bd3786\"],[0.5555555555555556,\"#d8576b\"],[0.6666666666666666,\"#ed7953\"],[0.7777777777777778,\"#fb9f3a\"],[0.8888888888888888,\"#fdca26\"],[1.0,\"#f0f921\"]]}],\"mesh3d\":[{\"type\":\"mesh3d\",\"colorbar\":{\"outlinewidth\":0,\"ticks\":\"\"}}],\"scatter\":[{\"fillpattern\":{\"fillmode\":\"overlay\",\"size\":10,\"solidity\":0.2},\"type\":\"scatter\"}],\"parcoords\":[{\"type\":\"parcoords\",\"line\":{\"colorbar\":{\"outlinewidth\":0,\"ticks\":\"\"}}}],\"scatterpolargl\":[{\"type\":\"scatterpolargl\",\"marker\":{\"colorbar\":{\"outlinewidth\":0,\"ticks\":\"\"}}}],\"bar\":[{\"error_x\":{\"color\":\"#2a3f5f\"},\"error_y\":{\"color\":\"#2a3f5f\"},\"marker\":{\"line\":{\"color\":\"#E5ECF6\",\"width\":0.5},\"pattern\":{\"fillmode\":\"overlay\",\"size\":10,\"solidity\":0.2}},\"type\":\"bar\"}],\"scattergeo\":[{\"type\":\"scattergeo\",\"marker\":{\"colorbar\":{\"outlinewidth\":0,\"ticks\":\"\"}}}],\"scatterpolar\":[{\"type\":\"scatterpolar\",\"marker\":{\"colorbar\":{\"outlinewidth\":0,\"ticks\":\"\"}}}],\"histogram\":[{\"marker\":{\"pattern\":{\"fillmode\":\"overlay\",\"size\":10,\"solidity\":0.2}},\"type\":\"histogram\"}],\"scattergl\":[{\"type\":\"scattergl\",\"marker\":{\"colorbar\":{\"outlinewidth\":0,\"ticks\":\"\"}}}],\"scatter3d\":[{\"type\":\"scatter3d\",\"line\":{\"colorbar\":{\"outlinewidth\":0,\"ticks\":\"\"}},\"marker\":{\"colorbar\":{\"outlinewidth\":0,\"ticks\":\"\"}}}],\"scattermapbox\":[{\"type\":\"scattermapbox\",\"marker\":{\"colorbar\":{\"outlinewidth\":0,\"ticks\":\"\"}}}],\"scatterternary\":[{\"type\":\"scatterternary\",\"marker\":{\"colorbar\":{\"outlinewidth\":0,\"ticks\":\"\"}}}],\"scattercarpet\":[{\"type\":\"scattercarpet\",\"marker\":{\"colorbar\":{\"outlinewidth\":0,\"ticks\":\"\"}}}],\"carpet\":[{\"aaxis\":{\"endlinecolor\":\"#2a3f5f\",\"gridcolor\":\"white\",\"linecolor\":\"white\",\"minorgridcolor\":\"white\",\"startlinecolor\":\"#2a3f5f\"},\"baxis\":{\"endlinecolor\":\"#2a3f5f\",\"gridcolor\":\"white\",\"linecolor\":\"white\",\"minorgridcolor\":\"white\",\"startlinecolor\":\"#2a3f5f\"},\"type\":\"carpet\"}],\"table\":[{\"cells\":{\"fill\":{\"color\":\"#EBF0F8\"},\"line\":{\"color\":\"white\"}},\"header\":{\"fill\":{\"color\":\"#C8D4E3\"},\"line\":{\"color\":\"white\"}},\"type\":\"table\"}],\"barpolar\":[{\"marker\":{\"line\":{\"color\":\"#E5ECF6\",\"width\":0.5},\"pattern\":{\"fillmode\":\"overlay\",\"size\":10,\"solidity\":0.2}},\"type\":\"barpolar\"}],\"pie\":[{\"automargin\":true,\"type\":\"pie\"}]},\"layout\":{\"autotypenumbers\":\"strict\",\"colorway\":[\"#636efa\",\"#EF553B\",\"#00cc96\",\"#ab63fa\",\"#FFA15A\",\"#19d3f3\",\"#FF6692\",\"#B6E880\",\"#FF97FF\",\"#FECB52\"],\"font\":{\"color\":\"#2a3f5f\"},\"hovermode\":\"closest\",\"hoverlabel\":{\"align\":\"left\"},\"paper_bgcolor\":\"white\",\"plot_bgcolor\":\"#E5ECF6\",\"polar\":{\"bgcolor\":\"#E5ECF6\",\"angularaxis\":{\"gridcolor\":\"white\",\"linecolor\":\"white\",\"ticks\":\"\"},\"radialaxis\":{\"gridcolor\":\"white\",\"linecolor\":\"white\",\"ticks\":\"\"}},\"ternary\":{\"bgcolor\":\"#E5ECF6\",\"aaxis\":{\"gridcolor\":\"white\",\"linecolor\":\"white\",\"ticks\":\"\"},\"baxis\":{\"gridcolor\":\"white\",\"linecolor\":\"white\",\"ticks\":\"\"},\"caxis\":{\"gridcolor\":\"white\",\"linecolor\":\"white\",\"ticks\":\"\"}},\"coloraxis\":{\"colorbar\":{\"outlinewidth\":0,\"ticks\":\"\"}},\"colorscale\":{\"sequential\":[[0.0,\"#0d0887\"],[0.1111111111111111,\"#46039f\"],[0.2222222222222222,\"#7201a8\"],[0.3333333333333333,\"#9c179e\"],[0.4444444444444444,\"#bd3786\"],[0.5555555555555556,\"#d8576b\"],[0.6666666666666666,\"#ed7953\"],[0.7777777777777778,\"#fb9f3a\"],[0.8888888888888888,\"#fdca26\"],[1.0,\"#f0f921\"]],\"sequentialminus\":[[0.0,\"#0d0887\"],[0.1111111111111111,\"#46039f\"],[0.2222222222222222,\"#7201a8\"],[0.3333333333333333,\"#9c179e\"],[0.4444444444444444,\"#bd3786\"],[0.5555555555555556,\"#d8576b\"],[0.6666666666666666,\"#ed7953\"],[0.7777777777777778,\"#fb9f3a\"],[0.8888888888888888,\"#fdca26\"],[1.0,\"#f0f921\"]],\"diverging\":[[0,\"#8e0152\"],[0.1,\"#c51b7d\"],[0.2,\"#de77ae\"],[0.3,\"#f1b6da\"],[0.4,\"#fde0ef\"],[0.5,\"#f7f7f7\"],[0.6,\"#e6f5d0\"],[0.7,\"#b8e186\"],[0.8,\"#7fbc41\"],[0.9,\"#4d9221\"],[1,\"#276419\"]]},\"xaxis\":{\"gridcolor\":\"white\",\"linecolor\":\"white\",\"ticks\":\"\",\"title\":{\"standoff\":15},\"zerolinecolor\":\"white\",\"automargin\":true,\"zerolinewidth\":2},\"yaxis\":{\"gridcolor\":\"white\",\"linecolor\":\"white\",\"ticks\":\"\",\"title\":{\"standoff\":15},\"zerolinecolor\":\"white\",\"automargin\":true,\"zerolinewidth\":2},\"scene\":{\"xaxis\":{\"backgroundcolor\":\"#E5ECF6\",\"gridcolor\":\"white\",\"linecolor\":\"white\",\"showbackground\":true,\"ticks\":\"\",\"zerolinecolor\":\"white\",\"gridwidth\":2},\"yaxis\":{\"backgroundcolor\":\"#E5ECF6\",\"gridcolor\":\"white\",\"linecolor\":\"white\",\"showbackground\":true,\"ticks\":\"\",\"zerolinecolor\":\"white\",\"gridwidth\":2},\"zaxis\":{\"backgroundcolor\":\"#E5ECF6\",\"gridcolor\":\"white\",\"linecolor\":\"white\",\"showbackground\":true,\"ticks\":\"\",\"zerolinecolor\":\"white\",\"gridwidth\":2}},\"shapedefaults\":{\"line\":{\"color\":\"#2a3f5f\"}},\"annotationdefaults\":{\"arrowcolor\":\"#2a3f5f\",\"arrowhead\":0,\"arrowwidth\":1},\"geo\":{\"bgcolor\":\"white\",\"landcolor\":\"#E5ECF6\",\"subunitcolor\":\"white\",\"showland\":true,\"showlakes\":true,\"lakecolor\":\"white\"},\"title\":{\"x\":0.05},\"mapbox\":{\"style\":\"light\"}}}},                        {\"responsive\": true}                    ).then(function(){\n",
       "                            \n",
       "var gd = document.getElementById('5f40263e-0422-48b3-a461-72e342c20d69');\n",
       "var x = new MutationObserver(function (mutations, observer) {{\n",
       "        var display = window.getComputedStyle(gd).display;\n",
       "        if (!display || display === 'none') {{\n",
       "            console.log([gd, 'removed!']);\n",
       "            Plotly.purge(gd);\n",
       "            observer.disconnect();\n",
       "        }}\n",
       "}});\n",
       "\n",
       "// Listen for the removal of the full notebook cells\n",
       "var notebookContainer = gd.closest('#notebook-container');\n",
       "if (notebookContainer) {{\n",
       "    x.observe(notebookContainer, {childList: true});\n",
       "}}\n",
       "\n",
       "// Listen for the clearing of the current output cell\n",
       "var outputEl = gd.closest('.output');\n",
       "if (outputEl) {{\n",
       "    x.observe(outputEl, {childList: true});\n",
       "}}\n",
       "\n",
       "                        })                };                });            </script>        </div>"
      ]
     },
     "metadata": {},
     "output_type": "display_data"
    }
   ],
   "source": [
    "import plotly.graph_objects as go\n",
    "\n",
    "fig = go.Figure(data=\n",
    "    go.Parcoords(\n",
    "        line_color='blue',\n",
    "        dimensions = list([\n",
    "            dict(range = [1,5],\n",
    "                 constraintrange = [1,2], # change this range by dragging the pink line\n",
    "                 label = 'A', values = [1,4]),\n",
    "            dict(range = [1.5,5],\n",
    "                 tickvals = [1.5,3,4.5],\n",
    "                 label = 'B', values = [3,1.5]),\n",
    "            dict(range = [1,5],\n",
    "                 tickvals = [1,2,4,5],\n",
    "                 label = 'C', values = [2,4],\n",
    "                 ticktext = ['text 1', 'text 2', 'text 3', 'text 4']),\n",
    "            dict(range = [1,5],\n",
    "                 label = 'D', values = [4,2])\n",
    "        ])\n",
    "    )\n",
    ")\n",
    "fig.show()"
   ]
  },
  {
   "cell_type": "code",
   "execution_count": 13,
   "metadata": {},
   "outputs": [
    {
     "data": {
      "text/plain": [
       "['learning_rate',\n",
       " 'kernel_size',\n",
       " 'num_hidden_layers',\n",
       " 'input_layer_out_channels',\n",
       " 'hidden_units',\n",
       " 'intermediate_activation_fn',\n",
       " 'interpolation',\n",
       " 'align_corners',\n",
       " 'normalize',\n",
       " 'window_function',\n",
       " 'coordinate_mapping',\n",
       " 'filter_extent',\n",
       " 'radius_search_ignore_query_points',\n",
       " 'use_dense_layer_for_centers',\n",
       " 'train_loss',\n",
       " 'train_loss_step',\n",
       " 'val_loss',\n",
       " 'val_loss_epoch',\n",
       " 'train_loss_epoch',\n",
       " 'epoch',\n",
       " 'step',\n",
       " 'time_this_iter_s',\n",
       " 'should_checkpoint',\n",
       " 'done',\n",
       " 'time_since_restore',\n",
       " 'iterations_since_restore',\n",
       " 'stopped_early']"
      ]
     },
     "execution_count": 13,
     "metadata": {},
     "output_type": "execute_result"
    }
   ],
   "source": [
    "list(df.columns)"
   ]
  },
  {
   "cell_type": "code",
   "execution_count": 15,
   "metadata": {},
   "outputs": [
    {
     "data": {
      "application/vnd.plotly.v1+json": {
       "config": {
        "plotlyServerURL": "https://plot.ly"
       },
       "data": [
        {
         "colorscale": [
          [
           0,
           "#440154"
          ],
          [
           0.1111111111111111,
           "#482878"
          ],
          [
           0.2222222222222222,
           "#3e4989"
          ],
          [
           0.3333333333333333,
           "#31688e"
          ],
          [
           0.4444444444444444,
           "#26828e"
          ],
          [
           0.5555555555555556,
           "#1f9e89"
          ],
          [
           0.6666666666666666,
           "#35b779"
          ],
          [
           0.7777777777777778,
           "#6ece58"
          ],
          [
           0.8888888888888888,
           "#b5de2b"
          ],
          [
           1,
           "#fde725"
          ]
         ],
         "type": "heatmap",
         "x": [
          "GeLU",
          "GeLU",
          "leaky_relu",
          "tanh",
          "GeLU",
          "tanh",
          "relu",
          "GeLU",
          "GeLU",
          "relu",
          "relu",
          "tanh",
          "relu",
          "leaky_relu",
          "leaky_relu",
          "relu",
          "GeLU",
          "tanh",
          "GeLU",
          "relu",
          "GeLU",
          "relu",
          "GeLU",
          "leaky_relu",
          "relu",
          "GeLU",
          "GeLU",
          "leaky_relu",
          "tanh",
          "relu",
          "leaky_relu"
         ],
         "xaxis": "x",
         "y": [
          "GeLU",
          "GeLU",
          "leaky_relu",
          "tanh",
          "GeLU",
          "tanh",
          "relu",
          "GeLU",
          "GeLU",
          "relu",
          "relu",
          "tanh",
          "relu",
          "leaky_relu",
          "leaky_relu",
          "relu",
          "GeLU",
          "tanh",
          "GeLU",
          "relu",
          "GeLU",
          "relu",
          "GeLU",
          "leaky_relu",
          "relu",
          "GeLU",
          "GeLU",
          "leaky_relu",
          "tanh",
          "relu",
          "leaky_relu"
         ],
         "yaxis": "y",
         "z": [
          0.1519712805747985,
          0.2104188352823257,
          0.2307580709457397,
          0.2525908648967743,
          0.2678727805614471,
          0.2904145419597626,
          0.384754329919815,
          0.4516955316066742,
          0.5957207083702087,
          0.6612871885299683,
          0.6737052798271179,
          0.6764938235282898,
          0.7108669877052307,
          0.7253999710083008,
          0.8056357502937317,
          0.8386881947517395,
          0.8619832396507263,
          0.8703534007072449,
          0.9019795656204224,
          0.9085923433303832,
          0.9124155044555664,
          0.920562982559204,
          0.9354971647262572,
          0.9366219639778136,
          0.938056707382202,
          0.941224217414856,
          0.9414558410644532,
          0.951740562915802,
          0.9778998494148254,
          0.9803254008293152,
          0.9882200956344604
         ]
        },
        {
         "colorscale": [
          [
           0,
           "#440154"
          ],
          [
           0.1111111111111111,
           "#482878"
          ],
          [
           0.2222222222222222,
           "#3e4989"
          ],
          [
           0.3333333333333333,
           "#31688e"
          ],
          [
           0.4444444444444444,
           "#26828e"
          ],
          [
           0.5555555555555556,
           "#1f9e89"
          ],
          [
           0.6666666666666666,
           "#35b779"
          ],
          [
           0.7777777777777778,
           "#6ece58"
          ],
          [
           0.8888888888888888,
           "#b5de2b"
          ],
          [
           1,
           "#fde725"
          ]
         ],
         "type": "heatmap",
         "x": [
          "GeLU",
          "GeLU",
          "leaky_relu",
          "tanh",
          "GeLU",
          "tanh",
          "relu",
          "GeLU",
          "GeLU",
          "relu",
          "relu",
          "tanh",
          "relu",
          "leaky_relu",
          "leaky_relu",
          "relu",
          "GeLU",
          "tanh",
          "GeLU",
          "relu",
          "GeLU",
          "relu",
          "GeLU",
          "leaky_relu",
          "relu",
          "GeLU",
          "GeLU",
          "leaky_relu",
          "tanh",
          "relu",
          "leaky_relu"
         ],
         "xaxis": "x2",
         "y": [
          true,
          true,
          false,
          false,
          true,
          true,
          false,
          false,
          false,
          false,
          false,
          false,
          true,
          false,
          true,
          true,
          false,
          true,
          false,
          false,
          false,
          false,
          false,
          false,
          true,
          false,
          true,
          true,
          false,
          true,
          false
         ],
         "yaxis": "y2",
         "z": [
          0.1519712805747985,
          0.2104188352823257,
          0.2307580709457397,
          0.2525908648967743,
          0.2678727805614471,
          0.2904145419597626,
          0.384754329919815,
          0.4516955316066742,
          0.5957207083702087,
          0.6612871885299683,
          0.6737052798271179,
          0.6764938235282898,
          0.7108669877052307,
          0.7253999710083008,
          0.8056357502937317,
          0.8386881947517395,
          0.8619832396507263,
          0.8703534007072449,
          0.9019795656204224,
          0.9085923433303832,
          0.9124155044555664,
          0.920562982559204,
          0.9354971647262572,
          0.9366219639778136,
          0.938056707382202,
          0.941224217414856,
          0.9414558410644532,
          0.951740562915802,
          0.9778998494148254,
          0.9803254008293152,
          0.9882200956344604
         ]
        },
        {
         "colorscale": [
          [
           0,
           "#440154"
          ],
          [
           0.1111111111111111,
           "#482878"
          ],
          [
           0.2222222222222222,
           "#3e4989"
          ],
          [
           0.3333333333333333,
           "#31688e"
          ],
          [
           0.4444444444444444,
           "#26828e"
          ],
          [
           0.5555555555555556,
           "#1f9e89"
          ],
          [
           0.6666666666666666,
           "#35b779"
          ],
          [
           0.7777777777777778,
           "#6ece58"
          ],
          [
           0.8888888888888888,
           "#b5de2b"
          ],
          [
           1,
           "#fde725"
          ]
         ],
         "type": "heatmap",
         "x": [
          "GeLU",
          "GeLU",
          "leaky_relu",
          "tanh",
          "GeLU",
          "tanh",
          "relu",
          "GeLU",
          "GeLU",
          "relu",
          "relu",
          "tanh",
          "relu",
          "leaky_relu",
          "leaky_relu",
          "relu",
          "GeLU",
          "tanh",
          "GeLU",
          "relu",
          "GeLU",
          "relu",
          "GeLU",
          "leaky_relu",
          "relu",
          "GeLU",
          "GeLU",
          "leaky_relu",
          "tanh",
          "relu",
          "leaky_relu"
         ],
         "xaxis": "x3",
         "y": [
          "None",
          true,
          true,
          true,
          "None",
          true,
          "None",
          "None",
          false,
          false,
          true,
          false,
          "None",
          true,
          false,
          true,
          "None",
          false,
          true,
          "None",
          true,
          false,
          false,
          true,
          "None",
          "None",
          "None",
          true,
          true,
          true,
          true
         ],
         "yaxis": "y3",
         "z": [
          0.1519712805747985,
          0.2104188352823257,
          0.2307580709457397,
          0.2525908648967743,
          0.2678727805614471,
          0.2904145419597626,
          0.384754329919815,
          0.4516955316066742,
          0.5957207083702087,
          0.6612871885299683,
          0.6737052798271179,
          0.6764938235282898,
          0.7108669877052307,
          0.7253999710083008,
          0.8056357502937317,
          0.8386881947517395,
          0.8619832396507263,
          0.8703534007072449,
          0.9019795656204224,
          0.9085923433303832,
          0.9124155044555664,
          0.920562982559204,
          0.9354971647262572,
          0.9366219639778136,
          0.938056707382202,
          0.941224217414856,
          0.9414558410644532,
          0.951740562915802,
          0.9778998494148254,
          0.9803254008293152,
          0.9882200956344604
         ]
        },
        {
         "colorscale": [
          [
           0,
           "#440154"
          ],
          [
           0.1111111111111111,
           "#482878"
          ],
          [
           0.2222222222222222,
           "#3e4989"
          ],
          [
           0.3333333333333333,
           "#31688e"
          ],
          [
           0.4444444444444444,
           "#26828e"
          ],
          [
           0.5555555555555556,
           "#1f9e89"
          ],
          [
           0.6666666666666666,
           "#35b779"
          ],
          [
           0.7777777777777778,
           "#6ece58"
          ],
          [
           0.8888888888888888,
           "#b5de2b"
          ],
          [
           1,
           "#fde725"
          ]
         ],
         "type": "heatmap",
         "x": [
          "GeLU",
          "GeLU",
          "leaky_relu",
          "tanh",
          "GeLU",
          "tanh",
          "relu",
          "GeLU",
          "GeLU",
          "relu",
          "relu",
          "tanh",
          "relu",
          "leaky_relu",
          "leaky_relu",
          "relu",
          "GeLU",
          "tanh",
          "GeLU",
          "relu",
          "GeLU",
          "relu",
          "GeLU",
          "leaky_relu",
          "relu",
          "GeLU",
          "GeLU",
          "leaky_relu",
          "tanh",
          "relu",
          "leaky_relu"
         ],
         "xaxis": "x4",
         "y": [
          false,
          false,
          false,
          false,
          false,
          false,
          false,
          true,
          true,
          false,
          true,
          true,
          true,
          true,
          true,
          true,
          true,
          true,
          true,
          true,
          true,
          true,
          true,
          true,
          true,
          true,
          true,
          true,
          true,
          true,
          true
         ],
         "yaxis": "y4",
         "z": [
          0.1519712805747985,
          0.2104188352823257,
          0.2307580709457397,
          0.2525908648967743,
          0.2678727805614471,
          0.2904145419597626,
          0.384754329919815,
          0.4516955316066742,
          0.5957207083702087,
          0.6612871885299683,
          0.6737052798271179,
          0.6764938235282898,
          0.7108669877052307,
          0.7253999710083008,
          0.8056357502937317,
          0.8386881947517395,
          0.8619832396507263,
          0.8703534007072449,
          0.9019795656204224,
          0.9085923433303832,
          0.9124155044555664,
          0.920562982559204,
          0.9354971647262572,
          0.9366219639778136,
          0.938056707382202,
          0.941224217414856,
          0.9414558410644532,
          0.951740562915802,
          0.9778998494148254,
          0.9803254008293152,
          0.9882200956344604
         ]
        },
        {
         "colorscale": [
          [
           0,
           "#440154"
          ],
          [
           0.1111111111111111,
           "#482878"
          ],
          [
           0.2222222222222222,
           "#3e4989"
          ],
          [
           0.3333333333333333,
           "#31688e"
          ],
          [
           0.4444444444444444,
           "#26828e"
          ],
          [
           0.5555555555555556,
           "#1f9e89"
          ],
          [
           0.6666666666666666,
           "#35b779"
          ],
          [
           0.7777777777777778,
           "#6ece58"
          ],
          [
           0.8888888888888888,
           "#b5de2b"
          ],
          [
           1,
           "#fde725"
          ]
         ],
         "type": "heatmap",
         "x": [
          "GeLU",
          "GeLU",
          "leaky_relu",
          "tanh",
          "GeLU",
          "tanh",
          "relu",
          "GeLU",
          "GeLU",
          "relu",
          "relu",
          "tanh",
          "relu",
          "leaky_relu",
          "leaky_relu",
          "relu",
          "GeLU",
          "tanh",
          "GeLU",
          "relu",
          "GeLU",
          "relu",
          "GeLU",
          "leaky_relu",
          "relu",
          "GeLU",
          "GeLU",
          "leaky_relu",
          "tanh",
          "relu",
          "leaky_relu"
         ],
         "xaxis": "x5",
         "y": [
          "None",
          "poly6",
          "gaussian",
          "gaussian",
          "poly6",
          "gaussian",
          "None",
          "None",
          "poly6",
          "None",
          "poly6",
          "poly6",
          "None",
          "gaussian",
          "None",
          "poly6",
          "None",
          "None",
          "gaussian",
          "poly6",
          "poly6",
          "poly6",
          "None",
          "gaussian",
          "poly6",
          "None",
          "poly6",
          "poly6",
          "poly6",
          "gaussian",
          "gaussian"
         ],
         "yaxis": "y5",
         "z": [
          0.1519712805747985,
          0.2104188352823257,
          0.2307580709457397,
          0.2525908648967743,
          0.2678727805614471,
          0.2904145419597626,
          0.384754329919815,
          0.4516955316066742,
          0.5957207083702087,
          0.6612871885299683,
          0.6737052798271179,
          0.6764938235282898,
          0.7108669877052307,
          0.7253999710083008,
          0.8056357502937317,
          0.8386881947517395,
          0.8619832396507263,
          0.8703534007072449,
          0.9019795656204224,
          0.9085923433303832,
          0.9124155044555664,
          0.920562982559204,
          0.9354971647262572,
          0.9366219639778136,
          0.938056707382202,
          0.941224217414856,
          0.9414558410644532,
          0.951740562915802,
          0.9778998494148254,
          0.9803254008293152,
          0.9882200956344604
         ]
        },
        {
         "colorscale": [
          [
           0,
           "#440154"
          ],
          [
           0.1111111111111111,
           "#482878"
          ],
          [
           0.2222222222222222,
           "#3e4989"
          ],
          [
           0.3333333333333333,
           "#31688e"
          ],
          [
           0.4444444444444444,
           "#26828e"
          ],
          [
           0.5555555555555556,
           "#1f9e89"
          ],
          [
           0.6666666666666666,
           "#35b779"
          ],
          [
           0.7777777777777778,
           "#6ece58"
          ],
          [
           0.8888888888888888,
           "#b5de2b"
          ],
          [
           1,
           "#fde725"
          ]
         ],
         "type": "heatmap",
         "x": [
          "GeLU",
          "GeLU",
          "leaky_relu",
          "tanh",
          "GeLU",
          "tanh",
          "relu",
          "GeLU",
          "GeLU",
          "relu",
          "relu",
          "tanh",
          "relu",
          "leaky_relu",
          "leaky_relu",
          "relu",
          "GeLU",
          "tanh",
          "GeLU",
          "relu",
          "GeLU",
          "relu",
          "GeLU",
          "leaky_relu",
          "relu",
          "GeLU",
          "GeLU",
          "leaky_relu",
          "tanh",
          "relu",
          "leaky_relu"
         ],
         "xaxis": "x6",
         "y": [
          true,
          true,
          true,
          false,
          false,
          false,
          false,
          true,
          true,
          true,
          false,
          false,
          false,
          true,
          false,
          true,
          false,
          false,
          true,
          true,
          true,
          false,
          false,
          false,
          false,
          false,
          true,
          true,
          true,
          false,
          true
         ],
         "yaxis": "y6",
         "z": [
          0.1519712805747985,
          0.2104188352823257,
          0.2307580709457397,
          0.2525908648967743,
          0.2678727805614471,
          0.2904145419597626,
          0.384754329919815,
          0.4516955316066742,
          0.5957207083702087,
          0.6612871885299683,
          0.6737052798271179,
          0.6764938235282898,
          0.7108669877052307,
          0.7253999710083008,
          0.8056357502937317,
          0.8386881947517395,
          0.8619832396507263,
          0.8703534007072449,
          0.9019795656204224,
          0.9085923433303832,
          0.9124155044555664,
          0.920562982559204,
          0.9354971647262572,
          0.9366219639778136,
          0.938056707382202,
          0.941224217414856,
          0.9414558410644532,
          0.951740562915802,
          0.9778998494148254,
          0.9803254008293152,
          0.9882200956344604
         ]
        },
        {
         "colorscale": [
          [
           0,
           "#440154"
          ],
          [
           0.1111111111111111,
           "#482878"
          ],
          [
           0.2222222222222222,
           "#3e4989"
          ],
          [
           0.3333333333333333,
           "#31688e"
          ],
          [
           0.4444444444444444,
           "#26828e"
          ],
          [
           0.5555555555555556,
           "#1f9e89"
          ],
          [
           0.6666666666666666,
           "#35b779"
          ],
          [
           0.7777777777777778,
           "#6ece58"
          ],
          [
           0.8888888888888888,
           "#b5de2b"
          ],
          [
           1,
           "#fde725"
          ]
         ],
         "type": "heatmap",
         "x": [
          "GeLU",
          "GeLU",
          "leaky_relu",
          "tanh",
          "GeLU",
          "tanh",
          "relu",
          "GeLU",
          "GeLU",
          "relu",
          "relu",
          "tanh",
          "relu",
          "leaky_relu",
          "leaky_relu",
          "relu",
          "GeLU",
          "tanh",
          "GeLU",
          "relu",
          "GeLU",
          "relu",
          "GeLU",
          "leaky_relu",
          "relu",
          "GeLU",
          "GeLU",
          "leaky_relu",
          "tanh",
          "relu",
          "leaky_relu"
         ],
         "xaxis": "x7",
         "y": [
          true,
          true,
          false,
          false,
          true,
          false,
          true,
          true,
          false,
          true,
          true,
          true,
          true,
          false,
          false,
          true,
          true,
          true,
          false,
          false,
          false,
          true,
          false,
          false,
          false,
          true,
          true,
          true,
          true,
          true,
          true
         ],
         "yaxis": "y7",
         "z": [
          0.1519712805747985,
          0.2104188352823257,
          0.2307580709457397,
          0.2525908648967743,
          0.2678727805614471,
          0.2904145419597626,
          0.384754329919815,
          0.4516955316066742,
          0.5957207083702087,
          0.6612871885299683,
          0.6737052798271179,
          0.6764938235282898,
          0.7108669877052307,
          0.7253999710083008,
          0.8056357502937317,
          0.8386881947517395,
          0.8619832396507263,
          0.8703534007072449,
          0.9019795656204224,
          0.9085923433303832,
          0.9124155044555664,
          0.920562982559204,
          0.9354971647262572,
          0.9366219639778136,
          0.938056707382202,
          0.941224217414856,
          0.9414558410644532,
          0.951740562915802,
          0.9778998494148254,
          0.9803254008293152,
          0.9882200956344604
         ]
        },
        {
         "colorscale": [
          [
           0,
           "#440154"
          ],
          [
           0.1111111111111111,
           "#482878"
          ],
          [
           0.2222222222222222,
           "#3e4989"
          ],
          [
           0.3333333333333333,
           "#31688e"
          ],
          [
           0.4444444444444444,
           "#26828e"
          ],
          [
           0.5555555555555556,
           "#1f9e89"
          ],
          [
           0.6666666666666666,
           "#35b779"
          ],
          [
           0.7777777777777778,
           "#6ece58"
          ],
          [
           0.8888888888888888,
           "#b5de2b"
          ],
          [
           1,
           "#fde725"
          ]
         ],
         "type": "heatmap",
         "x": [
          true,
          true,
          false,
          false,
          true,
          true,
          false,
          false,
          false,
          false,
          false,
          false,
          true,
          false,
          true,
          true,
          false,
          true,
          false,
          false,
          false,
          false,
          false,
          false,
          true,
          false,
          true,
          true,
          false,
          true,
          false
         ],
         "xaxis": "x8",
         "y": [
          "GeLU",
          "GeLU",
          "leaky_relu",
          "tanh",
          "GeLU",
          "tanh",
          "relu",
          "GeLU",
          "GeLU",
          "relu",
          "relu",
          "tanh",
          "relu",
          "leaky_relu",
          "leaky_relu",
          "relu",
          "GeLU",
          "tanh",
          "GeLU",
          "relu",
          "GeLU",
          "relu",
          "GeLU",
          "leaky_relu",
          "relu",
          "GeLU",
          "GeLU",
          "leaky_relu",
          "tanh",
          "relu",
          "leaky_relu"
         ],
         "yaxis": "y8",
         "z": [
          0.1519712805747985,
          0.2104188352823257,
          0.2307580709457397,
          0.2525908648967743,
          0.2678727805614471,
          0.2904145419597626,
          0.384754329919815,
          0.4516955316066742,
          0.5957207083702087,
          0.6612871885299683,
          0.6737052798271179,
          0.6764938235282898,
          0.7108669877052307,
          0.7253999710083008,
          0.8056357502937317,
          0.8386881947517395,
          0.8619832396507263,
          0.8703534007072449,
          0.9019795656204224,
          0.9085923433303832,
          0.9124155044555664,
          0.920562982559204,
          0.9354971647262572,
          0.9366219639778136,
          0.938056707382202,
          0.941224217414856,
          0.9414558410644532,
          0.951740562915802,
          0.9778998494148254,
          0.9803254008293152,
          0.9882200956344604
         ]
        },
        {
         "colorscale": [
          [
           0,
           "#440154"
          ],
          [
           0.1111111111111111,
           "#482878"
          ],
          [
           0.2222222222222222,
           "#3e4989"
          ],
          [
           0.3333333333333333,
           "#31688e"
          ],
          [
           0.4444444444444444,
           "#26828e"
          ],
          [
           0.5555555555555556,
           "#1f9e89"
          ],
          [
           0.6666666666666666,
           "#35b779"
          ],
          [
           0.7777777777777778,
           "#6ece58"
          ],
          [
           0.8888888888888888,
           "#b5de2b"
          ],
          [
           1,
           "#fde725"
          ]
         ],
         "type": "heatmap",
         "x": [
          true,
          true,
          false,
          false,
          true,
          true,
          false,
          false,
          false,
          false,
          false,
          false,
          true,
          false,
          true,
          true,
          false,
          true,
          false,
          false,
          false,
          false,
          false,
          false,
          true,
          false,
          true,
          true,
          false,
          true,
          false
         ],
         "xaxis": "x9",
         "y": [
          true,
          true,
          false,
          false,
          true,
          true,
          false,
          false,
          false,
          false,
          false,
          false,
          true,
          false,
          true,
          true,
          false,
          true,
          false,
          false,
          false,
          false,
          false,
          false,
          true,
          false,
          true,
          true,
          false,
          true,
          false
         ],
         "yaxis": "y9",
         "z": [
          0.1519712805747985,
          0.2104188352823257,
          0.2307580709457397,
          0.2525908648967743,
          0.2678727805614471,
          0.2904145419597626,
          0.384754329919815,
          0.4516955316066742,
          0.5957207083702087,
          0.6612871885299683,
          0.6737052798271179,
          0.6764938235282898,
          0.7108669877052307,
          0.7253999710083008,
          0.8056357502937317,
          0.8386881947517395,
          0.8619832396507263,
          0.8703534007072449,
          0.9019795656204224,
          0.9085923433303832,
          0.9124155044555664,
          0.920562982559204,
          0.9354971647262572,
          0.9366219639778136,
          0.938056707382202,
          0.941224217414856,
          0.9414558410644532,
          0.951740562915802,
          0.9778998494148254,
          0.9803254008293152,
          0.9882200956344604
         ]
        },
        {
         "colorscale": [
          [
           0,
           "#440154"
          ],
          [
           0.1111111111111111,
           "#482878"
          ],
          [
           0.2222222222222222,
           "#3e4989"
          ],
          [
           0.3333333333333333,
           "#31688e"
          ],
          [
           0.4444444444444444,
           "#26828e"
          ],
          [
           0.5555555555555556,
           "#1f9e89"
          ],
          [
           0.6666666666666666,
           "#35b779"
          ],
          [
           0.7777777777777778,
           "#6ece58"
          ],
          [
           0.8888888888888888,
           "#b5de2b"
          ],
          [
           1,
           "#fde725"
          ]
         ],
         "type": "heatmap",
         "x": [
          true,
          true,
          false,
          false,
          true,
          true,
          false,
          false,
          false,
          false,
          false,
          false,
          true,
          false,
          true,
          true,
          false,
          true,
          false,
          false,
          false,
          false,
          false,
          false,
          true,
          false,
          true,
          true,
          false,
          true,
          false
         ],
         "xaxis": "x10",
         "y": [
          "None",
          true,
          true,
          true,
          "None",
          true,
          "None",
          "None",
          false,
          false,
          true,
          false,
          "None",
          true,
          false,
          true,
          "None",
          false,
          true,
          "None",
          true,
          false,
          false,
          true,
          "None",
          "None",
          "None",
          true,
          true,
          true,
          true
         ],
         "yaxis": "y10",
         "z": [
          0.1519712805747985,
          0.2104188352823257,
          0.2307580709457397,
          0.2525908648967743,
          0.2678727805614471,
          0.2904145419597626,
          0.384754329919815,
          0.4516955316066742,
          0.5957207083702087,
          0.6612871885299683,
          0.6737052798271179,
          0.6764938235282898,
          0.7108669877052307,
          0.7253999710083008,
          0.8056357502937317,
          0.8386881947517395,
          0.8619832396507263,
          0.8703534007072449,
          0.9019795656204224,
          0.9085923433303832,
          0.9124155044555664,
          0.920562982559204,
          0.9354971647262572,
          0.9366219639778136,
          0.938056707382202,
          0.941224217414856,
          0.9414558410644532,
          0.951740562915802,
          0.9778998494148254,
          0.9803254008293152,
          0.9882200956344604
         ]
        },
        {
         "colorscale": [
          [
           0,
           "#440154"
          ],
          [
           0.1111111111111111,
           "#482878"
          ],
          [
           0.2222222222222222,
           "#3e4989"
          ],
          [
           0.3333333333333333,
           "#31688e"
          ],
          [
           0.4444444444444444,
           "#26828e"
          ],
          [
           0.5555555555555556,
           "#1f9e89"
          ],
          [
           0.6666666666666666,
           "#35b779"
          ],
          [
           0.7777777777777778,
           "#6ece58"
          ],
          [
           0.8888888888888888,
           "#b5de2b"
          ],
          [
           1,
           "#fde725"
          ]
         ],
         "type": "heatmap",
         "x": [
          true,
          true,
          false,
          false,
          true,
          true,
          false,
          false,
          false,
          false,
          false,
          false,
          true,
          false,
          true,
          true,
          false,
          true,
          false,
          false,
          false,
          false,
          false,
          false,
          true,
          false,
          true,
          true,
          false,
          true,
          false
         ],
         "xaxis": "x11",
         "y": [
          false,
          false,
          false,
          false,
          false,
          false,
          false,
          true,
          true,
          false,
          true,
          true,
          true,
          true,
          true,
          true,
          true,
          true,
          true,
          true,
          true,
          true,
          true,
          true,
          true,
          true,
          true,
          true,
          true,
          true,
          true
         ],
         "yaxis": "y11",
         "z": [
          0.1519712805747985,
          0.2104188352823257,
          0.2307580709457397,
          0.2525908648967743,
          0.2678727805614471,
          0.2904145419597626,
          0.384754329919815,
          0.4516955316066742,
          0.5957207083702087,
          0.6612871885299683,
          0.6737052798271179,
          0.6764938235282898,
          0.7108669877052307,
          0.7253999710083008,
          0.8056357502937317,
          0.8386881947517395,
          0.8619832396507263,
          0.8703534007072449,
          0.9019795656204224,
          0.9085923433303832,
          0.9124155044555664,
          0.920562982559204,
          0.9354971647262572,
          0.9366219639778136,
          0.938056707382202,
          0.941224217414856,
          0.9414558410644532,
          0.951740562915802,
          0.9778998494148254,
          0.9803254008293152,
          0.9882200956344604
         ]
        },
        {
         "colorscale": [
          [
           0,
           "#440154"
          ],
          [
           0.1111111111111111,
           "#482878"
          ],
          [
           0.2222222222222222,
           "#3e4989"
          ],
          [
           0.3333333333333333,
           "#31688e"
          ],
          [
           0.4444444444444444,
           "#26828e"
          ],
          [
           0.5555555555555556,
           "#1f9e89"
          ],
          [
           0.6666666666666666,
           "#35b779"
          ],
          [
           0.7777777777777778,
           "#6ece58"
          ],
          [
           0.8888888888888888,
           "#b5de2b"
          ],
          [
           1,
           "#fde725"
          ]
         ],
         "type": "heatmap",
         "x": [
          true,
          true,
          false,
          false,
          true,
          true,
          false,
          false,
          false,
          false,
          false,
          false,
          true,
          false,
          true,
          true,
          false,
          true,
          false,
          false,
          false,
          false,
          false,
          false,
          true,
          false,
          true,
          true,
          false,
          true,
          false
         ],
         "xaxis": "x12",
         "y": [
          "None",
          "poly6",
          "gaussian",
          "gaussian",
          "poly6",
          "gaussian",
          "None",
          "None",
          "poly6",
          "None",
          "poly6",
          "poly6",
          "None",
          "gaussian",
          "None",
          "poly6",
          "None",
          "None",
          "gaussian",
          "poly6",
          "poly6",
          "poly6",
          "None",
          "gaussian",
          "poly6",
          "None",
          "poly6",
          "poly6",
          "poly6",
          "gaussian",
          "gaussian"
         ],
         "yaxis": "y12",
         "z": [
          0.1519712805747985,
          0.2104188352823257,
          0.2307580709457397,
          0.2525908648967743,
          0.2678727805614471,
          0.2904145419597626,
          0.384754329919815,
          0.4516955316066742,
          0.5957207083702087,
          0.6612871885299683,
          0.6737052798271179,
          0.6764938235282898,
          0.7108669877052307,
          0.7253999710083008,
          0.8056357502937317,
          0.8386881947517395,
          0.8619832396507263,
          0.8703534007072449,
          0.9019795656204224,
          0.9085923433303832,
          0.9124155044555664,
          0.920562982559204,
          0.9354971647262572,
          0.9366219639778136,
          0.938056707382202,
          0.941224217414856,
          0.9414558410644532,
          0.951740562915802,
          0.9778998494148254,
          0.9803254008293152,
          0.9882200956344604
         ]
        },
        {
         "colorscale": [
          [
           0,
           "#440154"
          ],
          [
           0.1111111111111111,
           "#482878"
          ],
          [
           0.2222222222222222,
           "#3e4989"
          ],
          [
           0.3333333333333333,
           "#31688e"
          ],
          [
           0.4444444444444444,
           "#26828e"
          ],
          [
           0.5555555555555556,
           "#1f9e89"
          ],
          [
           0.6666666666666666,
           "#35b779"
          ],
          [
           0.7777777777777778,
           "#6ece58"
          ],
          [
           0.8888888888888888,
           "#b5de2b"
          ],
          [
           1,
           "#fde725"
          ]
         ],
         "type": "heatmap",
         "x": [
          true,
          true,
          false,
          false,
          true,
          true,
          false,
          false,
          false,
          false,
          false,
          false,
          true,
          false,
          true,
          true,
          false,
          true,
          false,
          false,
          false,
          false,
          false,
          false,
          true,
          false,
          true,
          true,
          false,
          true,
          false
         ],
         "xaxis": "x13",
         "y": [
          true,
          true,
          true,
          false,
          false,
          false,
          false,
          true,
          true,
          true,
          false,
          false,
          false,
          true,
          false,
          true,
          false,
          false,
          true,
          true,
          true,
          false,
          false,
          false,
          false,
          false,
          true,
          true,
          true,
          false,
          true
         ],
         "yaxis": "y13",
         "z": [
          0.1519712805747985,
          0.2104188352823257,
          0.2307580709457397,
          0.2525908648967743,
          0.2678727805614471,
          0.2904145419597626,
          0.384754329919815,
          0.4516955316066742,
          0.5957207083702087,
          0.6612871885299683,
          0.6737052798271179,
          0.6764938235282898,
          0.7108669877052307,
          0.7253999710083008,
          0.8056357502937317,
          0.8386881947517395,
          0.8619832396507263,
          0.8703534007072449,
          0.9019795656204224,
          0.9085923433303832,
          0.9124155044555664,
          0.920562982559204,
          0.9354971647262572,
          0.9366219639778136,
          0.938056707382202,
          0.941224217414856,
          0.9414558410644532,
          0.951740562915802,
          0.9778998494148254,
          0.9803254008293152,
          0.9882200956344604
         ]
        },
        {
         "colorscale": [
          [
           0,
           "#440154"
          ],
          [
           0.1111111111111111,
           "#482878"
          ],
          [
           0.2222222222222222,
           "#3e4989"
          ],
          [
           0.3333333333333333,
           "#31688e"
          ],
          [
           0.4444444444444444,
           "#26828e"
          ],
          [
           0.5555555555555556,
           "#1f9e89"
          ],
          [
           0.6666666666666666,
           "#35b779"
          ],
          [
           0.7777777777777778,
           "#6ece58"
          ],
          [
           0.8888888888888888,
           "#b5de2b"
          ],
          [
           1,
           "#fde725"
          ]
         ],
         "type": "heatmap",
         "x": [
          true,
          true,
          false,
          false,
          true,
          true,
          false,
          false,
          false,
          false,
          false,
          false,
          true,
          false,
          true,
          true,
          false,
          true,
          false,
          false,
          false,
          false,
          false,
          false,
          true,
          false,
          true,
          true,
          false,
          true,
          false
         ],
         "xaxis": "x14",
         "y": [
          true,
          true,
          false,
          false,
          true,
          false,
          true,
          true,
          false,
          true,
          true,
          true,
          true,
          false,
          false,
          true,
          true,
          true,
          false,
          false,
          false,
          true,
          false,
          false,
          false,
          true,
          true,
          true,
          true,
          true,
          true
         ],
         "yaxis": "y14",
         "z": [
          0.1519712805747985,
          0.2104188352823257,
          0.2307580709457397,
          0.2525908648967743,
          0.2678727805614471,
          0.2904145419597626,
          0.384754329919815,
          0.4516955316066742,
          0.5957207083702087,
          0.6612871885299683,
          0.6737052798271179,
          0.6764938235282898,
          0.7108669877052307,
          0.7253999710083008,
          0.8056357502937317,
          0.8386881947517395,
          0.8619832396507263,
          0.8703534007072449,
          0.9019795656204224,
          0.9085923433303832,
          0.9124155044555664,
          0.920562982559204,
          0.9354971647262572,
          0.9366219639778136,
          0.938056707382202,
          0.941224217414856,
          0.9414558410644532,
          0.951740562915802,
          0.9778998494148254,
          0.9803254008293152,
          0.9882200956344604
         ]
        },
        {
         "colorscale": [
          [
           0,
           "#440154"
          ],
          [
           0.1111111111111111,
           "#482878"
          ],
          [
           0.2222222222222222,
           "#3e4989"
          ],
          [
           0.3333333333333333,
           "#31688e"
          ],
          [
           0.4444444444444444,
           "#26828e"
          ],
          [
           0.5555555555555556,
           "#1f9e89"
          ],
          [
           0.6666666666666666,
           "#35b779"
          ],
          [
           0.7777777777777778,
           "#6ece58"
          ],
          [
           0.8888888888888888,
           "#b5de2b"
          ],
          [
           1,
           "#fde725"
          ]
         ],
         "type": "heatmap",
         "x": [
          "None",
          true,
          true,
          true,
          "None",
          true,
          "None",
          "None",
          false,
          false,
          true,
          false,
          "None",
          true,
          false,
          true,
          "None",
          false,
          true,
          "None",
          true,
          false,
          false,
          true,
          "None",
          "None",
          "None",
          true,
          true,
          true,
          true
         ],
         "xaxis": "x15",
         "y": [
          "GeLU",
          "GeLU",
          "leaky_relu",
          "tanh",
          "GeLU",
          "tanh",
          "relu",
          "GeLU",
          "GeLU",
          "relu",
          "relu",
          "tanh",
          "relu",
          "leaky_relu",
          "leaky_relu",
          "relu",
          "GeLU",
          "tanh",
          "GeLU",
          "relu",
          "GeLU",
          "relu",
          "GeLU",
          "leaky_relu",
          "relu",
          "GeLU",
          "GeLU",
          "leaky_relu",
          "tanh",
          "relu",
          "leaky_relu"
         ],
         "yaxis": "y15",
         "z": [
          0.1519712805747985,
          0.2104188352823257,
          0.2307580709457397,
          0.2525908648967743,
          0.2678727805614471,
          0.2904145419597626,
          0.384754329919815,
          0.4516955316066742,
          0.5957207083702087,
          0.6612871885299683,
          0.6737052798271179,
          0.6764938235282898,
          0.7108669877052307,
          0.7253999710083008,
          0.8056357502937317,
          0.8386881947517395,
          0.8619832396507263,
          0.8703534007072449,
          0.9019795656204224,
          0.9085923433303832,
          0.9124155044555664,
          0.920562982559204,
          0.9354971647262572,
          0.9366219639778136,
          0.938056707382202,
          0.941224217414856,
          0.9414558410644532,
          0.951740562915802,
          0.9778998494148254,
          0.9803254008293152,
          0.9882200956344604
         ]
        },
        {
         "colorscale": [
          [
           0,
           "#440154"
          ],
          [
           0.1111111111111111,
           "#482878"
          ],
          [
           0.2222222222222222,
           "#3e4989"
          ],
          [
           0.3333333333333333,
           "#31688e"
          ],
          [
           0.4444444444444444,
           "#26828e"
          ],
          [
           0.5555555555555556,
           "#1f9e89"
          ],
          [
           0.6666666666666666,
           "#35b779"
          ],
          [
           0.7777777777777778,
           "#6ece58"
          ],
          [
           0.8888888888888888,
           "#b5de2b"
          ],
          [
           1,
           "#fde725"
          ]
         ],
         "type": "heatmap",
         "x": [
          "None",
          true,
          true,
          true,
          "None",
          true,
          "None",
          "None",
          false,
          false,
          true,
          false,
          "None",
          true,
          false,
          true,
          "None",
          false,
          true,
          "None",
          true,
          false,
          false,
          true,
          "None",
          "None",
          "None",
          true,
          true,
          true,
          true
         ],
         "xaxis": "x16",
         "y": [
          true,
          true,
          false,
          false,
          true,
          true,
          false,
          false,
          false,
          false,
          false,
          false,
          true,
          false,
          true,
          true,
          false,
          true,
          false,
          false,
          false,
          false,
          false,
          false,
          true,
          false,
          true,
          true,
          false,
          true,
          false
         ],
         "yaxis": "y16",
         "z": [
          0.1519712805747985,
          0.2104188352823257,
          0.2307580709457397,
          0.2525908648967743,
          0.2678727805614471,
          0.2904145419597626,
          0.384754329919815,
          0.4516955316066742,
          0.5957207083702087,
          0.6612871885299683,
          0.6737052798271179,
          0.6764938235282898,
          0.7108669877052307,
          0.7253999710083008,
          0.8056357502937317,
          0.8386881947517395,
          0.8619832396507263,
          0.8703534007072449,
          0.9019795656204224,
          0.9085923433303832,
          0.9124155044555664,
          0.920562982559204,
          0.9354971647262572,
          0.9366219639778136,
          0.938056707382202,
          0.941224217414856,
          0.9414558410644532,
          0.951740562915802,
          0.9778998494148254,
          0.9803254008293152,
          0.9882200956344604
         ]
        },
        {
         "colorscale": [
          [
           0,
           "#440154"
          ],
          [
           0.1111111111111111,
           "#482878"
          ],
          [
           0.2222222222222222,
           "#3e4989"
          ],
          [
           0.3333333333333333,
           "#31688e"
          ],
          [
           0.4444444444444444,
           "#26828e"
          ],
          [
           0.5555555555555556,
           "#1f9e89"
          ],
          [
           0.6666666666666666,
           "#35b779"
          ],
          [
           0.7777777777777778,
           "#6ece58"
          ],
          [
           0.8888888888888888,
           "#b5de2b"
          ],
          [
           1,
           "#fde725"
          ]
         ],
         "type": "heatmap",
         "x": [
          "None",
          true,
          true,
          true,
          "None",
          true,
          "None",
          "None",
          false,
          false,
          true,
          false,
          "None",
          true,
          false,
          true,
          "None",
          false,
          true,
          "None",
          true,
          false,
          false,
          true,
          "None",
          "None",
          "None",
          true,
          true,
          true,
          true
         ],
         "xaxis": "x17",
         "y": [
          "None",
          true,
          true,
          true,
          "None",
          true,
          "None",
          "None",
          false,
          false,
          true,
          false,
          "None",
          true,
          false,
          true,
          "None",
          false,
          true,
          "None",
          true,
          false,
          false,
          true,
          "None",
          "None",
          "None",
          true,
          true,
          true,
          true
         ],
         "yaxis": "y17",
         "z": [
          0.1519712805747985,
          0.2104188352823257,
          0.2307580709457397,
          0.2525908648967743,
          0.2678727805614471,
          0.2904145419597626,
          0.384754329919815,
          0.4516955316066742,
          0.5957207083702087,
          0.6612871885299683,
          0.6737052798271179,
          0.6764938235282898,
          0.7108669877052307,
          0.7253999710083008,
          0.8056357502937317,
          0.8386881947517395,
          0.8619832396507263,
          0.8703534007072449,
          0.9019795656204224,
          0.9085923433303832,
          0.9124155044555664,
          0.920562982559204,
          0.9354971647262572,
          0.9366219639778136,
          0.938056707382202,
          0.941224217414856,
          0.9414558410644532,
          0.951740562915802,
          0.9778998494148254,
          0.9803254008293152,
          0.9882200956344604
         ]
        },
        {
         "colorscale": [
          [
           0,
           "#440154"
          ],
          [
           0.1111111111111111,
           "#482878"
          ],
          [
           0.2222222222222222,
           "#3e4989"
          ],
          [
           0.3333333333333333,
           "#31688e"
          ],
          [
           0.4444444444444444,
           "#26828e"
          ],
          [
           0.5555555555555556,
           "#1f9e89"
          ],
          [
           0.6666666666666666,
           "#35b779"
          ],
          [
           0.7777777777777778,
           "#6ece58"
          ],
          [
           0.8888888888888888,
           "#b5de2b"
          ],
          [
           1,
           "#fde725"
          ]
         ],
         "type": "heatmap",
         "x": [
          "None",
          true,
          true,
          true,
          "None",
          true,
          "None",
          "None",
          false,
          false,
          true,
          false,
          "None",
          true,
          false,
          true,
          "None",
          false,
          true,
          "None",
          true,
          false,
          false,
          true,
          "None",
          "None",
          "None",
          true,
          true,
          true,
          true
         ],
         "xaxis": "x18",
         "y": [
          false,
          false,
          false,
          false,
          false,
          false,
          false,
          true,
          true,
          false,
          true,
          true,
          true,
          true,
          true,
          true,
          true,
          true,
          true,
          true,
          true,
          true,
          true,
          true,
          true,
          true,
          true,
          true,
          true,
          true,
          true
         ],
         "yaxis": "y18",
         "z": [
          0.1519712805747985,
          0.2104188352823257,
          0.2307580709457397,
          0.2525908648967743,
          0.2678727805614471,
          0.2904145419597626,
          0.384754329919815,
          0.4516955316066742,
          0.5957207083702087,
          0.6612871885299683,
          0.6737052798271179,
          0.6764938235282898,
          0.7108669877052307,
          0.7253999710083008,
          0.8056357502937317,
          0.8386881947517395,
          0.8619832396507263,
          0.8703534007072449,
          0.9019795656204224,
          0.9085923433303832,
          0.9124155044555664,
          0.920562982559204,
          0.9354971647262572,
          0.9366219639778136,
          0.938056707382202,
          0.941224217414856,
          0.9414558410644532,
          0.951740562915802,
          0.9778998494148254,
          0.9803254008293152,
          0.9882200956344604
         ]
        },
        {
         "colorscale": [
          [
           0,
           "#440154"
          ],
          [
           0.1111111111111111,
           "#482878"
          ],
          [
           0.2222222222222222,
           "#3e4989"
          ],
          [
           0.3333333333333333,
           "#31688e"
          ],
          [
           0.4444444444444444,
           "#26828e"
          ],
          [
           0.5555555555555556,
           "#1f9e89"
          ],
          [
           0.6666666666666666,
           "#35b779"
          ],
          [
           0.7777777777777778,
           "#6ece58"
          ],
          [
           0.8888888888888888,
           "#b5de2b"
          ],
          [
           1,
           "#fde725"
          ]
         ],
         "type": "heatmap",
         "x": [
          "None",
          true,
          true,
          true,
          "None",
          true,
          "None",
          "None",
          false,
          false,
          true,
          false,
          "None",
          true,
          false,
          true,
          "None",
          false,
          true,
          "None",
          true,
          false,
          false,
          true,
          "None",
          "None",
          "None",
          true,
          true,
          true,
          true
         ],
         "xaxis": "x19",
         "y": [
          "None",
          "poly6",
          "gaussian",
          "gaussian",
          "poly6",
          "gaussian",
          "None",
          "None",
          "poly6",
          "None",
          "poly6",
          "poly6",
          "None",
          "gaussian",
          "None",
          "poly6",
          "None",
          "None",
          "gaussian",
          "poly6",
          "poly6",
          "poly6",
          "None",
          "gaussian",
          "poly6",
          "None",
          "poly6",
          "poly6",
          "poly6",
          "gaussian",
          "gaussian"
         ],
         "yaxis": "y19",
         "z": [
          0.1519712805747985,
          0.2104188352823257,
          0.2307580709457397,
          0.2525908648967743,
          0.2678727805614471,
          0.2904145419597626,
          0.384754329919815,
          0.4516955316066742,
          0.5957207083702087,
          0.6612871885299683,
          0.6737052798271179,
          0.6764938235282898,
          0.7108669877052307,
          0.7253999710083008,
          0.8056357502937317,
          0.8386881947517395,
          0.8619832396507263,
          0.8703534007072449,
          0.9019795656204224,
          0.9085923433303832,
          0.9124155044555664,
          0.920562982559204,
          0.9354971647262572,
          0.9366219639778136,
          0.938056707382202,
          0.941224217414856,
          0.9414558410644532,
          0.951740562915802,
          0.9778998494148254,
          0.9803254008293152,
          0.9882200956344604
         ]
        },
        {
         "colorscale": [
          [
           0,
           "#440154"
          ],
          [
           0.1111111111111111,
           "#482878"
          ],
          [
           0.2222222222222222,
           "#3e4989"
          ],
          [
           0.3333333333333333,
           "#31688e"
          ],
          [
           0.4444444444444444,
           "#26828e"
          ],
          [
           0.5555555555555556,
           "#1f9e89"
          ],
          [
           0.6666666666666666,
           "#35b779"
          ],
          [
           0.7777777777777778,
           "#6ece58"
          ],
          [
           0.8888888888888888,
           "#b5de2b"
          ],
          [
           1,
           "#fde725"
          ]
         ],
         "type": "heatmap",
         "x": [
          "None",
          true,
          true,
          true,
          "None",
          true,
          "None",
          "None",
          false,
          false,
          true,
          false,
          "None",
          true,
          false,
          true,
          "None",
          false,
          true,
          "None",
          true,
          false,
          false,
          true,
          "None",
          "None",
          "None",
          true,
          true,
          true,
          true
         ],
         "xaxis": "x20",
         "y": [
          true,
          true,
          true,
          false,
          false,
          false,
          false,
          true,
          true,
          true,
          false,
          false,
          false,
          true,
          false,
          true,
          false,
          false,
          true,
          true,
          true,
          false,
          false,
          false,
          false,
          false,
          true,
          true,
          true,
          false,
          true
         ],
         "yaxis": "y20",
         "z": [
          0.1519712805747985,
          0.2104188352823257,
          0.2307580709457397,
          0.2525908648967743,
          0.2678727805614471,
          0.2904145419597626,
          0.384754329919815,
          0.4516955316066742,
          0.5957207083702087,
          0.6612871885299683,
          0.6737052798271179,
          0.6764938235282898,
          0.7108669877052307,
          0.7253999710083008,
          0.8056357502937317,
          0.8386881947517395,
          0.8619832396507263,
          0.8703534007072449,
          0.9019795656204224,
          0.9085923433303832,
          0.9124155044555664,
          0.920562982559204,
          0.9354971647262572,
          0.9366219639778136,
          0.938056707382202,
          0.941224217414856,
          0.9414558410644532,
          0.951740562915802,
          0.9778998494148254,
          0.9803254008293152,
          0.9882200956344604
         ]
        },
        {
         "colorscale": [
          [
           0,
           "#440154"
          ],
          [
           0.1111111111111111,
           "#482878"
          ],
          [
           0.2222222222222222,
           "#3e4989"
          ],
          [
           0.3333333333333333,
           "#31688e"
          ],
          [
           0.4444444444444444,
           "#26828e"
          ],
          [
           0.5555555555555556,
           "#1f9e89"
          ],
          [
           0.6666666666666666,
           "#35b779"
          ],
          [
           0.7777777777777778,
           "#6ece58"
          ],
          [
           0.8888888888888888,
           "#b5de2b"
          ],
          [
           1,
           "#fde725"
          ]
         ],
         "type": "heatmap",
         "x": [
          "None",
          true,
          true,
          true,
          "None",
          true,
          "None",
          "None",
          false,
          false,
          true,
          false,
          "None",
          true,
          false,
          true,
          "None",
          false,
          true,
          "None",
          true,
          false,
          false,
          true,
          "None",
          "None",
          "None",
          true,
          true,
          true,
          true
         ],
         "xaxis": "x21",
         "y": [
          true,
          true,
          false,
          false,
          true,
          false,
          true,
          true,
          false,
          true,
          true,
          true,
          true,
          false,
          false,
          true,
          true,
          true,
          false,
          false,
          false,
          true,
          false,
          false,
          false,
          true,
          true,
          true,
          true,
          true,
          true
         ],
         "yaxis": "y21",
         "z": [
          0.1519712805747985,
          0.2104188352823257,
          0.2307580709457397,
          0.2525908648967743,
          0.2678727805614471,
          0.2904145419597626,
          0.384754329919815,
          0.4516955316066742,
          0.5957207083702087,
          0.6612871885299683,
          0.6737052798271179,
          0.6764938235282898,
          0.7108669877052307,
          0.7253999710083008,
          0.8056357502937317,
          0.8386881947517395,
          0.8619832396507263,
          0.8703534007072449,
          0.9019795656204224,
          0.9085923433303832,
          0.9124155044555664,
          0.920562982559204,
          0.9354971647262572,
          0.9366219639778136,
          0.938056707382202,
          0.941224217414856,
          0.9414558410644532,
          0.951740562915802,
          0.9778998494148254,
          0.9803254008293152,
          0.9882200956344604
         ]
        },
        {
         "colorscale": [
          [
           0,
           "#440154"
          ],
          [
           0.1111111111111111,
           "#482878"
          ],
          [
           0.2222222222222222,
           "#3e4989"
          ],
          [
           0.3333333333333333,
           "#31688e"
          ],
          [
           0.4444444444444444,
           "#26828e"
          ],
          [
           0.5555555555555556,
           "#1f9e89"
          ],
          [
           0.6666666666666666,
           "#35b779"
          ],
          [
           0.7777777777777778,
           "#6ece58"
          ],
          [
           0.8888888888888888,
           "#b5de2b"
          ],
          [
           1,
           "#fde725"
          ]
         ],
         "type": "heatmap",
         "x": [
          false,
          false,
          false,
          false,
          false,
          false,
          false,
          true,
          true,
          false,
          true,
          true,
          true,
          true,
          true,
          true,
          true,
          true,
          true,
          true,
          true,
          true,
          true,
          true,
          true,
          true,
          true,
          true,
          true,
          true,
          true
         ],
         "xaxis": "x22",
         "y": [
          "GeLU",
          "GeLU",
          "leaky_relu",
          "tanh",
          "GeLU",
          "tanh",
          "relu",
          "GeLU",
          "GeLU",
          "relu",
          "relu",
          "tanh",
          "relu",
          "leaky_relu",
          "leaky_relu",
          "relu",
          "GeLU",
          "tanh",
          "GeLU",
          "relu",
          "GeLU",
          "relu",
          "GeLU",
          "leaky_relu",
          "relu",
          "GeLU",
          "GeLU",
          "leaky_relu",
          "tanh",
          "relu",
          "leaky_relu"
         ],
         "yaxis": "y22",
         "z": [
          0.1519712805747985,
          0.2104188352823257,
          0.2307580709457397,
          0.2525908648967743,
          0.2678727805614471,
          0.2904145419597626,
          0.384754329919815,
          0.4516955316066742,
          0.5957207083702087,
          0.6612871885299683,
          0.6737052798271179,
          0.6764938235282898,
          0.7108669877052307,
          0.7253999710083008,
          0.8056357502937317,
          0.8386881947517395,
          0.8619832396507263,
          0.8703534007072449,
          0.9019795656204224,
          0.9085923433303832,
          0.9124155044555664,
          0.920562982559204,
          0.9354971647262572,
          0.9366219639778136,
          0.938056707382202,
          0.941224217414856,
          0.9414558410644532,
          0.951740562915802,
          0.9778998494148254,
          0.9803254008293152,
          0.9882200956344604
         ]
        },
        {
         "colorscale": [
          [
           0,
           "#440154"
          ],
          [
           0.1111111111111111,
           "#482878"
          ],
          [
           0.2222222222222222,
           "#3e4989"
          ],
          [
           0.3333333333333333,
           "#31688e"
          ],
          [
           0.4444444444444444,
           "#26828e"
          ],
          [
           0.5555555555555556,
           "#1f9e89"
          ],
          [
           0.6666666666666666,
           "#35b779"
          ],
          [
           0.7777777777777778,
           "#6ece58"
          ],
          [
           0.8888888888888888,
           "#b5de2b"
          ],
          [
           1,
           "#fde725"
          ]
         ],
         "type": "heatmap",
         "x": [
          false,
          false,
          false,
          false,
          false,
          false,
          false,
          true,
          true,
          false,
          true,
          true,
          true,
          true,
          true,
          true,
          true,
          true,
          true,
          true,
          true,
          true,
          true,
          true,
          true,
          true,
          true,
          true,
          true,
          true,
          true
         ],
         "xaxis": "x23",
         "y": [
          true,
          true,
          false,
          false,
          true,
          true,
          false,
          false,
          false,
          false,
          false,
          false,
          true,
          false,
          true,
          true,
          false,
          true,
          false,
          false,
          false,
          false,
          false,
          false,
          true,
          false,
          true,
          true,
          false,
          true,
          false
         ],
         "yaxis": "y23",
         "z": [
          0.1519712805747985,
          0.2104188352823257,
          0.2307580709457397,
          0.2525908648967743,
          0.2678727805614471,
          0.2904145419597626,
          0.384754329919815,
          0.4516955316066742,
          0.5957207083702087,
          0.6612871885299683,
          0.6737052798271179,
          0.6764938235282898,
          0.7108669877052307,
          0.7253999710083008,
          0.8056357502937317,
          0.8386881947517395,
          0.8619832396507263,
          0.8703534007072449,
          0.9019795656204224,
          0.9085923433303832,
          0.9124155044555664,
          0.920562982559204,
          0.9354971647262572,
          0.9366219639778136,
          0.938056707382202,
          0.941224217414856,
          0.9414558410644532,
          0.951740562915802,
          0.9778998494148254,
          0.9803254008293152,
          0.9882200956344604
         ]
        },
        {
         "colorscale": [
          [
           0,
           "#440154"
          ],
          [
           0.1111111111111111,
           "#482878"
          ],
          [
           0.2222222222222222,
           "#3e4989"
          ],
          [
           0.3333333333333333,
           "#31688e"
          ],
          [
           0.4444444444444444,
           "#26828e"
          ],
          [
           0.5555555555555556,
           "#1f9e89"
          ],
          [
           0.6666666666666666,
           "#35b779"
          ],
          [
           0.7777777777777778,
           "#6ece58"
          ],
          [
           0.8888888888888888,
           "#b5de2b"
          ],
          [
           1,
           "#fde725"
          ]
         ],
         "type": "heatmap",
         "x": [
          false,
          false,
          false,
          false,
          false,
          false,
          false,
          true,
          true,
          false,
          true,
          true,
          true,
          true,
          true,
          true,
          true,
          true,
          true,
          true,
          true,
          true,
          true,
          true,
          true,
          true,
          true,
          true,
          true,
          true,
          true
         ],
         "xaxis": "x24",
         "y": [
          "None",
          true,
          true,
          true,
          "None",
          true,
          "None",
          "None",
          false,
          false,
          true,
          false,
          "None",
          true,
          false,
          true,
          "None",
          false,
          true,
          "None",
          true,
          false,
          false,
          true,
          "None",
          "None",
          "None",
          true,
          true,
          true,
          true
         ],
         "yaxis": "y24",
         "z": [
          0.1519712805747985,
          0.2104188352823257,
          0.2307580709457397,
          0.2525908648967743,
          0.2678727805614471,
          0.2904145419597626,
          0.384754329919815,
          0.4516955316066742,
          0.5957207083702087,
          0.6612871885299683,
          0.6737052798271179,
          0.6764938235282898,
          0.7108669877052307,
          0.7253999710083008,
          0.8056357502937317,
          0.8386881947517395,
          0.8619832396507263,
          0.8703534007072449,
          0.9019795656204224,
          0.9085923433303832,
          0.9124155044555664,
          0.920562982559204,
          0.9354971647262572,
          0.9366219639778136,
          0.938056707382202,
          0.941224217414856,
          0.9414558410644532,
          0.951740562915802,
          0.9778998494148254,
          0.9803254008293152,
          0.9882200956344604
         ]
        },
        {
         "colorscale": [
          [
           0,
           "#440154"
          ],
          [
           0.1111111111111111,
           "#482878"
          ],
          [
           0.2222222222222222,
           "#3e4989"
          ],
          [
           0.3333333333333333,
           "#31688e"
          ],
          [
           0.4444444444444444,
           "#26828e"
          ],
          [
           0.5555555555555556,
           "#1f9e89"
          ],
          [
           0.6666666666666666,
           "#35b779"
          ],
          [
           0.7777777777777778,
           "#6ece58"
          ],
          [
           0.8888888888888888,
           "#b5de2b"
          ],
          [
           1,
           "#fde725"
          ]
         ],
         "type": "heatmap",
         "x": [
          false,
          false,
          false,
          false,
          false,
          false,
          false,
          true,
          true,
          false,
          true,
          true,
          true,
          true,
          true,
          true,
          true,
          true,
          true,
          true,
          true,
          true,
          true,
          true,
          true,
          true,
          true,
          true,
          true,
          true,
          true
         ],
         "xaxis": "x25",
         "y": [
          false,
          false,
          false,
          false,
          false,
          false,
          false,
          true,
          true,
          false,
          true,
          true,
          true,
          true,
          true,
          true,
          true,
          true,
          true,
          true,
          true,
          true,
          true,
          true,
          true,
          true,
          true,
          true,
          true,
          true,
          true
         ],
         "yaxis": "y25",
         "z": [
          0.1519712805747985,
          0.2104188352823257,
          0.2307580709457397,
          0.2525908648967743,
          0.2678727805614471,
          0.2904145419597626,
          0.384754329919815,
          0.4516955316066742,
          0.5957207083702087,
          0.6612871885299683,
          0.6737052798271179,
          0.6764938235282898,
          0.7108669877052307,
          0.7253999710083008,
          0.8056357502937317,
          0.8386881947517395,
          0.8619832396507263,
          0.8703534007072449,
          0.9019795656204224,
          0.9085923433303832,
          0.9124155044555664,
          0.920562982559204,
          0.9354971647262572,
          0.9366219639778136,
          0.938056707382202,
          0.941224217414856,
          0.9414558410644532,
          0.951740562915802,
          0.9778998494148254,
          0.9803254008293152,
          0.9882200956344604
         ]
        },
        {
         "colorscale": [
          [
           0,
           "#440154"
          ],
          [
           0.1111111111111111,
           "#482878"
          ],
          [
           0.2222222222222222,
           "#3e4989"
          ],
          [
           0.3333333333333333,
           "#31688e"
          ],
          [
           0.4444444444444444,
           "#26828e"
          ],
          [
           0.5555555555555556,
           "#1f9e89"
          ],
          [
           0.6666666666666666,
           "#35b779"
          ],
          [
           0.7777777777777778,
           "#6ece58"
          ],
          [
           0.8888888888888888,
           "#b5de2b"
          ],
          [
           1,
           "#fde725"
          ]
         ],
         "type": "heatmap",
         "x": [
          false,
          false,
          false,
          false,
          false,
          false,
          false,
          true,
          true,
          false,
          true,
          true,
          true,
          true,
          true,
          true,
          true,
          true,
          true,
          true,
          true,
          true,
          true,
          true,
          true,
          true,
          true,
          true,
          true,
          true,
          true
         ],
         "xaxis": "x26",
         "y": [
          "None",
          "poly6",
          "gaussian",
          "gaussian",
          "poly6",
          "gaussian",
          "None",
          "None",
          "poly6",
          "None",
          "poly6",
          "poly6",
          "None",
          "gaussian",
          "None",
          "poly6",
          "None",
          "None",
          "gaussian",
          "poly6",
          "poly6",
          "poly6",
          "None",
          "gaussian",
          "poly6",
          "None",
          "poly6",
          "poly6",
          "poly6",
          "gaussian",
          "gaussian"
         ],
         "yaxis": "y26",
         "z": [
          0.1519712805747985,
          0.2104188352823257,
          0.2307580709457397,
          0.2525908648967743,
          0.2678727805614471,
          0.2904145419597626,
          0.384754329919815,
          0.4516955316066742,
          0.5957207083702087,
          0.6612871885299683,
          0.6737052798271179,
          0.6764938235282898,
          0.7108669877052307,
          0.7253999710083008,
          0.8056357502937317,
          0.8386881947517395,
          0.8619832396507263,
          0.8703534007072449,
          0.9019795656204224,
          0.9085923433303832,
          0.9124155044555664,
          0.920562982559204,
          0.9354971647262572,
          0.9366219639778136,
          0.938056707382202,
          0.941224217414856,
          0.9414558410644532,
          0.951740562915802,
          0.9778998494148254,
          0.9803254008293152,
          0.9882200956344604
         ]
        },
        {
         "colorscale": [
          [
           0,
           "#440154"
          ],
          [
           0.1111111111111111,
           "#482878"
          ],
          [
           0.2222222222222222,
           "#3e4989"
          ],
          [
           0.3333333333333333,
           "#31688e"
          ],
          [
           0.4444444444444444,
           "#26828e"
          ],
          [
           0.5555555555555556,
           "#1f9e89"
          ],
          [
           0.6666666666666666,
           "#35b779"
          ],
          [
           0.7777777777777778,
           "#6ece58"
          ],
          [
           0.8888888888888888,
           "#b5de2b"
          ],
          [
           1,
           "#fde725"
          ]
         ],
         "type": "heatmap",
         "x": [
          false,
          false,
          false,
          false,
          false,
          false,
          false,
          true,
          true,
          false,
          true,
          true,
          true,
          true,
          true,
          true,
          true,
          true,
          true,
          true,
          true,
          true,
          true,
          true,
          true,
          true,
          true,
          true,
          true,
          true,
          true
         ],
         "xaxis": "x27",
         "y": [
          true,
          true,
          true,
          false,
          false,
          false,
          false,
          true,
          true,
          true,
          false,
          false,
          false,
          true,
          false,
          true,
          false,
          false,
          true,
          true,
          true,
          false,
          false,
          false,
          false,
          false,
          true,
          true,
          true,
          false,
          true
         ],
         "yaxis": "y27",
         "z": [
          0.1519712805747985,
          0.2104188352823257,
          0.2307580709457397,
          0.2525908648967743,
          0.2678727805614471,
          0.2904145419597626,
          0.384754329919815,
          0.4516955316066742,
          0.5957207083702087,
          0.6612871885299683,
          0.6737052798271179,
          0.6764938235282898,
          0.7108669877052307,
          0.7253999710083008,
          0.8056357502937317,
          0.8386881947517395,
          0.8619832396507263,
          0.8703534007072449,
          0.9019795656204224,
          0.9085923433303832,
          0.9124155044555664,
          0.920562982559204,
          0.9354971647262572,
          0.9366219639778136,
          0.938056707382202,
          0.941224217414856,
          0.9414558410644532,
          0.951740562915802,
          0.9778998494148254,
          0.9803254008293152,
          0.9882200956344604
         ]
        },
        {
         "colorscale": [
          [
           0,
           "#440154"
          ],
          [
           0.1111111111111111,
           "#482878"
          ],
          [
           0.2222222222222222,
           "#3e4989"
          ],
          [
           0.3333333333333333,
           "#31688e"
          ],
          [
           0.4444444444444444,
           "#26828e"
          ],
          [
           0.5555555555555556,
           "#1f9e89"
          ],
          [
           0.6666666666666666,
           "#35b779"
          ],
          [
           0.7777777777777778,
           "#6ece58"
          ],
          [
           0.8888888888888888,
           "#b5de2b"
          ],
          [
           1,
           "#fde725"
          ]
         ],
         "type": "heatmap",
         "x": [
          false,
          false,
          false,
          false,
          false,
          false,
          false,
          true,
          true,
          false,
          true,
          true,
          true,
          true,
          true,
          true,
          true,
          true,
          true,
          true,
          true,
          true,
          true,
          true,
          true,
          true,
          true,
          true,
          true,
          true,
          true
         ],
         "xaxis": "x28",
         "y": [
          true,
          true,
          false,
          false,
          true,
          false,
          true,
          true,
          false,
          true,
          true,
          true,
          true,
          false,
          false,
          true,
          true,
          true,
          false,
          false,
          false,
          true,
          false,
          false,
          false,
          true,
          true,
          true,
          true,
          true,
          true
         ],
         "yaxis": "y28",
         "z": [
          0.1519712805747985,
          0.2104188352823257,
          0.2307580709457397,
          0.2525908648967743,
          0.2678727805614471,
          0.2904145419597626,
          0.384754329919815,
          0.4516955316066742,
          0.5957207083702087,
          0.6612871885299683,
          0.6737052798271179,
          0.6764938235282898,
          0.7108669877052307,
          0.7253999710083008,
          0.8056357502937317,
          0.8386881947517395,
          0.8619832396507263,
          0.8703534007072449,
          0.9019795656204224,
          0.9085923433303832,
          0.9124155044555664,
          0.920562982559204,
          0.9354971647262572,
          0.9366219639778136,
          0.938056707382202,
          0.941224217414856,
          0.9414558410644532,
          0.951740562915802,
          0.9778998494148254,
          0.9803254008293152,
          0.9882200956344604
         ]
        },
        {
         "colorscale": [
          [
           0,
           "#440154"
          ],
          [
           0.1111111111111111,
           "#482878"
          ],
          [
           0.2222222222222222,
           "#3e4989"
          ],
          [
           0.3333333333333333,
           "#31688e"
          ],
          [
           0.4444444444444444,
           "#26828e"
          ],
          [
           0.5555555555555556,
           "#1f9e89"
          ],
          [
           0.6666666666666666,
           "#35b779"
          ],
          [
           0.7777777777777778,
           "#6ece58"
          ],
          [
           0.8888888888888888,
           "#b5de2b"
          ],
          [
           1,
           "#fde725"
          ]
         ],
         "type": "heatmap",
         "x": [
          "None",
          "poly6",
          "gaussian",
          "gaussian",
          "poly6",
          "gaussian",
          "None",
          "None",
          "poly6",
          "None",
          "poly6",
          "poly6",
          "None",
          "gaussian",
          "None",
          "poly6",
          "None",
          "None",
          "gaussian",
          "poly6",
          "poly6",
          "poly6",
          "None",
          "gaussian",
          "poly6",
          "None",
          "poly6",
          "poly6",
          "poly6",
          "gaussian",
          "gaussian"
         ],
         "xaxis": "x29",
         "y": [
          "GeLU",
          "GeLU",
          "leaky_relu",
          "tanh",
          "GeLU",
          "tanh",
          "relu",
          "GeLU",
          "GeLU",
          "relu",
          "relu",
          "tanh",
          "relu",
          "leaky_relu",
          "leaky_relu",
          "relu",
          "GeLU",
          "tanh",
          "GeLU",
          "relu",
          "GeLU",
          "relu",
          "GeLU",
          "leaky_relu",
          "relu",
          "GeLU",
          "GeLU",
          "leaky_relu",
          "tanh",
          "relu",
          "leaky_relu"
         ],
         "yaxis": "y29",
         "z": [
          0.1519712805747985,
          0.2104188352823257,
          0.2307580709457397,
          0.2525908648967743,
          0.2678727805614471,
          0.2904145419597626,
          0.384754329919815,
          0.4516955316066742,
          0.5957207083702087,
          0.6612871885299683,
          0.6737052798271179,
          0.6764938235282898,
          0.7108669877052307,
          0.7253999710083008,
          0.8056357502937317,
          0.8386881947517395,
          0.8619832396507263,
          0.8703534007072449,
          0.9019795656204224,
          0.9085923433303832,
          0.9124155044555664,
          0.920562982559204,
          0.9354971647262572,
          0.9366219639778136,
          0.938056707382202,
          0.941224217414856,
          0.9414558410644532,
          0.951740562915802,
          0.9778998494148254,
          0.9803254008293152,
          0.9882200956344604
         ]
        },
        {
         "colorscale": [
          [
           0,
           "#440154"
          ],
          [
           0.1111111111111111,
           "#482878"
          ],
          [
           0.2222222222222222,
           "#3e4989"
          ],
          [
           0.3333333333333333,
           "#31688e"
          ],
          [
           0.4444444444444444,
           "#26828e"
          ],
          [
           0.5555555555555556,
           "#1f9e89"
          ],
          [
           0.6666666666666666,
           "#35b779"
          ],
          [
           0.7777777777777778,
           "#6ece58"
          ],
          [
           0.8888888888888888,
           "#b5de2b"
          ],
          [
           1,
           "#fde725"
          ]
         ],
         "type": "heatmap",
         "x": [
          "None",
          "poly6",
          "gaussian",
          "gaussian",
          "poly6",
          "gaussian",
          "None",
          "None",
          "poly6",
          "None",
          "poly6",
          "poly6",
          "None",
          "gaussian",
          "None",
          "poly6",
          "None",
          "None",
          "gaussian",
          "poly6",
          "poly6",
          "poly6",
          "None",
          "gaussian",
          "poly6",
          "None",
          "poly6",
          "poly6",
          "poly6",
          "gaussian",
          "gaussian"
         ],
         "xaxis": "x30",
         "y": [
          true,
          true,
          false,
          false,
          true,
          true,
          false,
          false,
          false,
          false,
          false,
          false,
          true,
          false,
          true,
          true,
          false,
          true,
          false,
          false,
          false,
          false,
          false,
          false,
          true,
          false,
          true,
          true,
          false,
          true,
          false
         ],
         "yaxis": "y30",
         "z": [
          0.1519712805747985,
          0.2104188352823257,
          0.2307580709457397,
          0.2525908648967743,
          0.2678727805614471,
          0.2904145419597626,
          0.384754329919815,
          0.4516955316066742,
          0.5957207083702087,
          0.6612871885299683,
          0.6737052798271179,
          0.6764938235282898,
          0.7108669877052307,
          0.7253999710083008,
          0.8056357502937317,
          0.8386881947517395,
          0.8619832396507263,
          0.8703534007072449,
          0.9019795656204224,
          0.9085923433303832,
          0.9124155044555664,
          0.920562982559204,
          0.9354971647262572,
          0.9366219639778136,
          0.938056707382202,
          0.941224217414856,
          0.9414558410644532,
          0.951740562915802,
          0.9778998494148254,
          0.9803254008293152,
          0.9882200956344604
         ]
        },
        {
         "colorscale": [
          [
           0,
           "#440154"
          ],
          [
           0.1111111111111111,
           "#482878"
          ],
          [
           0.2222222222222222,
           "#3e4989"
          ],
          [
           0.3333333333333333,
           "#31688e"
          ],
          [
           0.4444444444444444,
           "#26828e"
          ],
          [
           0.5555555555555556,
           "#1f9e89"
          ],
          [
           0.6666666666666666,
           "#35b779"
          ],
          [
           0.7777777777777778,
           "#6ece58"
          ],
          [
           0.8888888888888888,
           "#b5de2b"
          ],
          [
           1,
           "#fde725"
          ]
         ],
         "type": "heatmap",
         "x": [
          "None",
          "poly6",
          "gaussian",
          "gaussian",
          "poly6",
          "gaussian",
          "None",
          "None",
          "poly6",
          "None",
          "poly6",
          "poly6",
          "None",
          "gaussian",
          "None",
          "poly6",
          "None",
          "None",
          "gaussian",
          "poly6",
          "poly6",
          "poly6",
          "None",
          "gaussian",
          "poly6",
          "None",
          "poly6",
          "poly6",
          "poly6",
          "gaussian",
          "gaussian"
         ],
         "xaxis": "x31",
         "y": [
          "None",
          true,
          true,
          true,
          "None",
          true,
          "None",
          "None",
          false,
          false,
          true,
          false,
          "None",
          true,
          false,
          true,
          "None",
          false,
          true,
          "None",
          true,
          false,
          false,
          true,
          "None",
          "None",
          "None",
          true,
          true,
          true,
          true
         ],
         "yaxis": "y31",
         "z": [
          0.1519712805747985,
          0.2104188352823257,
          0.2307580709457397,
          0.2525908648967743,
          0.2678727805614471,
          0.2904145419597626,
          0.384754329919815,
          0.4516955316066742,
          0.5957207083702087,
          0.6612871885299683,
          0.6737052798271179,
          0.6764938235282898,
          0.7108669877052307,
          0.7253999710083008,
          0.8056357502937317,
          0.8386881947517395,
          0.8619832396507263,
          0.8703534007072449,
          0.9019795656204224,
          0.9085923433303832,
          0.9124155044555664,
          0.920562982559204,
          0.9354971647262572,
          0.9366219639778136,
          0.938056707382202,
          0.941224217414856,
          0.9414558410644532,
          0.951740562915802,
          0.9778998494148254,
          0.9803254008293152,
          0.9882200956344604
         ]
        },
        {
         "colorscale": [
          [
           0,
           "#440154"
          ],
          [
           0.1111111111111111,
           "#482878"
          ],
          [
           0.2222222222222222,
           "#3e4989"
          ],
          [
           0.3333333333333333,
           "#31688e"
          ],
          [
           0.4444444444444444,
           "#26828e"
          ],
          [
           0.5555555555555556,
           "#1f9e89"
          ],
          [
           0.6666666666666666,
           "#35b779"
          ],
          [
           0.7777777777777778,
           "#6ece58"
          ],
          [
           0.8888888888888888,
           "#b5de2b"
          ],
          [
           1,
           "#fde725"
          ]
         ],
         "type": "heatmap",
         "x": [
          "None",
          "poly6",
          "gaussian",
          "gaussian",
          "poly6",
          "gaussian",
          "None",
          "None",
          "poly6",
          "None",
          "poly6",
          "poly6",
          "None",
          "gaussian",
          "None",
          "poly6",
          "None",
          "None",
          "gaussian",
          "poly6",
          "poly6",
          "poly6",
          "None",
          "gaussian",
          "poly6",
          "None",
          "poly6",
          "poly6",
          "poly6",
          "gaussian",
          "gaussian"
         ],
         "xaxis": "x32",
         "y": [
          false,
          false,
          false,
          false,
          false,
          false,
          false,
          true,
          true,
          false,
          true,
          true,
          true,
          true,
          true,
          true,
          true,
          true,
          true,
          true,
          true,
          true,
          true,
          true,
          true,
          true,
          true,
          true,
          true,
          true,
          true
         ],
         "yaxis": "y32",
         "z": [
          0.1519712805747985,
          0.2104188352823257,
          0.2307580709457397,
          0.2525908648967743,
          0.2678727805614471,
          0.2904145419597626,
          0.384754329919815,
          0.4516955316066742,
          0.5957207083702087,
          0.6612871885299683,
          0.6737052798271179,
          0.6764938235282898,
          0.7108669877052307,
          0.7253999710083008,
          0.8056357502937317,
          0.8386881947517395,
          0.8619832396507263,
          0.8703534007072449,
          0.9019795656204224,
          0.9085923433303832,
          0.9124155044555664,
          0.920562982559204,
          0.9354971647262572,
          0.9366219639778136,
          0.938056707382202,
          0.941224217414856,
          0.9414558410644532,
          0.951740562915802,
          0.9778998494148254,
          0.9803254008293152,
          0.9882200956344604
         ]
        },
        {
         "colorscale": [
          [
           0,
           "#440154"
          ],
          [
           0.1111111111111111,
           "#482878"
          ],
          [
           0.2222222222222222,
           "#3e4989"
          ],
          [
           0.3333333333333333,
           "#31688e"
          ],
          [
           0.4444444444444444,
           "#26828e"
          ],
          [
           0.5555555555555556,
           "#1f9e89"
          ],
          [
           0.6666666666666666,
           "#35b779"
          ],
          [
           0.7777777777777778,
           "#6ece58"
          ],
          [
           0.8888888888888888,
           "#b5de2b"
          ],
          [
           1,
           "#fde725"
          ]
         ],
         "type": "heatmap",
         "x": [
          "None",
          "poly6",
          "gaussian",
          "gaussian",
          "poly6",
          "gaussian",
          "None",
          "None",
          "poly6",
          "None",
          "poly6",
          "poly6",
          "None",
          "gaussian",
          "None",
          "poly6",
          "None",
          "None",
          "gaussian",
          "poly6",
          "poly6",
          "poly6",
          "None",
          "gaussian",
          "poly6",
          "None",
          "poly6",
          "poly6",
          "poly6",
          "gaussian",
          "gaussian"
         ],
         "xaxis": "x33",
         "y": [
          "None",
          "poly6",
          "gaussian",
          "gaussian",
          "poly6",
          "gaussian",
          "None",
          "None",
          "poly6",
          "None",
          "poly6",
          "poly6",
          "None",
          "gaussian",
          "None",
          "poly6",
          "None",
          "None",
          "gaussian",
          "poly6",
          "poly6",
          "poly6",
          "None",
          "gaussian",
          "poly6",
          "None",
          "poly6",
          "poly6",
          "poly6",
          "gaussian",
          "gaussian"
         ],
         "yaxis": "y33",
         "z": [
          0.1519712805747985,
          0.2104188352823257,
          0.2307580709457397,
          0.2525908648967743,
          0.2678727805614471,
          0.2904145419597626,
          0.384754329919815,
          0.4516955316066742,
          0.5957207083702087,
          0.6612871885299683,
          0.6737052798271179,
          0.6764938235282898,
          0.7108669877052307,
          0.7253999710083008,
          0.8056357502937317,
          0.8386881947517395,
          0.8619832396507263,
          0.8703534007072449,
          0.9019795656204224,
          0.9085923433303832,
          0.9124155044555664,
          0.920562982559204,
          0.9354971647262572,
          0.9366219639778136,
          0.938056707382202,
          0.941224217414856,
          0.9414558410644532,
          0.951740562915802,
          0.9778998494148254,
          0.9803254008293152,
          0.9882200956344604
         ]
        },
        {
         "colorscale": [
          [
           0,
           "#440154"
          ],
          [
           0.1111111111111111,
           "#482878"
          ],
          [
           0.2222222222222222,
           "#3e4989"
          ],
          [
           0.3333333333333333,
           "#31688e"
          ],
          [
           0.4444444444444444,
           "#26828e"
          ],
          [
           0.5555555555555556,
           "#1f9e89"
          ],
          [
           0.6666666666666666,
           "#35b779"
          ],
          [
           0.7777777777777778,
           "#6ece58"
          ],
          [
           0.8888888888888888,
           "#b5de2b"
          ],
          [
           1,
           "#fde725"
          ]
         ],
         "type": "heatmap",
         "x": [
          "None",
          "poly6",
          "gaussian",
          "gaussian",
          "poly6",
          "gaussian",
          "None",
          "None",
          "poly6",
          "None",
          "poly6",
          "poly6",
          "None",
          "gaussian",
          "None",
          "poly6",
          "None",
          "None",
          "gaussian",
          "poly6",
          "poly6",
          "poly6",
          "None",
          "gaussian",
          "poly6",
          "None",
          "poly6",
          "poly6",
          "poly6",
          "gaussian",
          "gaussian"
         ],
         "xaxis": "x34",
         "y": [
          true,
          true,
          true,
          false,
          false,
          false,
          false,
          true,
          true,
          true,
          false,
          false,
          false,
          true,
          false,
          true,
          false,
          false,
          true,
          true,
          true,
          false,
          false,
          false,
          false,
          false,
          true,
          true,
          true,
          false,
          true
         ],
         "yaxis": "y34",
         "z": [
          0.1519712805747985,
          0.2104188352823257,
          0.2307580709457397,
          0.2525908648967743,
          0.2678727805614471,
          0.2904145419597626,
          0.384754329919815,
          0.4516955316066742,
          0.5957207083702087,
          0.6612871885299683,
          0.6737052798271179,
          0.6764938235282898,
          0.7108669877052307,
          0.7253999710083008,
          0.8056357502937317,
          0.8386881947517395,
          0.8619832396507263,
          0.8703534007072449,
          0.9019795656204224,
          0.9085923433303832,
          0.9124155044555664,
          0.920562982559204,
          0.9354971647262572,
          0.9366219639778136,
          0.938056707382202,
          0.941224217414856,
          0.9414558410644532,
          0.951740562915802,
          0.9778998494148254,
          0.9803254008293152,
          0.9882200956344604
         ]
        },
        {
         "colorscale": [
          [
           0,
           "#440154"
          ],
          [
           0.1111111111111111,
           "#482878"
          ],
          [
           0.2222222222222222,
           "#3e4989"
          ],
          [
           0.3333333333333333,
           "#31688e"
          ],
          [
           0.4444444444444444,
           "#26828e"
          ],
          [
           0.5555555555555556,
           "#1f9e89"
          ],
          [
           0.6666666666666666,
           "#35b779"
          ],
          [
           0.7777777777777778,
           "#6ece58"
          ],
          [
           0.8888888888888888,
           "#b5de2b"
          ],
          [
           1,
           "#fde725"
          ]
         ],
         "type": "heatmap",
         "x": [
          "None",
          "poly6",
          "gaussian",
          "gaussian",
          "poly6",
          "gaussian",
          "None",
          "None",
          "poly6",
          "None",
          "poly6",
          "poly6",
          "None",
          "gaussian",
          "None",
          "poly6",
          "None",
          "None",
          "gaussian",
          "poly6",
          "poly6",
          "poly6",
          "None",
          "gaussian",
          "poly6",
          "None",
          "poly6",
          "poly6",
          "poly6",
          "gaussian",
          "gaussian"
         ],
         "xaxis": "x35",
         "y": [
          true,
          true,
          false,
          false,
          true,
          false,
          true,
          true,
          false,
          true,
          true,
          true,
          true,
          false,
          false,
          true,
          true,
          true,
          false,
          false,
          false,
          true,
          false,
          false,
          false,
          true,
          true,
          true,
          true,
          true,
          true
         ],
         "yaxis": "y35",
         "z": [
          0.1519712805747985,
          0.2104188352823257,
          0.2307580709457397,
          0.2525908648967743,
          0.2678727805614471,
          0.2904145419597626,
          0.384754329919815,
          0.4516955316066742,
          0.5957207083702087,
          0.6612871885299683,
          0.6737052798271179,
          0.6764938235282898,
          0.7108669877052307,
          0.7253999710083008,
          0.8056357502937317,
          0.8386881947517395,
          0.8619832396507263,
          0.8703534007072449,
          0.9019795656204224,
          0.9085923433303832,
          0.9124155044555664,
          0.920562982559204,
          0.9354971647262572,
          0.9366219639778136,
          0.938056707382202,
          0.941224217414856,
          0.9414558410644532,
          0.951740562915802,
          0.9778998494148254,
          0.9803254008293152,
          0.9882200956344604
         ]
        },
        {
         "colorscale": [
          [
           0,
           "#440154"
          ],
          [
           0.1111111111111111,
           "#482878"
          ],
          [
           0.2222222222222222,
           "#3e4989"
          ],
          [
           0.3333333333333333,
           "#31688e"
          ],
          [
           0.4444444444444444,
           "#26828e"
          ],
          [
           0.5555555555555556,
           "#1f9e89"
          ],
          [
           0.6666666666666666,
           "#35b779"
          ],
          [
           0.7777777777777778,
           "#6ece58"
          ],
          [
           0.8888888888888888,
           "#b5de2b"
          ],
          [
           1,
           "#fde725"
          ]
         ],
         "type": "heatmap",
         "x": [
          true,
          true,
          true,
          false,
          false,
          false,
          false,
          true,
          true,
          true,
          false,
          false,
          false,
          true,
          false,
          true,
          false,
          false,
          true,
          true,
          true,
          false,
          false,
          false,
          false,
          false,
          true,
          true,
          true,
          false,
          true
         ],
         "xaxis": "x36",
         "y": [
          "GeLU",
          "GeLU",
          "leaky_relu",
          "tanh",
          "GeLU",
          "tanh",
          "relu",
          "GeLU",
          "GeLU",
          "relu",
          "relu",
          "tanh",
          "relu",
          "leaky_relu",
          "leaky_relu",
          "relu",
          "GeLU",
          "tanh",
          "GeLU",
          "relu",
          "GeLU",
          "relu",
          "GeLU",
          "leaky_relu",
          "relu",
          "GeLU",
          "GeLU",
          "leaky_relu",
          "tanh",
          "relu",
          "leaky_relu"
         ],
         "yaxis": "y36",
         "z": [
          0.1519712805747985,
          0.2104188352823257,
          0.2307580709457397,
          0.2525908648967743,
          0.2678727805614471,
          0.2904145419597626,
          0.384754329919815,
          0.4516955316066742,
          0.5957207083702087,
          0.6612871885299683,
          0.6737052798271179,
          0.6764938235282898,
          0.7108669877052307,
          0.7253999710083008,
          0.8056357502937317,
          0.8386881947517395,
          0.8619832396507263,
          0.8703534007072449,
          0.9019795656204224,
          0.9085923433303832,
          0.9124155044555664,
          0.920562982559204,
          0.9354971647262572,
          0.9366219639778136,
          0.938056707382202,
          0.941224217414856,
          0.9414558410644532,
          0.951740562915802,
          0.9778998494148254,
          0.9803254008293152,
          0.9882200956344604
         ]
        },
        {
         "colorscale": [
          [
           0,
           "#440154"
          ],
          [
           0.1111111111111111,
           "#482878"
          ],
          [
           0.2222222222222222,
           "#3e4989"
          ],
          [
           0.3333333333333333,
           "#31688e"
          ],
          [
           0.4444444444444444,
           "#26828e"
          ],
          [
           0.5555555555555556,
           "#1f9e89"
          ],
          [
           0.6666666666666666,
           "#35b779"
          ],
          [
           0.7777777777777778,
           "#6ece58"
          ],
          [
           0.8888888888888888,
           "#b5de2b"
          ],
          [
           1,
           "#fde725"
          ]
         ],
         "type": "heatmap",
         "x": [
          true,
          true,
          true,
          false,
          false,
          false,
          false,
          true,
          true,
          true,
          false,
          false,
          false,
          true,
          false,
          true,
          false,
          false,
          true,
          true,
          true,
          false,
          false,
          false,
          false,
          false,
          true,
          true,
          true,
          false,
          true
         ],
         "xaxis": "x37",
         "y": [
          true,
          true,
          false,
          false,
          true,
          true,
          false,
          false,
          false,
          false,
          false,
          false,
          true,
          false,
          true,
          true,
          false,
          true,
          false,
          false,
          false,
          false,
          false,
          false,
          true,
          false,
          true,
          true,
          false,
          true,
          false
         ],
         "yaxis": "y37",
         "z": [
          0.1519712805747985,
          0.2104188352823257,
          0.2307580709457397,
          0.2525908648967743,
          0.2678727805614471,
          0.2904145419597626,
          0.384754329919815,
          0.4516955316066742,
          0.5957207083702087,
          0.6612871885299683,
          0.6737052798271179,
          0.6764938235282898,
          0.7108669877052307,
          0.7253999710083008,
          0.8056357502937317,
          0.8386881947517395,
          0.8619832396507263,
          0.8703534007072449,
          0.9019795656204224,
          0.9085923433303832,
          0.9124155044555664,
          0.920562982559204,
          0.9354971647262572,
          0.9366219639778136,
          0.938056707382202,
          0.941224217414856,
          0.9414558410644532,
          0.951740562915802,
          0.9778998494148254,
          0.9803254008293152,
          0.9882200956344604
         ]
        },
        {
         "colorscale": [
          [
           0,
           "#440154"
          ],
          [
           0.1111111111111111,
           "#482878"
          ],
          [
           0.2222222222222222,
           "#3e4989"
          ],
          [
           0.3333333333333333,
           "#31688e"
          ],
          [
           0.4444444444444444,
           "#26828e"
          ],
          [
           0.5555555555555556,
           "#1f9e89"
          ],
          [
           0.6666666666666666,
           "#35b779"
          ],
          [
           0.7777777777777778,
           "#6ece58"
          ],
          [
           0.8888888888888888,
           "#b5de2b"
          ],
          [
           1,
           "#fde725"
          ]
         ],
         "type": "heatmap",
         "x": [
          true,
          true,
          true,
          false,
          false,
          false,
          false,
          true,
          true,
          true,
          false,
          false,
          false,
          true,
          false,
          true,
          false,
          false,
          true,
          true,
          true,
          false,
          false,
          false,
          false,
          false,
          true,
          true,
          true,
          false,
          true
         ],
         "xaxis": "x38",
         "y": [
          "None",
          true,
          true,
          true,
          "None",
          true,
          "None",
          "None",
          false,
          false,
          true,
          false,
          "None",
          true,
          false,
          true,
          "None",
          false,
          true,
          "None",
          true,
          false,
          false,
          true,
          "None",
          "None",
          "None",
          true,
          true,
          true,
          true
         ],
         "yaxis": "y38",
         "z": [
          0.1519712805747985,
          0.2104188352823257,
          0.2307580709457397,
          0.2525908648967743,
          0.2678727805614471,
          0.2904145419597626,
          0.384754329919815,
          0.4516955316066742,
          0.5957207083702087,
          0.6612871885299683,
          0.6737052798271179,
          0.6764938235282898,
          0.7108669877052307,
          0.7253999710083008,
          0.8056357502937317,
          0.8386881947517395,
          0.8619832396507263,
          0.8703534007072449,
          0.9019795656204224,
          0.9085923433303832,
          0.9124155044555664,
          0.920562982559204,
          0.9354971647262572,
          0.9366219639778136,
          0.938056707382202,
          0.941224217414856,
          0.9414558410644532,
          0.951740562915802,
          0.9778998494148254,
          0.9803254008293152,
          0.9882200956344604
         ]
        },
        {
         "colorscale": [
          [
           0,
           "#440154"
          ],
          [
           0.1111111111111111,
           "#482878"
          ],
          [
           0.2222222222222222,
           "#3e4989"
          ],
          [
           0.3333333333333333,
           "#31688e"
          ],
          [
           0.4444444444444444,
           "#26828e"
          ],
          [
           0.5555555555555556,
           "#1f9e89"
          ],
          [
           0.6666666666666666,
           "#35b779"
          ],
          [
           0.7777777777777778,
           "#6ece58"
          ],
          [
           0.8888888888888888,
           "#b5de2b"
          ],
          [
           1,
           "#fde725"
          ]
         ],
         "type": "heatmap",
         "x": [
          true,
          true,
          true,
          false,
          false,
          false,
          false,
          true,
          true,
          true,
          false,
          false,
          false,
          true,
          false,
          true,
          false,
          false,
          true,
          true,
          true,
          false,
          false,
          false,
          false,
          false,
          true,
          true,
          true,
          false,
          true
         ],
         "xaxis": "x39",
         "y": [
          false,
          false,
          false,
          false,
          false,
          false,
          false,
          true,
          true,
          false,
          true,
          true,
          true,
          true,
          true,
          true,
          true,
          true,
          true,
          true,
          true,
          true,
          true,
          true,
          true,
          true,
          true,
          true,
          true,
          true,
          true
         ],
         "yaxis": "y39",
         "z": [
          0.1519712805747985,
          0.2104188352823257,
          0.2307580709457397,
          0.2525908648967743,
          0.2678727805614471,
          0.2904145419597626,
          0.384754329919815,
          0.4516955316066742,
          0.5957207083702087,
          0.6612871885299683,
          0.6737052798271179,
          0.6764938235282898,
          0.7108669877052307,
          0.7253999710083008,
          0.8056357502937317,
          0.8386881947517395,
          0.8619832396507263,
          0.8703534007072449,
          0.9019795656204224,
          0.9085923433303832,
          0.9124155044555664,
          0.920562982559204,
          0.9354971647262572,
          0.9366219639778136,
          0.938056707382202,
          0.941224217414856,
          0.9414558410644532,
          0.951740562915802,
          0.9778998494148254,
          0.9803254008293152,
          0.9882200956344604
         ]
        },
        {
         "colorscale": [
          [
           0,
           "#440154"
          ],
          [
           0.1111111111111111,
           "#482878"
          ],
          [
           0.2222222222222222,
           "#3e4989"
          ],
          [
           0.3333333333333333,
           "#31688e"
          ],
          [
           0.4444444444444444,
           "#26828e"
          ],
          [
           0.5555555555555556,
           "#1f9e89"
          ],
          [
           0.6666666666666666,
           "#35b779"
          ],
          [
           0.7777777777777778,
           "#6ece58"
          ],
          [
           0.8888888888888888,
           "#b5de2b"
          ],
          [
           1,
           "#fde725"
          ]
         ],
         "type": "heatmap",
         "x": [
          true,
          true,
          true,
          false,
          false,
          false,
          false,
          true,
          true,
          true,
          false,
          false,
          false,
          true,
          false,
          true,
          false,
          false,
          true,
          true,
          true,
          false,
          false,
          false,
          false,
          false,
          true,
          true,
          true,
          false,
          true
         ],
         "xaxis": "x40",
         "y": [
          "None",
          "poly6",
          "gaussian",
          "gaussian",
          "poly6",
          "gaussian",
          "None",
          "None",
          "poly6",
          "None",
          "poly6",
          "poly6",
          "None",
          "gaussian",
          "None",
          "poly6",
          "None",
          "None",
          "gaussian",
          "poly6",
          "poly6",
          "poly6",
          "None",
          "gaussian",
          "poly6",
          "None",
          "poly6",
          "poly6",
          "poly6",
          "gaussian",
          "gaussian"
         ],
         "yaxis": "y40",
         "z": [
          0.1519712805747985,
          0.2104188352823257,
          0.2307580709457397,
          0.2525908648967743,
          0.2678727805614471,
          0.2904145419597626,
          0.384754329919815,
          0.4516955316066742,
          0.5957207083702087,
          0.6612871885299683,
          0.6737052798271179,
          0.6764938235282898,
          0.7108669877052307,
          0.7253999710083008,
          0.8056357502937317,
          0.8386881947517395,
          0.8619832396507263,
          0.8703534007072449,
          0.9019795656204224,
          0.9085923433303832,
          0.9124155044555664,
          0.920562982559204,
          0.9354971647262572,
          0.9366219639778136,
          0.938056707382202,
          0.941224217414856,
          0.9414558410644532,
          0.951740562915802,
          0.9778998494148254,
          0.9803254008293152,
          0.9882200956344604
         ]
        },
        {
         "colorscale": [
          [
           0,
           "#440154"
          ],
          [
           0.1111111111111111,
           "#482878"
          ],
          [
           0.2222222222222222,
           "#3e4989"
          ],
          [
           0.3333333333333333,
           "#31688e"
          ],
          [
           0.4444444444444444,
           "#26828e"
          ],
          [
           0.5555555555555556,
           "#1f9e89"
          ],
          [
           0.6666666666666666,
           "#35b779"
          ],
          [
           0.7777777777777778,
           "#6ece58"
          ],
          [
           0.8888888888888888,
           "#b5de2b"
          ],
          [
           1,
           "#fde725"
          ]
         ],
         "type": "heatmap",
         "x": [
          true,
          true,
          true,
          false,
          false,
          false,
          false,
          true,
          true,
          true,
          false,
          false,
          false,
          true,
          false,
          true,
          false,
          false,
          true,
          true,
          true,
          false,
          false,
          false,
          false,
          false,
          true,
          true,
          true,
          false,
          true
         ],
         "xaxis": "x41",
         "y": [
          true,
          true,
          true,
          false,
          false,
          false,
          false,
          true,
          true,
          true,
          false,
          false,
          false,
          true,
          false,
          true,
          false,
          false,
          true,
          true,
          true,
          false,
          false,
          false,
          false,
          false,
          true,
          true,
          true,
          false,
          true
         ],
         "yaxis": "y41",
         "z": [
          0.1519712805747985,
          0.2104188352823257,
          0.2307580709457397,
          0.2525908648967743,
          0.2678727805614471,
          0.2904145419597626,
          0.384754329919815,
          0.4516955316066742,
          0.5957207083702087,
          0.6612871885299683,
          0.6737052798271179,
          0.6764938235282898,
          0.7108669877052307,
          0.7253999710083008,
          0.8056357502937317,
          0.8386881947517395,
          0.8619832396507263,
          0.8703534007072449,
          0.9019795656204224,
          0.9085923433303832,
          0.9124155044555664,
          0.920562982559204,
          0.9354971647262572,
          0.9366219639778136,
          0.938056707382202,
          0.941224217414856,
          0.9414558410644532,
          0.951740562915802,
          0.9778998494148254,
          0.9803254008293152,
          0.9882200956344604
         ]
        },
        {
         "colorscale": [
          [
           0,
           "#440154"
          ],
          [
           0.1111111111111111,
           "#482878"
          ],
          [
           0.2222222222222222,
           "#3e4989"
          ],
          [
           0.3333333333333333,
           "#31688e"
          ],
          [
           0.4444444444444444,
           "#26828e"
          ],
          [
           0.5555555555555556,
           "#1f9e89"
          ],
          [
           0.6666666666666666,
           "#35b779"
          ],
          [
           0.7777777777777778,
           "#6ece58"
          ],
          [
           0.8888888888888888,
           "#b5de2b"
          ],
          [
           1,
           "#fde725"
          ]
         ],
         "type": "heatmap",
         "x": [
          true,
          true,
          true,
          false,
          false,
          false,
          false,
          true,
          true,
          true,
          false,
          false,
          false,
          true,
          false,
          true,
          false,
          false,
          true,
          true,
          true,
          false,
          false,
          false,
          false,
          false,
          true,
          true,
          true,
          false,
          true
         ],
         "xaxis": "x42",
         "y": [
          true,
          true,
          false,
          false,
          true,
          false,
          true,
          true,
          false,
          true,
          true,
          true,
          true,
          false,
          false,
          true,
          true,
          true,
          false,
          false,
          false,
          true,
          false,
          false,
          false,
          true,
          true,
          true,
          true,
          true,
          true
         ],
         "yaxis": "y42",
         "z": [
          0.1519712805747985,
          0.2104188352823257,
          0.2307580709457397,
          0.2525908648967743,
          0.2678727805614471,
          0.2904145419597626,
          0.384754329919815,
          0.4516955316066742,
          0.5957207083702087,
          0.6612871885299683,
          0.6737052798271179,
          0.6764938235282898,
          0.7108669877052307,
          0.7253999710083008,
          0.8056357502937317,
          0.8386881947517395,
          0.8619832396507263,
          0.8703534007072449,
          0.9019795656204224,
          0.9085923433303832,
          0.9124155044555664,
          0.920562982559204,
          0.9354971647262572,
          0.9366219639778136,
          0.938056707382202,
          0.941224217414856,
          0.9414558410644532,
          0.951740562915802,
          0.9778998494148254,
          0.9803254008293152,
          0.9882200956344604
         ]
        },
        {
         "colorscale": [
          [
           0,
           "#440154"
          ],
          [
           0.1111111111111111,
           "#482878"
          ],
          [
           0.2222222222222222,
           "#3e4989"
          ],
          [
           0.3333333333333333,
           "#31688e"
          ],
          [
           0.4444444444444444,
           "#26828e"
          ],
          [
           0.5555555555555556,
           "#1f9e89"
          ],
          [
           0.6666666666666666,
           "#35b779"
          ],
          [
           0.7777777777777778,
           "#6ece58"
          ],
          [
           0.8888888888888888,
           "#b5de2b"
          ],
          [
           1,
           "#fde725"
          ]
         ],
         "type": "heatmap",
         "x": [
          true,
          true,
          false,
          false,
          true,
          false,
          true,
          true,
          false,
          true,
          true,
          true,
          true,
          false,
          false,
          true,
          true,
          true,
          false,
          false,
          false,
          true,
          false,
          false,
          false,
          true,
          true,
          true,
          true,
          true,
          true
         ],
         "xaxis": "x43",
         "y": [
          "GeLU",
          "GeLU",
          "leaky_relu",
          "tanh",
          "GeLU",
          "tanh",
          "relu",
          "GeLU",
          "GeLU",
          "relu",
          "relu",
          "tanh",
          "relu",
          "leaky_relu",
          "leaky_relu",
          "relu",
          "GeLU",
          "tanh",
          "GeLU",
          "relu",
          "GeLU",
          "relu",
          "GeLU",
          "leaky_relu",
          "relu",
          "GeLU",
          "GeLU",
          "leaky_relu",
          "tanh",
          "relu",
          "leaky_relu"
         ],
         "yaxis": "y43",
         "z": [
          0.1519712805747985,
          0.2104188352823257,
          0.2307580709457397,
          0.2525908648967743,
          0.2678727805614471,
          0.2904145419597626,
          0.384754329919815,
          0.4516955316066742,
          0.5957207083702087,
          0.6612871885299683,
          0.6737052798271179,
          0.6764938235282898,
          0.7108669877052307,
          0.7253999710083008,
          0.8056357502937317,
          0.8386881947517395,
          0.8619832396507263,
          0.8703534007072449,
          0.9019795656204224,
          0.9085923433303832,
          0.9124155044555664,
          0.920562982559204,
          0.9354971647262572,
          0.9366219639778136,
          0.938056707382202,
          0.941224217414856,
          0.9414558410644532,
          0.951740562915802,
          0.9778998494148254,
          0.9803254008293152,
          0.9882200956344604
         ]
        },
        {
         "colorscale": [
          [
           0,
           "#440154"
          ],
          [
           0.1111111111111111,
           "#482878"
          ],
          [
           0.2222222222222222,
           "#3e4989"
          ],
          [
           0.3333333333333333,
           "#31688e"
          ],
          [
           0.4444444444444444,
           "#26828e"
          ],
          [
           0.5555555555555556,
           "#1f9e89"
          ],
          [
           0.6666666666666666,
           "#35b779"
          ],
          [
           0.7777777777777778,
           "#6ece58"
          ],
          [
           0.8888888888888888,
           "#b5de2b"
          ],
          [
           1,
           "#fde725"
          ]
         ],
         "type": "heatmap",
         "x": [
          true,
          true,
          false,
          false,
          true,
          false,
          true,
          true,
          false,
          true,
          true,
          true,
          true,
          false,
          false,
          true,
          true,
          true,
          false,
          false,
          false,
          true,
          false,
          false,
          false,
          true,
          true,
          true,
          true,
          true,
          true
         ],
         "xaxis": "x44",
         "y": [
          true,
          true,
          false,
          false,
          true,
          true,
          false,
          false,
          false,
          false,
          false,
          false,
          true,
          false,
          true,
          true,
          false,
          true,
          false,
          false,
          false,
          false,
          false,
          false,
          true,
          false,
          true,
          true,
          false,
          true,
          false
         ],
         "yaxis": "y44",
         "z": [
          0.1519712805747985,
          0.2104188352823257,
          0.2307580709457397,
          0.2525908648967743,
          0.2678727805614471,
          0.2904145419597626,
          0.384754329919815,
          0.4516955316066742,
          0.5957207083702087,
          0.6612871885299683,
          0.6737052798271179,
          0.6764938235282898,
          0.7108669877052307,
          0.7253999710083008,
          0.8056357502937317,
          0.8386881947517395,
          0.8619832396507263,
          0.8703534007072449,
          0.9019795656204224,
          0.9085923433303832,
          0.9124155044555664,
          0.920562982559204,
          0.9354971647262572,
          0.9366219639778136,
          0.938056707382202,
          0.941224217414856,
          0.9414558410644532,
          0.951740562915802,
          0.9778998494148254,
          0.9803254008293152,
          0.9882200956344604
         ]
        },
        {
         "colorscale": [
          [
           0,
           "#440154"
          ],
          [
           0.1111111111111111,
           "#482878"
          ],
          [
           0.2222222222222222,
           "#3e4989"
          ],
          [
           0.3333333333333333,
           "#31688e"
          ],
          [
           0.4444444444444444,
           "#26828e"
          ],
          [
           0.5555555555555556,
           "#1f9e89"
          ],
          [
           0.6666666666666666,
           "#35b779"
          ],
          [
           0.7777777777777778,
           "#6ece58"
          ],
          [
           0.8888888888888888,
           "#b5de2b"
          ],
          [
           1,
           "#fde725"
          ]
         ],
         "type": "heatmap",
         "x": [
          true,
          true,
          false,
          false,
          true,
          false,
          true,
          true,
          false,
          true,
          true,
          true,
          true,
          false,
          false,
          true,
          true,
          true,
          false,
          false,
          false,
          true,
          false,
          false,
          false,
          true,
          true,
          true,
          true,
          true,
          true
         ],
         "xaxis": "x45",
         "y": [
          "None",
          true,
          true,
          true,
          "None",
          true,
          "None",
          "None",
          false,
          false,
          true,
          false,
          "None",
          true,
          false,
          true,
          "None",
          false,
          true,
          "None",
          true,
          false,
          false,
          true,
          "None",
          "None",
          "None",
          true,
          true,
          true,
          true
         ],
         "yaxis": "y45",
         "z": [
          0.1519712805747985,
          0.2104188352823257,
          0.2307580709457397,
          0.2525908648967743,
          0.2678727805614471,
          0.2904145419597626,
          0.384754329919815,
          0.4516955316066742,
          0.5957207083702087,
          0.6612871885299683,
          0.6737052798271179,
          0.6764938235282898,
          0.7108669877052307,
          0.7253999710083008,
          0.8056357502937317,
          0.8386881947517395,
          0.8619832396507263,
          0.8703534007072449,
          0.9019795656204224,
          0.9085923433303832,
          0.9124155044555664,
          0.920562982559204,
          0.9354971647262572,
          0.9366219639778136,
          0.938056707382202,
          0.941224217414856,
          0.9414558410644532,
          0.951740562915802,
          0.9778998494148254,
          0.9803254008293152,
          0.9882200956344604
         ]
        },
        {
         "colorscale": [
          [
           0,
           "#440154"
          ],
          [
           0.1111111111111111,
           "#482878"
          ],
          [
           0.2222222222222222,
           "#3e4989"
          ],
          [
           0.3333333333333333,
           "#31688e"
          ],
          [
           0.4444444444444444,
           "#26828e"
          ],
          [
           0.5555555555555556,
           "#1f9e89"
          ],
          [
           0.6666666666666666,
           "#35b779"
          ],
          [
           0.7777777777777778,
           "#6ece58"
          ],
          [
           0.8888888888888888,
           "#b5de2b"
          ],
          [
           1,
           "#fde725"
          ]
         ],
         "type": "heatmap",
         "x": [
          true,
          true,
          false,
          false,
          true,
          false,
          true,
          true,
          false,
          true,
          true,
          true,
          true,
          false,
          false,
          true,
          true,
          true,
          false,
          false,
          false,
          true,
          false,
          false,
          false,
          true,
          true,
          true,
          true,
          true,
          true
         ],
         "xaxis": "x46",
         "y": [
          false,
          false,
          false,
          false,
          false,
          false,
          false,
          true,
          true,
          false,
          true,
          true,
          true,
          true,
          true,
          true,
          true,
          true,
          true,
          true,
          true,
          true,
          true,
          true,
          true,
          true,
          true,
          true,
          true,
          true,
          true
         ],
         "yaxis": "y46",
         "z": [
          0.1519712805747985,
          0.2104188352823257,
          0.2307580709457397,
          0.2525908648967743,
          0.2678727805614471,
          0.2904145419597626,
          0.384754329919815,
          0.4516955316066742,
          0.5957207083702087,
          0.6612871885299683,
          0.6737052798271179,
          0.6764938235282898,
          0.7108669877052307,
          0.7253999710083008,
          0.8056357502937317,
          0.8386881947517395,
          0.8619832396507263,
          0.8703534007072449,
          0.9019795656204224,
          0.9085923433303832,
          0.9124155044555664,
          0.920562982559204,
          0.9354971647262572,
          0.9366219639778136,
          0.938056707382202,
          0.941224217414856,
          0.9414558410644532,
          0.951740562915802,
          0.9778998494148254,
          0.9803254008293152,
          0.9882200956344604
         ]
        },
        {
         "colorscale": [
          [
           0,
           "#440154"
          ],
          [
           0.1111111111111111,
           "#482878"
          ],
          [
           0.2222222222222222,
           "#3e4989"
          ],
          [
           0.3333333333333333,
           "#31688e"
          ],
          [
           0.4444444444444444,
           "#26828e"
          ],
          [
           0.5555555555555556,
           "#1f9e89"
          ],
          [
           0.6666666666666666,
           "#35b779"
          ],
          [
           0.7777777777777778,
           "#6ece58"
          ],
          [
           0.8888888888888888,
           "#b5de2b"
          ],
          [
           1,
           "#fde725"
          ]
         ],
         "type": "heatmap",
         "x": [
          true,
          true,
          false,
          false,
          true,
          false,
          true,
          true,
          false,
          true,
          true,
          true,
          true,
          false,
          false,
          true,
          true,
          true,
          false,
          false,
          false,
          true,
          false,
          false,
          false,
          true,
          true,
          true,
          true,
          true,
          true
         ],
         "xaxis": "x47",
         "y": [
          "None",
          "poly6",
          "gaussian",
          "gaussian",
          "poly6",
          "gaussian",
          "None",
          "None",
          "poly6",
          "None",
          "poly6",
          "poly6",
          "None",
          "gaussian",
          "None",
          "poly6",
          "None",
          "None",
          "gaussian",
          "poly6",
          "poly6",
          "poly6",
          "None",
          "gaussian",
          "poly6",
          "None",
          "poly6",
          "poly6",
          "poly6",
          "gaussian",
          "gaussian"
         ],
         "yaxis": "y47",
         "z": [
          0.1519712805747985,
          0.2104188352823257,
          0.2307580709457397,
          0.2525908648967743,
          0.2678727805614471,
          0.2904145419597626,
          0.384754329919815,
          0.4516955316066742,
          0.5957207083702087,
          0.6612871885299683,
          0.6737052798271179,
          0.6764938235282898,
          0.7108669877052307,
          0.7253999710083008,
          0.8056357502937317,
          0.8386881947517395,
          0.8619832396507263,
          0.8703534007072449,
          0.9019795656204224,
          0.9085923433303832,
          0.9124155044555664,
          0.920562982559204,
          0.9354971647262572,
          0.9366219639778136,
          0.938056707382202,
          0.941224217414856,
          0.9414558410644532,
          0.951740562915802,
          0.9778998494148254,
          0.9803254008293152,
          0.9882200956344604
         ]
        },
        {
         "colorscale": [
          [
           0,
           "#440154"
          ],
          [
           0.1111111111111111,
           "#482878"
          ],
          [
           0.2222222222222222,
           "#3e4989"
          ],
          [
           0.3333333333333333,
           "#31688e"
          ],
          [
           0.4444444444444444,
           "#26828e"
          ],
          [
           0.5555555555555556,
           "#1f9e89"
          ],
          [
           0.6666666666666666,
           "#35b779"
          ],
          [
           0.7777777777777778,
           "#6ece58"
          ],
          [
           0.8888888888888888,
           "#b5de2b"
          ],
          [
           1,
           "#fde725"
          ]
         ],
         "type": "heatmap",
         "x": [
          true,
          true,
          false,
          false,
          true,
          false,
          true,
          true,
          false,
          true,
          true,
          true,
          true,
          false,
          false,
          true,
          true,
          true,
          false,
          false,
          false,
          true,
          false,
          false,
          false,
          true,
          true,
          true,
          true,
          true,
          true
         ],
         "xaxis": "x48",
         "y": [
          true,
          true,
          true,
          false,
          false,
          false,
          false,
          true,
          true,
          true,
          false,
          false,
          false,
          true,
          false,
          true,
          false,
          false,
          true,
          true,
          true,
          false,
          false,
          false,
          false,
          false,
          true,
          true,
          true,
          false,
          true
         ],
         "yaxis": "y48",
         "z": [
          0.1519712805747985,
          0.2104188352823257,
          0.2307580709457397,
          0.2525908648967743,
          0.2678727805614471,
          0.2904145419597626,
          0.384754329919815,
          0.4516955316066742,
          0.5957207083702087,
          0.6612871885299683,
          0.6737052798271179,
          0.6764938235282898,
          0.7108669877052307,
          0.7253999710083008,
          0.8056357502937317,
          0.8386881947517395,
          0.8619832396507263,
          0.8703534007072449,
          0.9019795656204224,
          0.9085923433303832,
          0.9124155044555664,
          0.920562982559204,
          0.9354971647262572,
          0.9366219639778136,
          0.938056707382202,
          0.941224217414856,
          0.9414558410644532,
          0.951740562915802,
          0.9778998494148254,
          0.9803254008293152,
          0.9882200956344604
         ]
        },
        {
         "colorscale": [
          [
           0,
           "#440154"
          ],
          [
           0.1111111111111111,
           "#482878"
          ],
          [
           0.2222222222222222,
           "#3e4989"
          ],
          [
           0.3333333333333333,
           "#31688e"
          ],
          [
           0.4444444444444444,
           "#26828e"
          ],
          [
           0.5555555555555556,
           "#1f9e89"
          ],
          [
           0.6666666666666666,
           "#35b779"
          ],
          [
           0.7777777777777778,
           "#6ece58"
          ],
          [
           0.8888888888888888,
           "#b5de2b"
          ],
          [
           1,
           "#fde725"
          ]
         ],
         "type": "heatmap",
         "x": [
          true,
          true,
          false,
          false,
          true,
          false,
          true,
          true,
          false,
          true,
          true,
          true,
          true,
          false,
          false,
          true,
          true,
          true,
          false,
          false,
          false,
          true,
          false,
          false,
          false,
          true,
          true,
          true,
          true,
          true,
          true
         ],
         "xaxis": "x49",
         "y": [
          true,
          true,
          false,
          false,
          true,
          false,
          true,
          true,
          false,
          true,
          true,
          true,
          true,
          false,
          false,
          true,
          true,
          true,
          false,
          false,
          false,
          true,
          false,
          false,
          false,
          true,
          true,
          true,
          true,
          true,
          true
         ],
         "yaxis": "y49",
         "z": [
          0.1519712805747985,
          0.2104188352823257,
          0.2307580709457397,
          0.2525908648967743,
          0.2678727805614471,
          0.2904145419597626,
          0.384754329919815,
          0.4516955316066742,
          0.5957207083702087,
          0.6612871885299683,
          0.6737052798271179,
          0.6764938235282898,
          0.7108669877052307,
          0.7253999710083008,
          0.8056357502937317,
          0.8386881947517395,
          0.8619832396507263,
          0.8703534007072449,
          0.9019795656204224,
          0.9085923433303832,
          0.9124155044555664,
          0.920562982559204,
          0.9354971647262572,
          0.9366219639778136,
          0.938056707382202,
          0.941224217414856,
          0.9414558410644532,
          0.951740562915802,
          0.9778998494148254,
          0.9803254008293152,
          0.9882200956344604
         ]
        }
       ],
       "layout": {
        "annotations": [
         {
          "font": {
           "size": 16
          },
          "showarrow": false,
          "text": "intermediate_activation_fn",
          "x": 0.06714285714285714,
          "xanchor": "center",
          "xref": "paper",
          "y": 1,
          "yanchor": "bottom",
          "yref": "paper"
         },
         {
          "font": {
           "size": 16
          },
          "showarrow": false,
          "text": "radius_search_ignore_query_points",
          "x": 0.21142857142857144,
          "xanchor": "center",
          "xref": "paper",
          "y": 1,
          "yanchor": "bottom",
          "yref": "paper"
         },
         {
          "font": {
           "size": 16
          },
          "showarrow": false,
          "text": "use_dense_layer_for_centers",
          "x": 0.35571428571428576,
          "xanchor": "center",
          "xref": "paper",
          "y": 1,
          "yanchor": "bottom",
          "yref": "paper"
         },
         {
          "font": {
           "size": 16
          },
          "showarrow": false,
          "text": "stopped_early",
          "x": 0.5,
          "xanchor": "center",
          "xref": "paper",
          "y": 1,
          "yanchor": "bottom",
          "yref": "paper"
         },
         {
          "font": {
           "size": 16
          },
          "showarrow": false,
          "text": "window_function",
          "x": 0.6442857142857144,
          "xanchor": "center",
          "xref": "paper",
          "y": 1,
          "yanchor": "bottom",
          "yref": "paper"
         },
         {
          "font": {
           "size": 16
          },
          "showarrow": false,
          "text": "align_corners",
          "x": 0.7885714285714287,
          "xanchor": "center",
          "xref": "paper",
          "y": 1,
          "yanchor": "bottom",
          "yref": "paper"
         },
         {
          "font": {
           "size": 16
          },
          "showarrow": false,
          "text": "normalize",
          "x": 0.932857142857143,
          "xanchor": "center",
          "xref": "paper",
          "y": 1,
          "yanchor": "bottom",
          "yref": "paper"
         },
         {
          "font": {
           "size": 16
          },
          "showarrow": false,
          "text": "x",
          "x": 0.5,
          "xanchor": "center",
          "xref": "paper",
          "y": 0,
          "yanchor": "top",
          "yref": "paper",
          "yshift": -30
         },
         {
          "font": {
           "size": 16
          },
          "showarrow": false,
          "text": "y",
          "textangle": -90,
          "x": 0,
          "xanchor": "right",
          "xref": "paper",
          "xshift": -40,
          "y": 0.5,
          "yanchor": "middle",
          "yref": "paper"
         }
        ],
        "height": 1000,
        "template": {
         "data": {
          "bar": [
           {
            "error_x": {
             "color": "#2a3f5f"
            },
            "error_y": {
             "color": "#2a3f5f"
            },
            "marker": {
             "line": {
              "color": "#E5ECF6",
              "width": 0.5
             },
             "pattern": {
              "fillmode": "overlay",
              "size": 10,
              "solidity": 0.2
             }
            },
            "type": "bar"
           }
          ],
          "barpolar": [
           {
            "marker": {
             "line": {
              "color": "#E5ECF6",
              "width": 0.5
             },
             "pattern": {
              "fillmode": "overlay",
              "size": 10,
              "solidity": 0.2
             }
            },
            "type": "barpolar"
           }
          ],
          "carpet": [
           {
            "aaxis": {
             "endlinecolor": "#2a3f5f",
             "gridcolor": "white",
             "linecolor": "white",
             "minorgridcolor": "white",
             "startlinecolor": "#2a3f5f"
            },
            "baxis": {
             "endlinecolor": "#2a3f5f",
             "gridcolor": "white",
             "linecolor": "white",
             "minorgridcolor": "white",
             "startlinecolor": "#2a3f5f"
            },
            "type": "carpet"
           }
          ],
          "choropleth": [
           {
            "colorbar": {
             "outlinewidth": 0,
             "ticks": ""
            },
            "type": "choropleth"
           }
          ],
          "contour": [
           {
            "colorbar": {
             "outlinewidth": 0,
             "ticks": ""
            },
            "colorscale": [
             [
              0,
              "#0d0887"
             ],
             [
              0.1111111111111111,
              "#46039f"
             ],
             [
              0.2222222222222222,
              "#7201a8"
             ],
             [
              0.3333333333333333,
              "#9c179e"
             ],
             [
              0.4444444444444444,
              "#bd3786"
             ],
             [
              0.5555555555555556,
              "#d8576b"
             ],
             [
              0.6666666666666666,
              "#ed7953"
             ],
             [
              0.7777777777777778,
              "#fb9f3a"
             ],
             [
              0.8888888888888888,
              "#fdca26"
             ],
             [
              1,
              "#f0f921"
             ]
            ],
            "type": "contour"
           }
          ],
          "contourcarpet": [
           {
            "colorbar": {
             "outlinewidth": 0,
             "ticks": ""
            },
            "type": "contourcarpet"
           }
          ],
          "heatmap": [
           {
            "colorbar": {
             "outlinewidth": 0,
             "ticks": ""
            },
            "colorscale": [
             [
              0,
              "#0d0887"
             ],
             [
              0.1111111111111111,
              "#46039f"
             ],
             [
              0.2222222222222222,
              "#7201a8"
             ],
             [
              0.3333333333333333,
              "#9c179e"
             ],
             [
              0.4444444444444444,
              "#bd3786"
             ],
             [
              0.5555555555555556,
              "#d8576b"
             ],
             [
              0.6666666666666666,
              "#ed7953"
             ],
             [
              0.7777777777777778,
              "#fb9f3a"
             ],
             [
              0.8888888888888888,
              "#fdca26"
             ],
             [
              1,
              "#f0f921"
             ]
            ],
            "type": "heatmap"
           }
          ],
          "heatmapgl": [
           {
            "colorbar": {
             "outlinewidth": 0,
             "ticks": ""
            },
            "colorscale": [
             [
              0,
              "#0d0887"
             ],
             [
              0.1111111111111111,
              "#46039f"
             ],
             [
              0.2222222222222222,
              "#7201a8"
             ],
             [
              0.3333333333333333,
              "#9c179e"
             ],
             [
              0.4444444444444444,
              "#bd3786"
             ],
             [
              0.5555555555555556,
              "#d8576b"
             ],
             [
              0.6666666666666666,
              "#ed7953"
             ],
             [
              0.7777777777777778,
              "#fb9f3a"
             ],
             [
              0.8888888888888888,
              "#fdca26"
             ],
             [
              1,
              "#f0f921"
             ]
            ],
            "type": "heatmapgl"
           }
          ],
          "histogram": [
           {
            "marker": {
             "pattern": {
              "fillmode": "overlay",
              "size": 10,
              "solidity": 0.2
             }
            },
            "type": "histogram"
           }
          ],
          "histogram2d": [
           {
            "colorbar": {
             "outlinewidth": 0,
             "ticks": ""
            },
            "colorscale": [
             [
              0,
              "#0d0887"
             ],
             [
              0.1111111111111111,
              "#46039f"
             ],
             [
              0.2222222222222222,
              "#7201a8"
             ],
             [
              0.3333333333333333,
              "#9c179e"
             ],
             [
              0.4444444444444444,
              "#bd3786"
             ],
             [
              0.5555555555555556,
              "#d8576b"
             ],
             [
              0.6666666666666666,
              "#ed7953"
             ],
             [
              0.7777777777777778,
              "#fb9f3a"
             ],
             [
              0.8888888888888888,
              "#fdca26"
             ],
             [
              1,
              "#f0f921"
             ]
            ],
            "type": "histogram2d"
           }
          ],
          "histogram2dcontour": [
           {
            "colorbar": {
             "outlinewidth": 0,
             "ticks": ""
            },
            "colorscale": [
             [
              0,
              "#0d0887"
             ],
             [
              0.1111111111111111,
              "#46039f"
             ],
             [
              0.2222222222222222,
              "#7201a8"
             ],
             [
              0.3333333333333333,
              "#9c179e"
             ],
             [
              0.4444444444444444,
              "#bd3786"
             ],
             [
              0.5555555555555556,
              "#d8576b"
             ],
             [
              0.6666666666666666,
              "#ed7953"
             ],
             [
              0.7777777777777778,
              "#fb9f3a"
             ],
             [
              0.8888888888888888,
              "#fdca26"
             ],
             [
              1,
              "#f0f921"
             ]
            ],
            "type": "histogram2dcontour"
           }
          ],
          "mesh3d": [
           {
            "colorbar": {
             "outlinewidth": 0,
             "ticks": ""
            },
            "type": "mesh3d"
           }
          ],
          "parcoords": [
           {
            "line": {
             "colorbar": {
              "outlinewidth": 0,
              "ticks": ""
             }
            },
            "type": "parcoords"
           }
          ],
          "pie": [
           {
            "automargin": true,
            "type": "pie"
           }
          ],
          "scatter": [
           {
            "fillpattern": {
             "fillmode": "overlay",
             "size": 10,
             "solidity": 0.2
            },
            "type": "scatter"
           }
          ],
          "scatter3d": [
           {
            "line": {
             "colorbar": {
              "outlinewidth": 0,
              "ticks": ""
             }
            },
            "marker": {
             "colorbar": {
              "outlinewidth": 0,
              "ticks": ""
             }
            },
            "type": "scatter3d"
           }
          ],
          "scattercarpet": [
           {
            "marker": {
             "colorbar": {
              "outlinewidth": 0,
              "ticks": ""
             }
            },
            "type": "scattercarpet"
           }
          ],
          "scattergeo": [
           {
            "marker": {
             "colorbar": {
              "outlinewidth": 0,
              "ticks": ""
             }
            },
            "type": "scattergeo"
           }
          ],
          "scattergl": [
           {
            "marker": {
             "colorbar": {
              "outlinewidth": 0,
              "ticks": ""
             }
            },
            "type": "scattergl"
           }
          ],
          "scattermapbox": [
           {
            "marker": {
             "colorbar": {
              "outlinewidth": 0,
              "ticks": ""
             }
            },
            "type": "scattermapbox"
           }
          ],
          "scatterpolar": [
           {
            "marker": {
             "colorbar": {
              "outlinewidth": 0,
              "ticks": ""
             }
            },
            "type": "scatterpolar"
           }
          ],
          "scatterpolargl": [
           {
            "marker": {
             "colorbar": {
              "outlinewidth": 0,
              "ticks": ""
             }
            },
            "type": "scatterpolargl"
           }
          ],
          "scatterternary": [
           {
            "marker": {
             "colorbar": {
              "outlinewidth": 0,
              "ticks": ""
             }
            },
            "type": "scatterternary"
           }
          ],
          "surface": [
           {
            "colorbar": {
             "outlinewidth": 0,
             "ticks": ""
            },
            "colorscale": [
             [
              0,
              "#0d0887"
             ],
             [
              0.1111111111111111,
              "#46039f"
             ],
             [
              0.2222222222222222,
              "#7201a8"
             ],
             [
              0.3333333333333333,
              "#9c179e"
             ],
             [
              0.4444444444444444,
              "#bd3786"
             ],
             [
              0.5555555555555556,
              "#d8576b"
             ],
             [
              0.6666666666666666,
              "#ed7953"
             ],
             [
              0.7777777777777778,
              "#fb9f3a"
             ],
             [
              0.8888888888888888,
              "#fdca26"
             ],
             [
              1,
              "#f0f921"
             ]
            ],
            "type": "surface"
           }
          ],
          "table": [
           {
            "cells": {
             "fill": {
              "color": "#EBF0F8"
             },
             "line": {
              "color": "white"
             }
            },
            "header": {
             "fill": {
              "color": "#C8D4E3"
             },
             "line": {
              "color": "white"
             }
            },
            "type": "table"
           }
          ]
         },
         "layout": {
          "annotationdefaults": {
           "arrowcolor": "#2a3f5f",
           "arrowhead": 0,
           "arrowwidth": 1
          },
          "autotypenumbers": "strict",
          "coloraxis": {
           "colorbar": {
            "outlinewidth": 0,
            "ticks": ""
           }
          },
          "colorscale": {
           "diverging": [
            [
             0,
             "#8e0152"
            ],
            [
             0.1,
             "#c51b7d"
            ],
            [
             0.2,
             "#de77ae"
            ],
            [
             0.3,
             "#f1b6da"
            ],
            [
             0.4,
             "#fde0ef"
            ],
            [
             0.5,
             "#f7f7f7"
            ],
            [
             0.6,
             "#e6f5d0"
            ],
            [
             0.7,
             "#b8e186"
            ],
            [
             0.8,
             "#7fbc41"
            ],
            [
             0.9,
             "#4d9221"
            ],
            [
             1,
             "#276419"
            ]
           ],
           "sequential": [
            [
             0,
             "#0d0887"
            ],
            [
             0.1111111111111111,
             "#46039f"
            ],
            [
             0.2222222222222222,
             "#7201a8"
            ],
            [
             0.3333333333333333,
             "#9c179e"
            ],
            [
             0.4444444444444444,
             "#bd3786"
            ],
            [
             0.5555555555555556,
             "#d8576b"
            ],
            [
             0.6666666666666666,
             "#ed7953"
            ],
            [
             0.7777777777777778,
             "#fb9f3a"
            ],
            [
             0.8888888888888888,
             "#fdca26"
            ],
            [
             1,
             "#f0f921"
            ]
           ],
           "sequentialminus": [
            [
             0,
             "#0d0887"
            ],
            [
             0.1111111111111111,
             "#46039f"
            ],
            [
             0.2222222222222222,
             "#7201a8"
            ],
            [
             0.3333333333333333,
             "#9c179e"
            ],
            [
             0.4444444444444444,
             "#bd3786"
            ],
            [
             0.5555555555555556,
             "#d8576b"
            ],
            [
             0.6666666666666666,
             "#ed7953"
            ],
            [
             0.7777777777777778,
             "#fb9f3a"
            ],
            [
             0.8888888888888888,
             "#fdca26"
            ],
            [
             1,
             "#f0f921"
            ]
           ]
          },
          "colorway": [
           "#636efa",
           "#EF553B",
           "#00cc96",
           "#ab63fa",
           "#FFA15A",
           "#19d3f3",
           "#FF6692",
           "#B6E880",
           "#FF97FF",
           "#FECB52"
          ],
          "font": {
           "color": "#2a3f5f"
          },
          "geo": {
           "bgcolor": "white",
           "lakecolor": "white",
           "landcolor": "#E5ECF6",
           "showlakes": true,
           "showland": true,
           "subunitcolor": "white"
          },
          "hoverlabel": {
           "align": "left"
          },
          "hovermode": "closest",
          "mapbox": {
           "style": "light"
          },
          "paper_bgcolor": "white",
          "plot_bgcolor": "#E5ECF6",
          "polar": {
           "angularaxis": {
            "gridcolor": "white",
            "linecolor": "white",
            "ticks": ""
           },
           "bgcolor": "#E5ECF6",
           "radialaxis": {
            "gridcolor": "white",
            "linecolor": "white",
            "ticks": ""
           }
          },
          "scene": {
           "xaxis": {
            "backgroundcolor": "#E5ECF6",
            "gridcolor": "white",
            "gridwidth": 2,
            "linecolor": "white",
            "showbackground": true,
            "ticks": "",
            "zerolinecolor": "white"
           },
           "yaxis": {
            "backgroundcolor": "#E5ECF6",
            "gridcolor": "white",
            "gridwidth": 2,
            "linecolor": "white",
            "showbackground": true,
            "ticks": "",
            "zerolinecolor": "white"
           },
           "zaxis": {
            "backgroundcolor": "#E5ECF6",
            "gridcolor": "white",
            "gridwidth": 2,
            "linecolor": "white",
            "showbackground": true,
            "ticks": "",
            "zerolinecolor": "white"
           }
          },
          "shapedefaults": {
           "line": {
            "color": "#2a3f5f"
           }
          },
          "ternary": {
           "aaxis": {
            "gridcolor": "white",
            "linecolor": "white",
            "ticks": ""
           },
           "baxis": {
            "gridcolor": "white",
            "linecolor": "white",
            "ticks": ""
           },
           "bgcolor": "#E5ECF6",
           "caxis": {
            "gridcolor": "white",
            "linecolor": "white",
            "ticks": ""
           }
          },
          "title": {
           "x": 0.05
          },
          "xaxis": {
           "automargin": true,
           "gridcolor": "white",
           "linecolor": "white",
           "ticks": "",
           "title": {
            "standoff": 15
           },
           "zerolinecolor": "white",
           "zerolinewidth": 2
          },
          "yaxis": {
           "automargin": true,
           "gridcolor": "white",
           "linecolor": "white",
           "ticks": "",
           "title": {
            "standoff": 15
           },
           "zerolinecolor": "white",
           "zerolinewidth": 2
          }
         }
        },
        "title": {
         "text": "Hyperparameter search results"
        },
        "width": 1000,
        "xaxis": {
         "anchor": "y",
         "domain": [
          0,
          0.13428571428571429
         ],
         "matches": "x43",
         "showticklabels": false
        },
        "xaxis10": {
         "anchor": "y10",
         "domain": [
          0.2885714285714286,
          0.4228571428571429
         ],
         "matches": "x45",
         "showticklabels": false
        },
        "xaxis11": {
         "anchor": "y11",
         "domain": [
          0.43285714285714283,
          0.5671428571428572
         ],
         "matches": "x46",
         "showticklabels": false
        },
        "xaxis12": {
         "anchor": "y12",
         "domain": [
          0.5771428571428572,
          0.7114285714285715
         ],
         "matches": "x47",
         "showticklabels": false
        },
        "xaxis13": {
         "anchor": "y13",
         "domain": [
          0.7214285714285715,
          0.8557142857142859
         ],
         "matches": "x48",
         "showticklabels": false
        },
        "xaxis14": {
         "anchor": "y14",
         "domain": [
          0.8657142857142859,
          1
         ],
         "matches": "x49",
         "showticklabels": false
        },
        "xaxis15": {
         "anchor": "y15",
         "domain": [
          0,
          0.13428571428571429
         ],
         "matches": "x43",
         "showticklabels": false
        },
        "xaxis16": {
         "anchor": "y16",
         "domain": [
          0.1442857142857143,
          0.2785714285714286
         ],
         "matches": "x44",
         "showticklabels": false
        },
        "xaxis17": {
         "anchor": "y17",
         "domain": [
          0.2885714285714286,
          0.4228571428571429
         ],
         "matches": "x45",
         "showticklabels": false
        },
        "xaxis18": {
         "anchor": "y18",
         "domain": [
          0.43285714285714283,
          0.5671428571428572
         ],
         "matches": "x46",
         "showticklabels": false
        },
        "xaxis19": {
         "anchor": "y19",
         "domain": [
          0.5771428571428572,
          0.7114285714285715
         ],
         "matches": "x47",
         "showticklabels": false
        },
        "xaxis2": {
         "anchor": "y2",
         "domain": [
          0.1442857142857143,
          0.2785714285714286
         ],
         "matches": "x44",
         "showticklabels": false
        },
        "xaxis20": {
         "anchor": "y20",
         "domain": [
          0.7214285714285715,
          0.8557142857142859
         ],
         "matches": "x48",
         "showticklabels": false
        },
        "xaxis21": {
         "anchor": "y21",
         "domain": [
          0.8657142857142859,
          1
         ],
         "matches": "x49",
         "showticklabels": false
        },
        "xaxis22": {
         "anchor": "y22",
         "domain": [
          0,
          0.13428571428571429
         ],
         "matches": "x43",
         "showticklabels": false
        },
        "xaxis23": {
         "anchor": "y23",
         "domain": [
          0.1442857142857143,
          0.2785714285714286
         ],
         "matches": "x44",
         "showticklabels": false
        },
        "xaxis24": {
         "anchor": "y24",
         "domain": [
          0.2885714285714286,
          0.4228571428571429
         ],
         "matches": "x45",
         "showticklabels": false
        },
        "xaxis25": {
         "anchor": "y25",
         "domain": [
          0.43285714285714283,
          0.5671428571428572
         ],
         "matches": "x46",
         "showticklabels": false
        },
        "xaxis26": {
         "anchor": "y26",
         "domain": [
          0.5771428571428572,
          0.7114285714285715
         ],
         "matches": "x47",
         "showticklabels": false
        },
        "xaxis27": {
         "anchor": "y27",
         "domain": [
          0.7214285714285715,
          0.8557142857142859
         ],
         "matches": "x48",
         "showticklabels": false
        },
        "xaxis28": {
         "anchor": "y28",
         "domain": [
          0.8657142857142859,
          1
         ],
         "matches": "x49",
         "showticklabels": false
        },
        "xaxis29": {
         "anchor": "y29",
         "domain": [
          0,
          0.13428571428571429
         ],
         "matches": "x43",
         "showticklabels": false
        },
        "xaxis3": {
         "anchor": "y3",
         "domain": [
          0.2885714285714286,
          0.4228571428571429
         ],
         "matches": "x45",
         "showticklabels": false
        },
        "xaxis30": {
         "anchor": "y30",
         "domain": [
          0.1442857142857143,
          0.2785714285714286
         ],
         "matches": "x44",
         "showticklabels": false
        },
        "xaxis31": {
         "anchor": "y31",
         "domain": [
          0.2885714285714286,
          0.4228571428571429
         ],
         "matches": "x45",
         "showticklabels": false
        },
        "xaxis32": {
         "anchor": "y32",
         "domain": [
          0.43285714285714283,
          0.5671428571428572
         ],
         "matches": "x46",
         "showticklabels": false
        },
        "xaxis33": {
         "anchor": "y33",
         "domain": [
          0.5771428571428572,
          0.7114285714285715
         ],
         "matches": "x47",
         "showticklabels": false
        },
        "xaxis34": {
         "anchor": "y34",
         "domain": [
          0.7214285714285715,
          0.8557142857142859
         ],
         "matches": "x48",
         "showticklabels": false
        },
        "xaxis35": {
         "anchor": "y35",
         "domain": [
          0.8657142857142859,
          1
         ],
         "matches": "x49",
         "showticklabels": false
        },
        "xaxis36": {
         "anchor": "y36",
         "domain": [
          0,
          0.13428571428571429
         ],
         "matches": "x43",
         "showticklabels": false
        },
        "xaxis37": {
         "anchor": "y37",
         "domain": [
          0.1442857142857143,
          0.2785714285714286
         ],
         "matches": "x44",
         "showticklabels": false
        },
        "xaxis38": {
         "anchor": "y38",
         "domain": [
          0.2885714285714286,
          0.4228571428571429
         ],
         "matches": "x45",
         "showticklabels": false
        },
        "xaxis39": {
         "anchor": "y39",
         "domain": [
          0.43285714285714283,
          0.5671428571428572
         ],
         "matches": "x46",
         "showticklabels": false
        },
        "xaxis4": {
         "anchor": "y4",
         "domain": [
          0.43285714285714283,
          0.5671428571428572
         ],
         "matches": "x46",
         "showticklabels": false
        },
        "xaxis40": {
         "anchor": "y40",
         "domain": [
          0.5771428571428572,
          0.7114285714285715
         ],
         "matches": "x47",
         "showticklabels": false
        },
        "xaxis41": {
         "anchor": "y41",
         "domain": [
          0.7214285714285715,
          0.8557142857142859
         ],
         "matches": "x48",
         "showticklabels": false
        },
        "xaxis42": {
         "anchor": "y42",
         "domain": [
          0.8657142857142859,
          1
         ],
         "matches": "x49",
         "showticklabels": false
        },
        "xaxis43": {
         "anchor": "y43",
         "domain": [
          0,
          0.13428571428571429
         ],
         "title": {
          "text": "intermediate_activation_fn"
         }
        },
        "xaxis44": {
         "anchor": "y44",
         "domain": [
          0.1442857142857143,
          0.2785714285714286
         ],
         "title": {
          "text": "radius_search_ignore_query_points"
         }
        },
        "xaxis45": {
         "anchor": "y45",
         "domain": [
          0.2885714285714286,
          0.4228571428571429
         ],
         "title": {
          "text": "use_dense_layer_for_centers"
         }
        },
        "xaxis46": {
         "anchor": "y46",
         "domain": [
          0.43285714285714283,
          0.5671428571428572
         ],
         "title": {
          "text": "stopped_early"
         }
        },
        "xaxis47": {
         "anchor": "y47",
         "domain": [
          0.5771428571428572,
          0.7114285714285715
         ],
         "title": {
          "text": "window_function"
         }
        },
        "xaxis48": {
         "anchor": "y48",
         "domain": [
          0.7214285714285715,
          0.8557142857142859
         ],
         "title": {
          "text": "align_corners"
         }
        },
        "xaxis49": {
         "anchor": "y49",
         "domain": [
          0.8657142857142859,
          1
         ],
         "title": {
          "text": "normalize"
         }
        },
        "xaxis5": {
         "anchor": "y5",
         "domain": [
          0.5771428571428572,
          0.7114285714285715
         ],
         "matches": "x47",
         "showticklabels": false
        },
        "xaxis6": {
         "anchor": "y6",
         "domain": [
          0.7214285714285715,
          0.8557142857142859
         ],
         "matches": "x48",
         "showticklabels": false
        },
        "xaxis7": {
         "anchor": "y7",
         "domain": [
          0.8657142857142859,
          1
         ],
         "matches": "x49",
         "showticklabels": false
        },
        "xaxis8": {
         "anchor": "y8",
         "domain": [
          0,
          0.13428571428571429
         ],
         "matches": "x43",
         "showticklabels": false
        },
        "xaxis9": {
         "anchor": "y9",
         "domain": [
          0.1442857142857143,
          0.2785714285714286
         ],
         "matches": "x44",
         "showticklabels": false
        },
        "yaxis": {
         "anchor": "x",
         "domain": [
          0.8657142857142859,
          1
         ],
         "title": {
          "text": "intermediate_activation_fn"
         }
        },
        "yaxis10": {
         "anchor": "x10",
         "domain": [
          0.7214285714285715,
          0.8557142857142859
         ],
         "matches": "y8",
         "showticklabels": false
        },
        "yaxis11": {
         "anchor": "x11",
         "domain": [
          0.7214285714285715,
          0.8557142857142859
         ],
         "matches": "y8",
         "showticklabels": false
        },
        "yaxis12": {
         "anchor": "x12",
         "domain": [
          0.7214285714285715,
          0.8557142857142859
         ],
         "matches": "y8",
         "showticklabels": false
        },
        "yaxis13": {
         "anchor": "x13",
         "domain": [
          0.7214285714285715,
          0.8557142857142859
         ],
         "matches": "y8",
         "showticklabels": false
        },
        "yaxis14": {
         "anchor": "x14",
         "domain": [
          0.7214285714285715,
          0.8557142857142859
         ],
         "matches": "y8",
         "showticklabels": false
        },
        "yaxis15": {
         "anchor": "x15",
         "domain": [
          0.5771428571428572,
          0.7114285714285715
         ],
         "title": {
          "text": "use_dense_layer_for_centers"
         }
        },
        "yaxis16": {
         "anchor": "x16",
         "domain": [
          0.5771428571428572,
          0.7114285714285715
         ],
         "matches": "y15",
         "showticklabels": false
        },
        "yaxis17": {
         "anchor": "x17",
         "domain": [
          0.5771428571428572,
          0.7114285714285715
         ],
         "matches": "y15",
         "showticklabels": false
        },
        "yaxis18": {
         "anchor": "x18",
         "domain": [
          0.5771428571428572,
          0.7114285714285715
         ],
         "matches": "y15",
         "showticklabels": false
        },
        "yaxis19": {
         "anchor": "x19",
         "domain": [
          0.5771428571428572,
          0.7114285714285715
         ],
         "matches": "y15",
         "showticklabels": false
        },
        "yaxis2": {
         "anchor": "x2",
         "domain": [
          0.8657142857142859,
          1
         ],
         "matches": "y",
         "showticklabels": false
        },
        "yaxis20": {
         "anchor": "x20",
         "domain": [
          0.5771428571428572,
          0.7114285714285715
         ],
         "matches": "y15",
         "showticklabels": false
        },
        "yaxis21": {
         "anchor": "x21",
         "domain": [
          0.5771428571428572,
          0.7114285714285715
         ],
         "matches": "y15",
         "showticklabels": false
        },
        "yaxis22": {
         "anchor": "x22",
         "domain": [
          0.43285714285714283,
          0.5671428571428572
         ],
         "title": {
          "text": "stopped_early"
         }
        },
        "yaxis23": {
         "anchor": "x23",
         "domain": [
          0.43285714285714283,
          0.5671428571428572
         ],
         "matches": "y22",
         "showticklabels": false
        },
        "yaxis24": {
         "anchor": "x24",
         "domain": [
          0.43285714285714283,
          0.5671428571428572
         ],
         "matches": "y22",
         "showticklabels": false
        },
        "yaxis25": {
         "anchor": "x25",
         "domain": [
          0.43285714285714283,
          0.5671428571428572
         ],
         "matches": "y22",
         "showticklabels": false
        },
        "yaxis26": {
         "anchor": "x26",
         "domain": [
          0.43285714285714283,
          0.5671428571428572
         ],
         "matches": "y22",
         "showticklabels": false
        },
        "yaxis27": {
         "anchor": "x27",
         "domain": [
          0.43285714285714283,
          0.5671428571428572
         ],
         "matches": "y22",
         "showticklabels": false
        },
        "yaxis28": {
         "anchor": "x28",
         "domain": [
          0.43285714285714283,
          0.5671428571428572
         ],
         "matches": "y22",
         "showticklabels": false
        },
        "yaxis29": {
         "anchor": "x29",
         "domain": [
          0.2885714285714286,
          0.4228571428571429
         ],
         "title": {
          "text": "window_function"
         }
        },
        "yaxis3": {
         "anchor": "x3",
         "domain": [
          0.8657142857142859,
          1
         ],
         "matches": "y",
         "showticklabels": false
        },
        "yaxis30": {
         "anchor": "x30",
         "domain": [
          0.2885714285714286,
          0.4228571428571429
         ],
         "matches": "y29",
         "showticklabels": false
        },
        "yaxis31": {
         "anchor": "x31",
         "domain": [
          0.2885714285714286,
          0.4228571428571429
         ],
         "matches": "y29",
         "showticklabels": false
        },
        "yaxis32": {
         "anchor": "x32",
         "domain": [
          0.2885714285714286,
          0.4228571428571429
         ],
         "matches": "y29",
         "showticklabels": false
        },
        "yaxis33": {
         "anchor": "x33",
         "domain": [
          0.2885714285714286,
          0.4228571428571429
         ],
         "matches": "y29",
         "showticklabels": false
        },
        "yaxis34": {
         "anchor": "x34",
         "domain": [
          0.2885714285714286,
          0.4228571428571429
         ],
         "matches": "y29",
         "showticklabels": false
        },
        "yaxis35": {
         "anchor": "x35",
         "domain": [
          0.2885714285714286,
          0.4228571428571429
         ],
         "matches": "y29",
         "showticklabels": false
        },
        "yaxis36": {
         "anchor": "x36",
         "domain": [
          0.1442857142857143,
          0.2785714285714286
         ],
         "title": {
          "text": "align_corners"
         }
        },
        "yaxis37": {
         "anchor": "x37",
         "domain": [
          0.1442857142857143,
          0.2785714285714286
         ],
         "matches": "y36",
         "showticklabels": false
        },
        "yaxis38": {
         "anchor": "x38",
         "domain": [
          0.1442857142857143,
          0.2785714285714286
         ],
         "matches": "y36",
         "showticklabels": false
        },
        "yaxis39": {
         "anchor": "x39",
         "domain": [
          0.1442857142857143,
          0.2785714285714286
         ],
         "matches": "y36",
         "showticklabels": false
        },
        "yaxis4": {
         "anchor": "x4",
         "domain": [
          0.8657142857142859,
          1
         ],
         "matches": "y",
         "showticklabels": false
        },
        "yaxis40": {
         "anchor": "x40",
         "domain": [
          0.1442857142857143,
          0.2785714285714286
         ],
         "matches": "y36",
         "showticklabels": false
        },
        "yaxis41": {
         "anchor": "x41",
         "domain": [
          0.1442857142857143,
          0.2785714285714286
         ],
         "matches": "y36",
         "showticklabels": false
        },
        "yaxis42": {
         "anchor": "x42",
         "domain": [
          0.1442857142857143,
          0.2785714285714286
         ],
         "matches": "y36",
         "showticklabels": false
        },
        "yaxis43": {
         "anchor": "x43",
         "domain": [
          0,
          0.13428571428571429
         ],
         "title": {
          "text": "normalize"
         }
        },
        "yaxis44": {
         "anchor": "x44",
         "domain": [
          0,
          0.13428571428571429
         ],
         "matches": "y43",
         "showticklabels": false
        },
        "yaxis45": {
         "anchor": "x45",
         "domain": [
          0,
          0.13428571428571429
         ],
         "matches": "y43",
         "showticklabels": false
        },
        "yaxis46": {
         "anchor": "x46",
         "domain": [
          0,
          0.13428571428571429
         ],
         "matches": "y43",
         "showticklabels": false
        },
        "yaxis47": {
         "anchor": "x47",
         "domain": [
          0,
          0.13428571428571429
         ],
         "matches": "y43",
         "showticklabels": false
        },
        "yaxis48": {
         "anchor": "x48",
         "domain": [
          0,
          0.13428571428571429
         ],
         "matches": "y43",
         "showticklabels": false
        },
        "yaxis49": {
         "anchor": "x49",
         "domain": [
          0,
          0.13428571428571429
         ],
         "matches": "y43",
         "showticklabels": false
        },
        "yaxis5": {
         "anchor": "x5",
         "domain": [
          0.8657142857142859,
          1
         ],
         "matches": "y",
         "showticklabels": false
        },
        "yaxis6": {
         "anchor": "x6",
         "domain": [
          0.8657142857142859,
          1
         ],
         "matches": "y",
         "showticklabels": false
        },
        "yaxis7": {
         "anchor": "x7",
         "domain": [
          0.8657142857142859,
          1
         ],
         "matches": "y",
         "showticklabels": false
        },
        "yaxis8": {
         "anchor": "x8",
         "domain": [
          0.7214285714285715,
          0.8557142857142859
         ],
         "title": {
          "text": "radius_search_ignore_query_points"
         }
        },
        "yaxis9": {
         "anchor": "x9",
         "domain": [
          0.7214285714285715,
          0.8557142857142859
         ],
         "matches": "y8",
         "showticklabels": false
        }
       }
      },
      "text/html": [
       "<div>                            <div id=\"0dc7287a-0ba6-4d13-b86c-799acc200a52\" class=\"plotly-graph-div\" style=\"height:1000px; width:1000px;\"></div>            <script type=\"text/javascript\">                require([\"plotly\"], function(Plotly) {                    window.PLOTLYENV=window.PLOTLYENV || {};                                    if (document.getElementById(\"0dc7287a-0ba6-4d13-b86c-799acc200a52\")) {                    Plotly.newPlot(                        \"0dc7287a-0ba6-4d13-b86c-799acc200a52\",                        [{\"colorscale\":[[0.0,\"#440154\"],[0.1111111111111111,\"#482878\"],[0.2222222222222222,\"#3e4989\"],[0.3333333333333333,\"#31688e\"],[0.4444444444444444,\"#26828e\"],[0.5555555555555556,\"#1f9e89\"],[0.6666666666666666,\"#35b779\"],[0.7777777777777778,\"#6ece58\"],[0.8888888888888888,\"#b5de2b\"],[1.0,\"#fde725\"]],\"x\":[\"GeLU\",\"GeLU\",\"leaky_relu\",\"tanh\",\"GeLU\",\"tanh\",\"relu\",\"GeLU\",\"GeLU\",\"relu\",\"relu\",\"tanh\",\"relu\",\"leaky_relu\",\"leaky_relu\",\"relu\",\"GeLU\",\"tanh\",\"GeLU\",\"relu\",\"GeLU\",\"relu\",\"GeLU\",\"leaky_relu\",\"relu\",\"GeLU\",\"GeLU\",\"leaky_relu\",\"tanh\",\"relu\",\"leaky_relu\"],\"y\":[\"GeLU\",\"GeLU\",\"leaky_relu\",\"tanh\",\"GeLU\",\"tanh\",\"relu\",\"GeLU\",\"GeLU\",\"relu\",\"relu\",\"tanh\",\"relu\",\"leaky_relu\",\"leaky_relu\",\"relu\",\"GeLU\",\"tanh\",\"GeLU\",\"relu\",\"GeLU\",\"relu\",\"GeLU\",\"leaky_relu\",\"relu\",\"GeLU\",\"GeLU\",\"leaky_relu\",\"tanh\",\"relu\",\"leaky_relu\"],\"z\":[0.1519712805747985,0.2104188352823257,0.2307580709457397,0.2525908648967743,0.2678727805614471,0.2904145419597626,0.384754329919815,0.4516955316066742,0.5957207083702087,0.6612871885299683,0.6737052798271179,0.6764938235282898,0.7108669877052307,0.7253999710083008,0.8056357502937317,0.8386881947517395,0.8619832396507263,0.8703534007072449,0.9019795656204224,0.9085923433303832,0.9124155044555664,0.920562982559204,0.9354971647262572,0.9366219639778136,0.938056707382202,0.941224217414856,0.9414558410644532,0.951740562915802,0.9778998494148254,0.9803254008293152,0.9882200956344604],\"type\":\"heatmap\",\"xaxis\":\"x\",\"yaxis\":\"y\"},{\"colorscale\":[[0.0,\"#440154\"],[0.1111111111111111,\"#482878\"],[0.2222222222222222,\"#3e4989\"],[0.3333333333333333,\"#31688e\"],[0.4444444444444444,\"#26828e\"],[0.5555555555555556,\"#1f9e89\"],[0.6666666666666666,\"#35b779\"],[0.7777777777777778,\"#6ece58\"],[0.8888888888888888,\"#b5de2b\"],[1.0,\"#fde725\"]],\"x\":[\"GeLU\",\"GeLU\",\"leaky_relu\",\"tanh\",\"GeLU\",\"tanh\",\"relu\",\"GeLU\",\"GeLU\",\"relu\",\"relu\",\"tanh\",\"relu\",\"leaky_relu\",\"leaky_relu\",\"relu\",\"GeLU\",\"tanh\",\"GeLU\",\"relu\",\"GeLU\",\"relu\",\"GeLU\",\"leaky_relu\",\"relu\",\"GeLU\",\"GeLU\",\"leaky_relu\",\"tanh\",\"relu\",\"leaky_relu\"],\"y\":[true,true,false,false,true,true,false,false,false,false,false,false,true,false,true,true,false,true,false,false,false,false,false,false,true,false,true,true,false,true,false],\"z\":[0.1519712805747985,0.2104188352823257,0.2307580709457397,0.2525908648967743,0.2678727805614471,0.2904145419597626,0.384754329919815,0.4516955316066742,0.5957207083702087,0.6612871885299683,0.6737052798271179,0.6764938235282898,0.7108669877052307,0.7253999710083008,0.8056357502937317,0.8386881947517395,0.8619832396507263,0.8703534007072449,0.9019795656204224,0.9085923433303832,0.9124155044555664,0.920562982559204,0.9354971647262572,0.9366219639778136,0.938056707382202,0.941224217414856,0.9414558410644532,0.951740562915802,0.9778998494148254,0.9803254008293152,0.9882200956344604],\"type\":\"heatmap\",\"xaxis\":\"x2\",\"yaxis\":\"y2\"},{\"colorscale\":[[0.0,\"#440154\"],[0.1111111111111111,\"#482878\"],[0.2222222222222222,\"#3e4989\"],[0.3333333333333333,\"#31688e\"],[0.4444444444444444,\"#26828e\"],[0.5555555555555556,\"#1f9e89\"],[0.6666666666666666,\"#35b779\"],[0.7777777777777778,\"#6ece58\"],[0.8888888888888888,\"#b5de2b\"],[1.0,\"#fde725\"]],\"x\":[\"GeLU\",\"GeLU\",\"leaky_relu\",\"tanh\",\"GeLU\",\"tanh\",\"relu\",\"GeLU\",\"GeLU\",\"relu\",\"relu\",\"tanh\",\"relu\",\"leaky_relu\",\"leaky_relu\",\"relu\",\"GeLU\",\"tanh\",\"GeLU\",\"relu\",\"GeLU\",\"relu\",\"GeLU\",\"leaky_relu\",\"relu\",\"GeLU\",\"GeLU\",\"leaky_relu\",\"tanh\",\"relu\",\"leaky_relu\"],\"y\":[\"None\",true,true,true,\"None\",true,\"None\",\"None\",false,false,true,false,\"None\",true,false,true,\"None\",false,true,\"None\",true,false,false,true,\"None\",\"None\",\"None\",true,true,true,true],\"z\":[0.1519712805747985,0.2104188352823257,0.2307580709457397,0.2525908648967743,0.2678727805614471,0.2904145419597626,0.384754329919815,0.4516955316066742,0.5957207083702087,0.6612871885299683,0.6737052798271179,0.6764938235282898,0.7108669877052307,0.7253999710083008,0.8056357502937317,0.8386881947517395,0.8619832396507263,0.8703534007072449,0.9019795656204224,0.9085923433303832,0.9124155044555664,0.920562982559204,0.9354971647262572,0.9366219639778136,0.938056707382202,0.941224217414856,0.9414558410644532,0.951740562915802,0.9778998494148254,0.9803254008293152,0.9882200956344604],\"type\":\"heatmap\",\"xaxis\":\"x3\",\"yaxis\":\"y3\"},{\"colorscale\":[[0.0,\"#440154\"],[0.1111111111111111,\"#482878\"],[0.2222222222222222,\"#3e4989\"],[0.3333333333333333,\"#31688e\"],[0.4444444444444444,\"#26828e\"],[0.5555555555555556,\"#1f9e89\"],[0.6666666666666666,\"#35b779\"],[0.7777777777777778,\"#6ece58\"],[0.8888888888888888,\"#b5de2b\"],[1.0,\"#fde725\"]],\"x\":[\"GeLU\",\"GeLU\",\"leaky_relu\",\"tanh\",\"GeLU\",\"tanh\",\"relu\",\"GeLU\",\"GeLU\",\"relu\",\"relu\",\"tanh\",\"relu\",\"leaky_relu\",\"leaky_relu\",\"relu\",\"GeLU\",\"tanh\",\"GeLU\",\"relu\",\"GeLU\",\"relu\",\"GeLU\",\"leaky_relu\",\"relu\",\"GeLU\",\"GeLU\",\"leaky_relu\",\"tanh\",\"relu\",\"leaky_relu\"],\"y\":[false,false,false,false,false,false,false,true,true,false,true,true,true,true,true,true,true,true,true,true,true,true,true,true,true,true,true,true,true,true,true],\"z\":[0.1519712805747985,0.2104188352823257,0.2307580709457397,0.2525908648967743,0.2678727805614471,0.2904145419597626,0.384754329919815,0.4516955316066742,0.5957207083702087,0.6612871885299683,0.6737052798271179,0.6764938235282898,0.7108669877052307,0.7253999710083008,0.8056357502937317,0.8386881947517395,0.8619832396507263,0.8703534007072449,0.9019795656204224,0.9085923433303832,0.9124155044555664,0.920562982559204,0.9354971647262572,0.9366219639778136,0.938056707382202,0.941224217414856,0.9414558410644532,0.951740562915802,0.9778998494148254,0.9803254008293152,0.9882200956344604],\"type\":\"heatmap\",\"xaxis\":\"x4\",\"yaxis\":\"y4\"},{\"colorscale\":[[0.0,\"#440154\"],[0.1111111111111111,\"#482878\"],[0.2222222222222222,\"#3e4989\"],[0.3333333333333333,\"#31688e\"],[0.4444444444444444,\"#26828e\"],[0.5555555555555556,\"#1f9e89\"],[0.6666666666666666,\"#35b779\"],[0.7777777777777778,\"#6ece58\"],[0.8888888888888888,\"#b5de2b\"],[1.0,\"#fde725\"]],\"x\":[\"GeLU\",\"GeLU\",\"leaky_relu\",\"tanh\",\"GeLU\",\"tanh\",\"relu\",\"GeLU\",\"GeLU\",\"relu\",\"relu\",\"tanh\",\"relu\",\"leaky_relu\",\"leaky_relu\",\"relu\",\"GeLU\",\"tanh\",\"GeLU\",\"relu\",\"GeLU\",\"relu\",\"GeLU\",\"leaky_relu\",\"relu\",\"GeLU\",\"GeLU\",\"leaky_relu\",\"tanh\",\"relu\",\"leaky_relu\"],\"y\":[\"None\",\"poly6\",\"gaussian\",\"gaussian\",\"poly6\",\"gaussian\",\"None\",\"None\",\"poly6\",\"None\",\"poly6\",\"poly6\",\"None\",\"gaussian\",\"None\",\"poly6\",\"None\",\"None\",\"gaussian\",\"poly6\",\"poly6\",\"poly6\",\"None\",\"gaussian\",\"poly6\",\"None\",\"poly6\",\"poly6\",\"poly6\",\"gaussian\",\"gaussian\"],\"z\":[0.1519712805747985,0.2104188352823257,0.2307580709457397,0.2525908648967743,0.2678727805614471,0.2904145419597626,0.384754329919815,0.4516955316066742,0.5957207083702087,0.6612871885299683,0.6737052798271179,0.6764938235282898,0.7108669877052307,0.7253999710083008,0.8056357502937317,0.8386881947517395,0.8619832396507263,0.8703534007072449,0.9019795656204224,0.9085923433303832,0.9124155044555664,0.920562982559204,0.9354971647262572,0.9366219639778136,0.938056707382202,0.941224217414856,0.9414558410644532,0.951740562915802,0.9778998494148254,0.9803254008293152,0.9882200956344604],\"type\":\"heatmap\",\"xaxis\":\"x5\",\"yaxis\":\"y5\"},{\"colorscale\":[[0.0,\"#440154\"],[0.1111111111111111,\"#482878\"],[0.2222222222222222,\"#3e4989\"],[0.3333333333333333,\"#31688e\"],[0.4444444444444444,\"#26828e\"],[0.5555555555555556,\"#1f9e89\"],[0.6666666666666666,\"#35b779\"],[0.7777777777777778,\"#6ece58\"],[0.8888888888888888,\"#b5de2b\"],[1.0,\"#fde725\"]],\"x\":[\"GeLU\",\"GeLU\",\"leaky_relu\",\"tanh\",\"GeLU\",\"tanh\",\"relu\",\"GeLU\",\"GeLU\",\"relu\",\"relu\",\"tanh\",\"relu\",\"leaky_relu\",\"leaky_relu\",\"relu\",\"GeLU\",\"tanh\",\"GeLU\",\"relu\",\"GeLU\",\"relu\",\"GeLU\",\"leaky_relu\",\"relu\",\"GeLU\",\"GeLU\",\"leaky_relu\",\"tanh\",\"relu\",\"leaky_relu\"],\"y\":[true,true,true,false,false,false,false,true,true,true,false,false,false,true,false,true,false,false,true,true,true,false,false,false,false,false,true,true,true,false,true],\"z\":[0.1519712805747985,0.2104188352823257,0.2307580709457397,0.2525908648967743,0.2678727805614471,0.2904145419597626,0.384754329919815,0.4516955316066742,0.5957207083702087,0.6612871885299683,0.6737052798271179,0.6764938235282898,0.7108669877052307,0.7253999710083008,0.8056357502937317,0.8386881947517395,0.8619832396507263,0.8703534007072449,0.9019795656204224,0.9085923433303832,0.9124155044555664,0.920562982559204,0.9354971647262572,0.9366219639778136,0.938056707382202,0.941224217414856,0.9414558410644532,0.951740562915802,0.9778998494148254,0.9803254008293152,0.9882200956344604],\"type\":\"heatmap\",\"xaxis\":\"x6\",\"yaxis\":\"y6\"},{\"colorscale\":[[0.0,\"#440154\"],[0.1111111111111111,\"#482878\"],[0.2222222222222222,\"#3e4989\"],[0.3333333333333333,\"#31688e\"],[0.4444444444444444,\"#26828e\"],[0.5555555555555556,\"#1f9e89\"],[0.6666666666666666,\"#35b779\"],[0.7777777777777778,\"#6ece58\"],[0.8888888888888888,\"#b5de2b\"],[1.0,\"#fde725\"]],\"x\":[\"GeLU\",\"GeLU\",\"leaky_relu\",\"tanh\",\"GeLU\",\"tanh\",\"relu\",\"GeLU\",\"GeLU\",\"relu\",\"relu\",\"tanh\",\"relu\",\"leaky_relu\",\"leaky_relu\",\"relu\",\"GeLU\",\"tanh\",\"GeLU\",\"relu\",\"GeLU\",\"relu\",\"GeLU\",\"leaky_relu\",\"relu\",\"GeLU\",\"GeLU\",\"leaky_relu\",\"tanh\",\"relu\",\"leaky_relu\"],\"y\":[true,true,false,false,true,false,true,true,false,true,true,true,true,false,false,true,true,true,false,false,false,true,false,false,false,true,true,true,true,true,true],\"z\":[0.1519712805747985,0.2104188352823257,0.2307580709457397,0.2525908648967743,0.2678727805614471,0.2904145419597626,0.384754329919815,0.4516955316066742,0.5957207083702087,0.6612871885299683,0.6737052798271179,0.6764938235282898,0.7108669877052307,0.7253999710083008,0.8056357502937317,0.8386881947517395,0.8619832396507263,0.8703534007072449,0.9019795656204224,0.9085923433303832,0.9124155044555664,0.920562982559204,0.9354971647262572,0.9366219639778136,0.938056707382202,0.941224217414856,0.9414558410644532,0.951740562915802,0.9778998494148254,0.9803254008293152,0.9882200956344604],\"type\":\"heatmap\",\"xaxis\":\"x7\",\"yaxis\":\"y7\"},{\"colorscale\":[[0.0,\"#440154\"],[0.1111111111111111,\"#482878\"],[0.2222222222222222,\"#3e4989\"],[0.3333333333333333,\"#31688e\"],[0.4444444444444444,\"#26828e\"],[0.5555555555555556,\"#1f9e89\"],[0.6666666666666666,\"#35b779\"],[0.7777777777777778,\"#6ece58\"],[0.8888888888888888,\"#b5de2b\"],[1.0,\"#fde725\"]],\"x\":[true,true,false,false,true,true,false,false,false,false,false,false,true,false,true,true,false,true,false,false,false,false,false,false,true,false,true,true,false,true,false],\"y\":[\"GeLU\",\"GeLU\",\"leaky_relu\",\"tanh\",\"GeLU\",\"tanh\",\"relu\",\"GeLU\",\"GeLU\",\"relu\",\"relu\",\"tanh\",\"relu\",\"leaky_relu\",\"leaky_relu\",\"relu\",\"GeLU\",\"tanh\",\"GeLU\",\"relu\",\"GeLU\",\"relu\",\"GeLU\",\"leaky_relu\",\"relu\",\"GeLU\",\"GeLU\",\"leaky_relu\",\"tanh\",\"relu\",\"leaky_relu\"],\"z\":[0.1519712805747985,0.2104188352823257,0.2307580709457397,0.2525908648967743,0.2678727805614471,0.2904145419597626,0.384754329919815,0.4516955316066742,0.5957207083702087,0.6612871885299683,0.6737052798271179,0.6764938235282898,0.7108669877052307,0.7253999710083008,0.8056357502937317,0.8386881947517395,0.8619832396507263,0.8703534007072449,0.9019795656204224,0.9085923433303832,0.9124155044555664,0.920562982559204,0.9354971647262572,0.9366219639778136,0.938056707382202,0.941224217414856,0.9414558410644532,0.951740562915802,0.9778998494148254,0.9803254008293152,0.9882200956344604],\"type\":\"heatmap\",\"xaxis\":\"x8\",\"yaxis\":\"y8\"},{\"colorscale\":[[0.0,\"#440154\"],[0.1111111111111111,\"#482878\"],[0.2222222222222222,\"#3e4989\"],[0.3333333333333333,\"#31688e\"],[0.4444444444444444,\"#26828e\"],[0.5555555555555556,\"#1f9e89\"],[0.6666666666666666,\"#35b779\"],[0.7777777777777778,\"#6ece58\"],[0.8888888888888888,\"#b5de2b\"],[1.0,\"#fde725\"]],\"x\":[true,true,false,false,true,true,false,false,false,false,false,false,true,false,true,true,false,true,false,false,false,false,false,false,true,false,true,true,false,true,false],\"y\":[true,true,false,false,true,true,false,false,false,false,false,false,true,false,true,true,false,true,false,false,false,false,false,false,true,false,true,true,false,true,false],\"z\":[0.1519712805747985,0.2104188352823257,0.2307580709457397,0.2525908648967743,0.2678727805614471,0.2904145419597626,0.384754329919815,0.4516955316066742,0.5957207083702087,0.6612871885299683,0.6737052798271179,0.6764938235282898,0.7108669877052307,0.7253999710083008,0.8056357502937317,0.8386881947517395,0.8619832396507263,0.8703534007072449,0.9019795656204224,0.9085923433303832,0.9124155044555664,0.920562982559204,0.9354971647262572,0.9366219639778136,0.938056707382202,0.941224217414856,0.9414558410644532,0.951740562915802,0.9778998494148254,0.9803254008293152,0.9882200956344604],\"type\":\"heatmap\",\"xaxis\":\"x9\",\"yaxis\":\"y9\"},{\"colorscale\":[[0.0,\"#440154\"],[0.1111111111111111,\"#482878\"],[0.2222222222222222,\"#3e4989\"],[0.3333333333333333,\"#31688e\"],[0.4444444444444444,\"#26828e\"],[0.5555555555555556,\"#1f9e89\"],[0.6666666666666666,\"#35b779\"],[0.7777777777777778,\"#6ece58\"],[0.8888888888888888,\"#b5de2b\"],[1.0,\"#fde725\"]],\"x\":[true,true,false,false,true,true,false,false,false,false,false,false,true,false,true,true,false,true,false,false,false,false,false,false,true,false,true,true,false,true,false],\"y\":[\"None\",true,true,true,\"None\",true,\"None\",\"None\",false,false,true,false,\"None\",true,false,true,\"None\",false,true,\"None\",true,false,false,true,\"None\",\"None\",\"None\",true,true,true,true],\"z\":[0.1519712805747985,0.2104188352823257,0.2307580709457397,0.2525908648967743,0.2678727805614471,0.2904145419597626,0.384754329919815,0.4516955316066742,0.5957207083702087,0.6612871885299683,0.6737052798271179,0.6764938235282898,0.7108669877052307,0.7253999710083008,0.8056357502937317,0.8386881947517395,0.8619832396507263,0.8703534007072449,0.9019795656204224,0.9085923433303832,0.9124155044555664,0.920562982559204,0.9354971647262572,0.9366219639778136,0.938056707382202,0.941224217414856,0.9414558410644532,0.951740562915802,0.9778998494148254,0.9803254008293152,0.9882200956344604],\"type\":\"heatmap\",\"xaxis\":\"x10\",\"yaxis\":\"y10\"},{\"colorscale\":[[0.0,\"#440154\"],[0.1111111111111111,\"#482878\"],[0.2222222222222222,\"#3e4989\"],[0.3333333333333333,\"#31688e\"],[0.4444444444444444,\"#26828e\"],[0.5555555555555556,\"#1f9e89\"],[0.6666666666666666,\"#35b779\"],[0.7777777777777778,\"#6ece58\"],[0.8888888888888888,\"#b5de2b\"],[1.0,\"#fde725\"]],\"x\":[true,true,false,false,true,true,false,false,false,false,false,false,true,false,true,true,false,true,false,false,false,false,false,false,true,false,true,true,false,true,false],\"y\":[false,false,false,false,false,false,false,true,true,false,true,true,true,true,true,true,true,true,true,true,true,true,true,true,true,true,true,true,true,true,true],\"z\":[0.1519712805747985,0.2104188352823257,0.2307580709457397,0.2525908648967743,0.2678727805614471,0.2904145419597626,0.384754329919815,0.4516955316066742,0.5957207083702087,0.6612871885299683,0.6737052798271179,0.6764938235282898,0.7108669877052307,0.7253999710083008,0.8056357502937317,0.8386881947517395,0.8619832396507263,0.8703534007072449,0.9019795656204224,0.9085923433303832,0.9124155044555664,0.920562982559204,0.9354971647262572,0.9366219639778136,0.938056707382202,0.941224217414856,0.9414558410644532,0.951740562915802,0.9778998494148254,0.9803254008293152,0.9882200956344604],\"type\":\"heatmap\",\"xaxis\":\"x11\",\"yaxis\":\"y11\"},{\"colorscale\":[[0.0,\"#440154\"],[0.1111111111111111,\"#482878\"],[0.2222222222222222,\"#3e4989\"],[0.3333333333333333,\"#31688e\"],[0.4444444444444444,\"#26828e\"],[0.5555555555555556,\"#1f9e89\"],[0.6666666666666666,\"#35b779\"],[0.7777777777777778,\"#6ece58\"],[0.8888888888888888,\"#b5de2b\"],[1.0,\"#fde725\"]],\"x\":[true,true,false,false,true,true,false,false,false,false,false,false,true,false,true,true,false,true,false,false,false,false,false,false,true,false,true,true,false,true,false],\"y\":[\"None\",\"poly6\",\"gaussian\",\"gaussian\",\"poly6\",\"gaussian\",\"None\",\"None\",\"poly6\",\"None\",\"poly6\",\"poly6\",\"None\",\"gaussian\",\"None\",\"poly6\",\"None\",\"None\",\"gaussian\",\"poly6\",\"poly6\",\"poly6\",\"None\",\"gaussian\",\"poly6\",\"None\",\"poly6\",\"poly6\",\"poly6\",\"gaussian\",\"gaussian\"],\"z\":[0.1519712805747985,0.2104188352823257,0.2307580709457397,0.2525908648967743,0.2678727805614471,0.2904145419597626,0.384754329919815,0.4516955316066742,0.5957207083702087,0.6612871885299683,0.6737052798271179,0.6764938235282898,0.7108669877052307,0.7253999710083008,0.8056357502937317,0.8386881947517395,0.8619832396507263,0.8703534007072449,0.9019795656204224,0.9085923433303832,0.9124155044555664,0.920562982559204,0.9354971647262572,0.9366219639778136,0.938056707382202,0.941224217414856,0.9414558410644532,0.951740562915802,0.9778998494148254,0.9803254008293152,0.9882200956344604],\"type\":\"heatmap\",\"xaxis\":\"x12\",\"yaxis\":\"y12\"},{\"colorscale\":[[0.0,\"#440154\"],[0.1111111111111111,\"#482878\"],[0.2222222222222222,\"#3e4989\"],[0.3333333333333333,\"#31688e\"],[0.4444444444444444,\"#26828e\"],[0.5555555555555556,\"#1f9e89\"],[0.6666666666666666,\"#35b779\"],[0.7777777777777778,\"#6ece58\"],[0.8888888888888888,\"#b5de2b\"],[1.0,\"#fde725\"]],\"x\":[true,true,false,false,true,true,false,false,false,false,false,false,true,false,true,true,false,true,false,false,false,false,false,false,true,false,true,true,false,true,false],\"y\":[true,true,true,false,false,false,false,true,true,true,false,false,false,true,false,true,false,false,true,true,true,false,false,false,false,false,true,true,true,false,true],\"z\":[0.1519712805747985,0.2104188352823257,0.2307580709457397,0.2525908648967743,0.2678727805614471,0.2904145419597626,0.384754329919815,0.4516955316066742,0.5957207083702087,0.6612871885299683,0.6737052798271179,0.6764938235282898,0.7108669877052307,0.7253999710083008,0.8056357502937317,0.8386881947517395,0.8619832396507263,0.8703534007072449,0.9019795656204224,0.9085923433303832,0.9124155044555664,0.920562982559204,0.9354971647262572,0.9366219639778136,0.938056707382202,0.941224217414856,0.9414558410644532,0.951740562915802,0.9778998494148254,0.9803254008293152,0.9882200956344604],\"type\":\"heatmap\",\"xaxis\":\"x13\",\"yaxis\":\"y13\"},{\"colorscale\":[[0.0,\"#440154\"],[0.1111111111111111,\"#482878\"],[0.2222222222222222,\"#3e4989\"],[0.3333333333333333,\"#31688e\"],[0.4444444444444444,\"#26828e\"],[0.5555555555555556,\"#1f9e89\"],[0.6666666666666666,\"#35b779\"],[0.7777777777777778,\"#6ece58\"],[0.8888888888888888,\"#b5de2b\"],[1.0,\"#fde725\"]],\"x\":[true,true,false,false,true,true,false,false,false,false,false,false,true,false,true,true,false,true,false,false,false,false,false,false,true,false,true,true,false,true,false],\"y\":[true,true,false,false,true,false,true,true,false,true,true,true,true,false,false,true,true,true,false,false,false,true,false,false,false,true,true,true,true,true,true],\"z\":[0.1519712805747985,0.2104188352823257,0.2307580709457397,0.2525908648967743,0.2678727805614471,0.2904145419597626,0.384754329919815,0.4516955316066742,0.5957207083702087,0.6612871885299683,0.6737052798271179,0.6764938235282898,0.7108669877052307,0.7253999710083008,0.8056357502937317,0.8386881947517395,0.8619832396507263,0.8703534007072449,0.9019795656204224,0.9085923433303832,0.9124155044555664,0.920562982559204,0.9354971647262572,0.9366219639778136,0.938056707382202,0.941224217414856,0.9414558410644532,0.951740562915802,0.9778998494148254,0.9803254008293152,0.9882200956344604],\"type\":\"heatmap\",\"xaxis\":\"x14\",\"yaxis\":\"y14\"},{\"colorscale\":[[0.0,\"#440154\"],[0.1111111111111111,\"#482878\"],[0.2222222222222222,\"#3e4989\"],[0.3333333333333333,\"#31688e\"],[0.4444444444444444,\"#26828e\"],[0.5555555555555556,\"#1f9e89\"],[0.6666666666666666,\"#35b779\"],[0.7777777777777778,\"#6ece58\"],[0.8888888888888888,\"#b5de2b\"],[1.0,\"#fde725\"]],\"x\":[\"None\",true,true,true,\"None\",true,\"None\",\"None\",false,false,true,false,\"None\",true,false,true,\"None\",false,true,\"None\",true,false,false,true,\"None\",\"None\",\"None\",true,true,true,true],\"y\":[\"GeLU\",\"GeLU\",\"leaky_relu\",\"tanh\",\"GeLU\",\"tanh\",\"relu\",\"GeLU\",\"GeLU\",\"relu\",\"relu\",\"tanh\",\"relu\",\"leaky_relu\",\"leaky_relu\",\"relu\",\"GeLU\",\"tanh\",\"GeLU\",\"relu\",\"GeLU\",\"relu\",\"GeLU\",\"leaky_relu\",\"relu\",\"GeLU\",\"GeLU\",\"leaky_relu\",\"tanh\",\"relu\",\"leaky_relu\"],\"z\":[0.1519712805747985,0.2104188352823257,0.2307580709457397,0.2525908648967743,0.2678727805614471,0.2904145419597626,0.384754329919815,0.4516955316066742,0.5957207083702087,0.6612871885299683,0.6737052798271179,0.6764938235282898,0.7108669877052307,0.7253999710083008,0.8056357502937317,0.8386881947517395,0.8619832396507263,0.8703534007072449,0.9019795656204224,0.9085923433303832,0.9124155044555664,0.920562982559204,0.9354971647262572,0.9366219639778136,0.938056707382202,0.941224217414856,0.9414558410644532,0.951740562915802,0.9778998494148254,0.9803254008293152,0.9882200956344604],\"type\":\"heatmap\",\"xaxis\":\"x15\",\"yaxis\":\"y15\"},{\"colorscale\":[[0.0,\"#440154\"],[0.1111111111111111,\"#482878\"],[0.2222222222222222,\"#3e4989\"],[0.3333333333333333,\"#31688e\"],[0.4444444444444444,\"#26828e\"],[0.5555555555555556,\"#1f9e89\"],[0.6666666666666666,\"#35b779\"],[0.7777777777777778,\"#6ece58\"],[0.8888888888888888,\"#b5de2b\"],[1.0,\"#fde725\"]],\"x\":[\"None\",true,true,true,\"None\",true,\"None\",\"None\",false,false,true,false,\"None\",true,false,true,\"None\",false,true,\"None\",true,false,false,true,\"None\",\"None\",\"None\",true,true,true,true],\"y\":[true,true,false,false,true,true,false,false,false,false,false,false,true,false,true,true,false,true,false,false,false,false,false,false,true,false,true,true,false,true,false],\"z\":[0.1519712805747985,0.2104188352823257,0.2307580709457397,0.2525908648967743,0.2678727805614471,0.2904145419597626,0.384754329919815,0.4516955316066742,0.5957207083702087,0.6612871885299683,0.6737052798271179,0.6764938235282898,0.7108669877052307,0.7253999710083008,0.8056357502937317,0.8386881947517395,0.8619832396507263,0.8703534007072449,0.9019795656204224,0.9085923433303832,0.9124155044555664,0.920562982559204,0.9354971647262572,0.9366219639778136,0.938056707382202,0.941224217414856,0.9414558410644532,0.951740562915802,0.9778998494148254,0.9803254008293152,0.9882200956344604],\"type\":\"heatmap\",\"xaxis\":\"x16\",\"yaxis\":\"y16\"},{\"colorscale\":[[0.0,\"#440154\"],[0.1111111111111111,\"#482878\"],[0.2222222222222222,\"#3e4989\"],[0.3333333333333333,\"#31688e\"],[0.4444444444444444,\"#26828e\"],[0.5555555555555556,\"#1f9e89\"],[0.6666666666666666,\"#35b779\"],[0.7777777777777778,\"#6ece58\"],[0.8888888888888888,\"#b5de2b\"],[1.0,\"#fde725\"]],\"x\":[\"None\",true,true,true,\"None\",true,\"None\",\"None\",false,false,true,false,\"None\",true,false,true,\"None\",false,true,\"None\",true,false,false,true,\"None\",\"None\",\"None\",true,true,true,true],\"y\":[\"None\",true,true,true,\"None\",true,\"None\",\"None\",false,false,true,false,\"None\",true,false,true,\"None\",false,true,\"None\",true,false,false,true,\"None\",\"None\",\"None\",true,true,true,true],\"z\":[0.1519712805747985,0.2104188352823257,0.2307580709457397,0.2525908648967743,0.2678727805614471,0.2904145419597626,0.384754329919815,0.4516955316066742,0.5957207083702087,0.6612871885299683,0.6737052798271179,0.6764938235282898,0.7108669877052307,0.7253999710083008,0.8056357502937317,0.8386881947517395,0.8619832396507263,0.8703534007072449,0.9019795656204224,0.9085923433303832,0.9124155044555664,0.920562982559204,0.9354971647262572,0.9366219639778136,0.938056707382202,0.941224217414856,0.9414558410644532,0.951740562915802,0.9778998494148254,0.9803254008293152,0.9882200956344604],\"type\":\"heatmap\",\"xaxis\":\"x17\",\"yaxis\":\"y17\"},{\"colorscale\":[[0.0,\"#440154\"],[0.1111111111111111,\"#482878\"],[0.2222222222222222,\"#3e4989\"],[0.3333333333333333,\"#31688e\"],[0.4444444444444444,\"#26828e\"],[0.5555555555555556,\"#1f9e89\"],[0.6666666666666666,\"#35b779\"],[0.7777777777777778,\"#6ece58\"],[0.8888888888888888,\"#b5de2b\"],[1.0,\"#fde725\"]],\"x\":[\"None\",true,true,true,\"None\",true,\"None\",\"None\",false,false,true,false,\"None\",true,false,true,\"None\",false,true,\"None\",true,false,false,true,\"None\",\"None\",\"None\",true,true,true,true],\"y\":[false,false,false,false,false,false,false,true,true,false,true,true,true,true,true,true,true,true,true,true,true,true,true,true,true,true,true,true,true,true,true],\"z\":[0.1519712805747985,0.2104188352823257,0.2307580709457397,0.2525908648967743,0.2678727805614471,0.2904145419597626,0.384754329919815,0.4516955316066742,0.5957207083702087,0.6612871885299683,0.6737052798271179,0.6764938235282898,0.7108669877052307,0.7253999710083008,0.8056357502937317,0.8386881947517395,0.8619832396507263,0.8703534007072449,0.9019795656204224,0.9085923433303832,0.9124155044555664,0.920562982559204,0.9354971647262572,0.9366219639778136,0.938056707382202,0.941224217414856,0.9414558410644532,0.951740562915802,0.9778998494148254,0.9803254008293152,0.9882200956344604],\"type\":\"heatmap\",\"xaxis\":\"x18\",\"yaxis\":\"y18\"},{\"colorscale\":[[0.0,\"#440154\"],[0.1111111111111111,\"#482878\"],[0.2222222222222222,\"#3e4989\"],[0.3333333333333333,\"#31688e\"],[0.4444444444444444,\"#26828e\"],[0.5555555555555556,\"#1f9e89\"],[0.6666666666666666,\"#35b779\"],[0.7777777777777778,\"#6ece58\"],[0.8888888888888888,\"#b5de2b\"],[1.0,\"#fde725\"]],\"x\":[\"None\",true,true,true,\"None\",true,\"None\",\"None\",false,false,true,false,\"None\",true,false,true,\"None\",false,true,\"None\",true,false,false,true,\"None\",\"None\",\"None\",true,true,true,true],\"y\":[\"None\",\"poly6\",\"gaussian\",\"gaussian\",\"poly6\",\"gaussian\",\"None\",\"None\",\"poly6\",\"None\",\"poly6\",\"poly6\",\"None\",\"gaussian\",\"None\",\"poly6\",\"None\",\"None\",\"gaussian\",\"poly6\",\"poly6\",\"poly6\",\"None\",\"gaussian\",\"poly6\",\"None\",\"poly6\",\"poly6\",\"poly6\",\"gaussian\",\"gaussian\"],\"z\":[0.1519712805747985,0.2104188352823257,0.2307580709457397,0.2525908648967743,0.2678727805614471,0.2904145419597626,0.384754329919815,0.4516955316066742,0.5957207083702087,0.6612871885299683,0.6737052798271179,0.6764938235282898,0.7108669877052307,0.7253999710083008,0.8056357502937317,0.8386881947517395,0.8619832396507263,0.8703534007072449,0.9019795656204224,0.9085923433303832,0.9124155044555664,0.920562982559204,0.9354971647262572,0.9366219639778136,0.938056707382202,0.941224217414856,0.9414558410644532,0.951740562915802,0.9778998494148254,0.9803254008293152,0.9882200956344604],\"type\":\"heatmap\",\"xaxis\":\"x19\",\"yaxis\":\"y19\"},{\"colorscale\":[[0.0,\"#440154\"],[0.1111111111111111,\"#482878\"],[0.2222222222222222,\"#3e4989\"],[0.3333333333333333,\"#31688e\"],[0.4444444444444444,\"#26828e\"],[0.5555555555555556,\"#1f9e89\"],[0.6666666666666666,\"#35b779\"],[0.7777777777777778,\"#6ece58\"],[0.8888888888888888,\"#b5de2b\"],[1.0,\"#fde725\"]],\"x\":[\"None\",true,true,true,\"None\",true,\"None\",\"None\",false,false,true,false,\"None\",true,false,true,\"None\",false,true,\"None\",true,false,false,true,\"None\",\"None\",\"None\",true,true,true,true],\"y\":[true,true,true,false,false,false,false,true,true,true,false,false,false,true,false,true,false,false,true,true,true,false,false,false,false,false,true,true,true,false,true],\"z\":[0.1519712805747985,0.2104188352823257,0.2307580709457397,0.2525908648967743,0.2678727805614471,0.2904145419597626,0.384754329919815,0.4516955316066742,0.5957207083702087,0.6612871885299683,0.6737052798271179,0.6764938235282898,0.7108669877052307,0.7253999710083008,0.8056357502937317,0.8386881947517395,0.8619832396507263,0.8703534007072449,0.9019795656204224,0.9085923433303832,0.9124155044555664,0.920562982559204,0.9354971647262572,0.9366219639778136,0.938056707382202,0.941224217414856,0.9414558410644532,0.951740562915802,0.9778998494148254,0.9803254008293152,0.9882200956344604],\"type\":\"heatmap\",\"xaxis\":\"x20\",\"yaxis\":\"y20\"},{\"colorscale\":[[0.0,\"#440154\"],[0.1111111111111111,\"#482878\"],[0.2222222222222222,\"#3e4989\"],[0.3333333333333333,\"#31688e\"],[0.4444444444444444,\"#26828e\"],[0.5555555555555556,\"#1f9e89\"],[0.6666666666666666,\"#35b779\"],[0.7777777777777778,\"#6ece58\"],[0.8888888888888888,\"#b5de2b\"],[1.0,\"#fde725\"]],\"x\":[\"None\",true,true,true,\"None\",true,\"None\",\"None\",false,false,true,false,\"None\",true,false,true,\"None\",false,true,\"None\",true,false,false,true,\"None\",\"None\",\"None\",true,true,true,true],\"y\":[true,true,false,false,true,false,true,true,false,true,true,true,true,false,false,true,true,true,false,false,false,true,false,false,false,true,true,true,true,true,true],\"z\":[0.1519712805747985,0.2104188352823257,0.2307580709457397,0.2525908648967743,0.2678727805614471,0.2904145419597626,0.384754329919815,0.4516955316066742,0.5957207083702087,0.6612871885299683,0.6737052798271179,0.6764938235282898,0.7108669877052307,0.7253999710083008,0.8056357502937317,0.8386881947517395,0.8619832396507263,0.8703534007072449,0.9019795656204224,0.9085923433303832,0.9124155044555664,0.920562982559204,0.9354971647262572,0.9366219639778136,0.938056707382202,0.941224217414856,0.9414558410644532,0.951740562915802,0.9778998494148254,0.9803254008293152,0.9882200956344604],\"type\":\"heatmap\",\"xaxis\":\"x21\",\"yaxis\":\"y21\"},{\"colorscale\":[[0.0,\"#440154\"],[0.1111111111111111,\"#482878\"],[0.2222222222222222,\"#3e4989\"],[0.3333333333333333,\"#31688e\"],[0.4444444444444444,\"#26828e\"],[0.5555555555555556,\"#1f9e89\"],[0.6666666666666666,\"#35b779\"],[0.7777777777777778,\"#6ece58\"],[0.8888888888888888,\"#b5de2b\"],[1.0,\"#fde725\"]],\"x\":[false,false,false,false,false,false,false,true,true,false,true,true,true,true,true,true,true,true,true,true,true,true,true,true,true,true,true,true,true,true,true],\"y\":[\"GeLU\",\"GeLU\",\"leaky_relu\",\"tanh\",\"GeLU\",\"tanh\",\"relu\",\"GeLU\",\"GeLU\",\"relu\",\"relu\",\"tanh\",\"relu\",\"leaky_relu\",\"leaky_relu\",\"relu\",\"GeLU\",\"tanh\",\"GeLU\",\"relu\",\"GeLU\",\"relu\",\"GeLU\",\"leaky_relu\",\"relu\",\"GeLU\",\"GeLU\",\"leaky_relu\",\"tanh\",\"relu\",\"leaky_relu\"],\"z\":[0.1519712805747985,0.2104188352823257,0.2307580709457397,0.2525908648967743,0.2678727805614471,0.2904145419597626,0.384754329919815,0.4516955316066742,0.5957207083702087,0.6612871885299683,0.6737052798271179,0.6764938235282898,0.7108669877052307,0.7253999710083008,0.8056357502937317,0.8386881947517395,0.8619832396507263,0.8703534007072449,0.9019795656204224,0.9085923433303832,0.9124155044555664,0.920562982559204,0.9354971647262572,0.9366219639778136,0.938056707382202,0.941224217414856,0.9414558410644532,0.951740562915802,0.9778998494148254,0.9803254008293152,0.9882200956344604],\"type\":\"heatmap\",\"xaxis\":\"x22\",\"yaxis\":\"y22\"},{\"colorscale\":[[0.0,\"#440154\"],[0.1111111111111111,\"#482878\"],[0.2222222222222222,\"#3e4989\"],[0.3333333333333333,\"#31688e\"],[0.4444444444444444,\"#26828e\"],[0.5555555555555556,\"#1f9e89\"],[0.6666666666666666,\"#35b779\"],[0.7777777777777778,\"#6ece58\"],[0.8888888888888888,\"#b5de2b\"],[1.0,\"#fde725\"]],\"x\":[false,false,false,false,false,false,false,true,true,false,true,true,true,true,true,true,true,true,true,true,true,true,true,true,true,true,true,true,true,true,true],\"y\":[true,true,false,false,true,true,false,false,false,false,false,false,true,false,true,true,false,true,false,false,false,false,false,false,true,false,true,true,false,true,false],\"z\":[0.1519712805747985,0.2104188352823257,0.2307580709457397,0.2525908648967743,0.2678727805614471,0.2904145419597626,0.384754329919815,0.4516955316066742,0.5957207083702087,0.6612871885299683,0.6737052798271179,0.6764938235282898,0.7108669877052307,0.7253999710083008,0.8056357502937317,0.8386881947517395,0.8619832396507263,0.8703534007072449,0.9019795656204224,0.9085923433303832,0.9124155044555664,0.920562982559204,0.9354971647262572,0.9366219639778136,0.938056707382202,0.941224217414856,0.9414558410644532,0.951740562915802,0.9778998494148254,0.9803254008293152,0.9882200956344604],\"type\":\"heatmap\",\"xaxis\":\"x23\",\"yaxis\":\"y23\"},{\"colorscale\":[[0.0,\"#440154\"],[0.1111111111111111,\"#482878\"],[0.2222222222222222,\"#3e4989\"],[0.3333333333333333,\"#31688e\"],[0.4444444444444444,\"#26828e\"],[0.5555555555555556,\"#1f9e89\"],[0.6666666666666666,\"#35b779\"],[0.7777777777777778,\"#6ece58\"],[0.8888888888888888,\"#b5de2b\"],[1.0,\"#fde725\"]],\"x\":[false,false,false,false,false,false,false,true,true,false,true,true,true,true,true,true,true,true,true,true,true,true,true,true,true,true,true,true,true,true,true],\"y\":[\"None\",true,true,true,\"None\",true,\"None\",\"None\",false,false,true,false,\"None\",true,false,true,\"None\",false,true,\"None\",true,false,false,true,\"None\",\"None\",\"None\",true,true,true,true],\"z\":[0.1519712805747985,0.2104188352823257,0.2307580709457397,0.2525908648967743,0.2678727805614471,0.2904145419597626,0.384754329919815,0.4516955316066742,0.5957207083702087,0.6612871885299683,0.6737052798271179,0.6764938235282898,0.7108669877052307,0.7253999710083008,0.8056357502937317,0.8386881947517395,0.8619832396507263,0.8703534007072449,0.9019795656204224,0.9085923433303832,0.9124155044555664,0.920562982559204,0.9354971647262572,0.9366219639778136,0.938056707382202,0.941224217414856,0.9414558410644532,0.951740562915802,0.9778998494148254,0.9803254008293152,0.9882200956344604],\"type\":\"heatmap\",\"xaxis\":\"x24\",\"yaxis\":\"y24\"},{\"colorscale\":[[0.0,\"#440154\"],[0.1111111111111111,\"#482878\"],[0.2222222222222222,\"#3e4989\"],[0.3333333333333333,\"#31688e\"],[0.4444444444444444,\"#26828e\"],[0.5555555555555556,\"#1f9e89\"],[0.6666666666666666,\"#35b779\"],[0.7777777777777778,\"#6ece58\"],[0.8888888888888888,\"#b5de2b\"],[1.0,\"#fde725\"]],\"x\":[false,false,false,false,false,false,false,true,true,false,true,true,true,true,true,true,true,true,true,true,true,true,true,true,true,true,true,true,true,true,true],\"y\":[false,false,false,false,false,false,false,true,true,false,true,true,true,true,true,true,true,true,true,true,true,true,true,true,true,true,true,true,true,true,true],\"z\":[0.1519712805747985,0.2104188352823257,0.2307580709457397,0.2525908648967743,0.2678727805614471,0.2904145419597626,0.384754329919815,0.4516955316066742,0.5957207083702087,0.6612871885299683,0.6737052798271179,0.6764938235282898,0.7108669877052307,0.7253999710083008,0.8056357502937317,0.8386881947517395,0.8619832396507263,0.8703534007072449,0.9019795656204224,0.9085923433303832,0.9124155044555664,0.920562982559204,0.9354971647262572,0.9366219639778136,0.938056707382202,0.941224217414856,0.9414558410644532,0.951740562915802,0.9778998494148254,0.9803254008293152,0.9882200956344604],\"type\":\"heatmap\",\"xaxis\":\"x25\",\"yaxis\":\"y25\"},{\"colorscale\":[[0.0,\"#440154\"],[0.1111111111111111,\"#482878\"],[0.2222222222222222,\"#3e4989\"],[0.3333333333333333,\"#31688e\"],[0.4444444444444444,\"#26828e\"],[0.5555555555555556,\"#1f9e89\"],[0.6666666666666666,\"#35b779\"],[0.7777777777777778,\"#6ece58\"],[0.8888888888888888,\"#b5de2b\"],[1.0,\"#fde725\"]],\"x\":[false,false,false,false,false,false,false,true,true,false,true,true,true,true,true,true,true,true,true,true,true,true,true,true,true,true,true,true,true,true,true],\"y\":[\"None\",\"poly6\",\"gaussian\",\"gaussian\",\"poly6\",\"gaussian\",\"None\",\"None\",\"poly6\",\"None\",\"poly6\",\"poly6\",\"None\",\"gaussian\",\"None\",\"poly6\",\"None\",\"None\",\"gaussian\",\"poly6\",\"poly6\",\"poly6\",\"None\",\"gaussian\",\"poly6\",\"None\",\"poly6\",\"poly6\",\"poly6\",\"gaussian\",\"gaussian\"],\"z\":[0.1519712805747985,0.2104188352823257,0.2307580709457397,0.2525908648967743,0.2678727805614471,0.2904145419597626,0.384754329919815,0.4516955316066742,0.5957207083702087,0.6612871885299683,0.6737052798271179,0.6764938235282898,0.7108669877052307,0.7253999710083008,0.8056357502937317,0.8386881947517395,0.8619832396507263,0.8703534007072449,0.9019795656204224,0.9085923433303832,0.9124155044555664,0.920562982559204,0.9354971647262572,0.9366219639778136,0.938056707382202,0.941224217414856,0.9414558410644532,0.951740562915802,0.9778998494148254,0.9803254008293152,0.9882200956344604],\"type\":\"heatmap\",\"xaxis\":\"x26\",\"yaxis\":\"y26\"},{\"colorscale\":[[0.0,\"#440154\"],[0.1111111111111111,\"#482878\"],[0.2222222222222222,\"#3e4989\"],[0.3333333333333333,\"#31688e\"],[0.4444444444444444,\"#26828e\"],[0.5555555555555556,\"#1f9e89\"],[0.6666666666666666,\"#35b779\"],[0.7777777777777778,\"#6ece58\"],[0.8888888888888888,\"#b5de2b\"],[1.0,\"#fde725\"]],\"x\":[false,false,false,false,false,false,false,true,true,false,true,true,true,true,true,true,true,true,true,true,true,true,true,true,true,true,true,true,true,true,true],\"y\":[true,true,true,false,false,false,false,true,true,true,false,false,false,true,false,true,false,false,true,true,true,false,false,false,false,false,true,true,true,false,true],\"z\":[0.1519712805747985,0.2104188352823257,0.2307580709457397,0.2525908648967743,0.2678727805614471,0.2904145419597626,0.384754329919815,0.4516955316066742,0.5957207083702087,0.6612871885299683,0.6737052798271179,0.6764938235282898,0.7108669877052307,0.7253999710083008,0.8056357502937317,0.8386881947517395,0.8619832396507263,0.8703534007072449,0.9019795656204224,0.9085923433303832,0.9124155044555664,0.920562982559204,0.9354971647262572,0.9366219639778136,0.938056707382202,0.941224217414856,0.9414558410644532,0.951740562915802,0.9778998494148254,0.9803254008293152,0.9882200956344604],\"type\":\"heatmap\",\"xaxis\":\"x27\",\"yaxis\":\"y27\"},{\"colorscale\":[[0.0,\"#440154\"],[0.1111111111111111,\"#482878\"],[0.2222222222222222,\"#3e4989\"],[0.3333333333333333,\"#31688e\"],[0.4444444444444444,\"#26828e\"],[0.5555555555555556,\"#1f9e89\"],[0.6666666666666666,\"#35b779\"],[0.7777777777777778,\"#6ece58\"],[0.8888888888888888,\"#b5de2b\"],[1.0,\"#fde725\"]],\"x\":[false,false,false,false,false,false,false,true,true,false,true,true,true,true,true,true,true,true,true,true,true,true,true,true,true,true,true,true,true,true,true],\"y\":[true,true,false,false,true,false,true,true,false,true,true,true,true,false,false,true,true,true,false,false,false,true,false,false,false,true,true,true,true,true,true],\"z\":[0.1519712805747985,0.2104188352823257,0.2307580709457397,0.2525908648967743,0.2678727805614471,0.2904145419597626,0.384754329919815,0.4516955316066742,0.5957207083702087,0.6612871885299683,0.6737052798271179,0.6764938235282898,0.7108669877052307,0.7253999710083008,0.8056357502937317,0.8386881947517395,0.8619832396507263,0.8703534007072449,0.9019795656204224,0.9085923433303832,0.9124155044555664,0.920562982559204,0.9354971647262572,0.9366219639778136,0.938056707382202,0.941224217414856,0.9414558410644532,0.951740562915802,0.9778998494148254,0.9803254008293152,0.9882200956344604],\"type\":\"heatmap\",\"xaxis\":\"x28\",\"yaxis\":\"y28\"},{\"colorscale\":[[0.0,\"#440154\"],[0.1111111111111111,\"#482878\"],[0.2222222222222222,\"#3e4989\"],[0.3333333333333333,\"#31688e\"],[0.4444444444444444,\"#26828e\"],[0.5555555555555556,\"#1f9e89\"],[0.6666666666666666,\"#35b779\"],[0.7777777777777778,\"#6ece58\"],[0.8888888888888888,\"#b5de2b\"],[1.0,\"#fde725\"]],\"x\":[\"None\",\"poly6\",\"gaussian\",\"gaussian\",\"poly6\",\"gaussian\",\"None\",\"None\",\"poly6\",\"None\",\"poly6\",\"poly6\",\"None\",\"gaussian\",\"None\",\"poly6\",\"None\",\"None\",\"gaussian\",\"poly6\",\"poly6\",\"poly6\",\"None\",\"gaussian\",\"poly6\",\"None\",\"poly6\",\"poly6\",\"poly6\",\"gaussian\",\"gaussian\"],\"y\":[\"GeLU\",\"GeLU\",\"leaky_relu\",\"tanh\",\"GeLU\",\"tanh\",\"relu\",\"GeLU\",\"GeLU\",\"relu\",\"relu\",\"tanh\",\"relu\",\"leaky_relu\",\"leaky_relu\",\"relu\",\"GeLU\",\"tanh\",\"GeLU\",\"relu\",\"GeLU\",\"relu\",\"GeLU\",\"leaky_relu\",\"relu\",\"GeLU\",\"GeLU\",\"leaky_relu\",\"tanh\",\"relu\",\"leaky_relu\"],\"z\":[0.1519712805747985,0.2104188352823257,0.2307580709457397,0.2525908648967743,0.2678727805614471,0.2904145419597626,0.384754329919815,0.4516955316066742,0.5957207083702087,0.6612871885299683,0.6737052798271179,0.6764938235282898,0.7108669877052307,0.7253999710083008,0.8056357502937317,0.8386881947517395,0.8619832396507263,0.8703534007072449,0.9019795656204224,0.9085923433303832,0.9124155044555664,0.920562982559204,0.9354971647262572,0.9366219639778136,0.938056707382202,0.941224217414856,0.9414558410644532,0.951740562915802,0.9778998494148254,0.9803254008293152,0.9882200956344604],\"type\":\"heatmap\",\"xaxis\":\"x29\",\"yaxis\":\"y29\"},{\"colorscale\":[[0.0,\"#440154\"],[0.1111111111111111,\"#482878\"],[0.2222222222222222,\"#3e4989\"],[0.3333333333333333,\"#31688e\"],[0.4444444444444444,\"#26828e\"],[0.5555555555555556,\"#1f9e89\"],[0.6666666666666666,\"#35b779\"],[0.7777777777777778,\"#6ece58\"],[0.8888888888888888,\"#b5de2b\"],[1.0,\"#fde725\"]],\"x\":[\"None\",\"poly6\",\"gaussian\",\"gaussian\",\"poly6\",\"gaussian\",\"None\",\"None\",\"poly6\",\"None\",\"poly6\",\"poly6\",\"None\",\"gaussian\",\"None\",\"poly6\",\"None\",\"None\",\"gaussian\",\"poly6\",\"poly6\",\"poly6\",\"None\",\"gaussian\",\"poly6\",\"None\",\"poly6\",\"poly6\",\"poly6\",\"gaussian\",\"gaussian\"],\"y\":[true,true,false,false,true,true,false,false,false,false,false,false,true,false,true,true,false,true,false,false,false,false,false,false,true,false,true,true,false,true,false],\"z\":[0.1519712805747985,0.2104188352823257,0.2307580709457397,0.2525908648967743,0.2678727805614471,0.2904145419597626,0.384754329919815,0.4516955316066742,0.5957207083702087,0.6612871885299683,0.6737052798271179,0.6764938235282898,0.7108669877052307,0.7253999710083008,0.8056357502937317,0.8386881947517395,0.8619832396507263,0.8703534007072449,0.9019795656204224,0.9085923433303832,0.9124155044555664,0.920562982559204,0.9354971647262572,0.9366219639778136,0.938056707382202,0.941224217414856,0.9414558410644532,0.951740562915802,0.9778998494148254,0.9803254008293152,0.9882200956344604],\"type\":\"heatmap\",\"xaxis\":\"x30\",\"yaxis\":\"y30\"},{\"colorscale\":[[0.0,\"#440154\"],[0.1111111111111111,\"#482878\"],[0.2222222222222222,\"#3e4989\"],[0.3333333333333333,\"#31688e\"],[0.4444444444444444,\"#26828e\"],[0.5555555555555556,\"#1f9e89\"],[0.6666666666666666,\"#35b779\"],[0.7777777777777778,\"#6ece58\"],[0.8888888888888888,\"#b5de2b\"],[1.0,\"#fde725\"]],\"x\":[\"None\",\"poly6\",\"gaussian\",\"gaussian\",\"poly6\",\"gaussian\",\"None\",\"None\",\"poly6\",\"None\",\"poly6\",\"poly6\",\"None\",\"gaussian\",\"None\",\"poly6\",\"None\",\"None\",\"gaussian\",\"poly6\",\"poly6\",\"poly6\",\"None\",\"gaussian\",\"poly6\",\"None\",\"poly6\",\"poly6\",\"poly6\",\"gaussian\",\"gaussian\"],\"y\":[\"None\",true,true,true,\"None\",true,\"None\",\"None\",false,false,true,false,\"None\",true,false,true,\"None\",false,true,\"None\",true,false,false,true,\"None\",\"None\",\"None\",true,true,true,true],\"z\":[0.1519712805747985,0.2104188352823257,0.2307580709457397,0.2525908648967743,0.2678727805614471,0.2904145419597626,0.384754329919815,0.4516955316066742,0.5957207083702087,0.6612871885299683,0.6737052798271179,0.6764938235282898,0.7108669877052307,0.7253999710083008,0.8056357502937317,0.8386881947517395,0.8619832396507263,0.8703534007072449,0.9019795656204224,0.9085923433303832,0.9124155044555664,0.920562982559204,0.9354971647262572,0.9366219639778136,0.938056707382202,0.941224217414856,0.9414558410644532,0.951740562915802,0.9778998494148254,0.9803254008293152,0.9882200956344604],\"type\":\"heatmap\",\"xaxis\":\"x31\",\"yaxis\":\"y31\"},{\"colorscale\":[[0.0,\"#440154\"],[0.1111111111111111,\"#482878\"],[0.2222222222222222,\"#3e4989\"],[0.3333333333333333,\"#31688e\"],[0.4444444444444444,\"#26828e\"],[0.5555555555555556,\"#1f9e89\"],[0.6666666666666666,\"#35b779\"],[0.7777777777777778,\"#6ece58\"],[0.8888888888888888,\"#b5de2b\"],[1.0,\"#fde725\"]],\"x\":[\"None\",\"poly6\",\"gaussian\",\"gaussian\",\"poly6\",\"gaussian\",\"None\",\"None\",\"poly6\",\"None\",\"poly6\",\"poly6\",\"None\",\"gaussian\",\"None\",\"poly6\",\"None\",\"None\",\"gaussian\",\"poly6\",\"poly6\",\"poly6\",\"None\",\"gaussian\",\"poly6\",\"None\",\"poly6\",\"poly6\",\"poly6\",\"gaussian\",\"gaussian\"],\"y\":[false,false,false,false,false,false,false,true,true,false,true,true,true,true,true,true,true,true,true,true,true,true,true,true,true,true,true,true,true,true,true],\"z\":[0.1519712805747985,0.2104188352823257,0.2307580709457397,0.2525908648967743,0.2678727805614471,0.2904145419597626,0.384754329919815,0.4516955316066742,0.5957207083702087,0.6612871885299683,0.6737052798271179,0.6764938235282898,0.7108669877052307,0.7253999710083008,0.8056357502937317,0.8386881947517395,0.8619832396507263,0.8703534007072449,0.9019795656204224,0.9085923433303832,0.9124155044555664,0.920562982559204,0.9354971647262572,0.9366219639778136,0.938056707382202,0.941224217414856,0.9414558410644532,0.951740562915802,0.9778998494148254,0.9803254008293152,0.9882200956344604],\"type\":\"heatmap\",\"xaxis\":\"x32\",\"yaxis\":\"y32\"},{\"colorscale\":[[0.0,\"#440154\"],[0.1111111111111111,\"#482878\"],[0.2222222222222222,\"#3e4989\"],[0.3333333333333333,\"#31688e\"],[0.4444444444444444,\"#26828e\"],[0.5555555555555556,\"#1f9e89\"],[0.6666666666666666,\"#35b779\"],[0.7777777777777778,\"#6ece58\"],[0.8888888888888888,\"#b5de2b\"],[1.0,\"#fde725\"]],\"x\":[\"None\",\"poly6\",\"gaussian\",\"gaussian\",\"poly6\",\"gaussian\",\"None\",\"None\",\"poly6\",\"None\",\"poly6\",\"poly6\",\"None\",\"gaussian\",\"None\",\"poly6\",\"None\",\"None\",\"gaussian\",\"poly6\",\"poly6\",\"poly6\",\"None\",\"gaussian\",\"poly6\",\"None\",\"poly6\",\"poly6\",\"poly6\",\"gaussian\",\"gaussian\"],\"y\":[\"None\",\"poly6\",\"gaussian\",\"gaussian\",\"poly6\",\"gaussian\",\"None\",\"None\",\"poly6\",\"None\",\"poly6\",\"poly6\",\"None\",\"gaussian\",\"None\",\"poly6\",\"None\",\"None\",\"gaussian\",\"poly6\",\"poly6\",\"poly6\",\"None\",\"gaussian\",\"poly6\",\"None\",\"poly6\",\"poly6\",\"poly6\",\"gaussian\",\"gaussian\"],\"z\":[0.1519712805747985,0.2104188352823257,0.2307580709457397,0.2525908648967743,0.2678727805614471,0.2904145419597626,0.384754329919815,0.4516955316066742,0.5957207083702087,0.6612871885299683,0.6737052798271179,0.6764938235282898,0.7108669877052307,0.7253999710083008,0.8056357502937317,0.8386881947517395,0.8619832396507263,0.8703534007072449,0.9019795656204224,0.9085923433303832,0.9124155044555664,0.920562982559204,0.9354971647262572,0.9366219639778136,0.938056707382202,0.941224217414856,0.9414558410644532,0.951740562915802,0.9778998494148254,0.9803254008293152,0.9882200956344604],\"type\":\"heatmap\",\"xaxis\":\"x33\",\"yaxis\":\"y33\"},{\"colorscale\":[[0.0,\"#440154\"],[0.1111111111111111,\"#482878\"],[0.2222222222222222,\"#3e4989\"],[0.3333333333333333,\"#31688e\"],[0.4444444444444444,\"#26828e\"],[0.5555555555555556,\"#1f9e89\"],[0.6666666666666666,\"#35b779\"],[0.7777777777777778,\"#6ece58\"],[0.8888888888888888,\"#b5de2b\"],[1.0,\"#fde725\"]],\"x\":[\"None\",\"poly6\",\"gaussian\",\"gaussian\",\"poly6\",\"gaussian\",\"None\",\"None\",\"poly6\",\"None\",\"poly6\",\"poly6\",\"None\",\"gaussian\",\"None\",\"poly6\",\"None\",\"None\",\"gaussian\",\"poly6\",\"poly6\",\"poly6\",\"None\",\"gaussian\",\"poly6\",\"None\",\"poly6\",\"poly6\",\"poly6\",\"gaussian\",\"gaussian\"],\"y\":[true,true,true,false,false,false,false,true,true,true,false,false,false,true,false,true,false,false,true,true,true,false,false,false,false,false,true,true,true,false,true],\"z\":[0.1519712805747985,0.2104188352823257,0.2307580709457397,0.2525908648967743,0.2678727805614471,0.2904145419597626,0.384754329919815,0.4516955316066742,0.5957207083702087,0.6612871885299683,0.6737052798271179,0.6764938235282898,0.7108669877052307,0.7253999710083008,0.8056357502937317,0.8386881947517395,0.8619832396507263,0.8703534007072449,0.9019795656204224,0.9085923433303832,0.9124155044555664,0.920562982559204,0.9354971647262572,0.9366219639778136,0.938056707382202,0.941224217414856,0.9414558410644532,0.951740562915802,0.9778998494148254,0.9803254008293152,0.9882200956344604],\"type\":\"heatmap\",\"xaxis\":\"x34\",\"yaxis\":\"y34\"},{\"colorscale\":[[0.0,\"#440154\"],[0.1111111111111111,\"#482878\"],[0.2222222222222222,\"#3e4989\"],[0.3333333333333333,\"#31688e\"],[0.4444444444444444,\"#26828e\"],[0.5555555555555556,\"#1f9e89\"],[0.6666666666666666,\"#35b779\"],[0.7777777777777778,\"#6ece58\"],[0.8888888888888888,\"#b5de2b\"],[1.0,\"#fde725\"]],\"x\":[\"None\",\"poly6\",\"gaussian\",\"gaussian\",\"poly6\",\"gaussian\",\"None\",\"None\",\"poly6\",\"None\",\"poly6\",\"poly6\",\"None\",\"gaussian\",\"None\",\"poly6\",\"None\",\"None\",\"gaussian\",\"poly6\",\"poly6\",\"poly6\",\"None\",\"gaussian\",\"poly6\",\"None\",\"poly6\",\"poly6\",\"poly6\",\"gaussian\",\"gaussian\"],\"y\":[true,true,false,false,true,false,true,true,false,true,true,true,true,false,false,true,true,true,false,false,false,true,false,false,false,true,true,true,true,true,true],\"z\":[0.1519712805747985,0.2104188352823257,0.2307580709457397,0.2525908648967743,0.2678727805614471,0.2904145419597626,0.384754329919815,0.4516955316066742,0.5957207083702087,0.6612871885299683,0.6737052798271179,0.6764938235282898,0.7108669877052307,0.7253999710083008,0.8056357502937317,0.8386881947517395,0.8619832396507263,0.8703534007072449,0.9019795656204224,0.9085923433303832,0.9124155044555664,0.920562982559204,0.9354971647262572,0.9366219639778136,0.938056707382202,0.941224217414856,0.9414558410644532,0.951740562915802,0.9778998494148254,0.9803254008293152,0.9882200956344604],\"type\":\"heatmap\",\"xaxis\":\"x35\",\"yaxis\":\"y35\"},{\"colorscale\":[[0.0,\"#440154\"],[0.1111111111111111,\"#482878\"],[0.2222222222222222,\"#3e4989\"],[0.3333333333333333,\"#31688e\"],[0.4444444444444444,\"#26828e\"],[0.5555555555555556,\"#1f9e89\"],[0.6666666666666666,\"#35b779\"],[0.7777777777777778,\"#6ece58\"],[0.8888888888888888,\"#b5de2b\"],[1.0,\"#fde725\"]],\"x\":[true,true,true,false,false,false,false,true,true,true,false,false,false,true,false,true,false,false,true,true,true,false,false,false,false,false,true,true,true,false,true],\"y\":[\"GeLU\",\"GeLU\",\"leaky_relu\",\"tanh\",\"GeLU\",\"tanh\",\"relu\",\"GeLU\",\"GeLU\",\"relu\",\"relu\",\"tanh\",\"relu\",\"leaky_relu\",\"leaky_relu\",\"relu\",\"GeLU\",\"tanh\",\"GeLU\",\"relu\",\"GeLU\",\"relu\",\"GeLU\",\"leaky_relu\",\"relu\",\"GeLU\",\"GeLU\",\"leaky_relu\",\"tanh\",\"relu\",\"leaky_relu\"],\"z\":[0.1519712805747985,0.2104188352823257,0.2307580709457397,0.2525908648967743,0.2678727805614471,0.2904145419597626,0.384754329919815,0.4516955316066742,0.5957207083702087,0.6612871885299683,0.6737052798271179,0.6764938235282898,0.7108669877052307,0.7253999710083008,0.8056357502937317,0.8386881947517395,0.8619832396507263,0.8703534007072449,0.9019795656204224,0.9085923433303832,0.9124155044555664,0.920562982559204,0.9354971647262572,0.9366219639778136,0.938056707382202,0.941224217414856,0.9414558410644532,0.951740562915802,0.9778998494148254,0.9803254008293152,0.9882200956344604],\"type\":\"heatmap\",\"xaxis\":\"x36\",\"yaxis\":\"y36\"},{\"colorscale\":[[0.0,\"#440154\"],[0.1111111111111111,\"#482878\"],[0.2222222222222222,\"#3e4989\"],[0.3333333333333333,\"#31688e\"],[0.4444444444444444,\"#26828e\"],[0.5555555555555556,\"#1f9e89\"],[0.6666666666666666,\"#35b779\"],[0.7777777777777778,\"#6ece58\"],[0.8888888888888888,\"#b5de2b\"],[1.0,\"#fde725\"]],\"x\":[true,true,true,false,false,false,false,true,true,true,false,false,false,true,false,true,false,false,true,true,true,false,false,false,false,false,true,true,true,false,true],\"y\":[true,true,false,false,true,true,false,false,false,false,false,false,true,false,true,true,false,true,false,false,false,false,false,false,true,false,true,true,false,true,false],\"z\":[0.1519712805747985,0.2104188352823257,0.2307580709457397,0.2525908648967743,0.2678727805614471,0.2904145419597626,0.384754329919815,0.4516955316066742,0.5957207083702087,0.6612871885299683,0.6737052798271179,0.6764938235282898,0.7108669877052307,0.7253999710083008,0.8056357502937317,0.8386881947517395,0.8619832396507263,0.8703534007072449,0.9019795656204224,0.9085923433303832,0.9124155044555664,0.920562982559204,0.9354971647262572,0.9366219639778136,0.938056707382202,0.941224217414856,0.9414558410644532,0.951740562915802,0.9778998494148254,0.9803254008293152,0.9882200956344604],\"type\":\"heatmap\",\"xaxis\":\"x37\",\"yaxis\":\"y37\"},{\"colorscale\":[[0.0,\"#440154\"],[0.1111111111111111,\"#482878\"],[0.2222222222222222,\"#3e4989\"],[0.3333333333333333,\"#31688e\"],[0.4444444444444444,\"#26828e\"],[0.5555555555555556,\"#1f9e89\"],[0.6666666666666666,\"#35b779\"],[0.7777777777777778,\"#6ece58\"],[0.8888888888888888,\"#b5de2b\"],[1.0,\"#fde725\"]],\"x\":[true,true,true,false,false,false,false,true,true,true,false,false,false,true,false,true,false,false,true,true,true,false,false,false,false,false,true,true,true,false,true],\"y\":[\"None\",true,true,true,\"None\",true,\"None\",\"None\",false,false,true,false,\"None\",true,false,true,\"None\",false,true,\"None\",true,false,false,true,\"None\",\"None\",\"None\",true,true,true,true],\"z\":[0.1519712805747985,0.2104188352823257,0.2307580709457397,0.2525908648967743,0.2678727805614471,0.2904145419597626,0.384754329919815,0.4516955316066742,0.5957207083702087,0.6612871885299683,0.6737052798271179,0.6764938235282898,0.7108669877052307,0.7253999710083008,0.8056357502937317,0.8386881947517395,0.8619832396507263,0.8703534007072449,0.9019795656204224,0.9085923433303832,0.9124155044555664,0.920562982559204,0.9354971647262572,0.9366219639778136,0.938056707382202,0.941224217414856,0.9414558410644532,0.951740562915802,0.9778998494148254,0.9803254008293152,0.9882200956344604],\"type\":\"heatmap\",\"xaxis\":\"x38\",\"yaxis\":\"y38\"},{\"colorscale\":[[0.0,\"#440154\"],[0.1111111111111111,\"#482878\"],[0.2222222222222222,\"#3e4989\"],[0.3333333333333333,\"#31688e\"],[0.4444444444444444,\"#26828e\"],[0.5555555555555556,\"#1f9e89\"],[0.6666666666666666,\"#35b779\"],[0.7777777777777778,\"#6ece58\"],[0.8888888888888888,\"#b5de2b\"],[1.0,\"#fde725\"]],\"x\":[true,true,true,false,false,false,false,true,true,true,false,false,false,true,false,true,false,false,true,true,true,false,false,false,false,false,true,true,true,false,true],\"y\":[false,false,false,false,false,false,false,true,true,false,true,true,true,true,true,true,true,true,true,true,true,true,true,true,true,true,true,true,true,true,true],\"z\":[0.1519712805747985,0.2104188352823257,0.2307580709457397,0.2525908648967743,0.2678727805614471,0.2904145419597626,0.384754329919815,0.4516955316066742,0.5957207083702087,0.6612871885299683,0.6737052798271179,0.6764938235282898,0.7108669877052307,0.7253999710083008,0.8056357502937317,0.8386881947517395,0.8619832396507263,0.8703534007072449,0.9019795656204224,0.9085923433303832,0.9124155044555664,0.920562982559204,0.9354971647262572,0.9366219639778136,0.938056707382202,0.941224217414856,0.9414558410644532,0.951740562915802,0.9778998494148254,0.9803254008293152,0.9882200956344604],\"type\":\"heatmap\",\"xaxis\":\"x39\",\"yaxis\":\"y39\"},{\"colorscale\":[[0.0,\"#440154\"],[0.1111111111111111,\"#482878\"],[0.2222222222222222,\"#3e4989\"],[0.3333333333333333,\"#31688e\"],[0.4444444444444444,\"#26828e\"],[0.5555555555555556,\"#1f9e89\"],[0.6666666666666666,\"#35b779\"],[0.7777777777777778,\"#6ece58\"],[0.8888888888888888,\"#b5de2b\"],[1.0,\"#fde725\"]],\"x\":[true,true,true,false,false,false,false,true,true,true,false,false,false,true,false,true,false,false,true,true,true,false,false,false,false,false,true,true,true,false,true],\"y\":[\"None\",\"poly6\",\"gaussian\",\"gaussian\",\"poly6\",\"gaussian\",\"None\",\"None\",\"poly6\",\"None\",\"poly6\",\"poly6\",\"None\",\"gaussian\",\"None\",\"poly6\",\"None\",\"None\",\"gaussian\",\"poly6\",\"poly6\",\"poly6\",\"None\",\"gaussian\",\"poly6\",\"None\",\"poly6\",\"poly6\",\"poly6\",\"gaussian\",\"gaussian\"],\"z\":[0.1519712805747985,0.2104188352823257,0.2307580709457397,0.2525908648967743,0.2678727805614471,0.2904145419597626,0.384754329919815,0.4516955316066742,0.5957207083702087,0.6612871885299683,0.6737052798271179,0.6764938235282898,0.7108669877052307,0.7253999710083008,0.8056357502937317,0.8386881947517395,0.8619832396507263,0.8703534007072449,0.9019795656204224,0.9085923433303832,0.9124155044555664,0.920562982559204,0.9354971647262572,0.9366219639778136,0.938056707382202,0.941224217414856,0.9414558410644532,0.951740562915802,0.9778998494148254,0.9803254008293152,0.9882200956344604],\"type\":\"heatmap\",\"xaxis\":\"x40\",\"yaxis\":\"y40\"},{\"colorscale\":[[0.0,\"#440154\"],[0.1111111111111111,\"#482878\"],[0.2222222222222222,\"#3e4989\"],[0.3333333333333333,\"#31688e\"],[0.4444444444444444,\"#26828e\"],[0.5555555555555556,\"#1f9e89\"],[0.6666666666666666,\"#35b779\"],[0.7777777777777778,\"#6ece58\"],[0.8888888888888888,\"#b5de2b\"],[1.0,\"#fde725\"]],\"x\":[true,true,true,false,false,false,false,true,true,true,false,false,false,true,false,true,false,false,true,true,true,false,false,false,false,false,true,true,true,false,true],\"y\":[true,true,true,false,false,false,false,true,true,true,false,false,false,true,false,true,false,false,true,true,true,false,false,false,false,false,true,true,true,false,true],\"z\":[0.1519712805747985,0.2104188352823257,0.2307580709457397,0.2525908648967743,0.2678727805614471,0.2904145419597626,0.384754329919815,0.4516955316066742,0.5957207083702087,0.6612871885299683,0.6737052798271179,0.6764938235282898,0.7108669877052307,0.7253999710083008,0.8056357502937317,0.8386881947517395,0.8619832396507263,0.8703534007072449,0.9019795656204224,0.9085923433303832,0.9124155044555664,0.920562982559204,0.9354971647262572,0.9366219639778136,0.938056707382202,0.941224217414856,0.9414558410644532,0.951740562915802,0.9778998494148254,0.9803254008293152,0.9882200956344604],\"type\":\"heatmap\",\"xaxis\":\"x41\",\"yaxis\":\"y41\"},{\"colorscale\":[[0.0,\"#440154\"],[0.1111111111111111,\"#482878\"],[0.2222222222222222,\"#3e4989\"],[0.3333333333333333,\"#31688e\"],[0.4444444444444444,\"#26828e\"],[0.5555555555555556,\"#1f9e89\"],[0.6666666666666666,\"#35b779\"],[0.7777777777777778,\"#6ece58\"],[0.8888888888888888,\"#b5de2b\"],[1.0,\"#fde725\"]],\"x\":[true,true,true,false,false,false,false,true,true,true,false,false,false,true,false,true,false,false,true,true,true,false,false,false,false,false,true,true,true,false,true],\"y\":[true,true,false,false,true,false,true,true,false,true,true,true,true,false,false,true,true,true,false,false,false,true,false,false,false,true,true,true,true,true,true],\"z\":[0.1519712805747985,0.2104188352823257,0.2307580709457397,0.2525908648967743,0.2678727805614471,0.2904145419597626,0.384754329919815,0.4516955316066742,0.5957207083702087,0.6612871885299683,0.6737052798271179,0.6764938235282898,0.7108669877052307,0.7253999710083008,0.8056357502937317,0.8386881947517395,0.8619832396507263,0.8703534007072449,0.9019795656204224,0.9085923433303832,0.9124155044555664,0.920562982559204,0.9354971647262572,0.9366219639778136,0.938056707382202,0.941224217414856,0.9414558410644532,0.951740562915802,0.9778998494148254,0.9803254008293152,0.9882200956344604],\"type\":\"heatmap\",\"xaxis\":\"x42\",\"yaxis\":\"y42\"},{\"colorscale\":[[0.0,\"#440154\"],[0.1111111111111111,\"#482878\"],[0.2222222222222222,\"#3e4989\"],[0.3333333333333333,\"#31688e\"],[0.4444444444444444,\"#26828e\"],[0.5555555555555556,\"#1f9e89\"],[0.6666666666666666,\"#35b779\"],[0.7777777777777778,\"#6ece58\"],[0.8888888888888888,\"#b5de2b\"],[1.0,\"#fde725\"]],\"x\":[true,true,false,false,true,false,true,true,false,true,true,true,true,false,false,true,true,true,false,false,false,true,false,false,false,true,true,true,true,true,true],\"y\":[\"GeLU\",\"GeLU\",\"leaky_relu\",\"tanh\",\"GeLU\",\"tanh\",\"relu\",\"GeLU\",\"GeLU\",\"relu\",\"relu\",\"tanh\",\"relu\",\"leaky_relu\",\"leaky_relu\",\"relu\",\"GeLU\",\"tanh\",\"GeLU\",\"relu\",\"GeLU\",\"relu\",\"GeLU\",\"leaky_relu\",\"relu\",\"GeLU\",\"GeLU\",\"leaky_relu\",\"tanh\",\"relu\",\"leaky_relu\"],\"z\":[0.1519712805747985,0.2104188352823257,0.2307580709457397,0.2525908648967743,0.2678727805614471,0.2904145419597626,0.384754329919815,0.4516955316066742,0.5957207083702087,0.6612871885299683,0.6737052798271179,0.6764938235282898,0.7108669877052307,0.7253999710083008,0.8056357502937317,0.8386881947517395,0.8619832396507263,0.8703534007072449,0.9019795656204224,0.9085923433303832,0.9124155044555664,0.920562982559204,0.9354971647262572,0.9366219639778136,0.938056707382202,0.941224217414856,0.9414558410644532,0.951740562915802,0.9778998494148254,0.9803254008293152,0.9882200956344604],\"type\":\"heatmap\",\"xaxis\":\"x43\",\"yaxis\":\"y43\"},{\"colorscale\":[[0.0,\"#440154\"],[0.1111111111111111,\"#482878\"],[0.2222222222222222,\"#3e4989\"],[0.3333333333333333,\"#31688e\"],[0.4444444444444444,\"#26828e\"],[0.5555555555555556,\"#1f9e89\"],[0.6666666666666666,\"#35b779\"],[0.7777777777777778,\"#6ece58\"],[0.8888888888888888,\"#b5de2b\"],[1.0,\"#fde725\"]],\"x\":[true,true,false,false,true,false,true,true,false,true,true,true,true,false,false,true,true,true,false,false,false,true,false,false,false,true,true,true,true,true,true],\"y\":[true,true,false,false,true,true,false,false,false,false,false,false,true,false,true,true,false,true,false,false,false,false,false,false,true,false,true,true,false,true,false],\"z\":[0.1519712805747985,0.2104188352823257,0.2307580709457397,0.2525908648967743,0.2678727805614471,0.2904145419597626,0.384754329919815,0.4516955316066742,0.5957207083702087,0.6612871885299683,0.6737052798271179,0.6764938235282898,0.7108669877052307,0.7253999710083008,0.8056357502937317,0.8386881947517395,0.8619832396507263,0.8703534007072449,0.9019795656204224,0.9085923433303832,0.9124155044555664,0.920562982559204,0.9354971647262572,0.9366219639778136,0.938056707382202,0.941224217414856,0.9414558410644532,0.951740562915802,0.9778998494148254,0.9803254008293152,0.9882200956344604],\"type\":\"heatmap\",\"xaxis\":\"x44\",\"yaxis\":\"y44\"},{\"colorscale\":[[0.0,\"#440154\"],[0.1111111111111111,\"#482878\"],[0.2222222222222222,\"#3e4989\"],[0.3333333333333333,\"#31688e\"],[0.4444444444444444,\"#26828e\"],[0.5555555555555556,\"#1f9e89\"],[0.6666666666666666,\"#35b779\"],[0.7777777777777778,\"#6ece58\"],[0.8888888888888888,\"#b5de2b\"],[1.0,\"#fde725\"]],\"x\":[true,true,false,false,true,false,true,true,false,true,true,true,true,false,false,true,true,true,false,false,false,true,false,false,false,true,true,true,true,true,true],\"y\":[\"None\",true,true,true,\"None\",true,\"None\",\"None\",false,false,true,false,\"None\",true,false,true,\"None\",false,true,\"None\",true,false,false,true,\"None\",\"None\",\"None\",true,true,true,true],\"z\":[0.1519712805747985,0.2104188352823257,0.2307580709457397,0.2525908648967743,0.2678727805614471,0.2904145419597626,0.384754329919815,0.4516955316066742,0.5957207083702087,0.6612871885299683,0.6737052798271179,0.6764938235282898,0.7108669877052307,0.7253999710083008,0.8056357502937317,0.8386881947517395,0.8619832396507263,0.8703534007072449,0.9019795656204224,0.9085923433303832,0.9124155044555664,0.920562982559204,0.9354971647262572,0.9366219639778136,0.938056707382202,0.941224217414856,0.9414558410644532,0.951740562915802,0.9778998494148254,0.9803254008293152,0.9882200956344604],\"type\":\"heatmap\",\"xaxis\":\"x45\",\"yaxis\":\"y45\"},{\"colorscale\":[[0.0,\"#440154\"],[0.1111111111111111,\"#482878\"],[0.2222222222222222,\"#3e4989\"],[0.3333333333333333,\"#31688e\"],[0.4444444444444444,\"#26828e\"],[0.5555555555555556,\"#1f9e89\"],[0.6666666666666666,\"#35b779\"],[0.7777777777777778,\"#6ece58\"],[0.8888888888888888,\"#b5de2b\"],[1.0,\"#fde725\"]],\"x\":[true,true,false,false,true,false,true,true,false,true,true,true,true,false,false,true,true,true,false,false,false,true,false,false,false,true,true,true,true,true,true],\"y\":[false,false,false,false,false,false,false,true,true,false,true,true,true,true,true,true,true,true,true,true,true,true,true,true,true,true,true,true,true,true,true],\"z\":[0.1519712805747985,0.2104188352823257,0.2307580709457397,0.2525908648967743,0.2678727805614471,0.2904145419597626,0.384754329919815,0.4516955316066742,0.5957207083702087,0.6612871885299683,0.6737052798271179,0.6764938235282898,0.7108669877052307,0.7253999710083008,0.8056357502937317,0.8386881947517395,0.8619832396507263,0.8703534007072449,0.9019795656204224,0.9085923433303832,0.9124155044555664,0.920562982559204,0.9354971647262572,0.9366219639778136,0.938056707382202,0.941224217414856,0.9414558410644532,0.951740562915802,0.9778998494148254,0.9803254008293152,0.9882200956344604],\"type\":\"heatmap\",\"xaxis\":\"x46\",\"yaxis\":\"y46\"},{\"colorscale\":[[0.0,\"#440154\"],[0.1111111111111111,\"#482878\"],[0.2222222222222222,\"#3e4989\"],[0.3333333333333333,\"#31688e\"],[0.4444444444444444,\"#26828e\"],[0.5555555555555556,\"#1f9e89\"],[0.6666666666666666,\"#35b779\"],[0.7777777777777778,\"#6ece58\"],[0.8888888888888888,\"#b5de2b\"],[1.0,\"#fde725\"]],\"x\":[true,true,false,false,true,false,true,true,false,true,true,true,true,false,false,true,true,true,false,false,false,true,false,false,false,true,true,true,true,true,true],\"y\":[\"None\",\"poly6\",\"gaussian\",\"gaussian\",\"poly6\",\"gaussian\",\"None\",\"None\",\"poly6\",\"None\",\"poly6\",\"poly6\",\"None\",\"gaussian\",\"None\",\"poly6\",\"None\",\"None\",\"gaussian\",\"poly6\",\"poly6\",\"poly6\",\"None\",\"gaussian\",\"poly6\",\"None\",\"poly6\",\"poly6\",\"poly6\",\"gaussian\",\"gaussian\"],\"z\":[0.1519712805747985,0.2104188352823257,0.2307580709457397,0.2525908648967743,0.2678727805614471,0.2904145419597626,0.384754329919815,0.4516955316066742,0.5957207083702087,0.6612871885299683,0.6737052798271179,0.6764938235282898,0.7108669877052307,0.7253999710083008,0.8056357502937317,0.8386881947517395,0.8619832396507263,0.8703534007072449,0.9019795656204224,0.9085923433303832,0.9124155044555664,0.920562982559204,0.9354971647262572,0.9366219639778136,0.938056707382202,0.941224217414856,0.9414558410644532,0.951740562915802,0.9778998494148254,0.9803254008293152,0.9882200956344604],\"type\":\"heatmap\",\"xaxis\":\"x47\",\"yaxis\":\"y47\"},{\"colorscale\":[[0.0,\"#440154\"],[0.1111111111111111,\"#482878\"],[0.2222222222222222,\"#3e4989\"],[0.3333333333333333,\"#31688e\"],[0.4444444444444444,\"#26828e\"],[0.5555555555555556,\"#1f9e89\"],[0.6666666666666666,\"#35b779\"],[0.7777777777777778,\"#6ece58\"],[0.8888888888888888,\"#b5de2b\"],[1.0,\"#fde725\"]],\"x\":[true,true,false,false,true,false,true,true,false,true,true,true,true,false,false,true,true,true,false,false,false,true,false,false,false,true,true,true,true,true,true],\"y\":[true,true,true,false,false,false,false,true,true,true,false,false,false,true,false,true,false,false,true,true,true,false,false,false,false,false,true,true,true,false,true],\"z\":[0.1519712805747985,0.2104188352823257,0.2307580709457397,0.2525908648967743,0.2678727805614471,0.2904145419597626,0.384754329919815,0.4516955316066742,0.5957207083702087,0.6612871885299683,0.6737052798271179,0.6764938235282898,0.7108669877052307,0.7253999710083008,0.8056357502937317,0.8386881947517395,0.8619832396507263,0.8703534007072449,0.9019795656204224,0.9085923433303832,0.9124155044555664,0.920562982559204,0.9354971647262572,0.9366219639778136,0.938056707382202,0.941224217414856,0.9414558410644532,0.951740562915802,0.9778998494148254,0.9803254008293152,0.9882200956344604],\"type\":\"heatmap\",\"xaxis\":\"x48\",\"yaxis\":\"y48\"},{\"colorscale\":[[0.0,\"#440154\"],[0.1111111111111111,\"#482878\"],[0.2222222222222222,\"#3e4989\"],[0.3333333333333333,\"#31688e\"],[0.4444444444444444,\"#26828e\"],[0.5555555555555556,\"#1f9e89\"],[0.6666666666666666,\"#35b779\"],[0.7777777777777778,\"#6ece58\"],[0.8888888888888888,\"#b5de2b\"],[1.0,\"#fde725\"]],\"x\":[true,true,false,false,true,false,true,true,false,true,true,true,true,false,false,true,true,true,false,false,false,true,false,false,false,true,true,true,true,true,true],\"y\":[true,true,false,false,true,false,true,true,false,true,true,true,true,false,false,true,true,true,false,false,false,true,false,false,false,true,true,true,true,true,true],\"z\":[0.1519712805747985,0.2104188352823257,0.2307580709457397,0.2525908648967743,0.2678727805614471,0.2904145419597626,0.384754329919815,0.4516955316066742,0.5957207083702087,0.6612871885299683,0.6737052798271179,0.6764938235282898,0.7108669877052307,0.7253999710083008,0.8056357502937317,0.8386881947517395,0.8619832396507263,0.8703534007072449,0.9019795656204224,0.9085923433303832,0.9124155044555664,0.920562982559204,0.9354971647262572,0.9366219639778136,0.938056707382202,0.941224217414856,0.9414558410644532,0.951740562915802,0.9778998494148254,0.9803254008293152,0.9882200956344604],\"type\":\"heatmap\",\"xaxis\":\"x49\",\"yaxis\":\"y49\"}],                        {\"template\":{\"data\":{\"histogram2dcontour\":[{\"type\":\"histogram2dcontour\",\"colorbar\":{\"outlinewidth\":0,\"ticks\":\"\"},\"colorscale\":[[0.0,\"#0d0887\"],[0.1111111111111111,\"#46039f\"],[0.2222222222222222,\"#7201a8\"],[0.3333333333333333,\"#9c179e\"],[0.4444444444444444,\"#bd3786\"],[0.5555555555555556,\"#d8576b\"],[0.6666666666666666,\"#ed7953\"],[0.7777777777777778,\"#fb9f3a\"],[0.8888888888888888,\"#fdca26\"],[1.0,\"#f0f921\"]]}],\"choropleth\":[{\"type\":\"choropleth\",\"colorbar\":{\"outlinewidth\":0,\"ticks\":\"\"}}],\"histogram2d\":[{\"type\":\"histogram2d\",\"colorbar\":{\"outlinewidth\":0,\"ticks\":\"\"},\"colorscale\":[[0.0,\"#0d0887\"],[0.1111111111111111,\"#46039f\"],[0.2222222222222222,\"#7201a8\"],[0.3333333333333333,\"#9c179e\"],[0.4444444444444444,\"#bd3786\"],[0.5555555555555556,\"#d8576b\"],[0.6666666666666666,\"#ed7953\"],[0.7777777777777778,\"#fb9f3a\"],[0.8888888888888888,\"#fdca26\"],[1.0,\"#f0f921\"]]}],\"heatmap\":[{\"type\":\"heatmap\",\"colorbar\":{\"outlinewidth\":0,\"ticks\":\"\"},\"colorscale\":[[0.0,\"#0d0887\"],[0.1111111111111111,\"#46039f\"],[0.2222222222222222,\"#7201a8\"],[0.3333333333333333,\"#9c179e\"],[0.4444444444444444,\"#bd3786\"],[0.5555555555555556,\"#d8576b\"],[0.6666666666666666,\"#ed7953\"],[0.7777777777777778,\"#fb9f3a\"],[0.8888888888888888,\"#fdca26\"],[1.0,\"#f0f921\"]]}],\"heatmapgl\":[{\"type\":\"heatmapgl\",\"colorbar\":{\"outlinewidth\":0,\"ticks\":\"\"},\"colorscale\":[[0.0,\"#0d0887\"],[0.1111111111111111,\"#46039f\"],[0.2222222222222222,\"#7201a8\"],[0.3333333333333333,\"#9c179e\"],[0.4444444444444444,\"#bd3786\"],[0.5555555555555556,\"#d8576b\"],[0.6666666666666666,\"#ed7953\"],[0.7777777777777778,\"#fb9f3a\"],[0.8888888888888888,\"#fdca26\"],[1.0,\"#f0f921\"]]}],\"contourcarpet\":[{\"type\":\"contourcarpet\",\"colorbar\":{\"outlinewidth\":0,\"ticks\":\"\"}}],\"contour\":[{\"type\":\"contour\",\"colorbar\":{\"outlinewidth\":0,\"ticks\":\"\"},\"colorscale\":[[0.0,\"#0d0887\"],[0.1111111111111111,\"#46039f\"],[0.2222222222222222,\"#7201a8\"],[0.3333333333333333,\"#9c179e\"],[0.4444444444444444,\"#bd3786\"],[0.5555555555555556,\"#d8576b\"],[0.6666666666666666,\"#ed7953\"],[0.7777777777777778,\"#fb9f3a\"],[0.8888888888888888,\"#fdca26\"],[1.0,\"#f0f921\"]]}],\"surface\":[{\"type\":\"surface\",\"colorbar\":{\"outlinewidth\":0,\"ticks\":\"\"},\"colorscale\":[[0.0,\"#0d0887\"],[0.1111111111111111,\"#46039f\"],[0.2222222222222222,\"#7201a8\"],[0.3333333333333333,\"#9c179e\"],[0.4444444444444444,\"#bd3786\"],[0.5555555555555556,\"#d8576b\"],[0.6666666666666666,\"#ed7953\"],[0.7777777777777778,\"#fb9f3a\"],[0.8888888888888888,\"#fdca26\"],[1.0,\"#f0f921\"]]}],\"mesh3d\":[{\"type\":\"mesh3d\",\"colorbar\":{\"outlinewidth\":0,\"ticks\":\"\"}}],\"scatter\":[{\"fillpattern\":{\"fillmode\":\"overlay\",\"size\":10,\"solidity\":0.2},\"type\":\"scatter\"}],\"parcoords\":[{\"type\":\"parcoords\",\"line\":{\"colorbar\":{\"outlinewidth\":0,\"ticks\":\"\"}}}],\"scatterpolargl\":[{\"type\":\"scatterpolargl\",\"marker\":{\"colorbar\":{\"outlinewidth\":0,\"ticks\":\"\"}}}],\"bar\":[{\"error_x\":{\"color\":\"#2a3f5f\"},\"error_y\":{\"color\":\"#2a3f5f\"},\"marker\":{\"line\":{\"color\":\"#E5ECF6\",\"width\":0.5},\"pattern\":{\"fillmode\":\"overlay\",\"size\":10,\"solidity\":0.2}},\"type\":\"bar\"}],\"scattergeo\":[{\"type\":\"scattergeo\",\"marker\":{\"colorbar\":{\"outlinewidth\":0,\"ticks\":\"\"}}}],\"scatterpolar\":[{\"type\":\"scatterpolar\",\"marker\":{\"colorbar\":{\"outlinewidth\":0,\"ticks\":\"\"}}}],\"histogram\":[{\"marker\":{\"pattern\":{\"fillmode\":\"overlay\",\"size\":10,\"solidity\":0.2}},\"type\":\"histogram\"}],\"scattergl\":[{\"type\":\"scattergl\",\"marker\":{\"colorbar\":{\"outlinewidth\":0,\"ticks\":\"\"}}}],\"scatter3d\":[{\"type\":\"scatter3d\",\"line\":{\"colorbar\":{\"outlinewidth\":0,\"ticks\":\"\"}},\"marker\":{\"colorbar\":{\"outlinewidth\":0,\"ticks\":\"\"}}}],\"scattermapbox\":[{\"type\":\"scattermapbox\",\"marker\":{\"colorbar\":{\"outlinewidth\":0,\"ticks\":\"\"}}}],\"scatterternary\":[{\"type\":\"scatterternary\",\"marker\":{\"colorbar\":{\"outlinewidth\":0,\"ticks\":\"\"}}}],\"scattercarpet\":[{\"type\":\"scattercarpet\",\"marker\":{\"colorbar\":{\"outlinewidth\":0,\"ticks\":\"\"}}}],\"carpet\":[{\"aaxis\":{\"endlinecolor\":\"#2a3f5f\",\"gridcolor\":\"white\",\"linecolor\":\"white\",\"minorgridcolor\":\"white\",\"startlinecolor\":\"#2a3f5f\"},\"baxis\":{\"endlinecolor\":\"#2a3f5f\",\"gridcolor\":\"white\",\"linecolor\":\"white\",\"minorgridcolor\":\"white\",\"startlinecolor\":\"#2a3f5f\"},\"type\":\"carpet\"}],\"table\":[{\"cells\":{\"fill\":{\"color\":\"#EBF0F8\"},\"line\":{\"color\":\"white\"}},\"header\":{\"fill\":{\"color\":\"#C8D4E3\"},\"line\":{\"color\":\"white\"}},\"type\":\"table\"}],\"barpolar\":[{\"marker\":{\"line\":{\"color\":\"#E5ECF6\",\"width\":0.5},\"pattern\":{\"fillmode\":\"overlay\",\"size\":10,\"solidity\":0.2}},\"type\":\"barpolar\"}],\"pie\":[{\"automargin\":true,\"type\":\"pie\"}]},\"layout\":{\"autotypenumbers\":\"strict\",\"colorway\":[\"#636efa\",\"#EF553B\",\"#00cc96\",\"#ab63fa\",\"#FFA15A\",\"#19d3f3\",\"#FF6692\",\"#B6E880\",\"#FF97FF\",\"#FECB52\"],\"font\":{\"color\":\"#2a3f5f\"},\"hovermode\":\"closest\",\"hoverlabel\":{\"align\":\"left\"},\"paper_bgcolor\":\"white\",\"plot_bgcolor\":\"#E5ECF6\",\"polar\":{\"bgcolor\":\"#E5ECF6\",\"angularaxis\":{\"gridcolor\":\"white\",\"linecolor\":\"white\",\"ticks\":\"\"},\"radialaxis\":{\"gridcolor\":\"white\",\"linecolor\":\"white\",\"ticks\":\"\"}},\"ternary\":{\"bgcolor\":\"#E5ECF6\",\"aaxis\":{\"gridcolor\":\"white\",\"linecolor\":\"white\",\"ticks\":\"\"},\"baxis\":{\"gridcolor\":\"white\",\"linecolor\":\"white\",\"ticks\":\"\"},\"caxis\":{\"gridcolor\":\"white\",\"linecolor\":\"white\",\"ticks\":\"\"}},\"coloraxis\":{\"colorbar\":{\"outlinewidth\":0,\"ticks\":\"\"}},\"colorscale\":{\"sequential\":[[0.0,\"#0d0887\"],[0.1111111111111111,\"#46039f\"],[0.2222222222222222,\"#7201a8\"],[0.3333333333333333,\"#9c179e\"],[0.4444444444444444,\"#bd3786\"],[0.5555555555555556,\"#d8576b\"],[0.6666666666666666,\"#ed7953\"],[0.7777777777777778,\"#fb9f3a\"],[0.8888888888888888,\"#fdca26\"],[1.0,\"#f0f921\"]],\"sequentialminus\":[[0.0,\"#0d0887\"],[0.1111111111111111,\"#46039f\"],[0.2222222222222222,\"#7201a8\"],[0.3333333333333333,\"#9c179e\"],[0.4444444444444444,\"#bd3786\"],[0.5555555555555556,\"#d8576b\"],[0.6666666666666666,\"#ed7953\"],[0.7777777777777778,\"#fb9f3a\"],[0.8888888888888888,\"#fdca26\"],[1.0,\"#f0f921\"]],\"diverging\":[[0,\"#8e0152\"],[0.1,\"#c51b7d\"],[0.2,\"#de77ae\"],[0.3,\"#f1b6da\"],[0.4,\"#fde0ef\"],[0.5,\"#f7f7f7\"],[0.6,\"#e6f5d0\"],[0.7,\"#b8e186\"],[0.8,\"#7fbc41\"],[0.9,\"#4d9221\"],[1,\"#276419\"]]},\"xaxis\":{\"gridcolor\":\"white\",\"linecolor\":\"white\",\"ticks\":\"\",\"title\":{\"standoff\":15},\"zerolinecolor\":\"white\",\"automargin\":true,\"zerolinewidth\":2},\"yaxis\":{\"gridcolor\":\"white\",\"linecolor\":\"white\",\"ticks\":\"\",\"title\":{\"standoff\":15},\"zerolinecolor\":\"white\",\"automargin\":true,\"zerolinewidth\":2},\"scene\":{\"xaxis\":{\"backgroundcolor\":\"#E5ECF6\",\"gridcolor\":\"white\",\"linecolor\":\"white\",\"showbackground\":true,\"ticks\":\"\",\"zerolinecolor\":\"white\",\"gridwidth\":2},\"yaxis\":{\"backgroundcolor\":\"#E5ECF6\",\"gridcolor\":\"white\",\"linecolor\":\"white\",\"showbackground\":true,\"ticks\":\"\",\"zerolinecolor\":\"white\",\"gridwidth\":2},\"zaxis\":{\"backgroundcolor\":\"#E5ECF6\",\"gridcolor\":\"white\",\"linecolor\":\"white\",\"showbackground\":true,\"ticks\":\"\",\"zerolinecolor\":\"white\",\"gridwidth\":2}},\"shapedefaults\":{\"line\":{\"color\":\"#2a3f5f\"}},\"annotationdefaults\":{\"arrowcolor\":\"#2a3f5f\",\"arrowhead\":0,\"arrowwidth\":1},\"geo\":{\"bgcolor\":\"white\",\"landcolor\":\"#E5ECF6\",\"subunitcolor\":\"white\",\"showland\":true,\"showlakes\":true,\"lakecolor\":\"white\"},\"title\":{\"x\":0.05},\"mapbox\":{\"style\":\"light\"}}},\"xaxis\":{\"anchor\":\"y\",\"domain\":[0.0,0.13428571428571429],\"matches\":\"x43\",\"showticklabels\":false},\"yaxis\":{\"anchor\":\"x\",\"domain\":[0.8657142857142859,1.0],\"title\":{\"text\":\"intermediate_activation_fn\"}},\"xaxis2\":{\"anchor\":\"y2\",\"domain\":[0.1442857142857143,0.2785714285714286],\"matches\":\"x44\",\"showticklabels\":false},\"yaxis2\":{\"anchor\":\"x2\",\"domain\":[0.8657142857142859,1.0],\"matches\":\"y\",\"showticklabels\":false},\"xaxis3\":{\"anchor\":\"y3\",\"domain\":[0.2885714285714286,0.4228571428571429],\"matches\":\"x45\",\"showticklabels\":false},\"yaxis3\":{\"anchor\":\"x3\",\"domain\":[0.8657142857142859,1.0],\"matches\":\"y\",\"showticklabels\":false},\"xaxis4\":{\"anchor\":\"y4\",\"domain\":[0.43285714285714283,0.5671428571428572],\"matches\":\"x46\",\"showticklabels\":false},\"yaxis4\":{\"anchor\":\"x4\",\"domain\":[0.8657142857142859,1.0],\"matches\":\"y\",\"showticklabels\":false},\"xaxis5\":{\"anchor\":\"y5\",\"domain\":[0.5771428571428572,0.7114285714285715],\"matches\":\"x47\",\"showticklabels\":false},\"yaxis5\":{\"anchor\":\"x5\",\"domain\":[0.8657142857142859,1.0],\"matches\":\"y\",\"showticklabels\":false},\"xaxis6\":{\"anchor\":\"y6\",\"domain\":[0.7214285714285715,0.8557142857142859],\"matches\":\"x48\",\"showticklabels\":false},\"yaxis6\":{\"anchor\":\"x6\",\"domain\":[0.8657142857142859,1.0],\"matches\":\"y\",\"showticklabels\":false},\"xaxis7\":{\"anchor\":\"y7\",\"domain\":[0.8657142857142859,1.0],\"matches\":\"x49\",\"showticklabels\":false},\"yaxis7\":{\"anchor\":\"x7\",\"domain\":[0.8657142857142859,1.0],\"matches\":\"y\",\"showticklabels\":false},\"xaxis8\":{\"anchor\":\"y8\",\"domain\":[0.0,0.13428571428571429],\"matches\":\"x43\",\"showticklabels\":false},\"yaxis8\":{\"anchor\":\"x8\",\"domain\":[0.7214285714285715,0.8557142857142859],\"title\":{\"text\":\"radius_search_ignore_query_points\"}},\"xaxis9\":{\"anchor\":\"y9\",\"domain\":[0.1442857142857143,0.2785714285714286],\"matches\":\"x44\",\"showticklabels\":false},\"yaxis9\":{\"anchor\":\"x9\",\"domain\":[0.7214285714285715,0.8557142857142859],\"matches\":\"y8\",\"showticklabels\":false},\"xaxis10\":{\"anchor\":\"y10\",\"domain\":[0.2885714285714286,0.4228571428571429],\"matches\":\"x45\",\"showticklabels\":false},\"yaxis10\":{\"anchor\":\"x10\",\"domain\":[0.7214285714285715,0.8557142857142859],\"matches\":\"y8\",\"showticklabels\":false},\"xaxis11\":{\"anchor\":\"y11\",\"domain\":[0.43285714285714283,0.5671428571428572],\"matches\":\"x46\",\"showticklabels\":false},\"yaxis11\":{\"anchor\":\"x11\",\"domain\":[0.7214285714285715,0.8557142857142859],\"matches\":\"y8\",\"showticklabels\":false},\"xaxis12\":{\"anchor\":\"y12\",\"domain\":[0.5771428571428572,0.7114285714285715],\"matches\":\"x47\",\"showticklabels\":false},\"yaxis12\":{\"anchor\":\"x12\",\"domain\":[0.7214285714285715,0.8557142857142859],\"matches\":\"y8\",\"showticklabels\":false},\"xaxis13\":{\"anchor\":\"y13\",\"domain\":[0.7214285714285715,0.8557142857142859],\"matches\":\"x48\",\"showticklabels\":false},\"yaxis13\":{\"anchor\":\"x13\",\"domain\":[0.7214285714285715,0.8557142857142859],\"matches\":\"y8\",\"showticklabels\":false},\"xaxis14\":{\"anchor\":\"y14\",\"domain\":[0.8657142857142859,1.0],\"matches\":\"x49\",\"showticklabels\":false},\"yaxis14\":{\"anchor\":\"x14\",\"domain\":[0.7214285714285715,0.8557142857142859],\"matches\":\"y8\",\"showticklabels\":false},\"xaxis15\":{\"anchor\":\"y15\",\"domain\":[0.0,0.13428571428571429],\"matches\":\"x43\",\"showticklabels\":false},\"yaxis15\":{\"anchor\":\"x15\",\"domain\":[0.5771428571428572,0.7114285714285715],\"title\":{\"text\":\"use_dense_layer_for_centers\"}},\"xaxis16\":{\"anchor\":\"y16\",\"domain\":[0.1442857142857143,0.2785714285714286],\"matches\":\"x44\",\"showticklabels\":false},\"yaxis16\":{\"anchor\":\"x16\",\"domain\":[0.5771428571428572,0.7114285714285715],\"matches\":\"y15\",\"showticklabels\":false},\"xaxis17\":{\"anchor\":\"y17\",\"domain\":[0.2885714285714286,0.4228571428571429],\"matches\":\"x45\",\"showticklabels\":false},\"yaxis17\":{\"anchor\":\"x17\",\"domain\":[0.5771428571428572,0.7114285714285715],\"matches\":\"y15\",\"showticklabels\":false},\"xaxis18\":{\"anchor\":\"y18\",\"domain\":[0.43285714285714283,0.5671428571428572],\"matches\":\"x46\",\"showticklabels\":false},\"yaxis18\":{\"anchor\":\"x18\",\"domain\":[0.5771428571428572,0.7114285714285715],\"matches\":\"y15\",\"showticklabels\":false},\"xaxis19\":{\"anchor\":\"y19\",\"domain\":[0.5771428571428572,0.7114285714285715],\"matches\":\"x47\",\"showticklabels\":false},\"yaxis19\":{\"anchor\":\"x19\",\"domain\":[0.5771428571428572,0.7114285714285715],\"matches\":\"y15\",\"showticklabels\":false},\"xaxis20\":{\"anchor\":\"y20\",\"domain\":[0.7214285714285715,0.8557142857142859],\"matches\":\"x48\",\"showticklabels\":false},\"yaxis20\":{\"anchor\":\"x20\",\"domain\":[0.5771428571428572,0.7114285714285715],\"matches\":\"y15\",\"showticklabels\":false},\"xaxis21\":{\"anchor\":\"y21\",\"domain\":[0.8657142857142859,1.0],\"matches\":\"x49\",\"showticklabels\":false},\"yaxis21\":{\"anchor\":\"x21\",\"domain\":[0.5771428571428572,0.7114285714285715],\"matches\":\"y15\",\"showticklabels\":false},\"xaxis22\":{\"anchor\":\"y22\",\"domain\":[0.0,0.13428571428571429],\"matches\":\"x43\",\"showticklabels\":false},\"yaxis22\":{\"anchor\":\"x22\",\"domain\":[0.43285714285714283,0.5671428571428572],\"title\":{\"text\":\"stopped_early\"}},\"xaxis23\":{\"anchor\":\"y23\",\"domain\":[0.1442857142857143,0.2785714285714286],\"matches\":\"x44\",\"showticklabels\":false},\"yaxis23\":{\"anchor\":\"x23\",\"domain\":[0.43285714285714283,0.5671428571428572],\"matches\":\"y22\",\"showticklabels\":false},\"xaxis24\":{\"anchor\":\"y24\",\"domain\":[0.2885714285714286,0.4228571428571429],\"matches\":\"x45\",\"showticklabels\":false},\"yaxis24\":{\"anchor\":\"x24\",\"domain\":[0.43285714285714283,0.5671428571428572],\"matches\":\"y22\",\"showticklabels\":false},\"xaxis25\":{\"anchor\":\"y25\",\"domain\":[0.43285714285714283,0.5671428571428572],\"matches\":\"x46\",\"showticklabels\":false},\"yaxis25\":{\"anchor\":\"x25\",\"domain\":[0.43285714285714283,0.5671428571428572],\"matches\":\"y22\",\"showticklabels\":false},\"xaxis26\":{\"anchor\":\"y26\",\"domain\":[0.5771428571428572,0.7114285714285715],\"matches\":\"x47\",\"showticklabels\":false},\"yaxis26\":{\"anchor\":\"x26\",\"domain\":[0.43285714285714283,0.5671428571428572],\"matches\":\"y22\",\"showticklabels\":false},\"xaxis27\":{\"anchor\":\"y27\",\"domain\":[0.7214285714285715,0.8557142857142859],\"matches\":\"x48\",\"showticklabels\":false},\"yaxis27\":{\"anchor\":\"x27\",\"domain\":[0.43285714285714283,0.5671428571428572],\"matches\":\"y22\",\"showticklabels\":false},\"xaxis28\":{\"anchor\":\"y28\",\"domain\":[0.8657142857142859,1.0],\"matches\":\"x49\",\"showticklabels\":false},\"yaxis28\":{\"anchor\":\"x28\",\"domain\":[0.43285714285714283,0.5671428571428572],\"matches\":\"y22\",\"showticklabels\":false},\"xaxis29\":{\"anchor\":\"y29\",\"domain\":[0.0,0.13428571428571429],\"matches\":\"x43\",\"showticklabels\":false},\"yaxis29\":{\"anchor\":\"x29\",\"domain\":[0.2885714285714286,0.4228571428571429],\"title\":{\"text\":\"window_function\"}},\"xaxis30\":{\"anchor\":\"y30\",\"domain\":[0.1442857142857143,0.2785714285714286],\"matches\":\"x44\",\"showticklabels\":false},\"yaxis30\":{\"anchor\":\"x30\",\"domain\":[0.2885714285714286,0.4228571428571429],\"matches\":\"y29\",\"showticklabels\":false},\"xaxis31\":{\"anchor\":\"y31\",\"domain\":[0.2885714285714286,0.4228571428571429],\"matches\":\"x45\",\"showticklabels\":false},\"yaxis31\":{\"anchor\":\"x31\",\"domain\":[0.2885714285714286,0.4228571428571429],\"matches\":\"y29\",\"showticklabels\":false},\"xaxis32\":{\"anchor\":\"y32\",\"domain\":[0.43285714285714283,0.5671428571428572],\"matches\":\"x46\",\"showticklabels\":false},\"yaxis32\":{\"anchor\":\"x32\",\"domain\":[0.2885714285714286,0.4228571428571429],\"matches\":\"y29\",\"showticklabels\":false},\"xaxis33\":{\"anchor\":\"y33\",\"domain\":[0.5771428571428572,0.7114285714285715],\"matches\":\"x47\",\"showticklabels\":false},\"yaxis33\":{\"anchor\":\"x33\",\"domain\":[0.2885714285714286,0.4228571428571429],\"matches\":\"y29\",\"showticklabels\":false},\"xaxis34\":{\"anchor\":\"y34\",\"domain\":[0.7214285714285715,0.8557142857142859],\"matches\":\"x48\",\"showticklabels\":false},\"yaxis34\":{\"anchor\":\"x34\",\"domain\":[0.2885714285714286,0.4228571428571429],\"matches\":\"y29\",\"showticklabels\":false},\"xaxis35\":{\"anchor\":\"y35\",\"domain\":[0.8657142857142859,1.0],\"matches\":\"x49\",\"showticklabels\":false},\"yaxis35\":{\"anchor\":\"x35\",\"domain\":[0.2885714285714286,0.4228571428571429],\"matches\":\"y29\",\"showticklabels\":false},\"xaxis36\":{\"anchor\":\"y36\",\"domain\":[0.0,0.13428571428571429],\"matches\":\"x43\",\"showticklabels\":false},\"yaxis36\":{\"anchor\":\"x36\",\"domain\":[0.1442857142857143,0.2785714285714286],\"title\":{\"text\":\"align_corners\"}},\"xaxis37\":{\"anchor\":\"y37\",\"domain\":[0.1442857142857143,0.2785714285714286],\"matches\":\"x44\",\"showticklabels\":false},\"yaxis37\":{\"anchor\":\"x37\",\"domain\":[0.1442857142857143,0.2785714285714286],\"matches\":\"y36\",\"showticklabels\":false},\"xaxis38\":{\"anchor\":\"y38\",\"domain\":[0.2885714285714286,0.4228571428571429],\"matches\":\"x45\",\"showticklabels\":false},\"yaxis38\":{\"anchor\":\"x38\",\"domain\":[0.1442857142857143,0.2785714285714286],\"matches\":\"y36\",\"showticklabels\":false},\"xaxis39\":{\"anchor\":\"y39\",\"domain\":[0.43285714285714283,0.5671428571428572],\"matches\":\"x46\",\"showticklabels\":false},\"yaxis39\":{\"anchor\":\"x39\",\"domain\":[0.1442857142857143,0.2785714285714286],\"matches\":\"y36\",\"showticklabels\":false},\"xaxis40\":{\"anchor\":\"y40\",\"domain\":[0.5771428571428572,0.7114285714285715],\"matches\":\"x47\",\"showticklabels\":false},\"yaxis40\":{\"anchor\":\"x40\",\"domain\":[0.1442857142857143,0.2785714285714286],\"matches\":\"y36\",\"showticklabels\":false},\"xaxis41\":{\"anchor\":\"y41\",\"domain\":[0.7214285714285715,0.8557142857142859],\"matches\":\"x48\",\"showticklabels\":false},\"yaxis41\":{\"anchor\":\"x41\",\"domain\":[0.1442857142857143,0.2785714285714286],\"matches\":\"y36\",\"showticklabels\":false},\"xaxis42\":{\"anchor\":\"y42\",\"domain\":[0.8657142857142859,1.0],\"matches\":\"x49\",\"showticklabels\":false},\"yaxis42\":{\"anchor\":\"x42\",\"domain\":[0.1442857142857143,0.2785714285714286],\"matches\":\"y36\",\"showticklabels\":false},\"xaxis43\":{\"anchor\":\"y43\",\"domain\":[0.0,0.13428571428571429],\"title\":{\"text\":\"intermediate_activation_fn\"}},\"yaxis43\":{\"anchor\":\"x43\",\"domain\":[0.0,0.13428571428571429],\"title\":{\"text\":\"normalize\"}},\"xaxis44\":{\"anchor\":\"y44\",\"domain\":[0.1442857142857143,0.2785714285714286],\"title\":{\"text\":\"radius_search_ignore_query_points\"}},\"yaxis44\":{\"anchor\":\"x44\",\"domain\":[0.0,0.13428571428571429],\"matches\":\"y43\",\"showticklabels\":false},\"xaxis45\":{\"anchor\":\"y45\",\"domain\":[0.2885714285714286,0.4228571428571429],\"title\":{\"text\":\"use_dense_layer_for_centers\"}},\"yaxis45\":{\"anchor\":\"x45\",\"domain\":[0.0,0.13428571428571429],\"matches\":\"y43\",\"showticklabels\":false},\"xaxis46\":{\"anchor\":\"y46\",\"domain\":[0.43285714285714283,0.5671428571428572],\"title\":{\"text\":\"stopped_early\"}},\"yaxis46\":{\"anchor\":\"x46\",\"domain\":[0.0,0.13428571428571429],\"matches\":\"y43\",\"showticklabels\":false},\"xaxis47\":{\"anchor\":\"y47\",\"domain\":[0.5771428571428572,0.7114285714285715],\"title\":{\"text\":\"window_function\"}},\"yaxis47\":{\"anchor\":\"x47\",\"domain\":[0.0,0.13428571428571429],\"matches\":\"y43\",\"showticklabels\":false},\"xaxis48\":{\"anchor\":\"y48\",\"domain\":[0.7214285714285715,0.8557142857142859],\"title\":{\"text\":\"align_corners\"}},\"yaxis48\":{\"anchor\":\"x48\",\"domain\":[0.0,0.13428571428571429],\"matches\":\"y43\",\"showticklabels\":false},\"xaxis49\":{\"anchor\":\"y49\",\"domain\":[0.8657142857142859,1.0],\"title\":{\"text\":\"normalize\"}},\"yaxis49\":{\"anchor\":\"x49\",\"domain\":[0.0,0.13428571428571429],\"matches\":\"y43\",\"showticklabels\":false},\"annotations\":[{\"font\":{\"size\":16},\"showarrow\":false,\"text\":\"intermediate_activation_fn\",\"x\":0.06714285714285714,\"xanchor\":\"center\",\"xref\":\"paper\",\"y\":1.0,\"yanchor\":\"bottom\",\"yref\":\"paper\"},{\"font\":{\"size\":16},\"showarrow\":false,\"text\":\"radius_search_ignore_query_points\",\"x\":0.21142857142857144,\"xanchor\":\"center\",\"xref\":\"paper\",\"y\":1.0,\"yanchor\":\"bottom\",\"yref\":\"paper\"},{\"font\":{\"size\":16},\"showarrow\":false,\"text\":\"use_dense_layer_for_centers\",\"x\":0.35571428571428576,\"xanchor\":\"center\",\"xref\":\"paper\",\"y\":1.0,\"yanchor\":\"bottom\",\"yref\":\"paper\"},{\"font\":{\"size\":16},\"showarrow\":false,\"text\":\"stopped_early\",\"x\":0.5,\"xanchor\":\"center\",\"xref\":\"paper\",\"y\":1.0,\"yanchor\":\"bottom\",\"yref\":\"paper\"},{\"font\":{\"size\":16},\"showarrow\":false,\"text\":\"window_function\",\"x\":0.6442857142857144,\"xanchor\":\"center\",\"xref\":\"paper\",\"y\":1.0,\"yanchor\":\"bottom\",\"yref\":\"paper\"},{\"font\":{\"size\":16},\"showarrow\":false,\"text\":\"align_corners\",\"x\":0.7885714285714287,\"xanchor\":\"center\",\"xref\":\"paper\",\"y\":1.0,\"yanchor\":\"bottom\",\"yref\":\"paper\"},{\"font\":{\"size\":16},\"showarrow\":false,\"text\":\"normalize\",\"x\":0.932857142857143,\"xanchor\":\"center\",\"xref\":\"paper\",\"y\":1.0,\"yanchor\":\"bottom\",\"yref\":\"paper\"},{\"font\":{\"size\":16},\"showarrow\":false,\"text\":\"x\",\"x\":0.5,\"xanchor\":\"center\",\"xref\":\"paper\",\"y\":0,\"yanchor\":\"top\",\"yref\":\"paper\",\"yshift\":-30},{\"font\":{\"size\":16},\"showarrow\":false,\"text\":\"y\",\"textangle\":-90,\"x\":0,\"xanchor\":\"right\",\"xref\":\"paper\",\"xshift\":-40,\"y\":0.5,\"yanchor\":\"middle\",\"yref\":\"paper\"}],\"title\":{\"text\":\"Hyperparameter search results\"},\"height\":1000,\"width\":1000},                        {\"responsive\": true}                    ).then(function(){\n",
       "                            \n",
       "var gd = document.getElementById('0dc7287a-0ba6-4d13-b86c-799acc200a52');\n",
       "var x = new MutationObserver(function (mutations, observer) {{\n",
       "        var display = window.getComputedStyle(gd).display;\n",
       "        if (!display || display === 'none') {{\n",
       "            console.log([gd, 'removed!']);\n",
       "            Plotly.purge(gd);\n",
       "            observer.disconnect();\n",
       "        }}\n",
       "}});\n",
       "\n",
       "// Listen for the removal of the full notebook cells\n",
       "var notebookContainer = gd.closest('#notebook-container');\n",
       "if (notebookContainer) {{\n",
       "    x.observe(notebookContainer, {childList: true});\n",
       "}}\n",
       "\n",
       "// Listen for the clearing of the current output cell\n",
       "var outputEl = gd.closest('.output');\n",
       "if (outputEl) {{\n",
       "    x.observe(outputEl, {childList: true});\n",
       "}}\n",
       "\n",
       "                        })                };                });            </script>        </div>"
      ]
     },
     "metadata": {},
     "output_type": "display_data"
    }
   ],
   "source": [
    "# Create heatmap matrix\n",
    "# Create heatmap\n",
    "\n",
    "def make_loss_heatmap(df, cat1, cat2):\n",
    "    fig = go.Figure(data=go.Heatmap(\n",
    "        z=df['val_loss'],\n",
    "        x=df[cat1],\n",
    "        y=df[cat2],\n",
    "        colorscale='Viridis'))\n",
    "    return fig\n",
    "\n",
    "def make_heatmap_matrix(df):\n",
    "    # import subplot stuff\n",
    "    from plotly.subplots import make_subplots\n",
    "    #categories = list(df.columns)[0:1]\n",
    "    categories = ['intermediate_activation_fn', 'radius_search_ignore_query_points', 'use_dense_layer_for_centers', 'stopped_early', 'window_function', 'align_corners', 'normalize']\n",
    "\n",
    "    # Create figure with secondary y-axis\n",
    "    fig = make_subplots(\n",
    "        rows=len(categories),\n",
    "        cols=len(categories),\n",
    "        shared_xaxes=True,\n",
    "        shared_yaxes=True,\n",
    "        vertical_spacing=0.01,\n",
    "        horizontal_spacing=0.01,\n",
    "        x_title='x',\n",
    "        y_title='y',\n",
    "        subplot_titles=categories,\n",
    "    )\n",
    "\n",
    "    # Add traces\n",
    "    for i in range(len(categories)):\n",
    "        for j in range(len(categories)):\n",
    "            subfig = make_loss_heatmap(df, categories[i], categories[j])\n",
    "            fig.add_trace(\n",
    "                subfig.data[0],\n",
    "                row=i+1,\n",
    "                col=j+1,\n",
    "            )\n",
    "    \n",
    "    # Update xaxis properties\n",
    "    \n",
    "    for i in range(len(categories)):\n",
    "        fig.update_xaxes(title_text=categories[i], row=len(categories), col=i+1)\n",
    "        fig.update_yaxes(title_text=categories[i], row=i+1, col=1)\n",
    "\n",
    "        fig.update_layout(\n",
    "            height=1000,\n",
    "            width=1000,\n",
    "            title_text=\"Hyperparameter search results\",\n",
    "        ) \n",
    "    \n",
    "    fig.show()\n",
    "\n",
    "make_heatmap_matrix(df)\n"
   ]
  },
  {
   "cell_type": "code",
   "execution_count": null,
   "metadata": {},
   "outputs": [],
   "source": []
  }
 ],
 "metadata": {
  "kernelspec": {
   "display_name": "CConv",
   "language": "python",
   "name": "python3"
  },
  "language_info": {
   "codemirror_mode": {
    "name": "ipython",
    "version": 3
   },
   "file_extension": ".py",
   "mimetype": "text/x-python",
   "name": "python",
   "nbconvert_exporter": "python",
   "pygments_lexer": "ipython3",
   "version": "3.10.11"
  },
  "orig_nbformat": 4
 },
 "nbformat": 4,
 "nbformat_minor": 2
}
