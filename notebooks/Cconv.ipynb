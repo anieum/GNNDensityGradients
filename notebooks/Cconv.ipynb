{
 "cells": [
  {
   "attachments": {},
   "cell_type": "markdown",
   "metadata": {},
   "source": [
    "## Check cconv Implementation"
   ]
  },
  {
   "cell_type": "code",
   "execution_count": 1,
   "metadata": {},
   "outputs": [],
   "source": [
    "def enable_parent_folder_import():\n",
    "    import sys, os\n",
    "    sys.path.insert(1, os.path.join(sys.path[0], '..'))\n",
    "\n",
    "enable_parent_folder_import()"
   ]
  },
  {
   "cell_type": "code",
   "execution_count": 2,
   "metadata": {},
   "outputs": [
    {
     "name": "stdout",
     "output_type": "stream",
     "text": [
      "Setting up data module for stage  fit\n",
      "Loading dataset into memory and applying transform_once... (Device: cuda)\n"
     ]
    },
    {
     "name": "stderr",
     "output_type": "stream",
     "text": [
      "  0%|          | 0/131 [00:00<?, ?it/s]"
     ]
    },
    {
     "name": "stdout",
     "output_type": "stream",
     "text": [
      "WARNING: All masses are zero. Setting masses to 2 * 0.06544984694978737. (This message is only shown once.)\n"
     ]
    },
    {
     "name": "stderr",
     "output_type": "stream",
     "text": [
      "100%|██████████| 131/131 [00:16<00:00,  7.84it/s]"
     ]
    },
    {
     "name": "stdout",
     "output_type": "stream",
     "text": [
      "Done loading dataset into memory\n"
     ]
    },
    {
     "name": "stderr",
     "output_type": "stream",
     "text": [
      "\n"
     ]
    }
   ],
   "source": [
    "from importlib import reload\n",
    "import datasets.density_data_module\n",
    "from datasets.density_data_module import *\n",
    "reload(datasets.density_data_module); from datasets.density_data_module import *\n",
    "\n",
    "density_data = DensityDataModule(\n",
    "    data_dir = '../datasets/data/dpi_dam_break/train',\n",
    "    batch_size = 10,\n",
    "    data_split = (0.7, 0.15, 0.15),\n",
    "    num_workers = 0, # Note that cuda only allows 0 workers.\n",
    "    shuffle = False,\n",
    "    cache = True, # Load dataset into memory\n",
    "    device = 'cuda',\n",
    ")\n",
    "density_data.setup(\"fit\")\n",
    "train_loader = density_data.train_dataloader()\n",
    "train_iter = iter(train_loader)\n",
    "batch = next(train_iter)\n",
    "sample = batch[0]"
   ]
  },
  {
   "cell_type": "code",
   "execution_count": null,
   "metadata": {},
   "outputs": [],
   "source": []
  },
  {
   "cell_type": "code",
   "execution_count": 35,
   "metadata": {},
   "outputs": [
    {
     "data": {
      "text/plain": [
       "tensor([0, 1, 2, 3, 4])"
      ]
     },
     "execution_count": 35,
     "metadata": {},
     "output_type": "execute_result"
    }
   ],
   "source": [
    "torch.arange(5)"
   ]
  },
  {
   "cell_type": "code",
   "execution_count": 41,
   "metadata": {},
   "outputs": [
    {
     "data": {
      "text/plain": [
       "tensor([[-0.0042,  0.0038, -0.0072],\n",
       "        [-0.0016,  0.0021, -0.0056],\n",
       "        [-0.0045,  0.0033, -0.0027],\n",
       "        ...,\n",
       "        [-0.0180,  0.0202, -0.0106],\n",
       "        [-0.0113,  0.0242, -0.0096],\n",
       "        [-0.0062,  0.0283, -0.0011]], device='cuda:0', grad_fn=<MulBackward0>)"
      ]
     },
     "execution_count": 41,
     "metadata": {},
     "output_type": "execute_result"
    }
   ],
   "source": [
    "import models.cconv\n",
    "from models.cconv import *\n",
    "reload(models.cconv); from models.cconv import *\n",
    "\n",
    "hparams = {}\n",
    "hparams['batch_size'] = 10\n",
    "hparams['lr'] = 1e-3\n",
    "\n",
    "model = CConvModel(hparams)\n",
    "model.to('cuda')\n",
    "model(sample)"
   ]
  }
 ],
 "metadata": {
  "kernelspec": {
   "display_name": "o3d_test2",
   "language": "python",
   "name": "python3"
  },
  "language_info": {
   "codemirror_mode": {
    "name": "ipython",
    "version": 3
   },
   "file_extension": ".py",
   "mimetype": "text/x-python",
   "name": "python",
   "nbconvert_exporter": "python",
   "pygments_lexer": "ipython3",
   "version": "3.10.11"
  },
  "orig_nbformat": 4
 },
 "nbformat": 4,
 "nbformat_minor": 2
}
