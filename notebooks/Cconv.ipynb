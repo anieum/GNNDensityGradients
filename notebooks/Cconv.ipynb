{
 "cells": [
  {
   "attachments": {},
   "cell_type": "markdown",
   "metadata": {},
   "source": [
    "## Check cconv Implementation"
   ]
  },
  {
   "cell_type": "code",
   "execution_count": 3,
   "metadata": {},
   "outputs": [],
   "source": [
    "def enable_parent_folder_import():\n",
    "    import sys, os\n",
    "    sys.path.insert(1, os.path.join(sys.path[0], '..'))\n",
    "\n",
    "enable_parent_folder_import()"
   ]
  },
  {
   "cell_type": "code",
   "execution_count": 2,
   "metadata": {},
   "outputs": [
    {
     "name": "stdout",
     "output_type": "stream",
     "text": [
      "Setting up data module for stage  fit\n",
      "Loading dataset into memory and applying transform_once... (Device: cuda)\n"
     ]
    },
    {
     "name": "stderr",
     "output_type": "stream",
     "text": [
      "  0%|          | 0/131 [00:00<?, ?it/s]"
     ]
    },
    {
     "name": "stdout",
     "output_type": "stream",
     "text": [
      "WARNING: All masses are zero. Setting masses to 2 * 0.06544984694978737. (This message is only shown once.)\n"
     ]
    },
    {
     "name": "stderr",
     "output_type": "stream",
     "text": [
      "100%|██████████| 131/131 [00:16<00:00,  7.84it/s]"
     ]
    },
    {
     "name": "stdout",
     "output_type": "stream",
     "text": [
      "Done loading dataset into memory\n"
     ]
    },
    {
     "name": "stderr",
     "output_type": "stream",
     "text": [
      "\n"
     ]
    }
   ],
   "source": [
    "from importlib import reload\n",
    "import datasets.density_data_module\n",
    "from datasets.density_data_module import *\n",
    "reload(datasets.density_data_module); from datasets.density_data_module import *\n",
    "\n",
    "density_data = DensityDataModule(\n",
    "    data_dir = '../datasets/data/dpi_dam_break/train',\n",
    "    batch_size = 10,\n",
    "    data_split = (0.7, 0.15, 0.15),\n",
    "    num_workers = 0, # Note that cuda only allows 0 workers.\n",
    "    shuffle = False,\n",
    "    cache = True, # Load dataset into memory\n",
    "    device = 'cuda',\n",
    ")\n",
    "density_data.setup(\"fit\")\n",
    "train_loader = density_data.train_dataloader()\n",
    "train_iter = iter(train_loader)\n",
    "batch = next(train_iter)\n",
    "sample = batch[0]"
   ]
  },
  {
   "cell_type": "code",
   "execution_count": 8,
   "metadata": {},
   "outputs": [
    {
     "data": {
      "text/plain": [
       "CConvModel(\n",
       "  (param_list): ParameterList(\n",
       "      (0): Object of type: ContinuousConv\n",
       "      (1): Object of type: ContinuousConv\n",
       "      (2): Object of type: Linear\n",
       "      (3): Object of type: Linear\n",
       "      (4): Object of type: ContinuousConv\n",
       "      (5): Object of type: Linear\n",
       "      (6): Object of type: ContinuousConv\n",
       "      (7): Object of type: Linear\n",
       "      (8): Object of type: ContinuousConv\n",
       "    (0): ContinuousConv(\n",
       "      (fixed_radius_search): FixedRadiusSearch()\n",
       "      (radius_search): RadiusSearch()\n",
       "    )\n",
       "    (1): ContinuousConv(\n",
       "      (fixed_radius_search): FixedRadiusSearch()\n",
       "      (radius_search): RadiusSearch()\n",
       "    )\n",
       "    (2): Linear(in_features=5, out_features=32, bias=True)\n",
       "    (3): Linear(in_features=96, out_features=64, bias=True)\n",
       "    (4): ContinuousConv(\n",
       "      (fixed_radius_search): FixedRadiusSearch()\n",
       "      (radius_search): RadiusSearch()\n",
       "    )\n",
       "    (5): Linear(in_features=64, out_features=64, bias=True)\n",
       "    (6): ContinuousConv(\n",
       "      (fixed_radius_search): FixedRadiusSearch()\n",
       "      (radius_search): RadiusSearch()\n",
       "    )\n",
       "    (7): Linear(in_features=64, out_features=1, bias=True)\n",
       "    (8): ContinuousConv(\n",
       "      (fixed_radius_search): FixedRadiusSearch()\n",
       "      (radius_search): RadiusSearch()\n",
       "    )\n",
       "  )\n",
       ")"
      ]
     },
     "execution_count": 8,
     "metadata": {},
     "output_type": "execute_result"
    }
   ],
   "source": [
    "from importlib import reload\n",
    "\n",
    "import models.cconv\n",
    "from models.cconv import *\n",
    "reload(models.cconv); from models.cconv import *\n",
    "\n",
    "hparams = {}\n",
    "hparams['batch_size'] = 10\n",
    "hparams['lr'] = 1e-3\n",
    "\n",
    "model = CConvModel(hparams)\n",
    "model.to('cuda' if torch.cuda.is_available() else 'cpu')\n",
    "\n",
    "# model(sample)"
   ]
  },
  {
   "cell_type": "code",
   "execution_count": 118,
   "metadata": {},
   "outputs": [
    {
     "data": {
      "text/plain": [
       "Adam (\n",
       "Parameter Group 0\n",
       "    amsgrad: False\n",
       "    betas: (0.9, 0.999)\n",
       "    capturable: False\n",
       "    differentiable: False\n",
       "    eps: 1e-08\n",
       "    foreach: None\n",
       "    fused: False\n",
       "    lr: 0.001\n",
       "    maximize: False\n",
       "    weight_decay: 0\n",
       ")"
      ]
     },
     "execution_count": 118,
     "metadata": {},
     "output_type": "execute_result"
    }
   ],
   "source": [
    "model.configure_optimizers()"
   ]
  },
  {
   "cell_type": "code",
   "execution_count": 124,
   "metadata": {},
   "outputs": [],
   "source": [
    "from utils.visualization import *\n",
    "reload(utils.visualization); from utils.visualization import *\n",
    "\n",
    "from utils.callbacks import *\n",
    "reload(utils.callbacks); from utils.callbacks import *\n",
    "\n",
    "dataset = density_data.dataset['train']\n",
    "vis3d = VisulizePrediction3DCallback(model, dataset)"
   ]
  },
  {
   "cell_type": "code",
   "execution_count": 128,
   "metadata": {},
   "outputs": [],
   "source": [
    "# plot_sample_for_tensorboard(model, dataset)"
   ]
  },
  {
   "cell_type": "code",
   "execution_count": 126,
   "metadata": {},
   "outputs": [],
   "source": [
    "as_tensor = fig_to_tensor(plot_sample_for_tensorboard(model, dataset))"
   ]
  },
  {
   "cell_type": "code",
   "execution_count": 127,
   "metadata": {},
   "outputs": [
    {
     "data": {
      "text/plain": [
       "torch.Size([4, 400, 1250])"
      ]
     },
     "execution_count": 127,
     "metadata": {},
     "output_type": "execute_result"
    }
   ],
   "source": [
    "as_tensor.shape"
   ]
  },
  {
   "cell_type": "code",
   "execution_count": null,
   "metadata": {},
   "outputs": [],
   "source": [
    "model = CConvModel(hparams)\n",
    "trainer = pl.Trainer()\n",
    "trainer.fit(model, datamodule=density_data, ckpt_path='../checkpoints/lightning_logs/version_0/checkpoints/epoch=29-step=870.ckpt')"
   ]
  },
  {
   "cell_type": "code",
   "execution_count": 4,
   "metadata": {},
   "outputs": [
    {
     "name": "stdout",
     "output_type": "stream",
     "text": [
      "Jupyter environment detected. Enabling Open3D WebVisualizer.\n",
      "[Open3D INFO] WebRTC GUI backend enabled.\n",
      "[Open3D INFO] WebRTCWindowSystem: HTTP handshake server disabled.\n"
     ]
    }
   ],
   "source": [
    "from importlib import reload\n",
    "\n",
    "import models.cconv\n",
    "from models.cconv import *\n",
    "reload(models.cconv); from models.cconv import *\n",
    "\n",
    "p = '../lightning_logs/2023-06-30_17-01-19_checkpoint.ckpt'\n",
    "model = CConvModel.load_from_checkpoint(p)"
   ]
  },
  {
   "cell_type": "code",
   "execution_count": 17,
   "metadata": {},
   "outputs": [
    {
     "name": "stdout",
     "output_type": "stream",
     "text": [
      "epoch\n",
      "global_step\n",
      "pytorch-lightning_version\n",
      "state_dict\n",
      "loops\n",
      "callbacks\n",
      "optimizer_states\n",
      "lr_schedulers\n",
      "hyper_parameters\n"
     ]
    }
   ],
   "source": [
    "checkpoint = torch.load(p)\n",
    "for key in checkpoint.keys():\n",
    "    print(key)"
   ]
  },
  {
   "cell_type": "code",
   "execution_count": 18,
   "metadata": {},
   "outputs": [
    {
     "data": {
      "text/plain": [
       "<All keys matched successfully>"
      ]
     },
     "execution_count": 18,
     "metadata": {},
     "output_type": "execute_result"
    }
   ],
   "source": [
    "model = CConvModel(hparams)\n",
    "model.load_state_dict(checkpoint[\"state_dict\"])"
   ]
  },
  {
   "cell_type": "code",
   "execution_count": 5,
   "metadata": {},
   "outputs": [
    {
     "name": "stderr",
     "output_type": "stream",
     "text": [
      "GPU available: False, used: False\n",
      "TPU available: False, using: 0 TPU cores\n",
      "IPU available: False, using: 0 IPUs\n",
      "HPU available: False, using: 0 HPUs\n",
      "Missing logger folder: /home/jakob/Bachelorarbeit/GNNDensityGradients/notebooks/lightning_logs\n"
     ]
    },
    {
     "name": "stdout",
     "output_type": "stream",
     "text": [
      "Version of current run (trainer.logger.version): 0\n"
     ]
    }
   ],
   "source": [
    "# import pytorch lightning\n",
    "import pytorch_lightning as pl\n",
    "\n",
    "trainer = pl.Trainer()\n",
    "print(\"Version of current run (trainer.logger.version): {}\".format(trainer.logger.version))\n",
    "    "
   ]
  },
  {
   "cell_type": "code",
   "execution_count": null,
   "metadata": {},
   "outputs": [],
   "source": [
    "# load trainer and everything from checkpoint\n",
    "trainer = pl.Trainer(resume_from_checkpoint=p)\n",
    "print(\"Version of current run (trainer.logger.version): {}\".format(trainer.logger.version))\n"
   ]
  }
 ],
 "metadata": {
  "kernelspec": {
   "display_name": "o3d_test2",
   "language": "python",
   "name": "python3"
  },
  "language_info": {
   "codemirror_mode": {
    "name": "ipython",
    "version": 3
   },
   "file_extension": ".py",
   "mimetype": "text/x-python",
   "name": "python",
   "nbconvert_exporter": "python",
   "pygments_lexer": "ipython3",
   "version": "3.10.11"
  },
  "orig_nbformat": 4
 },
 "nbformat": 4,
 "nbformat_minor": 2
}
